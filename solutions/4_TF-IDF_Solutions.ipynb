{
 "cells": [
  {
   "cell_type": "markdown",
   "id": "ab9175f4-a51c-42aa-a770-b055a1467142",
   "metadata": {},
   "source": [
    "# Data Science for Social Justice Workshop: TF-IDF\n",
    "# SOLUTIONS"
   ]
  },
  {
   "cell_type": "code",
   "execution_count": 2,
   "id": "8010fdb0-32f1-46d7-864c-c32071451aed",
   "metadata": {},
   "outputs": [],
   "source": [
    "import os\n",
    "import pickle\n",
    "import pandas as pd"
   ]
  },
  {
   "cell_type": "code",
   "execution_count": 4,
   "id": "85600bf0-dc16-4e0e-a72c-7019e5b6ae1f",
   "metadata": {},
   "outputs": [],
   "source": [
    "df = pd.read_csv('../data/aita_clean.csv')"
   ]
  },
  {
   "cell_type": "code",
   "execution_count": 5,
   "id": "20381b6c-57d7-4fd0-ba1d-c94587ce22dc",
   "metadata": {
    "colab": {
     "base_uri": "https://localhost:8080/"
    },
    "executionInfo": {
     "elapsed": 22903,
     "status": "ok",
     "timestamp": 1647477678422,
     "user": {
      "displayName": "Tom van Nuenen",
      "photoUrl": "https://lh3.googleusercontent.com/a-/AOh14GhuBmxDvW5I_LJfZtwlPqMFD8QGLVPP3skvpkTnuQ=s64",
      "userId": "10012302451096885058"
     },
     "user_tz": 300
    },
    "id": "qqV-FJC9aHuT",
    "outputId": "9126a240-03b0-4403-eda9-afb71f673262"
   },
   "outputs": [],
   "source": [
    "with open('../data/aita_trigrams.pickle', 'rb') as f:\n",
    "    # Load the object from the file\n",
    "    aita_trigrams = pickle.load(f)"
   ]
  },
  {
   "cell_type": "markdown",
   "id": "596e5f91-9c49-47ae-b0d3-2684fd76f506",
   "metadata": {},
   "source": [
    "## 🥊 Challenge 1: Comparing Data\n",
    "\n",
    "Check whether the documents in our cleaned-up `df` is the same length as the list `aita_trigrams` we created in the previous notebook. Also check whether the last document features the same data."
   ]
  },
  {
   "cell_type": "code",
   "execution_count": 6,
   "id": "0921ad93-edfc-4e5d-a5e8-636ac1bef2a4",
   "metadata": {},
   "outputs": [
    {
     "data": {
      "text/plain": [
       "True"
      ]
     },
     "execution_count": 6,
     "metadata": {},
     "output_type": "execute_result"
    }
   ],
   "source": [
    "# YOUR CODE HERE\n",
    "len(df) == len(aita_trigrams)"
   ]
  },
  {
   "cell_type": "code",
   "execution_count": 8,
   "id": "953c2ac8-fd7b-4b12-8899-30123c49757d",
   "metadata": {
    "collapsed": true,
    "jupyter": {
     "outputs_hidden": true
    },
    "tags": []
   },
   "outputs": [
    {
     "data": {
      "text/html": [
       "<div><div id=c64d5810-effd-429b-8926-fcb9a3f72eef style=\"display:none; background-color:#9D6CFF; color:white; width:200px; height:30px; padding-left:5px; border-radius:4px; flex-direction:row; justify-content:space-around; align-items:center;\" onmouseover=\"this.style.backgroundColor='#BA9BF8'\" onmouseout=\"this.style.backgroundColor='#9D6CFF'\" onclick=\"window.commands?.execute('create-mitosheet-from-dataframe-output');\">See Full Dataframe in Mito</div> <script> if (window.commands?.hasCommand('create-mitosheet-from-dataframe-output')) document.getElementById('c64d5810-effd-429b-8926-fcb9a3f72eef').style.display = 'flex' </script> <table border=\"1\" class=\"dataframe\">\n",
       "  <thead>\n",
       "    <tr style=\"text-align: right;\">\n",
       "      <th></th>\n",
       "      <th>Unnamed: 0</th>\n",
       "      <th>idint</th>\n",
       "      <th>idstr</th>\n",
       "      <th>created</th>\n",
       "      <th>nsfw</th>\n",
       "      <th>author</th>\n",
       "      <th>title</th>\n",
       "      <th>selftext</th>\n",
       "      <th>score</th>\n",
       "      <th>distinguish</th>\n",
       "      <th>textlen</th>\n",
       "      <th>num_comments</th>\n",
       "      <th>flair_text</th>\n",
       "      <th>flair_css_class</th>\n",
       "    </tr>\n",
       "  </thead>\n",
       "  <tbody>\n",
       "    <tr>\n",
       "      <th>16312</th>\n",
       "      <td>19999</td>\n",
       "      <td>1662311673</td>\n",
       "      <td>t3_rhp3w9</td>\n",
       "      <td>1639655198</td>\n",
       "      <td>0.0</td>\n",
       "      <td>Due-Understanding536</td>\n",
       "      <td>AITA for suggesting to my fiancée that we make our honeymoon inclusive to our friends?</td>\n",
       "      <td>I'm getting married in 7 months and one week after the wedding we will plan our honeymoon which will be in a resort of our country, around a 2 hour flight.\\n\\nThe place we were going has always been a dream destination of me and my friends. When I told them where we'd plan our honeymoon they said how jealous they are and how they wish they could also go. I told them that we could consider the idea of making this a friend inclusive honeymoon and they were very excited with the idea. Sadly for many years we hadn't been able to plan the trip with the guys to that place because our conflicting schedules but now pretty much is easier for us to be able to align our vacation days. So I thought this was a great chance.\\n\\nI announced it to my fiancée the other day and I thought she'd find it a cool idea but she got completely mad at me and started crying and telling me how much of an inconsiderate AH I am. I tried to explain to her I didn't do it with malice I simply thought it would be a good chance for the guys to experience it and I even told her she can tell some of her own friends of they want to join.\\n\\nShe told me that I'm ridiculous for insisting that this is a good idea and how she felt horrible because I'm inconsiderate because I made my honeymoon into a friendship trip when it's supposed to be about us two. She also says I'm an even bigger AH for discussing it with my friends and getting them excited about it when I didn't consult her and honestly I think she's right on that part and I might be TA.\\n\\nOn the idea though, I didn't think she'd mind that much. I thought it sounded fun. \\n\\nAITA?</td>\n",
       "      <td>5366.0</td>\n",
       "      <td>NaN</td>\n",
       "      <td>1613.0</td>\n",
       "      <td>1761.0</td>\n",
       "      <td>NaN</td>\n",
       "      <td>NaN</td>\n",
       "    </tr>\n",
       "  </tbody>\n",
       "</table></div>"
      ],
      "text/plain": [
       "       Unnamed: 0       idint      idstr     created  nsfw  \\\n",
       "16312       19999  1662311673  t3_rhp3w9  1639655198   0.0   \n",
       "\n",
       "                     author  \\\n",
       "16312  Due-Understanding536   \n",
       "\n",
       "                                                   title  \\\n",
       "16312  AITA for suggesting to my fiancée that we make...   \n",
       "\n",
       "                                                selftext   score distinguish  \\\n",
       "16312  I'm getting married in 7 months and one week a...  5366.0         NaN   \n",
       "\n",
       "       textlen  num_comments flair_text flair_css_class  \n",
       "16312   1613.0        1761.0        NaN             NaN  "
      ]
     },
     "execution_count": 8,
     "metadata": {},
     "output_type": "execute_result"
    }
   ],
   "source": [
    "df.tail(1)"
   ]
  },
  {
   "cell_type": "code",
   "execution_count": 9,
   "id": "95f2f01f-1c20-42f2-a60c-42c253e7c64d",
   "metadata": {},
   "outputs": [
    {
     "data": {
      "text/plain": [
       "'marry month week wedding plan honeymoon resort country hour flight place dream destination friend tell plan honeymoon jealous wish tell consider idea friend inclusive honeymoon excited idea sadly year able plan trip guy place conflict schedule pretty easy able align vacation day think great chance announce fiancée day think find cool idea completely mad start cry tell inconsiderate ah try explain malice simply think good chance guy experience tell tell friend want join tell ridiculous insist good idea feel horrible inconsiderate honeymoon friendship trip suppose big ah discuss friend excited consult honestly think right ta.on idea think mind think sound fun aita'"
      ]
     },
     "execution_count": 9,
     "metadata": {},
     "output_type": "execute_result"
    }
   ],
   "source": [
    "aita_trigrams[-1]"
   ]
  },
  {
   "cell_type": "markdown",
   "id": "778512fa-3e12-4261-bfdd-e8d33d58bc03",
   "metadata": {
    "id": "ESR7eMThTkZE"
   },
   "source": [
    "## 🥊 Challenge 2: Using `CountVectorizer()`\n",
    "\n",
    "\n",
    "Let's use `CountVectorizer()` again, and customize it a bit. \n",
    "\n",
    "- Set the variable `cv` to an instance of `CountVectorizer()`, and change two parameters:\n",
    "    - Set `max_df` (max document frequency) to get rid of words that appear in more than 85% of the corpus. \n",
    "    - Set `stop_words` to include the English stopword list, in order to leave those stopwords out of the calculations as well.\n",
    "    \n",
    "Check the [documentation](https://scikit-learn.org/stable/modules/generated/sklearn.feature_extraction.text.CountVectorizer.html) if you need help on how to change these parameters!"
   ]
  },
  {
   "cell_type": "code",
   "execution_count": 1,
   "id": "ce49b9cc-6cbf-4f56-ace8-9dd8766dab13",
   "metadata": {
    "colab": {
     "base_uri": "https://localhost:8080/"
    },
    "executionInfo": {
     "elapsed": 269,
     "status": "ok",
     "timestamp": 1639776660955,
     "user": {
      "displayName": "Tom van Nuenen",
      "photoUrl": "https://lh3.googleusercontent.com/a-/AOh14GhuBmxDvW5I_LJfZtwlPqMFD8QGLVPP3skvpkTnuQ=s64",
      "userId": "10012302451096885058"
     },
     "user_tz": -60
    },
    "id": "Os8jrh3RM_GJ",
    "outputId": "b7adadfc-b6fa-4752-b8c1-08527bd07703"
   },
   "outputs": [],
   "source": [
    "from sklearn.feature_extraction.text import CountVectorizer\n",
    "\n",
    "# YOUR CODE HERE\n",
    "cv = CountVectorizer(max_df=0.85, stop_words='english')\n"
   ]
  }
 ],
 "metadata": {
  "kernelspec": {
   "display_name": "Python 3 (ipykernel)",
   "language": "python",
   "name": "python3"
  },
  "language_info": {
   "codemirror_mode": {
    "name": "ipython",
    "version": 3
   },
   "file_extension": ".py",
   "mimetype": "text/x-python",
   "name": "python",
   "nbconvert_exporter": "python",
   "pygments_lexer": "ipython3",
   "version": "3.8.13"
  }
 },
 "nbformat": 4,
 "nbformat_minor": 5
}
