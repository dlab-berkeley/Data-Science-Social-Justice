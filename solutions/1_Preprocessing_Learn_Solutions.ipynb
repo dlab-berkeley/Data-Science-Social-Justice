{
 "cells": [
  {
   "cell_type": "markdown",
   "id": "ab9175f4-a51c-42aa-a770-b055a1467142",
   "metadata": {},
   "source": [
    "# Data Science for Social Justice Workshop: Preprocessing\n",
    "# SOLUTIONS"
   ]
  },
  {
   "cell_type": "markdown",
   "id": "6124bcc3-e5be-4320-bd8c-8d0cb2e500df",
   "metadata": {},
   "source": [
    "## 🥊 Challenge 1: Removing columns\n",
    "\n",
    "We started a `drop()` statement below. Fill it in with the following 2 arguments, separated by a comma:\n",
    "1. A list containing the columns 'self', 'url', 'subreddit', 'augmented_at', 'augmented_count'.\n",
    "2. an `axis` argument set to 1."
   ]
  },
  {
   "cell_type": "code",
   "execution_count": null,
   "id": "5aebbb85-92b9-4986-94dd-03731c500f96",
   "metadata": {},
   "outputs": [],
   "source": [
    "df = df.drop('self', 'url', 'subreddit', 'augmented_at', 'augmented_count', axis=1)"
   ]
  },
  {
   "cell_type": "markdown",
   "id": "333969a9-22e9-4826-b9c0-c2a824881c98",
   "metadata": {},
   "source": [
    "## 🥊 Challenge 2: Using `dropna()`\n",
    "\n",
    "Finish the statement below by using the `dropna()` method on the dataframe. Use the argument `subset`, which you set to `'selftext'`). Check the [documentation](https://pandas.pydata.org/docs/reference/api/pandas.DataFrame.dropna.html) if you need to!\n",
    "\n",
    "The shape of the resulting DataFrame should be `19988, 18`."
   ]
  },
  {
   "cell_type": "code",
   "execution_count": 12,
   "id": "452079f2-9fe5-47d5-99d9-db150ed3d30c",
   "metadata": {},
   "outputs": [
    {
     "data": {
      "text/plain": [
       "(19988, 18)"
      ]
     },
     "execution_count": 12,
     "metadata": {},
     "output_type": "execute_result"
    }
   ],
   "source": [
    "# YOUR CODE HERE\n",
    "df = df.dropna(subset='selftext')\n",
    "df.shape"
   ]
  },
  {
   "cell_type": "markdown",
   "id": "ff200a5b-7f56-4650-b088-fa3e95564887",
   "metadata": {
    "tags": []
   },
   "source": [
    "## 🥊 Challenge 3: Token attributes\n",
    "\n",
    "Write a for-loop that loops over the first 5 tokens of `parsed_post`. In the body of the for-loop, `print()` the following **attributes** of the loop variable:\n",
    "- orth_\n",
    "- pos_\n",
    "- lemma_\n",
    "- is_stop_\n",
    "- is_punct\n"
   ]
  },
  {
   "cell_type": "code",
   "execution_count": null,
   "id": "c7c72bfb-40aa-4155-aea3-9cecab8b7ab1",
   "metadata": {},
   "outputs": [],
   "source": [
    "# YOUR CODE HERE\n",
    "for token in parsed_post[:10]:\n",
    "    print(token.orth_, token.pos_, token.lemma_, token.is_stop, token.is_punct)"
   ]
  }
 ],
 "metadata": {
  "kernelspec": {
   "display_name": "Python 3 (ipykernel)",
   "language": "python",
   "name": "python3"
  },
  "language_info": {
   "codemirror_mode": {
    "name": "ipython",
    "version": 3
   },
   "file_extension": ".py",
   "mimetype": "text/x-python",
   "name": "python",
   "nbconvert_exporter": "python",
   "pygments_lexer": "ipython3",
   "version": "3.8.13"
  }
 },
 "nbformat": 4,
 "nbformat_minor": 5
}
