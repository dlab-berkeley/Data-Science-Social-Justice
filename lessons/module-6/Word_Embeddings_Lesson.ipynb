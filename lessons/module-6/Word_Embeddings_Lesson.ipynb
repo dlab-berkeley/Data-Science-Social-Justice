{
 "cells": [
  {
   "cell_type": "markdown",
   "metadata": {
    "id": "WClw_VPOmwXd"
   },
   "source": [
    "# Data Science for Social Justice Workshop: Word Embeddings\n",
    "\n",
    "* * * \n",
    "\n",
    "<div class=\"alert alert-success\">  \n",
    "    \n",
    "### Learning Objectives \n",
    "    \n",
    "* Understand word embeddings, and how they are used in information retrieval.\n",
    "* Use `gensim`'s `word2vec` method to create word vectors for a corpus.\n",
    "* Use word embeddings to calculate word similarity.\n",
    "* Use word embeddings to reflect on implicit biases in your data.\n",
    "</div>\n",
    "\n",
    "### Icons Used in This Notebook\n",
    "🔔 **Question**: A quick question to help you understand what's going on.<br>\n",
    "💡 **Tip**: How to do something a bit more efficiently or effectively.<br>\n",
    "⚠️ **Warning:** Heads-up about tricky stuff or common mistakes.<br>\n",
    "💭 **Reflection**: Reflecting on ethical implications, biases, and social impact in data science.<br>\n",
    "\n",
    "### Sections\n",
    "1. [Word Embeddings](#we)\n",
    "2. [Using Comments Data](#comments)\n",
    "3. [Constructing a Word2Vec Model](#w2v)\n",
    "4. [Word Similarity](#sim)\n",
    "5. [Exploring Language Biases With Word Embeddings](#bias)\n"
   ]
  },
  {
   "cell_type": "markdown",
   "metadata": {
    "id": "MfjNP33MZOoi"
   },
   "source": [
    "<a id='we'></a>\n",
    "\n",
    "# Word Embeddings\n",
    "\n",
    "The goal of word embedding models is to learn **numerical representations** of text corpora. Like with TF-IDF, it's all about how we construct that numerical representation.\n",
    "\n",
    "When using word embeddings, we look for a **vector** of numbers to represent each term. The actual numbers themselves won't be meaningful to us as humans. However, if successful, the vectors for each term should encode information about the meaning or concept the term represents, as well as the relationship between it and other terms in the vocabulary.\n",
    "\n",
    "In this notebook, we'll work with word embeddings using Word2Vec.\n",
    "\n",
    "## Word2Vec\n",
    "\n",
    "**Word2Vec** is one example of a word embeddings model. It learns by taking words and their contexts (e.g. sentences) into account, and can then try to predict other words. Given enough data, usage and contexts, Word2Vec can make accurate guesses about a word’s meaning based on its appearances. Those guesses can be used to establish a word’s association with other words (e.g. \"Paris\" is to \"France\" as “Berlin” is to “Germany”), or cluster documents and classify them by topic.\n",
    "\n",
    "<img src=\"../../images/we.png\" alt=\"Word Embeddings\" width=\"600\"/>\n",
    "\n",
    "Word vector models such as Word2Vec are fully **unsupervised**: they learn all of these meanings and relationships without any advance knowledge. Unsupervised learning requires the specification of a right task. We won't go into detail in this lesson, but you can roughly think of the task as predicting nearby words, given a specific word. Read [this post](https://tomvannuenen.medium.com/analyzing-reddit-communities-with-python-part-6-word-embeddings-f92bba876d60) if you want a deeper introduction.\n",
    "\n",
    "We will be using the `gensim` package, which offers Word2Vec."
   ]
  },
  {
   "cell_type": "code",
   "execution_count": 1,
   "metadata": {},
   "outputs": [],
   "source": [
    "# Package imports\n",
    "import os\n",
    "import pandas as pd\n",
    "import numpy as np\n",
    "\n",
    "import pickle\n",
    "from gensim.models import Word2Vec\n",
    "import multiprocessing\n",
    "\n",
    "import matplotlib.pyplot as plt\n",
    "from sklearn.manifold import TSNE"
   ]
  },
  {
   "cell_type": "markdown",
   "metadata": {},
   "source": [
    "<a id='comments'></a>\n",
    "\n",
    "# Using Comments Data\n",
    "\n",
    "As we will be considering the language biases in the next notebook, we will use the **comments** of the r/amitheasshole subreddit this time. The thinking behind this is that this data will be derived from more people, and include more evaluative statements. After all, comments on r/amitheasshole generally evaluate the original posts.\n",
    "\n",
    "💭 **Reflection**: Whether you want to be using submissions or comments for your own data depends on the question you are asking of that data! Make sure to think about this and discuss it with teammates.\n",
    "\n",
    "To save us some time, we have done the preprocessing for you and saved the trigrams (a list of lists) in a pickle file."
   ]
  },
  {
   "cell_type": "code",
   "execution_count": 2,
   "metadata": {},
   "outputs": [],
   "source": [
    "with open('../../data/aita_comment_trigrams.pickle', 'rb') as f:\n",
    "    # Load the object from the file\n",
    "    comments = pickle.load(f)"
   ]
  },
  {
   "cell_type": "code",
   "execution_count": 3,
   "metadata": {},
   "outputs": [
    {
     "data": {
      "text/plain": [
       "['like',\n",
       " 'genuine',\n",
       " 'reason',\n",
       " 'upset',\n",
       " 'question',\n",
       " 'sound',\n",
       " 'people',\n",
       " 'ask',\n",
       " 'curious',\n",
       " 'direct',\n",
       " 'question',\n",
       " 'superior']"
      ]
     },
     "execution_count": 3,
     "metadata": {},
     "output_type": "execute_result"
    }
   ],
   "source": [
    "# Split into lists of words for Word2Vec\n",
    "comment_list = [comment.split() for comment in comments]\n",
    "comment_list[0]"
   ]
  },
  {
   "cell_type": "markdown",
   "metadata": {},
   "source": [
    "**Use the `3_Preprocessing_Project.ipynb` notebook if you want to preprocess your own comment data.**\n",
    "\n",
    "**Use the `6_Word_Embeddings_Project.ipynb` notebook to run the Word2Vec operations explained in this notebook on your own data.**"
   ]
  },
  {
   "cell_type": "markdown",
   "metadata": {
    "id": "Wk2mxX1HZOpk"
   },
   "source": [
    "<a id='w2v'></a>\n",
    "\n",
    "# Constructing a Word2Vec Model\n",
    "\n",
    "Let's create our word embeddings model. The input to this model is our corpus split up into words. The model's output is a set of \"vectors\" (one for each word) in $N$ dimensions (we choose $N$ before creating the model). Think of these vectors as \"features\", capturing latent meaning.\n",
    "\n",
    "This model allows us to group the vectors of similar words together in vector space. We can then reduce the dimensionality to visualize the results in a way humans can understand (such as in a 2-dimensional space), or to perform linear algebra operations in order to find out to what extent words are related.\n",
    "\n",
    "We now instantiate and train our Word2Vec model, using the parameters below."
   ]
  },
  {
   "cell_type": "code",
   "execution_count": 4,
   "metadata": {
    "id": "sQq117-pZOpl"
   },
   "outputs": [],
   "source": [
    "cores = multiprocessing.cpu_count() # Number of cores at your disposal\n",
    "\n",
    "n_features = 300     # Word vector dimensionality (how many features each word will be given)\n",
    "min_word_count = 10  # Minimum word count to be taken into account\n",
    "n_workers = cores    # Number of threads to run in parallel (equal to your amount of cores)\n",
    "window = 5           # Context window size\n",
    "downsampling = 1e-2  # Downsample setting for frequent words\n",
    "seed = 1             # Seed for the random number generator (to create reproducible results)\n",
    "sg = 1               # Skip-gram = 1, CBOW = 0\n",
    "epochs = 20          # Number of iterations over the corpus\n",
    "\n",
    "model = Word2Vec(\n",
    "    sentences=comment_list,\n",
    "    workers=n_workers,\n",
    "    vector_size=n_features,\n",
    "    min_count=min_word_count,\n",
    "    window=window,\n",
    "    sample=downsampling,\n",
    "    seed=seed,\n",
    "    sg=sg)"
   ]
  },
  {
   "cell_type": "markdown",
   "metadata": {
    "id": "xrNV3eYeZOpo"
   },
   "source": [
    "That was it! We have a Word Embeddings model now. Let's save it so that we don't have to train it again. Then, we can reload the embeddings so that we don't have to train it every single time:"
   ]
  },
  {
   "cell_type": "code",
   "execution_count": 5,
   "metadata": {
    "id": "JRX-lzwSzFI5"
   },
   "outputs": [],
   "source": [
    "model.save('../../data/aita_comments.emb')"
   ]
  },
  {
   "cell_type": "code",
   "execution_count": 6,
   "metadata": {
    "id": "SZMDwWBuGTn7"
   },
   "outputs": [],
   "source": [
    "model = Word2Vec.load('../../data/aita_comments.emb')"
   ]
  },
  {
   "cell_type": "markdown",
   "metadata": {
    "id": "wWQC4S9IZOpu"
   },
   "source": [
    "How many terms are in our vocabulary? Whenever interacting with the word vector dictionary, we use the `wv` attribute:"
   ]
  },
  {
   "cell_type": "code",
   "execution_count": 7,
   "metadata": {},
   "outputs": [
    {
     "data": {
      "text/plain": [
       "14732"
      ]
     },
     "execution_count": 7,
     "metadata": {},
     "output_type": "execute_result"
    }
   ],
   "source": [
    "len(model.wv)"
   ]
  },
  {
   "cell_type": "markdown",
   "metadata": {
    "id": "WVdNakwKfm3H"
   },
   "source": [
    "Let's take a peek at the word vectors our model has learned. We can take a look at the individual words using the `index_to_key` attribute, and the word vectors themselves can be accessed with the `vectors` attribute:"
   ]
  },
  {
   "cell_type": "code",
   "execution_count": 8,
   "metadata": {
    "colab": {
     "base_uri": "https://localhost:8080/",
     "height": 487
    },
    "executionInfo": {
     "elapsed": 1224,
     "status": "ok",
     "timestamp": 1640016826009,
     "user": {
      "displayName": "Tom van Nuenen",
      "photoUrl": "https://lh3.googleusercontent.com/a-/AOh14GhuBmxDvW5I_LJfZtwlPqMFD8QGLVPP3skvpkTnuQ=s64",
      "userId": "10012302451096885058"
     },
     "user_tz": -60
    },
    "id": "R6A19I38fjTT",
    "outputId": "e6d18f9d-cd53-4ae6-d17e-7cf353618735"
   },
   "outputs": [
    {
     "data": {
      "text/plain": [
       "'like'"
      ]
     },
     "execution_count": 8,
     "metadata": {},
     "output_type": "execute_result"
    }
   ],
   "source": [
    "model.wv.index_to_key[0]"
   ]
  },
  {
   "cell_type": "code",
   "execution_count": 9,
   "metadata": {},
   "outputs": [
    {
     "data": {
      "text/plain": [
       "array([-6.36280999e-02,  4.39717993e-02,  8.67856815e-02,  1.00425370e-01,\n",
       "       -5.12931962e-03, -2.69119382e-01, -6.00222424e-02,  2.45470554e-01,\n",
       "       -2.02744845e-02, -1.77893743e-01, -7.86731914e-02, -8.19774121e-02,\n",
       "        1.41187897e-02, -8.26043561e-02, -8.60810652e-02, -2.11096089e-02,\n",
       "        3.72693613e-02,  1.60699856e-04,  1.45984907e-02,  3.67411263e-02,\n",
       "       -3.23420241e-02,  1.30452275e-01,  4.37286273e-02,  4.07237411e-02,\n",
       "        5.38003184e-02,  1.41700476e-01, -4.94052209e-02,  6.24968596e-02,\n",
       "        7.94907287e-02, -1.33536994e-01,  2.14102957e-02, -3.89895476e-02,\n",
       "       -1.75764281e-02,  9.59304050e-02,  3.73892076e-02, -3.53155993e-02,\n",
       "        2.48320699e-02, -1.66701362e-01, -3.07910554e-02,  9.19414088e-02,\n",
       "        3.00196558e-02,  2.92745661e-02, -1.27310514e-01, -1.77541196e-01,\n",
       "       -8.78974646e-02,  6.82250783e-02,  1.96369216e-01, -4.68644872e-02,\n",
       "       -1.22381017e-01, -5.28183440e-03,  1.44373357e-01,  2.81582046e-02,\n",
       "       -4.71133441e-02,  3.18777468e-03,  3.99237871e-02, -1.62283808e-03,\n",
       "        2.87964735e-02, -1.03721067e-01,  1.86444327e-01,  1.35009093e-02,\n",
       "       -1.34401411e-01, -1.45031018e-02, -1.08009912e-02, -3.35334018e-02,\n",
       "        9.07320529e-02, -1.28553137e-01,  3.87344742e-03,  3.08501929e-01,\n",
       "       -2.08323345e-01, -1.66158304e-02,  3.92029211e-02,  1.10040784e-01,\n",
       "        1.59029752e-01,  4.33177873e-02, -7.94264153e-02,  1.08655415e-01,\n",
       "        3.15388553e-02, -1.97764914e-02, -1.30434453e-01, -4.12982740e-02,\n",
       "       -1.58949614e-01, -1.60001293e-01,  1.50153875e-01,  2.37258613e-01,\n",
       "        2.00222805e-02,  5.19865863e-02,  1.29827494e-02, -1.16951495e-01,\n",
       "       -1.14385590e-01,  1.68519229e-01,  6.46826774e-02,  4.21388038e-02,\n",
       "       -4.03995402e-02,  5.15388884e-03,  2.22778887e-01,  1.86983511e-01,\n",
       "        9.28592533e-02,  1.40439540e-01, -1.29025906e-01,  1.49573594e-01,\n",
       "       -1.77466676e-01, -9.60505977e-02,  1.14013985e-01, -5.36031686e-02,\n",
       "        5.11023141e-02, -1.11808486e-01, -5.52251637e-02,  1.36112034e-01,\n",
       "       -1.58477798e-01, -1.81219429e-02, -1.01295941e-01, -9.36804265e-02,\n",
       "        5.85754809e-04,  2.74346530e-01,  1.44749150e-01,  3.08110237e-01,\n",
       "       -1.05393700e-01,  1.30531818e-01,  2.09286455e-02, -1.23572327e-01,\n",
       "        9.33322236e-02,  7.74408728e-02,  9.01275203e-02, -1.02073222e-01,\n",
       "        5.60119040e-02,  1.90068930e-01,  1.73340738e-02,  1.62058380e-02,\n",
       "        1.91962172e-03,  7.21303895e-02,  1.42822236e-01, -1.35637417e-01,\n",
       "       -2.02397823e-01, -5.87428994e-02, -2.89960373e-02,  2.01004669e-02,\n",
       "        5.26954271e-02,  8.89673159e-02,  1.55449048e-01, -9.55532566e-02,\n",
       "        3.07637062e-02, -2.73140013e-01,  2.46873070e-02, -3.38372029e-02,\n",
       "        3.19720030e-01,  1.09433830e-01,  4.91280705e-02, -9.98488963e-02,\n",
       "        1.56939968e-01, -1.87903628e-01, -1.22193107e-02, -2.16623694e-01,\n",
       "       -1.70580968e-02, -1.74213387e-02, -5.50413784e-03,  2.22526819e-01,\n",
       "       -4.71621267e-02,  1.12572186e-01, -1.36945918e-01,  1.52239874e-01,\n",
       "        4.61990163e-02,  8.67517292e-02, -1.93712618e-02,  9.33976099e-02,\n",
       "       -9.32862684e-02, -1.99185926e-02, -9.73148420e-02,  4.16268520e-02,\n",
       "        2.98915207e-02,  2.42561802e-01, -4.35132273e-02,  1.09290935e-01,\n",
       "       -1.64197646e-02,  9.55192968e-02, -1.38725996e-01,  7.96056259e-03,\n",
       "        4.28942069e-02, -8.38690400e-02,  6.31393641e-02,  6.62460923e-02,\n",
       "       -2.73099512e-01, -3.51670198e-02, -2.84598451e-02,  8.05911608e-03,\n",
       "        6.32998273e-02, -2.14780830e-02,  1.30892778e-02, -1.45922869e-01,\n",
       "       -1.98751781e-02, -5.25459498e-02,  1.33798718e-01,  1.45146295e-01,\n",
       "        2.59753410e-02, -3.81208141e-03,  4.12593670e-02,  4.00289111e-02,\n",
       "        4.54470776e-02, -6.11402094e-03,  8.65764320e-02, -1.41554256e-03,\n",
       "       -8.16228539e-02, -3.78117599e-02, -6.75255656e-02, -1.99926987e-01,\n",
       "        1.81726441e-01,  1.14529431e-01,  3.51864338e-01, -5.85344806e-02,\n",
       "       -2.31414020e-01, -1.59326848e-02,  1.02110226e-02, -1.06576063e-01,\n",
       "        2.46921197e-01, -2.26779118e-01, -2.90535227e-03, -5.65016009e-02,\n",
       "       -1.86238259e-01, -1.74163505e-01, -1.27659768e-01, -2.35557213e-01,\n",
       "        1.89147666e-02,  6.46997243e-02,  5.63859530e-02, -9.05608386e-02,\n",
       "       -6.11015223e-02,  3.82820377e-03, -1.64533686e-02, -4.64683287e-02,\n",
       "        1.09144412e-01,  4.29599825e-03,  1.78866744e-01, -9.87178609e-02,\n",
       "       -1.09202959e-01,  1.14047779e-02, -7.12478235e-02,  1.58796587e-03,\n",
       "       -1.38091609e-01,  4.90951873e-02,  4.85005826e-02, -2.50838071e-01,\n",
       "        5.02371490e-02,  1.78428181e-02,  9.08108801e-02,  2.12559119e-01,\n",
       "        2.25922436e-01, -5.93445264e-02,  6.20037168e-02, -1.82645574e-01,\n",
       "       -9.16290432e-02,  8.09687302e-02,  9.84898061e-02,  8.04289505e-02,\n",
       "       -1.29502684e-01, -4.69064787e-02, -2.62416840e-01, -2.43092269e-01,\n",
       "        9.83046666e-02,  6.56636953e-02, -3.31765637e-02, -2.21103594e-01,\n",
       "        6.00489462e-03, -2.12031096e-01, -1.03540961e-02, -3.24438661e-02,\n",
       "       -1.24840751e-01,  1.81816518e-01,  1.59296721e-01,  1.20095670e-01,\n",
       "       -1.05498265e-02,  8.37997571e-02,  1.40930479e-02, -6.05021641e-02,\n",
       "        8.35011601e-02,  1.07327610e-01,  2.65314672e-02,  8.45103934e-02,\n",
       "        4.65716794e-02,  8.44077244e-02,  1.27496123e-01,  9.93940905e-02,\n",
       "       -2.48980951e-02,  8.15899298e-02,  1.09357268e-01, -1.64717510e-01,\n",
       "        1.21418193e-01, -1.79353729e-01, -4.22037728e-02, -8.36450830e-02,\n",
       "        4.15599495e-02,  2.33996168e-01,  8.56941864e-02,  1.94558576e-01,\n",
       "        1.81598678e-01, -6.23304993e-02,  2.00318009e-01,  2.32042372e-01,\n",
       "        1.58046056e-02,  3.37125286e-02,  1.61268771e-01, -1.10095367e-01],\n",
       "      dtype=float32)"
      ]
     },
     "execution_count": 9,
     "metadata": {},
     "output_type": "execute_result"
    }
   ],
   "source": [
    "model.wv.vectors[0]"
   ]
  },
  {
   "cell_type": "markdown",
   "metadata": {},
   "source": [
    "Looking at it won't make a whole lot of sense to us! It's just a bunch of numbers. However, we can do semantic operations on these vectors, such as getting related terms."
   ]
  },
  {
   "cell_type": "markdown",
   "metadata": {
    "id": "xw4th__0ZOp0"
   },
   "source": [
    "<a id='sim'></a>\n",
    "\n",
    "# Word Similarity\n",
    "\n",
    "With the information in our word embeddings model, we can try to find similarities between words that interest us (i.e. words that have a similar vector). Let's create a function that retrieves related terms to some input. We're going to use the `most_similar()` function in `gensim` as part of this helper function."
   ]
  },
  {
   "cell_type": "code",
   "execution_count": 10,
   "metadata": {
    "id": "v1HVouFqZOp0"
   },
   "outputs": [],
   "source": [
    "def get_most_similar_terms(model, token, topn=20):\n",
    "    \"\"\"Look up the top N most similar terms to the token.\"\"\"\n",
    "    for word, similarity in model.wv.most_similar(positive=[token], topn=topn):\n",
    "        print(f\"{word}: {round(similarity, 3)}\")"
   ]
  },
  {
   "cell_type": "code",
   "execution_count": 11,
   "metadata": {
    "colab": {
     "base_uri": "https://localhost:8080/"
    },
    "executionInfo": {
     "elapsed": 304,
     "status": "ok",
     "timestamp": 1639950052918,
     "user": {
      "displayName": "Tom van Nuenen",
      "photoUrl": "https://lh3.googleusercontent.com/a-/AOh14GhuBmxDvW5I_LJfZtwlPqMFD8QGLVPP3skvpkTnuQ=s64",
      "userId": "10012302451096885058"
     },
     "user_tz": -60
    },
    "id": "CDyV-ntGZOp3",
    "outputId": "d72277e1-e4e1-451d-e706-70b7fb7ebb02"
   },
   "outputs": [
    {
     "name": "stdout",
     "output_type": "stream",
     "text": [
      "veer: 0.632\n",
      "esh.your: 0.622\n",
      "justice_boner: 0.618\n",
      "resounding: 0.612\n",
      "asshole-: 0.611\n",
      "arsehole: 0.606\n",
      "redflag: 0.603\n",
      "esh.you're: 0.601\n",
      "esh.the: 0.601\n",
      "fuckwad: 0.6\n",
      "tah: 0.6\n",
      "infact: 0.599\n",
      "esh.you: 0.593\n",
      "ytaand: 0.59\n",
      "dickbag: 0.589\n",
      "assholeishness: 0.588\n",
      "nahyou’re: 0.585\n",
      "opportunist: 0.585\n",
      "ytayou’re: 0.584\n",
      "yata: 0.583\n"
     ]
    }
   ],
   "source": [
    "get_most_similar_terms(model, 'asshole')"
   ]
  },
  {
   "cell_type": "markdown",
   "metadata": {},
   "source": [
    "Here are some other terms. What else interests you?"
   ]
  },
  {
   "cell_type": "code",
   "execution_count": 12,
   "metadata": {},
   "outputs": [
    {
     "name": "stdout",
     "output_type": "stream",
     "text": [
      "compassion: 0.69\n",
      "lack_empathy: 0.591\n",
      "humility: 0.584\n",
      "rationality: 0.582\n",
      "lacking: 0.567\n",
      "empathize: 0.562\n",
      "patience: 0.557\n",
      "tact: 0.55\n",
      "empathic: 0.545\n",
      "self_awareness: 0.539\n",
      "modicum: 0.536\n",
      "empathetic: 0.529\n",
      "devoid: 0.525\n",
      "doesn‘t: 0.521\n",
      "trying: 0.52\n",
      "uncare: 0.517\n",
      "vindicated: 0.513\n",
      "coping_skill: 0.509\n",
      "self_reflection: 0.507\n",
      "empathise: 0.506\n"
     ]
    }
   ],
   "source": [
    "get_most_similar_terms(model, 'empathy')"
   ]
  },
  {
   "cell_type": "code",
   "execution_count": 13,
   "metadata": {},
   "outputs": [
    {
     "name": "stdout",
     "output_type": "stream",
     "text": [
      "relationships: 0.582\n",
      "exclusivity: 0.579\n",
      "polyamory: 0.576\n",
      "irrevocably: 0.574\n",
      "marriage: 0.574\n",
      "fidelity: 0.568\n",
      "amicably: 0.565\n",
      "longterm: 0.563\n",
      "coparent: 0.561\n",
      "transparency: 0.56\n",
      "monogamy: 0.56\n",
      "friendship: 0.553\n",
      "polyamorous: 0.55\n",
      "ltr: 0.546\n",
      "co_parenting: 0.541\n",
      "reestablish: 0.536\n",
      "ymbta: 0.534\n",
      "devastated: 0.533\n",
      "reciprocal: 0.532\n",
      "sexual_compatibility: 0.532\n"
     ]
    }
   ],
   "source": [
    "get_most_similar_terms(model, 'relationship')"
   ]
  },
  {
   "cell_type": "code",
   "execution_count": 14,
   "metadata": {},
   "outputs": [
    {
     "name": "stdout",
     "output_type": "stream",
     "text": [
      "tripping: 0.456\n",
      "wield: 0.446\n",
      "power_imbalance: 0.429\n",
      "differential: 0.426\n",
      "flex: 0.415\n",
      "dynamic: 0.411\n",
      "intimidation: 0.401\n",
      "dominance: 0.381\n",
      "ideological: 0.379\n",
      "historic: 0.374\n",
      "hardball: 0.373\n",
      "leverage: 0.371\n",
      "perpetual: 0.371\n",
      "snipe: 0.37\n",
      "microscope: 0.369\n",
      "institutional: 0.369\n",
      "unilateral: 0.364\n",
      "dictator: 0.363\n",
      "handshake: 0.361\n",
      "carefree: 0.359\n"
     ]
    }
   ],
   "source": [
    "get_most_similar_terms(model, 'power')"
   ]
  },
  {
   "cell_type": "code",
   "execution_count": 15,
   "metadata": {},
   "outputs": [
    {
     "name": "stdout",
     "output_type": "stream",
     "text": [
      "woman: 0.661\n",
      "men: 0.596\n",
      "het: 0.559\n",
      "transman: 0.551\n",
      "butch: 0.535\n",
      "misandry: 0.535\n",
      "subservient: 0.535\n",
      "macho: 0.528\n",
      "femme: 0.527\n",
      "oggle: 0.519\n",
      "shouldn't: 0.519\n",
      "ogle: 0.518\n",
      "monolith: 0.518\n",
      "androgynous: 0.518\n",
      "cisgender: 0.517\n",
      "patriarchy: 0.517\n",
      "cucke: 0.513\n",
      "bearded: 0.513\n",
      "tomboy: 0.509\n",
      "harrasment: 0.509\n"
     ]
    }
   ],
   "source": [
    "get_most_similar_terms(model, 'man')"
   ]
  },
  {
   "cell_type": "code",
   "execution_count": 16,
   "metadata": {},
   "outputs": [
    {
     "name": "stdout",
     "output_type": "stream",
     "text": [
      "man: 0.661\n",
      "men: 0.6\n",
      "transman: 0.593\n",
      "women: 0.59\n",
      "womanhood: 0.587\n",
      "androgynous: 0.581\n",
      "transwoman: 0.573\n",
      "cisgender: 0.55\n",
      "butch: 0.546\n",
      "monolith: 0.545\n",
      "het: 0.544\n",
      "shouldn't: 0.542\n",
      "misandry: 0.536\n",
      "oggle: 0.536\n",
      "ogle: 0.536\n",
      "conventionally: 0.53\n",
      "transperson: 0.529\n",
      "ntabee: 0.528\n",
      "femme: 0.525\n",
      "shorter: 0.523\n"
     ]
    }
   ],
   "source": [
    "get_most_similar_terms(model, 'woman')"
   ]
  },
  {
   "cell_type": "markdown",
   "metadata": {},
   "source": [
    "# Visualizing High Dimensional Spaces with $t$-SNE\n",
    "\n",
    "The word embeddings we created are what's called a **high-dimensional representation** of the text. That is, we take a word in the corpus, and represent it using, in this case, 300 numbers. We can plot 3 numbers at a time - that's in 3 dimensions - but there's no way for humans to visualize something in a 300-dimensional space. \n",
    "\n",
    "So, **dimensionality reduction** is a big part of machine learning. How can we take vectors that are 300-dimensional, and visualize them in 2-dimensions, while keeping the structure between vectors the same? How can we reduce the dimensionality?\n",
    "\n",
    "One of the most popular methods for dimensionality reduction is called $t$-SNE ($t$-Distributed Stochastic Neighbor Embedding). If you want to read more about this algorithm, [here](https://lvdmaaten.github.io/tsne/) is a good starting point. \n",
    "\n",
    "Roughly, $t$-SNE tries to keep the relative distances between points as closely as possible in both high-dimensional and low-dimensional space. We can thus visualize our embeddings, which may reveal semantic and syntactic trends in the data.\n",
    "\n",
    "One thing we can do is to look for relationships between particular word pairs. "
   ]
  },
  {
   "cell_type": "code",
   "execution_count": 17,
   "metadata": {},
   "outputs": [],
   "source": [
    "words = ['asshole', 'jerk', 'rude', 'inconsiderate',\n",
    "         'angry', 'upset', 'sad', 'happy', 'frustrated',\n",
    "         'friend', 'family', 'partner', 'coworker', 'neighbor',\n",
    "         'apologize', 'forgive', 'ignore', 'confront', 'compromise',\n",
    "         'right', 'wrong', 'justified', 'unjustified', 'fair', 'unfair',\n",
    "         'honesty', 'loyalty', 'respect', 'kindness', 'empathy']\n",
    "\n",
    "# Extract the word vectors\n",
    "word_vectors = np.array([model.wv[word] for word in words])"
   ]
  },
  {
   "cell_type": "code",
   "execution_count": 18,
   "metadata": {},
   "outputs": [],
   "source": [
    "# If you get an ImportError in the line tsne=TSNE(), you might need to install scikit-learn:\n",
    "# %pip install -U scikit-learn "
   ]
  },
  {
   "cell_type": "code",
   "execution_count": 19,
   "metadata": {},
   "outputs": [],
   "source": [
    "# Reduce dimensionality using t-SNE\n",
    "tsne = TSNE(n_components=2, random_state=2, perplexity=2)\n",
    "reduced_vectors = tsne.fit_transform(word_vectors)"
   ]
  },
  {
   "cell_type": "code",
   "execution_count": 20,
   "metadata": {},
   "outputs": [],
   "source": [
    "# Store the t-SNE vectors\n",
    "words_df = pd.DataFrame(reduced_vectors,\n",
    "                        index=pd.Index([word for word in words]),\n",
    "                        columns=['x', 'y'])"
   ]
  },
  {
   "cell_type": "markdown",
   "metadata": {},
   "source": [
    "We're going to visualize the 2-dimensional space using a package called `bokeh`. This package allows for some degree of interactivity: we can go over each point and dynamically get information about the word denoting that vector."
   ]
  },
  {
   "cell_type": "code",
   "execution_count": 21,
   "metadata": {},
   "outputs": [],
   "source": [
    "# You may need to install bokeh if the following cell does not run\n",
    "# %pip install bokeh"
   ]
  },
  {
   "cell_type": "code",
   "execution_count": 24,
   "metadata": {},
   "outputs": [
    {
     "data": {
      "text/html": [
       "<div class=\"bk-root\">\n",
       "        <a href=\"https://bokeh.org\" target=\"_blank\" class=\"bk-logo bk-logo-small bk-logo-notebook\"></a>\n",
       "        <span id=\"1047\">Loading BokehJS ...</span>\n",
       "    </div>\n"
      ]
     },
     "metadata": {},
     "output_type": "display_data"
    },
    {
     "data": {
      "application/javascript": [
       "(function(root) {\n",
       "  function now() {\n",
       "    return new Date();\n",
       "  }\n",
       "\n",
       "  const force = true;\n",
       "\n",
       "  if (typeof root._bokeh_onload_callbacks === \"undefined\" || force === true) {\n",
       "    root._bokeh_onload_callbacks = [];\n",
       "    root._bokeh_is_loading = undefined;\n",
       "  }\n",
       "\n",
       "const JS_MIME_TYPE = 'application/javascript';\n",
       "  const HTML_MIME_TYPE = 'text/html';\n",
       "  const EXEC_MIME_TYPE = 'application/vnd.bokehjs_exec.v0+json';\n",
       "  const CLASS_NAME = 'output_bokeh rendered_html';\n",
       "\n",
       "  /**\n",
       "   * Render data to the DOM node\n",
       "   */\n",
       "  function render(props, node) {\n",
       "    const script = document.createElement(\"script\");\n",
       "    node.appendChild(script);\n",
       "  }\n",
       "\n",
       "  /**\n",
       "   * Handle when an output is cleared or removed\n",
       "   */\n",
       "  function handleClearOutput(event, handle) {\n",
       "    const cell = handle.cell;\n",
       "\n",
       "    const id = cell.output_area._bokeh_element_id;\n",
       "    const server_id = cell.output_area._bokeh_server_id;\n",
       "    // Clean up Bokeh references\n",
       "    if (id != null && id in Bokeh.index) {\n",
       "      Bokeh.index[id].model.document.clear();\n",
       "      delete Bokeh.index[id];\n",
       "    }\n",
       "\n",
       "    if (server_id !== undefined) {\n",
       "      // Clean up Bokeh references\n",
       "      const cmd_clean = \"from bokeh.io.state import curstate; print(curstate().uuid_to_server['\" + server_id + \"'].get_sessions()[0].document.roots[0]._id)\";\n",
       "      cell.notebook.kernel.execute(cmd_clean, {\n",
       "        iopub: {\n",
       "          output: function(msg) {\n",
       "            const id = msg.content.text.trim();\n",
       "            if (id in Bokeh.index) {\n",
       "              Bokeh.index[id].model.document.clear();\n",
       "              delete Bokeh.index[id];\n",
       "            }\n",
       "          }\n",
       "        }\n",
       "      });\n",
       "      // Destroy server and session\n",
       "      const cmd_destroy = \"import bokeh.io.notebook as ion; ion.destroy_server('\" + server_id + \"')\";\n",
       "      cell.notebook.kernel.execute(cmd_destroy);\n",
       "    }\n",
       "  }\n",
       "\n",
       "  /**\n",
       "   * Handle when a new output is added\n",
       "   */\n",
       "  function handleAddOutput(event, handle) {\n",
       "    const output_area = handle.output_area;\n",
       "    const output = handle.output;\n",
       "\n",
       "    // limit handleAddOutput to display_data with EXEC_MIME_TYPE content only\n",
       "    if ((output.output_type != \"display_data\") || (!Object.prototype.hasOwnProperty.call(output.data, EXEC_MIME_TYPE))) {\n",
       "      return\n",
       "    }\n",
       "\n",
       "    const toinsert = output_area.element.find(\".\" + CLASS_NAME.split(' ')[0]);\n",
       "\n",
       "    if (output.metadata[EXEC_MIME_TYPE][\"id\"] !== undefined) {\n",
       "      toinsert[toinsert.length - 1].firstChild.textContent = output.data[JS_MIME_TYPE];\n",
       "      // store reference to embed id on output_area\n",
       "      output_area._bokeh_element_id = output.metadata[EXEC_MIME_TYPE][\"id\"];\n",
       "    }\n",
       "    if (output.metadata[EXEC_MIME_TYPE][\"server_id\"] !== undefined) {\n",
       "      const bk_div = document.createElement(\"div\");\n",
       "      bk_div.innerHTML = output.data[HTML_MIME_TYPE];\n",
       "      const script_attrs = bk_div.children[0].attributes;\n",
       "      for (let i = 0; i < script_attrs.length; i++) {\n",
       "        toinsert[toinsert.length - 1].firstChild.setAttribute(script_attrs[i].name, script_attrs[i].value);\n",
       "        toinsert[toinsert.length - 1].firstChild.textContent = bk_div.children[0].textContent\n",
       "      }\n",
       "      // store reference to server id on output_area\n",
       "      output_area._bokeh_server_id = output.metadata[EXEC_MIME_TYPE][\"server_id\"];\n",
       "    }\n",
       "  }\n",
       "\n",
       "  function register_renderer(events, OutputArea) {\n",
       "\n",
       "    function append_mime(data, metadata, element) {\n",
       "      // create a DOM node to render to\n",
       "      const toinsert = this.create_output_subarea(\n",
       "        metadata,\n",
       "        CLASS_NAME,\n",
       "        EXEC_MIME_TYPE\n",
       "      );\n",
       "      this.keyboard_manager.register_events(toinsert);\n",
       "      // Render to node\n",
       "      const props = {data: data, metadata: metadata[EXEC_MIME_TYPE]};\n",
       "      render(props, toinsert[toinsert.length - 1]);\n",
       "      element.append(toinsert);\n",
       "      return toinsert\n",
       "    }\n",
       "\n",
       "    /* Handle when an output is cleared or removed */\n",
       "    events.on('clear_output.CodeCell', handleClearOutput);\n",
       "    events.on('delete.Cell', handleClearOutput);\n",
       "\n",
       "    /* Handle when a new output is added */\n",
       "    events.on('output_added.OutputArea', handleAddOutput);\n",
       "\n",
       "    /**\n",
       "     * Register the mime type and append_mime function with output_area\n",
       "     */\n",
       "    OutputArea.prototype.register_mime_type(EXEC_MIME_TYPE, append_mime, {\n",
       "      /* Is output safe? */\n",
       "      safe: true,\n",
       "      /* Index of renderer in `output_area.display_order` */\n",
       "      index: 0\n",
       "    });\n",
       "  }\n",
       "\n",
       "  // register the mime type if in Jupyter Notebook environment and previously unregistered\n",
       "  if (root.Jupyter !== undefined) {\n",
       "    const events = require('base/js/events');\n",
       "    const OutputArea = require('notebook/js/outputarea').OutputArea;\n",
       "\n",
       "    if (OutputArea.prototype.mime_types().indexOf(EXEC_MIME_TYPE) == -1) {\n",
       "      register_renderer(events, OutputArea);\n",
       "    }\n",
       "  }\n",
       "  if (typeof (root._bokeh_timeout) === \"undefined\" || force === true) {\n",
       "    root._bokeh_timeout = Date.now() + 5000;\n",
       "    root._bokeh_failed_load = false;\n",
       "  }\n",
       "\n",
       "  const NB_LOAD_WARNING = {'data': {'text/html':\n",
       "     \"<div style='background-color: #fdd'>\\n\"+\n",
       "     \"<p>\\n\"+\n",
       "     \"BokehJS does not appear to have successfully loaded. If loading BokehJS from CDN, this \\n\"+\n",
       "     \"may be due to a slow or bad network connection. Possible fixes:\\n\"+\n",
       "     \"</p>\\n\"+\n",
       "     \"<ul>\\n\"+\n",
       "     \"<li>re-rerun `output_notebook()` to attempt to load from CDN again, or</li>\\n\"+\n",
       "     \"<li>use INLINE resources instead, as so:</li>\\n\"+\n",
       "     \"</ul>\\n\"+\n",
       "     \"<code>\\n\"+\n",
       "     \"from bokeh.resources import INLINE\\n\"+\n",
       "     \"output_notebook(resources=INLINE)\\n\"+\n",
       "     \"</code>\\n\"+\n",
       "     \"</div>\"}};\n",
       "\n",
       "  function display_loaded() {\n",
       "    const el = document.getElementById(\"1047\");\n",
       "    if (el != null) {\n",
       "      el.textContent = \"BokehJS is loading...\";\n",
       "    }\n",
       "    if (root.Bokeh !== undefined) {\n",
       "      if (el != null) {\n",
       "        el.textContent = \"BokehJS \" + root.Bokeh.version + \" successfully loaded.\";\n",
       "      }\n",
       "    } else if (Date.now() < root._bokeh_timeout) {\n",
       "      setTimeout(display_loaded, 100)\n",
       "    }\n",
       "  }\n",
       "\n",
       "  function run_callbacks() {\n",
       "    try {\n",
       "      root._bokeh_onload_callbacks.forEach(function(callback) {\n",
       "        if (callback != null)\n",
       "          callback();\n",
       "      });\n",
       "    } finally {\n",
       "      delete root._bokeh_onload_callbacks\n",
       "    }\n",
       "    console.debug(\"Bokeh: all callbacks have finished\");\n",
       "  }\n",
       "\n",
       "  function load_libs(css_urls, js_urls, callback) {\n",
       "    if (css_urls == null) css_urls = [];\n",
       "    if (js_urls == null) js_urls = [];\n",
       "\n",
       "    root._bokeh_onload_callbacks.push(callback);\n",
       "    if (root._bokeh_is_loading > 0) {\n",
       "      console.debug(\"Bokeh: BokehJS is being loaded, scheduling callback at\", now());\n",
       "      return null;\n",
       "    }\n",
       "    if (js_urls == null || js_urls.length === 0) {\n",
       "      run_callbacks();\n",
       "      return null;\n",
       "    }\n",
       "    console.debug(\"Bokeh: BokehJS not loaded, scheduling load and callback at\", now());\n",
       "    root._bokeh_is_loading = css_urls.length + js_urls.length;\n",
       "\n",
       "    function on_load() {\n",
       "      root._bokeh_is_loading--;\n",
       "      if (root._bokeh_is_loading === 0) {\n",
       "        console.debug(\"Bokeh: all BokehJS libraries/stylesheets loaded\");\n",
       "        run_callbacks()\n",
       "      }\n",
       "    }\n",
       "\n",
       "    function on_error(url) {\n",
       "      console.error(\"failed to load \" + url);\n",
       "    }\n",
       "\n",
       "    for (let i = 0; i < css_urls.length; i++) {\n",
       "      const url = css_urls[i];\n",
       "      const element = document.createElement(\"link\");\n",
       "      element.onload = on_load;\n",
       "      element.onerror = on_error.bind(null, url);\n",
       "      element.rel = \"stylesheet\";\n",
       "      element.type = \"text/css\";\n",
       "      element.href = url;\n",
       "      console.debug(\"Bokeh: injecting link tag for BokehJS stylesheet: \", url);\n",
       "      document.body.appendChild(element);\n",
       "    }\n",
       "\n",
       "    for (let i = 0; i < js_urls.length; i++) {\n",
       "      const url = js_urls[i];\n",
       "      const element = document.createElement('script');\n",
       "      element.onload = on_load;\n",
       "      element.onerror = on_error.bind(null, url);\n",
       "      element.async = false;\n",
       "      element.src = url;\n",
       "      console.debug(\"Bokeh: injecting script tag for BokehJS library: \", url);\n",
       "      document.head.appendChild(element);\n",
       "    }\n",
       "  };\n",
       "\n",
       "  function inject_raw_css(css) {\n",
       "    const element = document.createElement(\"style\");\n",
       "    element.appendChild(document.createTextNode(css));\n",
       "    document.body.appendChild(element);\n",
       "  }\n",
       "\n",
       "  const js_urls = [\"https://cdn.bokeh.org/bokeh/release/bokeh-2.4.3.min.js\", \"https://cdn.bokeh.org/bokeh/release/bokeh-gl-2.4.3.min.js\", \"https://cdn.bokeh.org/bokeh/release/bokeh-widgets-2.4.3.min.js\", \"https://cdn.bokeh.org/bokeh/release/bokeh-tables-2.4.3.min.js\", \"https://cdn.bokeh.org/bokeh/release/bokeh-mathjax-2.4.3.min.js\"];\n",
       "  const css_urls = [];\n",
       "\n",
       "  const inline_js = [    function(Bokeh) {\n",
       "      Bokeh.set_log_level(\"info\");\n",
       "    },\n",
       "function(Bokeh) {\n",
       "    }\n",
       "  ];\n",
       "\n",
       "  function run_inline_js() {\n",
       "    if (root.Bokeh !== undefined || force === true) {\n",
       "          for (let i = 0; i < inline_js.length; i++) {\n",
       "      inline_js[i].call(root, root.Bokeh);\n",
       "    }\n",
       "if (force === true) {\n",
       "        display_loaded();\n",
       "      }} else if (Date.now() < root._bokeh_timeout) {\n",
       "      setTimeout(run_inline_js, 100);\n",
       "    } else if (!root._bokeh_failed_load) {\n",
       "      console.log(\"Bokeh: BokehJS failed to load within specified timeout.\");\n",
       "      root._bokeh_failed_load = true;\n",
       "    } else if (force !== true) {\n",
       "      const cell = $(document.getElementById(\"1047\")).parents('.cell').data().cell;\n",
       "      cell.output_area.append_execute_result(NB_LOAD_WARNING)\n",
       "    }\n",
       "  }\n",
       "\n",
       "  if (root._bokeh_is_loading === 0) {\n",
       "    console.debug(\"Bokeh: BokehJS loaded, going straight to plotting\");\n",
       "    run_inline_js();\n",
       "  } else {\n",
       "    load_libs(css_urls, js_urls, function() {\n",
       "      console.debug(\"Bokeh: BokehJS plotting callback run at\", now());\n",
       "      run_inline_js();\n",
       "    });\n",
       "  }\n",
       "}(window));"
      ],
      "application/vnd.bokehjs_load.v0+json": "(function(root) {\n  function now() {\n    return new Date();\n  }\n\n  const force = true;\n\n  if (typeof root._bokeh_onload_callbacks === \"undefined\" || force === true) {\n    root._bokeh_onload_callbacks = [];\n    root._bokeh_is_loading = undefined;\n  }\n\n\n  if (typeof (root._bokeh_timeout) === \"undefined\" || force === true) {\n    root._bokeh_timeout = Date.now() + 5000;\n    root._bokeh_failed_load = false;\n  }\n\n  const NB_LOAD_WARNING = {'data': {'text/html':\n     \"<div style='background-color: #fdd'>\\n\"+\n     \"<p>\\n\"+\n     \"BokehJS does not appear to have successfully loaded. If loading BokehJS from CDN, this \\n\"+\n     \"may be due to a slow or bad network connection. Possible fixes:\\n\"+\n     \"</p>\\n\"+\n     \"<ul>\\n\"+\n     \"<li>re-rerun `output_notebook()` to attempt to load from CDN again, or</li>\\n\"+\n     \"<li>use INLINE resources instead, as so:</li>\\n\"+\n     \"</ul>\\n\"+\n     \"<code>\\n\"+\n     \"from bokeh.resources import INLINE\\n\"+\n     \"output_notebook(resources=INLINE)\\n\"+\n     \"</code>\\n\"+\n     \"</div>\"}};\n\n  function display_loaded() {\n    const el = document.getElementById(\"1047\");\n    if (el != null) {\n      el.textContent = \"BokehJS is loading...\";\n    }\n    if (root.Bokeh !== undefined) {\n      if (el != null) {\n        el.textContent = \"BokehJS \" + root.Bokeh.version + \" successfully loaded.\";\n      }\n    } else if (Date.now() < root._bokeh_timeout) {\n      setTimeout(display_loaded, 100)\n    }\n  }\n\n  function run_callbacks() {\n    try {\n      root._bokeh_onload_callbacks.forEach(function(callback) {\n        if (callback != null)\n          callback();\n      });\n    } finally {\n      delete root._bokeh_onload_callbacks\n    }\n    console.debug(\"Bokeh: all callbacks have finished\");\n  }\n\n  function load_libs(css_urls, js_urls, callback) {\n    if (css_urls == null) css_urls = [];\n    if (js_urls == null) js_urls = [];\n\n    root._bokeh_onload_callbacks.push(callback);\n    if (root._bokeh_is_loading > 0) {\n      console.debug(\"Bokeh: BokehJS is being loaded, scheduling callback at\", now());\n      return null;\n    }\n    if (js_urls == null || js_urls.length === 0) {\n      run_callbacks();\n      return null;\n    }\n    console.debug(\"Bokeh: BokehJS not loaded, scheduling load and callback at\", now());\n    root._bokeh_is_loading = css_urls.length + js_urls.length;\n\n    function on_load() {\n      root._bokeh_is_loading--;\n      if (root._bokeh_is_loading === 0) {\n        console.debug(\"Bokeh: all BokehJS libraries/stylesheets loaded\");\n        run_callbacks()\n      }\n    }\n\n    function on_error(url) {\n      console.error(\"failed to load \" + url);\n    }\n\n    for (let i = 0; i < css_urls.length; i++) {\n      const url = css_urls[i];\n      const element = document.createElement(\"link\");\n      element.onload = on_load;\n      element.onerror = on_error.bind(null, url);\n      element.rel = \"stylesheet\";\n      element.type = \"text/css\";\n      element.href = url;\n      console.debug(\"Bokeh: injecting link tag for BokehJS stylesheet: \", url);\n      document.body.appendChild(element);\n    }\n\n    for (let i = 0; i < js_urls.length; i++) {\n      const url = js_urls[i];\n      const element = document.createElement('script');\n      element.onload = on_load;\n      element.onerror = on_error.bind(null, url);\n      element.async = false;\n      element.src = url;\n      console.debug(\"Bokeh: injecting script tag for BokehJS library: \", url);\n      document.head.appendChild(element);\n    }\n  };\n\n  function inject_raw_css(css) {\n    const element = document.createElement(\"style\");\n    element.appendChild(document.createTextNode(css));\n    document.body.appendChild(element);\n  }\n\n  const js_urls = [\"https://cdn.bokeh.org/bokeh/release/bokeh-2.4.3.min.js\", \"https://cdn.bokeh.org/bokeh/release/bokeh-gl-2.4.3.min.js\", \"https://cdn.bokeh.org/bokeh/release/bokeh-widgets-2.4.3.min.js\", \"https://cdn.bokeh.org/bokeh/release/bokeh-tables-2.4.3.min.js\", \"https://cdn.bokeh.org/bokeh/release/bokeh-mathjax-2.4.3.min.js\"];\n  const css_urls = [];\n\n  const inline_js = [    function(Bokeh) {\n      Bokeh.set_log_level(\"info\");\n    },\nfunction(Bokeh) {\n    }\n  ];\n\n  function run_inline_js() {\n    if (root.Bokeh !== undefined || force === true) {\n          for (let i = 0; i < inline_js.length; i++) {\n      inline_js[i].call(root, root.Bokeh);\n    }\nif (force === true) {\n        display_loaded();\n      }} else if (Date.now() < root._bokeh_timeout) {\n      setTimeout(run_inline_js, 100);\n    } else if (!root._bokeh_failed_load) {\n      console.log(\"Bokeh: BokehJS failed to load within specified timeout.\");\n      root._bokeh_failed_load = true;\n    } else if (force !== true) {\n      const cell = $(document.getElementById(\"1047\")).parents('.cell').data().cell;\n      cell.output_area.append_execute_result(NB_LOAD_WARNING)\n    }\n  }\n\n  if (root._bokeh_is_loading === 0) {\n    console.debug(\"Bokeh: BokehJS loaded, going straight to plotting\");\n    run_inline_js();\n  } else {\n    load_libs(css_urls, js_urls, function() {\n      console.debug(\"Bokeh: BokehJS plotting callback run at\", now());\n      run_inline_js();\n    });\n  }\n}(window));"
     },
     "metadata": {},
     "output_type": "display_data"
    },
    {
     "data": {
      "text/html": [
       "<div class=\"bk-root\">\n",
       "        <a href=\"https://bokeh.org\" target=\"_blank\" class=\"bk-logo bk-logo-small bk-logo-notebook\"></a>\n",
       "        <span id=\"1048\">Loading BokehJS ...</span>\n",
       "    </div>\n"
      ]
     },
     "metadata": {},
     "output_type": "display_data"
    },
    {
     "data": {
      "application/javascript": [
       "(function(root) {\n",
       "  function now() {\n",
       "    return new Date();\n",
       "  }\n",
       "\n",
       "  const force = true;\n",
       "\n",
       "  if (typeof root._bokeh_onload_callbacks === \"undefined\" || force === true) {\n",
       "    root._bokeh_onload_callbacks = [];\n",
       "    root._bokeh_is_loading = undefined;\n",
       "  }\n",
       "\n",
       "const JS_MIME_TYPE = 'application/javascript';\n",
       "  const HTML_MIME_TYPE = 'text/html';\n",
       "  const EXEC_MIME_TYPE = 'application/vnd.bokehjs_exec.v0+json';\n",
       "  const CLASS_NAME = 'output_bokeh rendered_html';\n",
       "\n",
       "  /**\n",
       "   * Render data to the DOM node\n",
       "   */\n",
       "  function render(props, node) {\n",
       "    const script = document.createElement(\"script\");\n",
       "    node.appendChild(script);\n",
       "  }\n",
       "\n",
       "  /**\n",
       "   * Handle when an output is cleared or removed\n",
       "   */\n",
       "  function handleClearOutput(event, handle) {\n",
       "    const cell = handle.cell;\n",
       "\n",
       "    const id = cell.output_area._bokeh_element_id;\n",
       "    const server_id = cell.output_area._bokeh_server_id;\n",
       "    // Clean up Bokeh references\n",
       "    if (id != null && id in Bokeh.index) {\n",
       "      Bokeh.index[id].model.document.clear();\n",
       "      delete Bokeh.index[id];\n",
       "    }\n",
       "\n",
       "    if (server_id !== undefined) {\n",
       "      // Clean up Bokeh references\n",
       "      const cmd_clean = \"from bokeh.io.state import curstate; print(curstate().uuid_to_server['\" + server_id + \"'].get_sessions()[0].document.roots[0]._id)\";\n",
       "      cell.notebook.kernel.execute(cmd_clean, {\n",
       "        iopub: {\n",
       "          output: function(msg) {\n",
       "            const id = msg.content.text.trim();\n",
       "            if (id in Bokeh.index) {\n",
       "              Bokeh.index[id].model.document.clear();\n",
       "              delete Bokeh.index[id];\n",
       "            }\n",
       "          }\n",
       "        }\n",
       "      });\n",
       "      // Destroy server and session\n",
       "      const cmd_destroy = \"import bokeh.io.notebook as ion; ion.destroy_server('\" + server_id + \"')\";\n",
       "      cell.notebook.kernel.execute(cmd_destroy);\n",
       "    }\n",
       "  }\n",
       "\n",
       "  /**\n",
       "   * Handle when a new output is added\n",
       "   */\n",
       "  function handleAddOutput(event, handle) {\n",
       "    const output_area = handle.output_area;\n",
       "    const output = handle.output;\n",
       "\n",
       "    // limit handleAddOutput to display_data with EXEC_MIME_TYPE content only\n",
       "    if ((output.output_type != \"display_data\") || (!Object.prototype.hasOwnProperty.call(output.data, EXEC_MIME_TYPE))) {\n",
       "      return\n",
       "    }\n",
       "\n",
       "    const toinsert = output_area.element.find(\".\" + CLASS_NAME.split(' ')[0]);\n",
       "\n",
       "    if (output.metadata[EXEC_MIME_TYPE][\"id\"] !== undefined) {\n",
       "      toinsert[toinsert.length - 1].firstChild.textContent = output.data[JS_MIME_TYPE];\n",
       "      // store reference to embed id on output_area\n",
       "      output_area._bokeh_element_id = output.metadata[EXEC_MIME_TYPE][\"id\"];\n",
       "    }\n",
       "    if (output.metadata[EXEC_MIME_TYPE][\"server_id\"] !== undefined) {\n",
       "      const bk_div = document.createElement(\"div\");\n",
       "      bk_div.innerHTML = output.data[HTML_MIME_TYPE];\n",
       "      const script_attrs = bk_div.children[0].attributes;\n",
       "      for (let i = 0; i < script_attrs.length; i++) {\n",
       "        toinsert[toinsert.length - 1].firstChild.setAttribute(script_attrs[i].name, script_attrs[i].value);\n",
       "        toinsert[toinsert.length - 1].firstChild.textContent = bk_div.children[0].textContent\n",
       "      }\n",
       "      // store reference to server id on output_area\n",
       "      output_area._bokeh_server_id = output.metadata[EXEC_MIME_TYPE][\"server_id\"];\n",
       "    }\n",
       "  }\n",
       "\n",
       "  function register_renderer(events, OutputArea) {\n",
       "\n",
       "    function append_mime(data, metadata, element) {\n",
       "      // create a DOM node to render to\n",
       "      const toinsert = this.create_output_subarea(\n",
       "        metadata,\n",
       "        CLASS_NAME,\n",
       "        EXEC_MIME_TYPE\n",
       "      );\n",
       "      this.keyboard_manager.register_events(toinsert);\n",
       "      // Render to node\n",
       "      const props = {data: data, metadata: metadata[EXEC_MIME_TYPE]};\n",
       "      render(props, toinsert[toinsert.length - 1]);\n",
       "      element.append(toinsert);\n",
       "      return toinsert\n",
       "    }\n",
       "\n",
       "    /* Handle when an output is cleared or removed */\n",
       "    events.on('clear_output.CodeCell', handleClearOutput);\n",
       "    events.on('delete.Cell', handleClearOutput);\n",
       "\n",
       "    /* Handle when a new output is added */\n",
       "    events.on('output_added.OutputArea', handleAddOutput);\n",
       "\n",
       "    /**\n",
       "     * Register the mime type and append_mime function with output_area\n",
       "     */\n",
       "    OutputArea.prototype.register_mime_type(EXEC_MIME_TYPE, append_mime, {\n",
       "      /* Is output safe? */\n",
       "      safe: true,\n",
       "      /* Index of renderer in `output_area.display_order` */\n",
       "      index: 0\n",
       "    });\n",
       "  }\n",
       "\n",
       "  // register the mime type if in Jupyter Notebook environment and previously unregistered\n",
       "  if (root.Jupyter !== undefined) {\n",
       "    const events = require('base/js/events');\n",
       "    const OutputArea = require('notebook/js/outputarea').OutputArea;\n",
       "\n",
       "    if (OutputArea.prototype.mime_types().indexOf(EXEC_MIME_TYPE) == -1) {\n",
       "      register_renderer(events, OutputArea);\n",
       "    }\n",
       "  }\n",
       "  if (typeof (root._bokeh_timeout) === \"undefined\" || force === true) {\n",
       "    root._bokeh_timeout = Date.now() + 5000;\n",
       "    root._bokeh_failed_load = false;\n",
       "  }\n",
       "\n",
       "  const NB_LOAD_WARNING = {'data': {'text/html':\n",
       "     \"<div style='background-color: #fdd'>\\n\"+\n",
       "     \"<p>\\n\"+\n",
       "     \"BokehJS does not appear to have successfully loaded. If loading BokehJS from CDN, this \\n\"+\n",
       "     \"may be due to a slow or bad network connection. Possible fixes:\\n\"+\n",
       "     \"</p>\\n\"+\n",
       "     \"<ul>\\n\"+\n",
       "     \"<li>re-rerun `output_notebook()` to attempt to load from CDN again, or</li>\\n\"+\n",
       "     \"<li>use INLINE resources instead, as so:</li>\\n\"+\n",
       "     \"</ul>\\n\"+\n",
       "     \"<code>\\n\"+\n",
       "     \"from bokeh.resources import INLINE\\n\"+\n",
       "     \"output_notebook(resources=INLINE)\\n\"+\n",
       "     \"</code>\\n\"+\n",
       "     \"</div>\"}};\n",
       "\n",
       "  function display_loaded() {\n",
       "    const el = document.getElementById(\"1048\");\n",
       "    if (el != null) {\n",
       "      el.textContent = \"BokehJS is loading...\";\n",
       "    }\n",
       "    if (root.Bokeh !== undefined) {\n",
       "      if (el != null) {\n",
       "        el.textContent = \"BokehJS \" + root.Bokeh.version + \" successfully loaded.\";\n",
       "      }\n",
       "    } else if (Date.now() < root._bokeh_timeout) {\n",
       "      setTimeout(display_loaded, 100)\n",
       "    }\n",
       "  }\n",
       "\n",
       "  function run_callbacks() {\n",
       "    try {\n",
       "      root._bokeh_onload_callbacks.forEach(function(callback) {\n",
       "        if (callback != null)\n",
       "          callback();\n",
       "      });\n",
       "    } finally {\n",
       "      delete root._bokeh_onload_callbacks\n",
       "    }\n",
       "    console.debug(\"Bokeh: all callbacks have finished\");\n",
       "  }\n",
       "\n",
       "  function load_libs(css_urls, js_urls, callback) {\n",
       "    if (css_urls == null) css_urls = [];\n",
       "    if (js_urls == null) js_urls = [];\n",
       "\n",
       "    root._bokeh_onload_callbacks.push(callback);\n",
       "    if (root._bokeh_is_loading > 0) {\n",
       "      console.debug(\"Bokeh: BokehJS is being loaded, scheduling callback at\", now());\n",
       "      return null;\n",
       "    }\n",
       "    if (js_urls == null || js_urls.length === 0) {\n",
       "      run_callbacks();\n",
       "      return null;\n",
       "    }\n",
       "    console.debug(\"Bokeh: BokehJS not loaded, scheduling load and callback at\", now());\n",
       "    root._bokeh_is_loading = css_urls.length + js_urls.length;\n",
       "\n",
       "    function on_load() {\n",
       "      root._bokeh_is_loading--;\n",
       "      if (root._bokeh_is_loading === 0) {\n",
       "        console.debug(\"Bokeh: all BokehJS libraries/stylesheets loaded\");\n",
       "        run_callbacks()\n",
       "      }\n",
       "    }\n",
       "\n",
       "    function on_error(url) {\n",
       "      console.error(\"failed to load \" + url);\n",
       "    }\n",
       "\n",
       "    for (let i = 0; i < css_urls.length; i++) {\n",
       "      const url = css_urls[i];\n",
       "      const element = document.createElement(\"link\");\n",
       "      element.onload = on_load;\n",
       "      element.onerror = on_error.bind(null, url);\n",
       "      element.rel = \"stylesheet\";\n",
       "      element.type = \"text/css\";\n",
       "      element.href = url;\n",
       "      console.debug(\"Bokeh: injecting link tag for BokehJS stylesheet: \", url);\n",
       "      document.body.appendChild(element);\n",
       "    }\n",
       "\n",
       "    for (let i = 0; i < js_urls.length; i++) {\n",
       "      const url = js_urls[i];\n",
       "      const element = document.createElement('script');\n",
       "      element.onload = on_load;\n",
       "      element.onerror = on_error.bind(null, url);\n",
       "      element.async = false;\n",
       "      element.src = url;\n",
       "      console.debug(\"Bokeh: injecting script tag for BokehJS library: \", url);\n",
       "      document.head.appendChild(element);\n",
       "    }\n",
       "  };\n",
       "\n",
       "  function inject_raw_css(css) {\n",
       "    const element = document.createElement(\"style\");\n",
       "    element.appendChild(document.createTextNode(css));\n",
       "    document.body.appendChild(element);\n",
       "  }\n",
       "\n",
       "  const js_urls = [\"https://cdn.bokeh.org/bokeh/release/bokeh-2.4.3.min.js\", \"https://cdn.bokeh.org/bokeh/release/bokeh-gl-2.4.3.min.js\", \"https://cdn.bokeh.org/bokeh/release/bokeh-widgets-2.4.3.min.js\", \"https://cdn.bokeh.org/bokeh/release/bokeh-tables-2.4.3.min.js\", \"https://cdn.bokeh.org/bokeh/release/bokeh-mathjax-2.4.3.min.js\"];\n",
       "  const css_urls = [];\n",
       "\n",
       "  const inline_js = [    function(Bokeh) {\n",
       "      Bokeh.set_log_level(\"info\");\n",
       "    },\n",
       "function(Bokeh) {\n",
       "    }\n",
       "  ];\n",
       "\n",
       "  function run_inline_js() {\n",
       "    if (root.Bokeh !== undefined || force === true) {\n",
       "          for (let i = 0; i < inline_js.length; i++) {\n",
       "      inline_js[i].call(root, root.Bokeh);\n",
       "    }\n",
       "if (force === true) {\n",
       "        display_loaded();\n",
       "      }} else if (Date.now() < root._bokeh_timeout) {\n",
       "      setTimeout(run_inline_js, 100);\n",
       "    } else if (!root._bokeh_failed_load) {\n",
       "      console.log(\"Bokeh: BokehJS failed to load within specified timeout.\");\n",
       "      root._bokeh_failed_load = true;\n",
       "    } else if (force !== true) {\n",
       "      const cell = $(document.getElementById(\"1048\")).parents('.cell').data().cell;\n",
       "      cell.output_area.append_execute_result(NB_LOAD_WARNING)\n",
       "    }\n",
       "  }\n",
       "\n",
       "  if (root._bokeh_is_loading === 0) {\n",
       "    console.debug(\"Bokeh: BokehJS loaded, going straight to plotting\");\n",
       "    run_inline_js();\n",
       "  } else {\n",
       "    load_libs(css_urls, js_urls, function() {\n",
       "      console.debug(\"Bokeh: BokehJS plotting callback run at\", now());\n",
       "      run_inline_js();\n",
       "    });\n",
       "  }\n",
       "}(window));"
      ],
      "application/vnd.bokehjs_load.v0+json": "(function(root) {\n  function now() {\n    return new Date();\n  }\n\n  const force = true;\n\n  if (typeof root._bokeh_onload_callbacks === \"undefined\" || force === true) {\n    root._bokeh_onload_callbacks = [];\n    root._bokeh_is_loading = undefined;\n  }\n\n\n  if (typeof (root._bokeh_timeout) === \"undefined\" || force === true) {\n    root._bokeh_timeout = Date.now() + 5000;\n    root._bokeh_failed_load = false;\n  }\n\n  const NB_LOAD_WARNING = {'data': {'text/html':\n     \"<div style='background-color: #fdd'>\\n\"+\n     \"<p>\\n\"+\n     \"BokehJS does not appear to have successfully loaded. If loading BokehJS from CDN, this \\n\"+\n     \"may be due to a slow or bad network connection. Possible fixes:\\n\"+\n     \"</p>\\n\"+\n     \"<ul>\\n\"+\n     \"<li>re-rerun `output_notebook()` to attempt to load from CDN again, or</li>\\n\"+\n     \"<li>use INLINE resources instead, as so:</li>\\n\"+\n     \"</ul>\\n\"+\n     \"<code>\\n\"+\n     \"from bokeh.resources import INLINE\\n\"+\n     \"output_notebook(resources=INLINE)\\n\"+\n     \"</code>\\n\"+\n     \"</div>\"}};\n\n  function display_loaded() {\n    const el = document.getElementById(\"1048\");\n    if (el != null) {\n      el.textContent = \"BokehJS is loading...\";\n    }\n    if (root.Bokeh !== undefined) {\n      if (el != null) {\n        el.textContent = \"BokehJS \" + root.Bokeh.version + \" successfully loaded.\";\n      }\n    } else if (Date.now() < root._bokeh_timeout) {\n      setTimeout(display_loaded, 100)\n    }\n  }\n\n  function run_callbacks() {\n    try {\n      root._bokeh_onload_callbacks.forEach(function(callback) {\n        if (callback != null)\n          callback();\n      });\n    } finally {\n      delete root._bokeh_onload_callbacks\n    }\n    console.debug(\"Bokeh: all callbacks have finished\");\n  }\n\n  function load_libs(css_urls, js_urls, callback) {\n    if (css_urls == null) css_urls = [];\n    if (js_urls == null) js_urls = [];\n\n    root._bokeh_onload_callbacks.push(callback);\n    if (root._bokeh_is_loading > 0) {\n      console.debug(\"Bokeh: BokehJS is being loaded, scheduling callback at\", now());\n      return null;\n    }\n    if (js_urls == null || js_urls.length === 0) {\n      run_callbacks();\n      return null;\n    }\n    console.debug(\"Bokeh: BokehJS not loaded, scheduling load and callback at\", now());\n    root._bokeh_is_loading = css_urls.length + js_urls.length;\n\n    function on_load() {\n      root._bokeh_is_loading--;\n      if (root._bokeh_is_loading === 0) {\n        console.debug(\"Bokeh: all BokehJS libraries/stylesheets loaded\");\n        run_callbacks()\n      }\n    }\n\n    function on_error(url) {\n      console.error(\"failed to load \" + url);\n    }\n\n    for (let i = 0; i < css_urls.length; i++) {\n      const url = css_urls[i];\n      const element = document.createElement(\"link\");\n      element.onload = on_load;\n      element.onerror = on_error.bind(null, url);\n      element.rel = \"stylesheet\";\n      element.type = \"text/css\";\n      element.href = url;\n      console.debug(\"Bokeh: injecting link tag for BokehJS stylesheet: \", url);\n      document.body.appendChild(element);\n    }\n\n    for (let i = 0; i < js_urls.length; i++) {\n      const url = js_urls[i];\n      const element = document.createElement('script');\n      element.onload = on_load;\n      element.onerror = on_error.bind(null, url);\n      element.async = false;\n      element.src = url;\n      console.debug(\"Bokeh: injecting script tag for BokehJS library: \", url);\n      document.head.appendChild(element);\n    }\n  };\n\n  function inject_raw_css(css) {\n    const element = document.createElement(\"style\");\n    element.appendChild(document.createTextNode(css));\n    document.body.appendChild(element);\n  }\n\n  const js_urls = [\"https://cdn.bokeh.org/bokeh/release/bokeh-2.4.3.min.js\", \"https://cdn.bokeh.org/bokeh/release/bokeh-gl-2.4.3.min.js\", \"https://cdn.bokeh.org/bokeh/release/bokeh-widgets-2.4.3.min.js\", \"https://cdn.bokeh.org/bokeh/release/bokeh-tables-2.4.3.min.js\", \"https://cdn.bokeh.org/bokeh/release/bokeh-mathjax-2.4.3.min.js\"];\n  const css_urls = [];\n\n  const inline_js = [    function(Bokeh) {\n      Bokeh.set_log_level(\"info\");\n    },\nfunction(Bokeh) {\n    }\n  ];\n\n  function run_inline_js() {\n    if (root.Bokeh !== undefined || force === true) {\n          for (let i = 0; i < inline_js.length; i++) {\n      inline_js[i].call(root, root.Bokeh);\n    }\nif (force === true) {\n        display_loaded();\n      }} else if (Date.now() < root._bokeh_timeout) {\n      setTimeout(run_inline_js, 100);\n    } else if (!root._bokeh_failed_load) {\n      console.log(\"Bokeh: BokehJS failed to load within specified timeout.\");\n      root._bokeh_failed_load = true;\n    } else if (force !== true) {\n      const cell = $(document.getElementById(\"1048\")).parents('.cell').data().cell;\n      cell.output_area.append_execute_result(NB_LOAD_WARNING)\n    }\n  }\n\n  if (root._bokeh_is_loading === 0) {\n    console.debug(\"Bokeh: BokehJS loaded, going straight to plotting\");\n    run_inline_js();\n  } else {\n    load_libs(css_urls, js_urls, function() {\n      console.debug(\"Bokeh: BokehJS plotting callback run at\", now());\n      run_inline_js();\n    });\n  }\n}(window));"
     },
     "metadata": {},
     "output_type": "display_data"
    }
   ],
   "source": [
    "import bokeh\n",
    "from bokeh.plotting import figure, show, output_notebook\n",
    "from bokeh.models import HoverTool, ColumnDataSource, LabelSet\n",
    "\n",
    "output_notebook()\n",
    "bokeh.io.output_notebook()"
   ]
  },
  {
   "cell_type": "code",
   "execution_count": 25,
   "metadata": {},
   "outputs": [
    {
     "data": {
      "text/html": [
       "\n",
       "  <div class=\"bk-root\" id=\"20545622-984e-4d7a-a709-fb2d554ecf84\" data-root-id=\"1050\"></div>\n"
      ]
     },
     "metadata": {},
     "output_type": "display_data"
    },
    {
     "data": {
      "application/javascript": [
       "(function(root) {\n",
       "  function embed_document(root) {\n",
       "  const docs_json = {\"f83b4065-1a6e-4fc6-bb96-c0f6d1f0e511\":{\"defs\":[],\"roots\":{\"references\":[{\"attributes\":{\"below\":[{\"id\":\"1061\"}],\"center\":[{\"id\":\"1064\"},{\"id\":\"1068\"},{\"id\":\"1092\"}],\"left\":[{\"id\":\"1065\"}],\"renderers\":[{\"id\":\"1090\"}],\"title\":{\"id\":\"1051\"},\"toolbar\":{\"id\":\"1076\"},\"x_range\":{\"id\":\"1053\"},\"x_scale\":{\"id\":\"1057\"},\"y_range\":{\"id\":\"1055\"},\"y_scale\":{\"id\":\"1059\"}},\"id\":\"1050\",\"subtype\":\"Figure\",\"type\":\"Plot\"},{\"attributes\":{},\"id\":\"1069\",\"type\":\"PanTool\"},{\"attributes\":{},\"id\":\"1053\",\"type\":\"DataRange1d\"},{\"attributes\":{\"fill_alpha\":{\"value\":0.2},\"fill_color\":{\"value\":\"blue\"},\"hatch_alpha\":{\"value\":0.2},\"hatch_color\":{\"value\":\"blue\"},\"line_alpha\":{\"value\":0.2},\"line_color\":{\"value\":\"blue\"},\"size\":{\"value\":10},\"x\":{\"field\":\"x\"},\"y\":{\"field\":\"y\"}},\"id\":\"1089\",\"type\":\"Circle\"},{\"attributes\":{},\"id\":\"1073\",\"type\":\"ResetTool\"},{\"attributes\":{},\"id\":\"1074\",\"type\":\"HelpTool\"},{\"attributes\":{\"overlay\":{\"id\":\"1075\"}},\"id\":\"1071\",\"type\":\"BoxZoomTool\"},{\"attributes\":{\"coordinates\":null,\"group\":null,\"text\":\"t-SNE Word Embeddings\"},\"id\":\"1051\",\"type\":\"Title\"},{\"attributes\":{\"fill_color\":{\"value\":\"blue\"},\"hatch_color\":{\"value\":\"blue\"},\"line_color\":{\"value\":\"blue\"},\"size\":{\"value\":10},\"x\":{\"field\":\"x\"},\"y\":{\"field\":\"y\"}},\"id\":\"1086\",\"type\":\"Circle\"},{\"attributes\":{\"data\":{\"index\":[\"asshole\",\"jerk\",\"rude\",\"inconsiderate\",\"angry\",\"upset\",\"sad\",\"happy\",\"frustrated\",\"friend\",\"family\",\"partner\",\"coworker\",\"neighbor\",\"apologize\",\"forgive\",\"ignore\",\"confront\",\"compromise\",\"right\",\"wrong\",\"justified\",\"unjustified\",\"fair\",\"unfair\",\"honesty\",\"loyalty\",\"respect\",\"kindness\",\"empathy\"],\"x\":{\"__ndarray__\":\"VwujwfYM1cGCanRB9gedQXZVR8B223bACE6gwcl6scGO/f8//bIGwu2rH8LG6B3CeozpwYVBi8Hk0AzBYWRiP7iRNcG47Ww/xMg2wvfSvsD5VW/ARkFdwTtagcFTMABC3VQAQqsvBMIkvqjBXJr4wPtu7cH8labB\",\"dtype\":\"float32\",\"order\":\"little\",\"shape\":[30]},\"y\":{\"__ndarray__\":\"EiK5QJeUDUFW37xBCc/YQWuFCcJBiOjBEoIAwo9RF8IEcNPBfA0AQpxeBELY2mJBKEIUQtSWW8HMPl9AFTbZQA4imMDbctvAj8klQaVqrEHTH4hBjkksQUiwVkDOojLBpPTRwHNaY8GC7JZBKeH6QboNBMBUFEfA\",\"dtype\":\"float32\",\"order\":\"little\",\"shape\":[30]}},\"selected\":{\"id\":\"1102\"},\"selection_policy\":{\"id\":\"1101\"}},\"id\":\"1049\",\"type\":\"ColumnDataSource\"},{\"attributes\":{\"coordinates\":null,\"formatter\":{\"id\":\"1099\"},\"group\":null,\"major_label_policy\":{\"id\":\"1100\"},\"ticker\":{\"id\":\"1062\"}},\"id\":\"1061\",\"type\":\"LinearAxis\"},{\"attributes\":{},\"id\":\"1055\",\"type\":\"DataRange1d\"},{\"attributes\":{},\"id\":\"1070\",\"type\":\"WheelZoomTool\"},{\"attributes\":{\"coordinates\":null,\"group\":null,\"level\":\"glyph\",\"source\":{\"id\":\"1049\"},\"text\":{\"field\":\"index\"},\"x\":{\"field\":\"x\"},\"x_offset\":{\"value\":5},\"y\":{\"field\":\"y\"},\"y_offset\":{\"value\":5}},\"id\":\"1092\",\"type\":\"LabelSet\"},{\"attributes\":{},\"id\":\"1100\",\"type\":\"AllLabels\"},{\"attributes\":{\"axis\":{\"id\":\"1065\"},\"coordinates\":null,\"dimension\":1,\"group\":null,\"ticker\":null},\"id\":\"1068\",\"type\":\"Grid\"},{\"attributes\":{\"fill_alpha\":{\"value\":0.1},\"fill_color\":{\"value\":\"blue\"},\"hatch_alpha\":{\"value\":0.1},\"hatch_color\":{\"value\":\"blue\"},\"line_alpha\":{\"value\":0.1},\"line_color\":{\"value\":\"blue\"},\"size\":{\"value\":10},\"x\":{\"field\":\"x\"},\"y\":{\"field\":\"y\"}},\"id\":\"1087\",\"type\":\"Circle\"},{\"attributes\":{\"callback\":null,\"tooltips\":\"@index\"},\"id\":\"1083\",\"type\":\"HoverTool\"},{\"attributes\":{\"axis\":{\"id\":\"1061\"},\"coordinates\":null,\"group\":null,\"ticker\":null},\"id\":\"1064\",\"type\":\"Grid\"},{\"attributes\":{},\"id\":\"1072\",\"type\":\"SaveTool\"},{\"attributes\":{},\"id\":\"1097\",\"type\":\"AllLabels\"},{\"attributes\":{},\"id\":\"1062\",\"type\":\"BasicTicker\"},{\"attributes\":{\"bottom_units\":\"screen\",\"coordinates\":null,\"fill_alpha\":0.5,\"fill_color\":\"lightgrey\",\"group\":null,\"left_units\":\"screen\",\"level\":\"overlay\",\"line_alpha\":1.0,\"line_color\":\"black\",\"line_dash\":[4,4],\"line_width\":2,\"right_units\":\"screen\",\"syncable\":false,\"top_units\":\"screen\"},\"id\":\"1075\",\"type\":\"BoxAnnotation\"},{\"attributes\":{},\"id\":\"1059\",\"type\":\"LinearScale\"},{\"attributes\":{},\"id\":\"1101\",\"type\":\"UnionRenderers\"},{\"attributes\":{\"coordinates\":null,\"data_source\":{\"id\":\"1049\"},\"glyph\":{\"id\":\"1086\"},\"group\":null,\"hover_glyph\":{\"id\":\"1088\"},\"muted_glyph\":{\"id\":\"1089\"},\"nonselection_glyph\":{\"id\":\"1087\"},\"view\":{\"id\":\"1091\"}},\"id\":\"1090\",\"type\":\"GlyphRenderer\"},{\"attributes\":{},\"id\":\"1102\",\"type\":\"Selection\"},{\"attributes\":{},\"id\":\"1099\",\"type\":\"BasicTickFormatter\"},{\"attributes\":{\"coordinates\":null,\"formatter\":{\"id\":\"1096\"},\"group\":null,\"major_label_policy\":{\"id\":\"1097\"},\"ticker\":{\"id\":\"1066\"}},\"id\":\"1065\",\"type\":\"LinearAxis\"},{\"attributes\":{\"source\":{\"id\":\"1049\"}},\"id\":\"1091\",\"type\":\"CDSView\"},{\"attributes\":{},\"id\":\"1066\",\"type\":\"BasicTicker\"},{\"attributes\":{},\"id\":\"1057\",\"type\":\"LinearScale\"},{\"attributes\":{\"fill_color\":{\"value\":\"blue\"},\"hatch_color\":{\"value\":\"blue\"},\"size\":{\"value\":10},\"x\":{\"field\":\"x\"},\"y\":{\"field\":\"y\"}},\"id\":\"1088\",\"type\":\"Circle\"},{\"attributes\":{},\"id\":\"1096\",\"type\":\"BasicTickFormatter\"},{\"attributes\":{\"tools\":[{\"id\":\"1069\"},{\"id\":\"1070\"},{\"id\":\"1071\"},{\"id\":\"1072\"},{\"id\":\"1073\"},{\"id\":\"1074\"},{\"id\":\"1083\"}]},\"id\":\"1076\",\"type\":\"Toolbar\"}],\"root_ids\":[\"1050\"]},\"title\":\"Bokeh Application\",\"version\":\"2.4.3\"}};\n",
       "  const render_items = [{\"docid\":\"f83b4065-1a6e-4fc6-bb96-c0f6d1f0e511\",\"root_ids\":[\"1050\"],\"roots\":{\"1050\":\"20545622-984e-4d7a-a709-fb2d554ecf84\"}}];\n",
       "  root.Bokeh.embed.embed_items_notebook(docs_json, render_items);\n",
       "  }\n",
       "  if (root.Bokeh !== undefined) {\n",
       "    embed_document(root);\n",
       "  } else {\n",
       "    let attempts = 0;\n",
       "    const timer = setInterval(function(root) {\n",
       "      if (root.Bokeh !== undefined) {\n",
       "        clearInterval(timer);\n",
       "        embed_document(root);\n",
       "      } else {\n",
       "        attempts++;\n",
       "        if (attempts > 100) {\n",
       "          clearInterval(timer);\n",
       "          console.log(\"Bokeh: ERROR: Unable to run BokehJS code because BokehJS library is missing\");\n",
       "        }\n",
       "      }\n",
       "    }, 10, root)\n",
       "  }\n",
       "})(window);"
      ],
      "application/vnd.bokehjs_exec.v0+json": ""
     },
     "metadata": {
      "application/vnd.bokehjs_exec.v0+json": {
       "id": "1050"
      }
     },
     "output_type": "display_data"
    }
   ],
   "source": [
    "# Add our DataFrame as a ColumnDataSource for Bokeh\n",
    "plot_data = ColumnDataSource(words_df)\n",
    "\n",
    "# Create the plot and configure the title, dimensions, and tools\n",
    "tsne_plot = figure(title='t-SNE Word Embeddings')\n",
    "\n",
    "# Add a hover tool to display words on roll-over\n",
    "tsne_plot.add_tools(HoverTool(tooltips='@index'))\n",
    "\n",
    "# Draw the words as circles on the plot\n",
    "tsne_plot.circle('x', 'y',\n",
    "                 source=plot_data,\n",
    "                 color='blue',\n",
    "                 size=10,\n",
    "                 hover_line_color='black')\n",
    "\n",
    "# Add labels to the points\n",
    "labels = LabelSet(x='x', y='y', text='index', level='glyph',\n",
    "                  x_offset=5, y_offset=5, source=plot_data,\n",
    "                  render_mode='canvas')\n",
    "tsne_plot.add_layout(labels)\n",
    "\n",
    "# Engage!\n",
    "show(tsne_plot)"
   ]
  },
  {
   "cell_type": "markdown",
   "metadata": {
    "id": "9EF6bB0rVReh"
   },
   "source": [
    "Now let's use $t$-SNE to take **all** the word vectors."
   ]
  },
  {
   "cell_type": "code",
   "execution_count": 26,
   "metadata": {},
   "outputs": [],
   "source": [
    "tsne = TSNE(init='pca', learning_rate='auto')\n",
    "X_tsne = tsne.fit_transform(model.wv.vectors)"
   ]
  },
  {
   "cell_type": "markdown",
   "metadata": {},
   "source": [
    "We have our low dimensional representation. Now, let's store the 2 dimensions in a dataframe, with the word as the index:"
   ]
  },
  {
   "cell_type": "code",
   "execution_count": 27,
   "metadata": {},
   "outputs": [],
   "source": [
    "# Store the t-SNE vectors\n",
    "tsne_df = pd.DataFrame(X_tsne,\n",
    "                       index=pd.Index(model.wv.index_to_key),\n",
    "                       columns=['x', 'y'])"
   ]
  },
  {
   "cell_type": "code",
   "execution_count": 28,
   "metadata": {
    "id": "jd60bqFxe9z1"
   },
   "outputs": [],
   "source": [
    "# Create some filepaths to save our model\n",
    "tsne_path = '../../data/tsne_model'\n",
    "tsne_df_path = '../../data/tsne_df.pkl'"
   ]
  },
  {
   "cell_type": "code",
   "execution_count": 29,
   "metadata": {
    "id": "QBe7lNE3e7oQ"
   },
   "outputs": [],
   "source": [
    "# Save to disk\n",
    "with open(tsne_path, 'wb') as f:\n",
    "    pickle.dump(X_tsne, f)\n",
    "\n",
    "tsne_df.to_pickle(tsne_df_path)"
   ]
  },
  {
   "cell_type": "markdown",
   "metadata": {},
   "source": [
    "Here's a convenient code block to load this data, to start from this point:"
   ]
  },
  {
   "cell_type": "code",
   "execution_count": 30,
   "metadata": {},
   "outputs": [],
   "source": [
    "with open(tsne_path, 'rb') as f:\n",
    "    X_tsne = pickle.load(f)\n",
    "    \n",
    "tsne_df = pd.read_pickle(tsne_df_path)"
   ]
  },
  {
   "cell_type": "code",
   "execution_count": 31,
   "metadata": {
    "colab": {
     "base_uri": "https://localhost:8080/",
     "height": 817
    },
    "executionInfo": {
     "elapsed": 747,
     "status": "ok",
     "timestamp": 1640017607454,
     "user": {
      "displayName": "Tom van Nuenen",
      "photoUrl": "https://lh3.googleusercontent.com/a-/AOh14GhuBmxDvW5I_LJfZtwlPqMFD8QGLVPP3skvpkTnuQ=s64",
      "userId": "10012302451096885058"
     },
     "user_tz": -60
    },
    "id": "myJtActVdjn4",
    "outputId": "5f283a90-c0f4-4c31-88ea-5f7bfa6917ee",
    "tags": []
   },
   "outputs": [
    {
     "data": {
      "text/html": [
       "\n",
       "  <div class=\"bk-root\" id=\"db014d13-045d-4a8c-b8b1-9ac65cf74c0c\" data-root-id=\"1155\"></div>\n"
      ]
     },
     "metadata": {},
     "output_type": "display_data"
    },
    {
     "data": {
      "application/javascript": [
       "(function(root) {\n",
       "  function embed_document(root) {\n",
       "  const docs_json = {\"c0ce9665-0321-43d4-aca1-f4a05139905e\":{\"defs\":[],\"roots\":{\"references\":[{\"attributes\":{\"below\":[{\"id\":\"1166\"}],\"center\":[{\"id\":\"1169\"},{\"id\":\"1173\"}],\"left\":[{\"id\":\"1170\"}],\"renderers\":[{\"id\":\"1195\"}],\"title\":{\"id\":\"1156\"},\"toolbar\":{\"id\":\"1181\"},\"x_range\":{\"id\":\"1158\"},\"x_scale\":{\"id\":\"1162\"},\"y_range\":{\"id\":\"1160\"},\"y_scale\":{\"id\":\"1164\"}},\"id\":\"1155\",\"subtype\":\"Figure\",\"type\":\"Plot\"},{\"attributes\":{},\"id\":\"1158\",\"type\":\"DataRange1d\"},{\"attributes\":{\"coordinates\":null,\"formatter\":{\"id\":\"1209\"},\"group\":null,\"major_label_policy\":{\"id\":\"1210\"},\"ticker\":{\"id\":\"1171\"}},\"id\":\"1170\",\"type\":\"LinearAxis\"},{\"attributes\":{\"fill_alpha\":{\"value\":0.2},\"fill_color\":{\"value\":\"blue\"},\"hatch_alpha\":{\"value\":0.2},\"hatch_color\":{\"value\":\"blue\"},\"line_alpha\":{\"value\":0.2},\"line_color\":{\"value\":\"blue\"},\"size\":{\"value\":10},\"x\":{\"field\":\"x\"},\"y\":{\"field\":\"y\"}},\"id\":\"1194\",\"type\":\"Circle\"},{\"attributes\":{\"coordinates\":null,\"data_source\":{\"id\":\"1154\"},\"glyph\":{\"id\":\"1191\"},\"group\":null,\"hover_glyph\":{\"id\":\"1193\"},\"muted_glyph\":{\"id\":\"1194\"},\"nonselection_glyph\":{\"id\":\"1192\"},\"view\":{\"id\":\"1196\"}},\"id\":\"1195\",\"type\":\"GlyphRenderer\"},{\"attributes\":{},\"id\":\"1162\",\"type\":\"LinearScale\"},{\"attributes\":{\"coordinates\":null,\"formatter\":{\"id\":\"1212\"},\"group\":null,\"major_label_policy\":{\"id\":\"1213\"},\"ticker\":{\"id\":\"1167\"}},\"id\":\"1166\",\"type\":\"LinearAxis\"},{\"attributes\":{\"fill_alpha\":{\"value\":0.1},\"fill_color\":{\"value\":\"blue\"},\"hatch_alpha\":{\"value\":0.1},\"hatch_color\":{\"value\":\"blue\"},\"line_alpha\":{\"value\":0.1},\"line_color\":{\"value\":\"blue\"},\"size\":{\"value\":10},\"x\":{\"field\":\"x\"},\"y\":{\"field\":\"y\"}},\"id\":\"1192\",\"type\":\"Circle\"},{\"attributes\":{},\"id\":\"1160\",\"type\":\"DataRange1d\"},{\"attributes\":{},\"id\":\"1213\",\"type\":\"AllLabels\"},{\"attributes\":{\"data\":{\"index\":[\"like\",\"want\",\"think\",\"people\",\"know\",\"asshole\",\"nta\",\"time\",\"op\",\"thing\",\"yta\",\"need\",\"kid\",\"tell\",\"way\",\"feel\",\"good\",\"child\",\"friend\",\"try\",\"right\",\"work\",\"ask\",\"parent\",\"come\",\"sound\",\"year\",\"relationship\",\"mean\",\"life\",\"family\",\"person\",\"woman\",\"use\",\"bad\",\"guy\",\"talk\",\"help\",\"let\",\"look\",\"situation\",\"day\",\"pay\",\"probably\",\"wife\",\">\",\"maybe\",\"fuck\",\"find\",\"leave\",\"man\",\"sure\",\"lot\",\"care\",\"old\",\"shit\",\"money\",\"wrong\",\"post\",\"reason\",\"understand\",\"love\",\"point\",\"girl\",\"agree\",\"actually\",\"mom\",\"issue\",\"happen\",\"long\",\"sex\",\"change\",\"home\",\"live\",\"husband\",\"comment\",\"stop\",\"kind\",\"pretty\",\"yeah\",\"daughter\",\"start\",\"big\",\"problem\",\"little\",\"job\",\"date\",\"baby\",\"place\",\"break\",\"dog\",\"hard\",\"definitely\",\"end\",\"mother\",\"fact\",\"away\",\"sister\",\"expect\",\"different\",\"eat\",\"dad\",\"yes\",\"house\",\"deal\",\"especially\",\"school\",\"nah\",\"act\",\"food\",\"partner\",\"read\",\"girlfriend\",\"matter\",\"instead\",\"support\",\"dude\",\"adult\",\"bring\",\"consider\",\"feeling\",\"bit\",\"month\",\"hurt\",\"stay\",\"new\",\"learn\",\"spend\",\"hope\",\"decide\",\"honestly\",\"sorry\",\"boyfriend\",\"wedding\",\"believe\",\"brother\",\"absolutely\",\"literally\",\"ex\",\"father\",\"week\",\"son\",\"case\",\"real\",\"behavior\",\"plan\",\"clearly\",\"able\",\"choice\",\"buy\",\"hour\",\"idea\",\"respect\",\"allow\",\"choose\",\"completely\",\"lie\",\"important\",\"decision\",\"stuff\",\"cause\",\"assume\",\"esh\",\"okay\",\"treat\",\"exactly\",\"trust\",\"lose\",\"play\",\"upset\",\"turn\",\"hear\",\"mind\",\"grow\",\"fucking\",\"suck\",\"word\",\"nice\",\"control\",\"great\",\"fine\",\"sleep\",\"young\",\"$\",\"likely\",\"experience\",\"edit\",\"body\",\"question\",\"obviously\",\"thank\",\"deserve\",\"opinion\",\"cheat\",\"high\",\"story\",\"share\",\"shitty\",\"far\",\"happy\",\"hate\",\"night\",\"weird\",\"clear\",\"realize\",\"car\",\"age\",\"seriously\",\"room\",\"rule\",\"mention\",\"etc\",\"force\",\"totally\",\"party\",\"handle\",\"gf\",\"free\",\"ass\",\"accept\",\"wait\",\"normal\",\"explain\",\"ok\",\"marry\",\"set\",\"speak\",\"close\",\"hand\",\"sit\",\"cut\",\"conversation\",\"easy\",\"joke\",\"future\",\"action\",\"watch\",\"gift\",\"responsibility\",\"hell\",\"couple\",\"wear\",\"guess\",\"world\",\"oh\",\"s\",\"fair\",\"walk\",\"imagine\",\"pregnant\",\"run\",\"rude\",\"excuse\",\"line\",\"second\",\"raise\",\"stand\",\"lol\",\"dick\",\"throw\",\"business\",\"uncomfortable\",\"chance\",\"offer\",\"face\",\"meet\",\"huge\",\"pick\",\"base\",\"marriage\",\"state\",\"course\",\"answer\",\"possible\",\"fault\",\"response\",\"head\",\"abuse\",\"basically\",\"open\",\"sense\",\"small\",\"step\",\"clean\",\"super\",\"fun\",\"hold\",\"drive\",\"cat\",\"send\",\"law\",\"healthy\",\"die\",\"enjoy\",\"wish\",\"personal\",\"teach\",\"phone\",\"refuse\",\"continue\",\"willing\",\"single\",\"term\",\"stupid\",\"later\",\"reasonable\",\"true\",\"blame\",\"straight\",\"check\",\"sort\",\"type\",\"boundary\",\"hair\",\"ignore\",\"human\",\"order\",\"worth\",\"group\",\"suggest\",\"past\",\"include\",\"honest\",\"apologize\",\"add\",\"involve\",\"option\",\"poor\",\"usually\",\"mad\",\"college\",\"trip\",\"info\",\"invite\",\"concern\",\"reaction\",\"save\",\"remember\",\"selfish\",\"pregnancy\",\"sub\",\"level\",\"view\",\"difference\",\"figure\",\"minute\",\"entitle\",\"half\",\"damn\",\"gay\",\"game\",\"write\",\"suppose\",\"entire\",\"sexual\",\"birthday\",\"comfortable\",\"advice\",\"miss\",\"drink\",\"boy\",\"listen\",\"cook\",\"divorce\",\"push\",\"kick\",\"cool\",\"seat\",\"risk\",\"safe\",\"rest\",\"ruin\",\"thought\",\"personally\",\"common\",\"pass\",\"class\",\"emotional\",\"bed\",\"bother\",\"follow\",\"bf\",\"regardless\",\"cost\",\"event\",\"anymore\",\"wonder\",\"extremely\",\"fight\",\"early\",\"hang\",\"tip\",\"stick\",\"public\",\"owe\",\"actual\",\"god\",\"moment\",\"ago\",\"sign\",\"abusive\",\"argument\",\"black\",\"dinner\",\"pull\",\"attention\",\"discuss\",\"simply\",\"hit\",\"mistake\",\"contact\",\"ta\",\"picture\",\"space\",\"steal\",\"value\",\"weight\",\"kinda\",\"white\",\"judge\",\"responsible\",\"extra\",\"avoid\",\"angry\",\"touch\",\"therapy\",\"self\",\"kill\",\"terrible\",\"crazy\",\"provide\",\"similar\",\"effort\",\"soon\",\"teacher\",\"worry\",\"reddit\",\"meal\",\"pain\",\"difficult\",\"roommate\",\"forget\",\"incredibly\",\"doctor\",\"health\",\"outside\",\"non\",\"claim\",\"position\",\"thread\",\"lead\",\"animal\",\"example\",\"drop\",\"ready\",\"gender\",\"certain\",\"service\",\"disagree\",\"consequence\",\"late\",\"ridiculous\",\"stranger\",\"racist\",\"legal\",\"cry\",\"female\",\"plus\",\"hide\",\"luck\",\"doubt\",\"hey\",\"bullshit\",\"rent\",\"judgement\",\"fix\",\"mess\",\"lack\",\"affect\",\"depend\",\"require\",\"information\",\"birth\",\"notice\",\"perfectly\",\"student\",\"bitch\",\"petty\",\"afford\",\"react\",\"justify\",\"argue\",\"demand\",\"certainly\",\"report\",\"eye\",\"bear\",\"compromise\",\"rape\",\"private\",\"correct\",\"period\",\"male\",\"sick\",\"laugh\",\"imo\",\"immediately\",\"number\",\"awful\",\"respond\",\"special\",\"married\",\"complain\",\"admit\",\"account\",\"movie\",\"communicate\",\"funny\",\"door\",\"country\",\"consent\",\"sibling\",\"low\",\"social\",\"short\",\"bill\",\"friendship\",\"major\",\"cover\",\"perspective\",\"possibly\",\"insult\",\"text\",\"appreciate\",\"easily\",\"interest\",\"interested\",\"member\",\"struggle\",\"restaurant\",\"damage\",\"protect\",\"pet\",\"horrible\",\"sad\",\"truth\",\"physical\",\"company\",\"professional\",\"message\",\"history\",\"fire\",\"behaviour\",\"book\",\"vegan\",\"attitude\",\"aware\",\"piece\",\"property\",\"meat\",\"obvious\",\"create\",\"general\",\"win\",\"truly\",\"medical\",\"shame\",\"bathroom\",\"culture\",\"discussion\",\"blow\",\"expensive\",\"wow\",\"fit\",\"present\",\"multiple\",\"request\",\"describe\",\"catch\",\"test\",\"opportunity\",\"gross\",\"dumb\",\"victim\",\"appropriate\",\"specifically\",\"bet\",\"middle\",\"fat\",\"drunk\",\"police\",\"plenty\",\"stress\",\"emotionally\",\"exist\",\"area\",\"dump\",\"waste\",\"simple\",\"reply\",\"abortion\",\"intention\",\"financial\",\"carry\",\"strong\",\"process\",\"entirely\",\"heart\",\"specific\",\"feed\",\"surprised\",\"fake\",\"immature\",\"fail\",\"guest\",\"trouble\",\"fall\",\"large\",\"express\",\"apparently\",\"context\",\"dress\",\"creepy\",\"pressure\",\"valid\",\"fully\",\"generally\",\"boss\",\"visit\",\"internet\",\"language\",\"ground\",\"approach\",\"scenario\",\"teenager\",\"result\",\"sell\",\"obligation\",\"advantage\",\"defend\",\"hopefully\",\"piss\",\"glad\",\"condom\",\"wtf\",\"employee\",\"vacation\",\"bully\",\"therapist\",\"cousin\",\"attract\",\"religion\",\"lady\",\"dead\",\"attempt\",\"scream\",\"tough\",\"yell\",\"weekend\",\"note\",\"split\",\"charge\",\"table\",\"complete\",\"form\",\"shower\",\"trans\",\"expectation\",\"remove\",\"suffer\",\"physically\",\"detail\",\"constantly\",\"death\",\"harm\",\"unreasonable\",\"prove\",\"benefit\",\"belief\",\"threaten\",\"wake\",\"effect\",\"worried\",\"manipulative\",\"owner\",\"coworker\",\"eventually\",\"pretend\",\"toxic\",\"insecure\",\"address\",\"perfect\",\"communication\",\"reality\",\"solution\",\"list\",\"r\",\"dish\",\"punish\",\"focus\",\"spouse\",\"manager\",\"red_flag\",\"genuinely\",\"career\",\"light\",\"card\",\"court\",\"safety\",\"attack\",\"spot\",\"fear\",\"shp\",\"store\",\"build\",\"mature\",\"adopt\",\"behave\",\"dangerous\",\"preference\",\"reach\",\"separate\",\"system\",\"shut\",\"regard\",\"sake\",\"return\",\"necessarily\",\"random\",\"clothe\",\"despite\",\"manage\",\"fast\",\"somebody\",\"water\",\"finally\",\"jerk\",\"encourage\",\"imply\",\"team\",\"offend\",\"favor\",\"lesson\",\"exact\",\"ring\",\"understandable\",\"seek\",\"idiot\",\"porn\",\"foot\",\"smell\",\"photo\",\"emotion\",\"total\",\"diet\",\"near\",\"current\",\"attend\",\"power\",\"apartment\",\"circumstance\",\"holy\",\"remind\",\"depression\",\"tattoo\",\"basic\",\"grade\",\"disrespectful\",\"standard\",\"mental_health\",\"bar\",\"promise\",\"tbh\",\"surprise\",\"apply\",\"inappropriate\",\"condition\",\"loss\",\"potential\",\"directly\",\"contribute\",\"apology\",\"annoy\",\"pissed\",\"cheap\",\"study\",\"degree\",\"agreement\",\"prefer\",\"bunch\",\"zero\",\"destroy\",\"anger\",\"drug\",\"differently\",\"annoying\",\"community\",\"begin\",\"potentially\",\"ahead\",\"decent\",\"anxiety\",\"massive\",\"acceptable\",\"legally\",\"receive\",\"suddenly\",\"lawyer\",\"unfair\",\"limit\",\"train\",\"forward\",\"religious\",\"understanding\",\"earn\",\"compare\",\"mental\",\"jump\",\"customer\",\"smart\",\"toy\",\"negative\",\"quit\",\"idk\",\"hot\",\"mum\",\"office\",\"concerned\",\"loud\",\"insist\",\"assumption\",\"serve\",\"unfortunately\",\"aside\",\"topic\",\"equal\",\"ability\",\"permission\",\"count\",\"size\",\"manipulate\",\"deep\",\"blood\",\"amazing\",\"+\",\"secret\",\"neighbor\",\"ton\",\"gym\",\"schedule\",\"essentially\",\"punishment\",\"jesus\",\"debt\",\"aita\",\"sexist\",\"tend\",\"disgusting\",\"insecurity\",\"society\",\"impact\",\"ride\",\"awkward\",\"desire\",\"afraid\",\"wanna\",\"ticket\",\"bc\",\"travel\",\"jealous\",\"lock\",\"price\",\"prevent\",\"attractive\",\"activity\",\"insane\",\"shoe\",\"teen\",\"gun\",\"relate\",\"online\",\"original\",\"positive\",\"brain\",\"block\",\"drama\",\"twice\",\"today\",\"purpose\",\"forever\",\"chore\",\"actively\",\"financially\",\"disability\",\"switch\",\"cheating\",\"judgment\",\"troll\",\"income\",\"cop\",\"skill\",\"guarantee\",\"freak\",\"trash\",\"necessary\",\"lay\",\"recommend\",\"frankly\",\"hospital\",\"validation\",\"obligate\",\"inside\",\"quick\",\"illegal\",\"wash\",\"aunt\",\"polite\",\"birth_control\",\"item\",\"minor\",\"role\",\"park\",\"grandparent\",\"lmao\",\"childish\",\"guilty\",\"prepare\",\"beat\",\"nta-\",\"education\",\"screw\",\"comfort\",\"disorder\",\"statement\",\"celebrate\",\"odd\",\"key\",\"hole\",\"extreme\",\"access\",\"develop\",\"recognize\",\"lucky\",\"road\",\"practice\",\"hire\",\"priority\",\"acknowledge\",\"smoke\",\"supportive\",\"tired\",\"race\",\"downvote\",\"kiss\",\"tv\",\"lunch\",\"i'm\",\"sexuality\",\"living\",\"ultimately\",\"dream\",\"sensitive\",\"title\",\"logic\",\"finish\",\"harsh\",\"refer\",\"hormone\",\"bag\",\"cruel\",\"custody\",\"grab\",\"engage\",\"double\",\"morning\",\"guilt\",\"convince\",\"privacy\",\"intend\",\"parenting\",\"reject\",\"cancer\",\"calm\",\"household\",\"fiance\",\"record\",\"memory\",\"accident\",\"subject\",\"source\",\"bro\",\"environment\",\"moral\",\"video\",\"properly\",\"grown\",\"significant\",\"particular\",\"assault\",\"holiday\",\"b\",\"character\",\"deny\",\"disrespect\",\"quickly\",\"project\",\"capable\",\"welcome\",\"lazy\",\"host\",\"trauma\",\"church\",\"emergency\",\"cash\",\"vote\",\"regular\",\"treatment\",\"grandma\",\"badly\",\"replace\",\"mil\",\"regret\",\"mouth\",\"empathy\",\"abandon\",\"individual\",\"overreact\",\"sweet\",\"barely\",\"forgive\",\"manner\",\"evidence\",\"expense\",\"opposite\",\"biological\",\"explanation\",\"kitchen\",\"hobby\",\"currently\",\"u\",\"gain\",\"confront\",\"join\",\"phrase\",\"x\",\"resent\",\"egg\",\"yep\",\"absolute\",\"=\",\"awesome\",\"draw\",\"crap\",\"normally\",\"intentionally\",\"finance\",\"average\",\"romantic\",\"street\",\"proper\",\"english\",\"cold\",\"possibility\",\"research\",\"quality\",\"proud\",\"accuse\",\"tie\",\"solve\",\"recently\",\"toddler\",\"shitpost\",\"dance\",\"christmas\",\"available\",\"alcohol\",\"sentence\",\"nope\",\"tear\",\"bus\",\"you're\",\"cooking\",\"buddy\",\"knock\",\"cross\",\"vegetarian\",\"sacrifice\",\"knowledge\",\"cake\",\"btw\",\"penis\",\"bi\",\"natural\",\"delete\",\"local\",\"hook\",\"habit\",\"unhealthy\",\"embarrassed\",\"city\",\"burden\",\"realise\",\"policy\",\"respectful\",\"busy\",\"careful\",\"noise\",\"painful\",\"taste\",\"technically\",\"disabled\",\"maintain\",\"server\",\"creep\",\"suspect\",\"ban\",\"silly\",\"particularly\",\"quiet\",\"commit\",\"fairly\",\"bedroom\",\"strange\",\"friendly\",\"confirm\",\"inform\",\"inconsiderate\",\"equally\",\"main\",\"factor\",\"voice\",\"town\",\"dollar\",\"helpful\",\"ultimatum\",\"loan\",\"slightly\",\"curious\",\"cancel\",\"personality\",\"and/or\",\"favorite\",\"exclude\",\"color\",\"haha\",\"childhood\",\"anyways\",\"interaction\",\"ball\",\"threat\",\"murder\",\"escalate\",\"resentment\",\"previous\",\"innocent\",\"american\",\"reasoning\",\"fly\",\"ghost\",\"everybody\",\"rate\",\"lifestyle\",\"counseling\",\"identity\",\"autistic\",\"scare\",\"shift\",\"scene\",\"news\",\"ignorant\",\"danger\",\"thinking\",\"crime\",\"confused\",\"bride\",\"distance\",\"compliment\",\"hurtful\",\"fianc\\u00e9\",\"direct\",\"fill\",\"pizza\",\"mate\",\"donate\",\"nearly\",\"grief\",\"goal\",\"bite\",\"labor\",\"music\",\"subreddit\",\"floor\",\"d\",\"uncle\",\"insurance\",\"shot\",\"conflict\",\"relative\",\"match\",\"aggressive\",\"bond\",\"burn\",\"style\",\"coffee\",\"upvote\",\"poorly\",\"improve\",\"entitled\",\"fund\",\"majority\",\"shirt\",\"social_medium\",\"dislike\",\"military\",\"patient\",\"pill\",\"staff\",\"cute\",\"funeral\",\"arrangement\",\"advance\",\"box\",\"identify\",\"relevant\",\"proof\",\"email\",\"driver\",\"function\",\"credit\",\"window\",\"hotel\",\"lean\",\"board\",\"dynamic\",\"yta-\",\"better\",\"surgery\",\"yea\",\"rid\",\"ah\",\"update\",\"severe\",\"naked\",\"niece\",\"grieve\",\"homophobic\",\"flight\",\"belong\",\"folk\",\"shop\",\"remain\",\"skin\",\"offensive\",\"prank\",\"lease\",\"couch\",\"enter\",\"interact\",\"flip\",\"passive_aggressive\",\"link\",\"definition\",\"autism\",\"accord\",\"commitment\",\"interesting\",\"crush\",\"violate\",\"warn\",\"facebook\",\"repeat\",\"regularly\",\"impossible\",\"explicitly\",\"field\",\"prior\",\"expose\",\"warning\",\"allergy\",\"beautiful\",\"payment\",\"aspect\",\"nasty\",\"worker\",\"resource\",\"grandmother\",\"million\",\"apologise\",\"leg\",\"letter\",\"harass\",\"peace\",\"path\",\"beginning\",\"arm\",\"shock\",\"decade\",\"miserable\",\"repeatedly\",\"university\",\"accommodate\",\"appear\",\"connection\",\"mentally\",\"tiny\",\"dark\",\"debate\",\"adoption\",\"delivery\",\"dare\",\"participate\",\"authority\",\"chat\",\"homeless\",\"revenge\",\"drag\",\"sport\",\"track\",\"deeply\",\"violence\",\"suggestion\",\"irrelevant\",\"instance\",\"earth\",\"sexually\",\"blind\",\"pursue\",\"legitimate\",\"wall\",\"budget\",\"image\",\"twin\",\"trigger\",\"enable\",\"racism\",\"flat\",\"cheater\",\"rough\",\"establish\",\"unnecessary\",\"newborn\",\"purchase\",\"cunt\",\"shoot\",\"ya\",\"tone\",\"ugly\",\"automatically\",\"dictate\",\"clarify\",\"tho\",\"alternative\",\"highly\",\"red\",\"politely\",\"art\",\"presumably\",\"anybody\",\"strongly\",\"paint\",\"scared\",\"stressful\",\"incident\",\"defensive\",\"concept\",\"roll\",\"energy\",\"meeting\",\"contract\",\"scary\",\"pack\",\"happiness\",\"punch\",\"bs\",\"paper\",\"unable\",\"neglect\",\"associate\",\"google\",\"apart\",\"mood\",\"irresponsible\",\"consideration\",\"chill\",\"disease\",\"slight\",\"faith\",\"appearance\",\"garbage\",\"excited\",\"yup\",\"page\",\"abuser\",\"occur\",\"foster\",\"teenage\",\"club\",\"daily\",\"pant\",\"genuine\",\"computer\",\"pee\",\"grateful\",\"dirty\",\"justified\",\"/r\",\"propose\",\"medication\",\"app\",\"hug\",\"program\",\"commenter\",\"grandchild\",\"frustration\",\"sue\",\"vagina\",\"duty\",\"skip\",\"mental_illness\",\"plate\",\"overall\",\"trick\",\"somewhat\",\"breast\",\"ensure\",\"indicate\",\"suit\",\"product\",\"intimate\",\"ill\",\"rich\",\"nature\",\"inconvenience\",\"insensitive\",\"depressed\",\"invest\",\"version\",\"nurse\",\"med\",\"heavy\",\"sympathy\",\"accidentally\",\"bio\",\"flirt\",\"stage\",\"typically\",\"grant\",\"video_game\",\"task\",\"material\",\"snap\",\"deliberately\",\"mutual\",\"load\",\"rare\",\"spread\",\"pop\",\"violent\",\"giant\",\"vs\",\"mile\",\"lesbian\",\"decline\",\"hint\",\"rely\",\"false\",\"texte\",\"tinder\",\"asap\",\"weed\",\"makeup\",\"got\",\"training\",\"ashamed\",\"jesus_christ\",\"sil\",\"overweight\",\"nephew\",\"rub\",\"exercise\",\"method\",\"file\",\"speech\",\"surely\",\"finger\",\"wonderful\",\"fantasy\",\"hr\",\"ytayou\",\"bisexual\",\"determine\",\"pre\",\"cps\",\"disregard\",\"impression\",\"ops\",\"hilarious\",\"relax\",\"attraction\",\"intent\",\"boob\",\"wise\",\"pro\",\"spoil\",\"blue\",\"honor\",\"milk\",\"graduate\",\"laundry\",\"honesty\",\"successful\",\"air\",\"embarrass\",\"beg\",\"af\",\"effective\",\"tradition\",\"bridesmaid\",\"till\",\"bias\",\"frame\",\"increase\",\"dismiss\",\"target\",\"transphobic\",\"trap\",\"object\",\"security\",\"parking\",\"enforce\",\"discipline\",\"final\",\"omg\",\"shoulder\",\"territory\",\"slow\",\"theirs\",\"affair\",\"rock\",\"rational\",\"grocery\",\"addiction\",\"bottle\",\"outcome\",\"educate\",\"christian\",\"unacceptable\",\"nude\",\"spite\",\"toilet\",\"rip\",\"fish\",\"management\",\"snack\",\"diaper\",\"symptom\",\"complaint\",\"resolve\",\"challenge\",\"rarely\",\"reveal\",\"offense\",\"privilege\",\"recover\",\"butt\",\"tran\",\"bank\",\"slip\",\"survive\",\"alive\",\"snoop\",\"nose\",\"confidence\",\"breastfeed\",\"quote\",\"casual\",\"shelter\",\"ditch\",\"influence\",\"evening\",\"hungry\",\"sexual_assault\",\"co_worker\",\"reflect\",\"don't\",\"settle\",\"vulnerable\",\"pride\",\"unhappy\",\"shave\",\"reference\",\"openly\",\"america\",\"breakup\",\"summer\",\"candy\",\"routine\",\"puppy\",\"poster\",\"bang\",\"waitress\",\"publicly\",\"thousand\",\"smile\",\"suspicious\",\"firm\",\"sober\",\"traumatic\",\"pound\",\"gesture\",\"fan\",\"mix\",\"betray\",\"tolerate\",\"douche\",\"rapist\",\"constant\",\"asian\",\"considerate\",\"uber\",\"illness\",\"political\",\"label\",\"clothing\",\"mindset\",\"tool\",\"extent\",\"tall\",\"equivalent\",\"chinese\",\"pic\",\"prepared\",\"ideal\",\"design\",\"failure\",\"exchange\",\"dramatic\",\"naive\",\"dry\",\"client\",\"mod\",\"introduce\",\"unlikely\",\"reward\",\"description\",\"/s\",\"freedom\",\"solid\",\"eh\",\"wrap\",\"ice_cream\",\"landlord\",\"frequently\",\"stare\",\"masturbate\",\"rage\",\"anti\",\"swear\",\"gold\",\"prioritize\",\"vet\",\"parental\",\"civil\",\"stereotype\",\"hero\",\"legit\",\"discomfort\",\"setting\",\"infant\",\"mark\",\"y\",\"connect\",\"professor\",\"saving\",\"neighborhood\",\"chicken\",\"generous\",\"diagnose\",\"portion\",\"fee\",\"consult\",\"evil\",\"chick\",\"employer\",\"pronoun\",\"display\",\"whatsoever\",\"shallow\",\"counselor\",\"compatible\",\"skinny\",\"comparison\",\"protection\",\"hardly\",\"genetic\",\"babysitter\",\"outright\",\"john\",\"ntayou\",\"lash\",\"thin\",\"correctly\",\"criminal\",\"dig\",\"cleaning\",\"fancy\",\"model\",\"define\",\"jail\",\"solely\",\"status\",\"brand\",\"proceed\",\"perceive\",\"perform\",\"cultural\",\"adjust\",\"generation\",\"frustrating\",\"longer\",\"addict\",\"prick\",\"previously\",\"grandfather\",\"literal\",\"plane\",\"controlling\",\"ywbta\",\"dealbreaker\",\"deal_breaker\",\"typical\",\"immediate\",\"complex\",\"building\",\"absurd\",\"shove\",\"drinking\",\"shape\",\"occasionally\",\"compassion\",\"height\",\"direction\",\"workplace\",\"adhd\",\"cope\",\"morally\",\"interview\",\"french\",\"search\",\"abort\",\"upfront\",\"nanny\",\"volunteer\",\"location\",\"planning\",\"humiliate\",\"input\",\"lift\",\"embarrassing\",\"vibe\",\"background\",\"content\",\"pattern\",\"initial\",\"clue\",\"active\",\"unfortunate\",\"sexy\",\"minimum\",\"film\",\"warrant\",\"atheist\",\"ugh\",\"deliver\",\"everyday\",\"allergic\",\"self_esteem\",\"popular\",\"pleasure\",\"arsehole\",\"land\",\"goddamn\",\"ego\",\"cheese\",\"manipulation\",\"pathetic\",\"range\",\"weigh\",\"additional\",\"independent\",\"karma\",\"nonsense\",\"battle\",\"buck\",\"miscarriage\",\"pocket\",\"valuable\",\"requirement\",\"song\",\"lifetime\",\"approve\",\"brush\",\"leash\",\"round\",\"weak\",\"advise\",\"affection\",\"monster\",\"maturity\",\"kindness\",\"player\",\"hypocrite\",\"discover\",\"naturally\",\"nightmare\",\"basis\",\"conclusion\",\"confuse\",\"ntai\",\"meaning\",\"daddy\",\"stretch\",\"balance\",\"mommy\",\"bra\",\"double_standard\",\"charity\",\"inherently\",\"beer\",\"groom\",\"profile\",\"appointment\",\"center\",\"waiter\",\"accurate\",\"heal\",\"attach\",\"wild\",\"malicious\",\"diamond\",\"oppose\",\"behalf\",\"artist\",\"exception\",\"logical\",\"oral\",\"bitter\",\"stance\",\"yo\",\"encounter\",\"honey\",\"useless\",\"overly\",\"permanent\",\"uniform\",\"suicide\",\"disgust\",\"borderline\",\"glass\",\"mentality\",\"crappy\",\"sink\",\"brat\",\"chip\",\"pair\",\"uh\",\"bail\",\"defense\",\"assholish\",\"heavily\",\"addition\",\"witness\",\"feedback\",\"headphone\",\"obnoxious\",\"calmly\",\"laptop\",\"paragraph\",\"entitlement\",\"confident\",\"credit_card\",\"slap\",\"incel\",\"ignorance\",\"harmful\",\"disclose\",\"mock\",\"measure\",\"50/50\",\"justification\",\"legitimately\",\"hormonal\",\"childcare\",\"wage\",\"advocate\",\"alright\",\"route\",\"reduce\",\"invitation\",\"motivation\",\"involved\",\"narcissistic\",\"gas\",\"loose\",\"peer\",\"article\",\"daycare\",\"relatively\",\"strict\",\"traditional\",\"\\ud83d\\ude02\",\"initially\",\"war\",\"unwanted\",\"diagnosis\",\"gut\",\"jealousy\",\"housework\",\"scale\",\"fellow\",\"hypothetical\",\"joint\",\"hypocritical\",\"ear\",\"effectively\",\"x200b\",\"tax\",\"vent\",\"sandwich\",\"spare\",\"originally\",\"tight\",\"salary\",\"irrational\",\"injury\",\"complicated\",\"strike\",\"user\",\"engagement\",\"sudden\",\"agency\",\"competition\",\"favour\",\"ffs\",\"primary\",\"flag\",\"purely\",\"breed\",\"occasion\",\"uk\",\"tenant\",\"sadly\",\"fool\",\"pump\",\"trump\",\"reconsider\",\"root\",\"muslim\",\"whore\",\"warm\",\"std\",\"disappoint\",\"moron\",\"feminist\",\"proposal\",\"tree\",\"explore\",\"reasonably\",\"validate\",\"k\",\"unique\",\"paternity_test\",\"instagram\",\"inch\",\"shopping\",\"transition\",\"shake\",\"score\",\"industry\",\"smoking\",\"machine\",\"classic\",\"y'\",\"arrive\",\"remotely\",\"spectrum\",\"stomach\",\"useful\",\"borrow\",\"jack\",\"lecture\",\"bone\",\"cross_line\",\"lgbt\",\"nicely\",\"government\",\"review\",\"nut\",\"cookie\",\"verbal\",\"screen\",\"cashier\",\"gaslighte\",\"document\",\"episode\",\"a.m.\",\"copy\",\"reverse\",\"harassment\",\"dodge_bullet\",\"package\",\"ceremony\",\"site\",\"fence\",\"vaccine\",\"sneak\",\"fresh\",\"success\",\"bigot\",\"narcissist\",\"alcoholic\",\"liar\",\"vasectomy\",\"cup\",\"orgasm\",\"heck\",\"trade\",\"chair\",\"i.e.\",\"minority\",\"username\",\"min\",\"pool\",\"unwilling\",\"significantly\",\"whilst\",\"tomorrow\",\"nap\",\"code\",\"loser\",\"kink\",\"bleed\",\"repair\",\"genital\",\"scar\",\"condescending\",\"yard\",\"dependent\",\"brag\",\"hygiene\",\"resort\",\"pure\",\"recent\",\"underwear\",\"decency\",\"f\",\"disappointed\",\"whine\",\"arrest\",\"discount\",\"bil\",\"frustrate\",\"intimacy\",\"demonstrate\",\"consume\",\"committed\",\"cycle\",\"breakfast\",\"reputation\",\"spring\",\"rush\",\"length\",\"attorney\",\"theft\",\"interpret\",\"cuz\",\"achieve\",\"prize\",\"criticize\",\"stone\",\"verbally\",\"corner\",\"formal\",\"closet\",\"plain\",\"norm\",\"self_center\",\"cuddle\",\"christ\",\"unprofessional\",\"chef\",\"distract\",\"virgin\",\"string\",\"lord\",\"dunno\",\"presence\",\"frustrated\",\"dumbass\",\"sexism\",\"co\",\"wallet\",\"accomplish\",\"poop\",\"circle\",\"huge_red_flag\",\"fuckin\",\"gently\",\"ish\",\"worthy\",\"lovely\",\"tooth\",\"c\",\"development\",\"desperate\",\"slowly\",\"importantly\",\"undermine\",\"entertain\",\"exhaust\",\"stable\",\"limited\",\"grandpa\",\"insulting\",\"hi\",\"harmless\",\"science\",\"session\",\"sale\",\"joy\",\"classmate\",\"shout\",\"sugar\",\"grandkid\",\"misunderstanding\",\"knowingly\",\"license\",\"severely\",\"extend\",\"housing\",\"announce\",\"crash\",\"ungrateful\",\"unsafe\",\"blatantly\",\"congrat\",\"surround\",\"injure\",\"purposely\",\"procedure\",\"heat\",\"disturb\",\"phase\",\"population\",\"weapon\",\"press\",\"grand\",\"nerve\",\"boot\",\"i\\u2019m\",\"syndrome\",\"broken\",\"cringe\",\"homework\",\"evaluate\",\"thoughtful\",\"reception\",\"section\",\"seemingly\",\"sincerely\",\"til\",\"cater\",\"alex\",\"vaccinate\",\"arrange\",\"secure\",\"medicine\",\"privately\",\"strain\",\"implication\",\"surrogate\",\"pity\",\"ed\",\"recipe\",\"sentiment\",\"spell\",\"ntayour\",\"trashy\",\"panic\",\"magically\",\"24/7\",\"reminder\",\"catholic\",\"counter\",\"escape\",\"organ\",\"progress\",\"bizarre\",\"shocked\",\"berate\",\"rejection\",\"instinct\",\"pot\",\"wording\",\"exam\",\"password\",\"dismissive\",\"ownership\",\"belittle\",\"tag\",\"yesterday\",\"beach\",\"nail\",\"celebration\",\"oil\",\"terrify\",\"planet\",\"goodbye\",\"concert\",\"crack\",\"excellent\",\"audience\",\"vehicle\",\"mid\",\"babysit\",\"shared\",\"complication\",\"cis\",\"camera\",\"psychological\",\"ptsd\",\"principle\",\"compete\",\"bug\",\"secretly\",\"confrontation\",\"sperm\",\"uncommon\",\"wig\",\"writing\",\"south\",\"alter\",\"obsess\",\"math\",\"colleague\",\"plant\",\"productive\",\"toss\",\"reinforce\",\"supply\",\"flower\",\"yike\",\"shady\",\"department\",\"americans\",\"produce\",\"wet\",\"best\",\"band\",\"homophobia\",\"withhold\",\"tactic\",\"ethic\",\"delusional\",\"awhile\",\"incapable\",\"minimum_wage\",\"menu\",\"anytime\",\"socially\",\"stripper\",\"fiancee\",\"realistic\",\"thanks\",\"rob\",\"guilt_trip\",\"default\",\"i'd\",\"qualified\",\"familiar\",\"blanket\",\"vibrator\",\"related\",\"expert\",\"obese\",\"formula\",\"criticism\",\"congratulation\",\"neighbour\",\"camp\",\"medical_condition\",\"rat\",\"excessive\",\"permanently\",\"rant\",\"theory\",\"benefit_doubt\",\"grain\",\"def\",\"politic\",\"lock_door\",\"existence\",\"investment\",\"cent\",\"assure\",\"extended\",\"conservative\",\"stem\",\"combine\",\"retirement\",\"slave\",\"airline\",\"puberty\",\"convenient\",\"unusual\",\"prison\",\"roof\",\"maid\",\"lane\",\"tact\",\"crowd\",\"kidney\",\"nervous\",\"fyi\",\"bike\",\"traumatize\",\"empathize\",\"fridge\",\"happily\",\"instantly\",\"patience\",\"indian\",\"hat\",\"error\",\"psycho\",\"superior\",\"lonely\",\"boil\",\"bud\",\"market\",\"randomly\",\"edge\",\"button\",\"intense\",\"trait\",\"betrayal\",\"assignment\",\"left\",\"stepdaughter\",\"respectfully\",\"slut\",\"indication\",\"silence\",\"tantrum\",\"wipe\",\"annoyed\",\"loving\",\"hostile\",\"rightfully\",\"pile\",\"accusation\",\"wind\",\"practically\",\"profit\",\"resentful\",\"scam\",\"insert\",\"violation\",\"bonus\",\"sight\",\"slide\",\"mainly\",\"horribly\",\"recovery\",\"starve\",\"blunt\",\"oblivious\",\"praise\",\"messy\",\"invalidate\",\"anniversary\",\"scout\",\"award\",\"sexually_assault\",\"traffic\",\"difficulty\",\"represent\",\"objectively\",\"possession\",\"tonight\",\"y\\u2019\",\"gentle\",\"loudly\",\"mild\",\"pitch\",\"interrupt\",\"haircut\",\"specify\",\"stepmom\",\"sheet\",\"coach\",\"overnight\",\"anxious\",\"release\",\"etiquette\",\"collect\",\"fianc\\u00e9e\",\"disagreement\",\"secondly\",\"nazi\",\"pos\",\"percent\",\"courtesy\",\"slur\",\"bait\",\"overcome\",\"wreck\",\"meaningful\",\"dozen\",\"discrimination\",\"willingly\",\"sole\",\"supposedly\",\"fetish\",\"nuclear\",\"scratch\",\"drain\",\"friday\",\"consistently\",\"sauce\",\"bowl\",\"disney\",\"master\",\"overreaction\",\"stink\",\"reserve\",\"thick\",\"click\",\"m\",\"bullying\",\"gtfo\",\"sum\",\"ingredient\",\"equate\",\"jewish\",\"prom\",\"fil\",\"sabotage\",\"tit\",\"dense\",\"casually\",\"bind\",\"unit\",\"ntaif\",\"qualify\",\"storm\",\"insight\",\"aka\",\"paranoid\",\"quietly\",\"soft\",\"judgmental\",\"movement\",\"incredible\",\"importance\",\"signal\",\"biased\",\"chocolate\",\"speed\",\"neutral\",\"denial\",\"clueless\",\"stalk\",\"strip_club\",\"assign\",\"analogy\",\"pedophile\",\"usual\",\"purposefully\",\"vomit\",\"minimize\",\"baggage\",\"donation\",\"performance\",\"sunday\",\"medium\",\"horse\",\"\\u00a3\",\"justice\",\"contribution\",\"delay\",\"huh\",\"chain\",\"insanely\",\"anal\",\"calorie\",\"bright\",\"impose\",\"forth\",\"website\",\"confusing\",\"teaching\",\"furthermore\",\"row\",\"massively\",\"caretaker\",\"childbirth\",\"disappointment\",\"urge\",\"fantastic\",\"torture\",\"conscious\",\"sis\",\"r_amitheasshole\",\"remark\",\"3rd\",\"assistance\",\"additionally\",\"saint\",\"20\",\"restrict\",\"tease\",\"misunderstand\",\"eta\",\"dna\",\"slack\",\"organization\",\"chunk\",\"unrelated\",\"t\",\"thankfully\",\"ytai\",\"assholery\",\"grasp\",\"lend\",\"means\",\"firmly\",\"speaker\",\"ease\",\"partnership\",\"tuition\",\"initiate\",\"w\",\"utterly\",\"self_conscious\",\"adulthood\",\"pasta\",\"monogamous\",\"dishonest\",\"rise\",\"percentage\",\"grocery_store\",\"inheritance\",\"pussy\",\"strength\",\"throw_tantrum\",\"asset\",\"suspicion\",\"unattractive\",\"interfere\",\"terribly\",\"chest\",\"alarm\",\"chase\",\"unaware\",\"throat\",\"brown\",\"douchebag\",\"flaw\",\"angle\",\"/u\",\"soul\",\"safely\",\"pray\",\"lasagna\",\"bird\",\"guide\",\"critical\",\"endanger\",\"twist\",\"predator\",\"ntait\",\"incorrect\",\"unlike\",\"library\",\"transfer\",\"wide\",\"semester\",\"repercussion\",\"freeze\",\"capacity\",\"seven\",\"vacuum\",\"exhausting\",\"underage\",\"principal\",\"burger\",\"register\",\"sketchy\",\"poison\",\"temporary\",\"blast\",\"spending\",\"taxis\",\"practical\",\"feature\",\"obligated\",\"worse\",\"sahm\",\"rescue\",\"academic\",\"scholarship\",\"device\",\"mail\",\"asleep\",\"utility\",\"vary\",\"upsetting\",\"distress\",\"precious\",\"contest\",\"ppl\",\"thief\",\"clock\",\"picky\",\"official\",\"apple\",\"autonomy\",\"strategy\",\"ntashe\",\"biologically\",\"translate\",\"spoiled\",\"spill\",\"humor\",\"alienate\",\"promote\",\"knife\",\"spanish\",\"suffering\",\"flu\",\"outfit\",\"wave\",\"p.m.\",\"perception\",\"estate\",\"stepdad\",\"desk\",\"em\",\"fulfil\",\"carefully\",\"damaging\",\"broke\",\"breathe\",\"lover\",\"disappear\",\"luckily\",\"tf\",\"reading\",\"ethical\",\"boring\",\"europe\",\"masturbation\",\"forum\",\"chew\",\"theater\",\"incompatible\",\"leftover\",\"massage\",\"freaking\",\"succeed\",\"fetus\",\"heritage\",\"variety\",\"knee\",\"partially\",\"dating\",\"vegetable\",\"fry\",\"vague\",\"passion\",\"unpleasant\",\"embarrassment\",\"hateful\",\"canada\",\"accommodation\",\"you\\u2019re\",\"desperately\",\"border\",\"tire\",\"reciprocate\",\"2nd\",\"timing\",\"explicit\",\"intervention\",\"gap\",\"mixed\",\"relation\",\"ur\",\"soap\",\"star\",\"bump\",\"steak\",\"lack_empathy\",\"wildly\",\"replacement\",\"cum\",\"fruit\",\"viewpoint\",\"elaborate\",\"dear\",\"appropriately\",\"forbid\",\"alert\",\"passenger\",\"bloody\",\"infection\",\"smash\",\"acne\",\"nickname\",\"amend\",\"penny\",\"isolate\",\"bean\",\"belly\",\"fart\",\"verdict\",\"fuss\",\"furious\",\"um\",\"sexual_harassment\",\"tampon\",\"venue\",\"ally\",\"admission\",\"fashion\",\"curiosity\",\"thankful\",\"ridiculously\",\"breath\",\"blatant\",\"bust\",\"sexualize\",\"truck\",\"monitor\",\"modern\",\"exit\",\"impulse\",\"unnecessarily\",\"hill\",\"sitter\",\"straw\",\"valentine\",\"grieving\",\"tank\",\"childfree\",\"exclusive\",\"ice\",\"green\",\"alot\",\"enjoyment\",\"furniture\",\"elderly\",\"solo\",\"dorm\",\"cast\",\"nuts\",\"tendency\",\"gathering\",\"sin\",\"mortgage\",\"senior\",\"navigate\",\"silver\",\"misogynistic\",\"fall_asleep\",\"equipment\",\"approval\",\"guitar\",\"ie\",\"experiment\",\"grace\",\"pointless\",\"thousand_dollar\",\"mildly\",\"wine\",\"learning\",\"gossip\",\"lower\",\"sympathetic\",\"sane\",\"core\",\"sing\",\"divide\",\"candidate\",\"silent\",\"rethink\",\"deposit\",\"graduation\",\"golden\",\"restroom\",\"hypocrisy\",\"worthless\",\"textbook\",\"bare_minimum\",\"scroll\",\"liberal\",\"infuriate\",\"unexpected\",\"sock\",\"audacity\",\"blackmail\",\"vindictive\",\"deceased\",\"lame\",\"campus\",\"spin\",\"unprotected_sex\",\"operate\",\"gene\",\"sweat\",\"bread\",\"profession\",\"overwhelming\",\"<\",\"narrative\",\"highly_doubt\",\"asexual\",\"pronounce\",\"temper\",\"luxury\",\"retaliate\",\"sociopath\",\"retail\",\"shy\",\"belonging\",\"lying\",\"deem\",\"consensual\",\"e.g.\",\"spoiler\",\"employment\",\"necessity\",\"motive\",\"australia\",\"cigarette\",\"neck\",\"maintenance\",\"fraud\",\"bomb\",\"smack\",\"reek\",\"bullet\",\"understandably\",\"intelligence\",\"protective\",\"spit\",\"pissy\",\"liability\",\"pushy\",\"wellbeing\",\"kindly\",\"stain\",\"trivial\",\"grammar\",\"bible\",\"universe\",\"notion\",\"native\",\"timeline\",\"exhausted\",\"redditor\",\"apparent\",\"transgender\",\"print\",\"problematic\",\"dna_test\",\"acceptance\",\"pm\",\"hubby\",\"comparable\",\"satisfy\",\"invasive\",\"series\",\"bath\",\"gold_digger\",\"snapchat\",\"baffle\",\"suicidal\",\"fragile\",\"empathetic\",\"opt\",\"attachment\",\"swap\",\"hatred\",\"smoker\",\"bigotry\",\"restriction\",\"exclusively\",\"whim\",\"iud\",\"merely\",\"similarly\",\"vast_majority\",\"queer\",\"greedy\",\"e\",\"unsolicited\",\"n_word\",\"instruction\",\"occasional\",\"prejudice\",\"german\",\"subtle\",\"labour\",\"parenthood\",\"outburst\",\"upbringing\",\"negatively\",\"donor\",\"muscle\",\"youtube\",\"bikini\",\"stake\",\"risky\",\"salad\",\"contain\",\"inability\",\"weather\",\"yta.you\",\"acquaintance\",\"terminate\",\"evict\",\"caregiver\",\"monday\",\"devastate\",\"dodge\",\"strip\",\"strictly\",\"stubborn\",\"n\",\"extension\",\"veggie\",\"pleasant\",\"destructive\",\"conceive\",\"airport\",\"student_loan\",\"jane\",\"horror\",\"feminism\",\"deceive\",\"remorse\",\"compensate\",\"carrot\",\"cow\",\"consistent\",\"presume\",\"lately\",\"endure\",\"convo\",\"bury\",\"absolve\",\"reevaluate\",\"id\",\"hahaha\",\"fertility\",\"intentional\",\"italian\",\"testing\",\"boat\",\"a.\",\"poll\",\"inclined\",\"salt\",\"god_forbid\",\"jean\",\"highschool\",\"growth\",\"beef\",\"platonic\",\"paycheck\",\"phobia\",\"socialize\",\"healthcare\",\"frequent\",\"tipping\",\"grip\",\"transaction\",\"feminine\",\"tricky\",\"visitation\",\"handicap\",\"forgiveness\",\"bridezilla\",\"discriminate\",\"spider\",\"pat\",\"livid\",\"psychologist\",\"doll\",\"deadbeat\",\"driving\",\"mirror\",\"pin\",\"confide\",\"ship\",\"sympathize\",\"guilte\",\"wheelchair\",\"mandatory\",\"awake\",\"youth\",\"anime\",\"structure\",\"coerce\",\"counsel\",\"reassure\",\"category\",\"zone\",\"aid\",\"judgemental\",\"blowjob\",\"pour\",\"jewelry\",\"pork\",\"saturday\",\"controversial\",\"gear\",\"breastfeeding\",\"hassle\",\"tea\",\"pose\",\"arrogant\",\"closure\",\"organize\",\"bank_account\",\"biology\",\"stock\",\"homophobe\",\"mentally_ill\",\"engineer\",\"shell\",\"prayer\",\"condescend\",\"lap\",\"overwhelmed\",\"gather\",\"prop\",\"netflix\",\"playing\",\"western\",\"pan\",\"nipple\",\"dickhead\",\"cave\",\"flow\",\"imho\",\"resume\",\"surprising\",\"roast\",\"crisis\",\"accordingly\",\"coward\",\"awareness\",\"working\",\"delicious\",\"aim\",\"someday\",\"mode\",\"customer_service\",\"mexican\",\"wound\",\"karen\",\"misread\",\"semi\",\"overlook\",\"aisle\",\"convenience\",\"versus\",\"statistic\",\"bot\",\"frank\",\"realistically\",\"wiki\",\"rice\",\"rank\",\"independence\",\"tacky\",\"fb\",\"common_courtesy\",\"hunt\",\"toll\",\"distant\",\"tech\",\"junk\",\"bride_groom\",\"cramp\",\"receipt\",\"sarah\",\"yikes\",\"mug\",\"examine\",\"callous\",\"hearing\",\"relief\",\"picky_eater\",\"unrealistic\",\"babysitte\",\"exaggerate\",\"objective\",\"essential\",\"junk_food\",\"wealthy\",\"national\",\"functional\",\"convey\",\"complicate\",\"withdraw\",\"loyalty\",\"ytaif\",\"poly\",\"lab\",\"stall\",\"wheel\",\"selfishness\",\"passive\",\"disruptive\",\"saying\",\"i've\",\"disrupt\",\"opening\",\"surface\",\"cheer\",\"self_awareness\",\"satisfied\",\"clarification\",\"dime\",\"shrug\",\"dose\",\"30\",\"recline\",\"\\ud83d\\ude44\",\"refund\",\"pause\",\"equality\",\"broad\",\"discourage\",\"jeez\",\"anonymous\",\"tension\",\"separately\",\"toe\",\"bored\",\"virginity\",\"negotiate\",\"crying\",\"network\",\"declare\",\"army\",\"nta.i\",\"grope\",\"halfway\",\"stepmother\",\"mourn\",\"fathom\",\"quarter\",\"blessing\",\"symbol\",\"pillow\",\"visible\",\"sti\",\"unstable\",\"jackass\",\"numerous\",\"creative\",\"albeit\",\"poke\",\"facility\",\"weekly\",\"murderer\",\"offender\",\"element\",\"pig\",\"substance\",\"high_horse\",\"magic\",\"shocking\",\"creature\",\"counselling\",\"appreciation\",\"nowadays\",\"stupid_prize\",\"ntahe\",\"tactful\",\"ytait\",\"hello\",\"datum\",\"abnormal\",\"sir\",\"irish\",\"focused\",\"admittedly\",\"tow\",\"annoyance\",\"ps\",\"vow\",\"raw\",\"exposure\",\"confess\",\"nursing\",\"verify\",\"curb\",\"lawsuit\",\"snow\",\"dil\",\"colour\",\"cough\",\"permit\",\"refusal\",\"bat\",\"nah-\",\"stigma\",\"monthly\",\"abide\",\"yr_old\",\"assert\",\"favourite\",\"sized\",\"expand\",\"intelligent\",\"channel\",\"lightly\",\"downplay\",\"disturbing\",\"upper\",\"winner\",\"mask\",\"erase\",\"horny\",\"sufficient\",\"highlight\",\"ought\",\"doormat\",\"nta.you\",\"combination\",\"questionable\",\"gain_weight\",\"uni\",\"revenge_porn\",\"football\",\"exhibit\",\"assessment\",\"bark\",\"inevitably\",\"racial\",\"stitch\",\"passionate\",\"collection\",\"g\",\"easter\",\"transgend\",\"mislead\",\"deed\",\"inconvenient\",\"j\",\"infidelity\",\"ad\",\"athlete\",\"hmm\",\"prostitute\",\"sleepover\",\"beard\",\"send_nude\",\"courage\",\"deprive\",\"brutal\",\"motivate\",\"headache\",\"don\\u2019t\",\"reflection\",\"sexual_orientation\",\"downright\",\"fed\",\"unpopular_opinion\",\"allowance\",\"twat\",\"romantically\",\"handful\",\"differ\",\"role_reverse\",\"irritate\",\"disaster\",\"japanese\",\"honeymoon\",\"irl\",\"aggression\",\"entertainment\",\"usa\",\"er\",\"guardian\",\"constructive\",\"paperwork\",\"vs.\",\"pov\",\"accomplishment\",\"retire\",\"impress\",\"tempt\",\"comply\",\"t_shirt\",\"meme\",\"dress_code\",\"liable\",\"stir\",\"conduct\",\"outsider\",\"spelling\",\"vice_versa\",\"dairy\",\"wifi\",\"slice\",\"1st\",\"binge\",\"citizen\",\"kitten\",\"r_legaladvice\",\"oblige\",\"coke\",\"equip\",\"amazon\",\"journey\",\"o\",\"degrade\",\"hardship\",\"supervision\",\"misogyny\",\"foreign\",\"rain\",\"atm\",\"nearby\",\"bubble\",\"theme\",\"rabbit\",\"stuck\",\"hugely\",\"precaution\",\"reservation\",\"camping\",\"fundamental\",\"fundamentally\",\"phrasing\",\"foundation\",\"uncalled\",\"actor\",\"nuance\",\"adapt\",\"edgy\",\"mistreat\",\"prime\",\"explode\",\"guard\",\"leap\",\"competitive\",\"deaf\",\"immaturity\",\"toothbrush\",\"notify\",\"pad\",\"poverty\",\"roll_eye\",\"fuel\",\"bum\",\"instant\",\"sanity\",\"escort\",\"nag\",\"festival\",\"tune\",\"humanity\",\"plain_simple\",\"painting\",\"emphasize\",\"retaliation\",\"confusion\",\"touching\",\"swing\",\"oof\",\"furry\",\"ethnicity\",\"utter\",\"princess\",\"application\",\"bonding\",\"puke\",\"potato\",\"alimony\",\"interpretation\",\"leverage\",\"chuck\",\"expression\",\"steve\",\"role_model\",\"fucked\",\"amy\",\"bodily_autonomy\",\"humiliating\",\"salty\",\"shed\",\"snitch\",\"custom\",\"trend\",\"distinction\",\"infertile\",\"flight_attendant\",\"carrier\",\"workout\",\"swim\",\"marital\",\"separation\",\"pawn\",\"drill\",\"embrace\",\"ideally\",\"threesome\",\"grind\",\"hookup\",\"condone\",\"stressed\",\"commit_crime\",\"lifelong\",\"dispute\",\"heterosexual\",\"leak\",\"classroom\",\"dietary\",\"sarcastic\",\"kudo\",\"cure\",\"arse\",\"subjective\",\"eshyou\",\"volume\",\"negate\",\"spirit\",\"heartless\",\"presentation\",\"molest\",\"eachother\",\"informed\",\"behavioral\",\"\\\"i\",\"tongue\",\"thrill\",\"ha\",\"rental\",\"compensation\",\"dick_pic\",\"afternoon\",\"jfc\",\"making\",\"stab\",\"jeff\",\"overstep\",\"malice\",\"panic_attack\",\"unsure\",\"deadline\",\"lb\",\"supervisor\",\"shaming\",\"enemy\",\"talent\",\"dm\",\"comprehend\",\"bless\",\"pressured\",\"gate\",\"germany\",\"international\",\"abused\",\"stability\",\"miscommunication\",\"technique\",\"pester\",\"eating\",\"appease\",\"proportion\",\"morality\",\"sexually_active\",\"farm\",\"employ\",\"scumbag\",\"bake\",\"climb\",\"taxi\",\"clinic\",\"weirdo\",\"immigrant\",\"secretary\",\"leader\",\"sensible\",\"essay\",\"hitler\",\"season\",\"slim\",\"hold_grudge\",\"greatly\",\"despise\",\"crawl\",\"moh\",\"prospect\",\"swallow\",\"salvage\",\"backwards\",\"assist\",\"pub\",\"promotion\",\"largely\",\"depth\",\"arbitrary\",\"recognise\",\"relieve\",\"caring\",\"blank\",\"indicator\",\"powerful\",\"anna\",\"joe\",\"outta\",\"stomp\",\"enjoyable\",\"preserve\",\"everytime\",\"tl;dr\",\"bye\",\"intervene\",\"supervise\",\"spiteful\",\"fluid\",\"irritated\",\"ongoing\",\"rating\",\"vile\",\"fwiw\",\"uterus\",\"2.5\",\"breakdown\",\"prenup\",\"telling\",\"log\",\"mortify\",\"christians\",\"spoon\",\"worst\",\"beneficial\",\"beauty\",\"forgot\",\"curse\",\"appeal\",\"grave\",\"troop\",\"backfire\",\"arise\",\"underestimate\",\"singe\",\"meh\",\"whiny\",\"soda\",\"altogether\",\"nahi\",\"mcdonald\",\"minimal\",\"protein\",\"reread\",\"station\",\"unilaterally\",\"roughly\",\"ntathis\",\"rationally\",\"insufferable\",\"wing\",\"perpetuate\",\"partly\",\"jump_conclusion\",\"fold\",\"dirt\",\"sincere\",\"smoke_weed\",\"seizure\",\"snake\",\"prerogative\",\"internal\",\"micropenis\",\"shelf\",\"bounce\",\"satisfaction\",\"l\",\"tab\",\"flash\",\"intimidate\",\"officer\",\"monkey\",\"fwb\",\"cock\",\"pit\",\"reimburse\",\"bend\",\"helpless\",\"gaming\",\"photographer\",\"bridge\",\"abandonment\",\"possessive\",\"olive_garden\",\"devastating\",\"coddle\",\"tap\",\"prep\",\"bitchy\",\"substitute\",\"chemical\",\"merit\",\"unknown\",\"observe\",\"r_justnomil\",\"irony\",\"insinuate\",\"inappropriately\",\"coin\",\"cautious\",\"se\",\"association\",\"indoor\",\"whip\",\"asperger\",\"universal\",\"mobile\",\"delicate\",\"accidental\",\"dedicate\",\"king\",\"overboard\",\"cell\",\"lbs\",\"ytashe\",\"psychology\",\"consensus\",\"justifiable\",\"mouth_shut\",\"towel\",\"alternate\",\"bartender\",\"plastic\",\"thanksgiving\",\"babe\",\"walmart\",\"smooth\",\"sperm_donor\",\"burst\",\"gang\",\"survivor\",\"can't\",\"mama\",\"flush\",\"walk_aisle\",\"convert\",\"ytayour\",\"peanut\",\"mary\",\"dignity\",\"stalker\",\"superficial\",\"popcorn\",\"conscience\",\"islam\",\"misery\",\"invade_privacy\",\"slam\",\"thirty\",\"honour\",\"estimate\",\"california\",\"align\",\"kitty\",\"breaking\",\"bigote\",\"bin\",\"simultaneously\",\"eviction\",\"b.\",\"minded\",\"revolve\",\"console\",\"spray\",\"horrific\",\"confrontational\",\"litter\",\"sickness\",\"underlying\",\"dancing\",\"rationalize\",\"chemo\",\"cruelty\",\"mass\",\"plot\",\"assistant\",\"repay\",\"square\",\"bastard\",\"loyal\",\"snarky\",\"bow\",\"disown\",\"cheek\",\"reliable\",\"idiotic\",\"hella\",\"reiterate\",\"soup\",\"closed\",\"heirloom\",\"paternity\",\"masculine\",\"guideline\",\"fulfill\",\"precedent\",\"slap_face\",\"hop\",\"screenshot\",\"wash_dish\",\"devil_advocate\",\"upgrade\",\"cos\",\"kids\",\"european\",\"professionally\",\"internalize\",\"seek_validation\",\"primarily\",\"filter\",\"investigate\",\"inevitable\",\"lap_dance\",\"schooling\",\"nahyou\",\"bruh\",\"invade\",\"unethical\",\"self_absorb\",\"hs\",\"veganism\",\"fallout\",\"garage\",\"submit\",\"shatter\",\"guidance\",\"reschedule\",\"societal\",\"identical\",\"backup\",\"engagement_ring\",\"smh\",\"stupidity\",\"provoke\",\"unbelievably\",\"craving\",\"regular_basis\",\"absence\",\"adore\",\"lick\",\"hill_die\",\"precisely\",\"outing\",\"lmfao\",\"misogynist\",\"fairness\",\"agenda\",\"hold_accountable\",\"nutrition\",\"special_treatment\",\"countless\",\"convinced\",\"genius\",\"toilet_paper\",\"absent\",\"jews\",\"sentimental\",\"china\",\"aunt_uncle\",\"prey\",\"upvoted\",\"compassionate\",\"butthurt\",\"eld\",\"usage\",\"necklace\",\"entry\",\"corporate\",\"league\",\"british\",\"maiden\",\"tolerance\",\"clap\",\"layer\",\"bare\",\"gaslighting\",\"predatory\",\"y'all\",\"iron\",\"barrier\",\"ew\",\"pen\",\"wood\",\"un\",\"preach\",\"mike\",\"de\",\"meaningless\",\"ocd\",\"dildo\",\"max\",\"exploit\",\"needlessly\",\"bpd\",\"attendance\",\"weirdly\",\"gender_identity\",\"metal\",\"hike\",\"belt\",\"gag\",\"scan\",\"x200b;i\",\"medically\",\"communal\",\"trial\",\"conveniently\",\"ppd\",\"sooo\",\"dessert\",\"mountain\",\"herpe\",\"likelihood\",\"laziness\",\"occupy\",\"canadian\",\"mutually\",\"aggressively\",\"disingenuous\",\"drastic\",\"tragedy\",\"inherit\",\"fall_apart\",\"convict\",\"amazed\",\"jacket\",\"entail\",\"parade\",\"welfare\",\"lingerie\",\"veteran\",\"meltdown\",\"deception\",\"agent\",\"establishment\",\"angel\",\"fighting\",\"cue\",\"billion\",\"protest\",\"villain\",\"provider\",\"designate\",\"abroad\",\"dr\",\"lip\",\"libido\",\"xbox\",\"sore\",\"india\",\"pcos\",\"wealth\",\"ultimate\",\"acronym\",\"cage\",\"reprimand\",\"overbearing\",\"hall\",\"ntabut\",\"drown\",\"japan\",\"confirmation\",\"automatic\",\"sushi\",\"tissue\",\"constitute\",\"eg\",\"union\",\"stat\",\"attribute\",\"command\",\"pie\",\"bj\",\"sharing\",\"limb\",\"incentive\",\"overtime\",\"katie\",\"niece_nephew\",\"kiddo\",\"inflict\",\"basement\",\"booze\",\"unemployed\",\"junior\",\"fucker\",\"jar\",\"depress\",\"adamant\",\"perfume\",\"brave\",\"taboo\",\"special_occasion\",\"sack\",\"caution\",\"contraception\",\"thoroughly\",\"measle\",\"firstly\",\"sun\",\"pretentious\",\"groomsman\",\"scold\",\"starbucks\",\"midnight\",\"geez\",\"vocal\",\"majorly\",\"obesity\",\"ntathe\",\"privileged\",\"nazis\",\"rando\",\"age_gap\",\"psychopath\",\"immoral\",\"yta.i\",\"standpoint\",\"introvert\",\"recipient\",\"adequate\",\"involvement\",\"onion\",\"breach\",\"heartbroken\",\"homosexuality\",\"hip\",\"sided\",\"predict\",\"recommendation\",\"censor\",\"disgusted\",\"hesitate\",\"throwaway\",\"pc\",\"old_fashioned\",\"inspire\",\"standing\",\"hindsight\",\"costume\",\"theatre\",\"texture\",\"thoughtless\",\"assess\",\"sheer\",\"diminish\",\"typo\",\"lucy\",\"wander\",\"crave\",\"flavor\",\"la\",\"definite\",\"lgbt_community\",\"bacon\",\"stroller\",\"viable\",\"household_chore\",\"self_defense\",\"visitor\",\"squeeze\",\"sadness\",\"duck\",\"fourth\",\"xyz\",\"inferior\",\"electronic\",\"sorta\",\"continually\",\"bearing\",\"silent_treatment\",\"loop\",\"reconcile\",\"bucket\",\"chemistry\",\"wary\",\"gigantic\",\"obsession\",\"misinterpret\",\"reproductive\",\"tumblr\",\"demean\",\"century\",\"stunt\",\"fitness\",\"faithful\",\"i.\",\"scent\",\"museum\",\"conform\",\"feeding\",\"logically\",\"outrageous\",\"skirt\",\"doom\",\"assholeish\",\"soooo\",\"engineering\",\"temporarily\",\"pedo\",\"underlie\",\"mitigate\",\"improvement\",\"c_section\",\"swipe\",\"winter\",\"commute\",\"president\",\"presumptuous\",\"scientific\",\"maliciously\",\"magical\",\"officially\",\"halloween\",\"willingness\",\"scum\",\"studio\",\"dip\",\"cell_phone\",\"hesitant\",\"freely\",\"lost\",\"bladder\",\"stair\",\"clarity\",\"shortly\",\"integrity\",\"christianity\",\"bore\",\"achievement\",\"ironic\",\"spark\",\"evolve\",\"sidewalk\",\"surname\",\"cite\",\"drastically\",\"criterion\",\"leech\",\"intercourse\",\"gaslight\",\"trainer\",\"housemate\",\"adorable\",\"freshman\",\"seating\",\"instructor\",\"flair\",\"terrified\",\"anticipate\",\"accent\",\"fishy\",\"accessible\",\"upstairs\",\"gentleman\",\"announcement\",\"crucial\",\"running\",\"psych\",\"negativity\",\"glove\",\"sleeping\",\"undo\",\"disposable\",\"bday\",\"lgbtq\",\"depression_anxiety\",\"sticker\",\"exciting\",\"stepson\",\"experienced\",\"glance\",\"lump\",\"meantime\",\"basket\",\"1/2\",\"enormous\",\"gratitude\",\"unbelievable\",\"unintentionally\",\"pace\",\"flexible\",\"bridal_party\",\"backpack\",\"medical_procedure\",\"tragic\",\"select\",\"bmi\",\"gloss\",\"driveway\",\"gpa\",\"flawed\",\"cringey\",\"favoritism\",\"rehome\",\"generosity\",\"vastly\",\"detrimental\",\"brilliant\",\"secondary\",\"germ\",\"recall\",\"resident\",\"medal\",\"major_red_flag\",\"indulge\",\"closely\",\"equation\",\"asshat\",\"director\",\"bdsm\",\"statistically\",\"lie_omission\",\"portray\",\"reckless\",\"distraction\",\"worship\",\"doc\",\"holy_crap\",\"sensitivity\",\"tape\",\"queen\",\"cap\",\"press_charge\",\"clever\",\"doesn't\",\"shape_form\",\"culturally\",\"premise\",\"romance\",\"nonetheless\",\"poc\",\"chris\",\"weirde\",\"offence\",\"trophy\",\"mooch\",\"elementary_school\",\"occurrence\",\"rack\",\"santa\",\"cloud\",\"bash\",\"admire\",\"lung\",\"woah\",\"heroin\",\"flirty\",\"patron\",\"emphasis\",\"outlet\",\"tick\",\"garden\",\"script\",\"rumor\",\"cab\",\"overseas\",\"stroke\",\"blonde\",\"whoa\",\"whomever\",\"edit_spelling\",\"contrary\",\"rebuild\",\"strap\",\"arguably\",\"pink\",\"rightly\",\"highway\",\"dont\",\"maternal\",\"outrage\",\"beggar\",\"giggle\",\"prescription\",\"transphobia\",\"social_cue\",\"par\",\"slavery\",\"disneyland\",\"deliberate\",\"moan\",\"humiliation\",\"commonly\",\"abby\",\"production\",\"induce\",\"drug_addict\",\"generic\",\"shine\",\"lil\",\"heel\",\"killer\",\"babysitting\",\"suitable\",\"doubly\",\"coat\",\"r_raisedbynarcissist\",\"soccer\",\"heat_moment\",\"mere\",\"obtuse\",\"distrust\",\"continuously\",\"limitation\",\"hostage\",\"sample\",\"beneath\",\"grocery_shopping\",\"tour\",\"con\",\"hpv\",\"campaign\",\"shameful\",\"vegas\",\"undergrad\",\"derogatory\",\"crotch\",\"thank_silver\",\"needy\",\"excite\",\"dysfunctional\",\"federal\",\"rift\",\"technology\",\"humble\",\"trustworthy\",\"vital\",\"ntathat\",\"scrub\",\"stamp\",\"budge\",\"ytayou're\",\"bull\",\"butter\",\"mattress\",\"hammer\",\"supplement\",\"impressed\",\"rope\",\"careless\",\"march\",\"enabler\",\"shade\",\"peer_pressure\",\"restrain_order\",\"platform\",\"condemn\",\"sofa\",\"battery\",\"splitting\",\"ideology\",\"talking\",\"prompt\",\"strand\",\"fam\",\"grumpy\",\"100k\",\"indicative\",\"blog\",\"\\ud83d\\udc4f\",\"moderate\",\"jim\",\"optional\",\"steam\",\"apologetic\",\"spine\",\"yoga\",\"accurately\",\"intern\",\"high_schooler\",\"comedy\",\"incompatibility\",\"persist\",\"realtor\",\"unconscious\",\"turkey\",\"gamble\",\"duh\",\"craft\",\"honk\",\"flake\",\"boo\",\"dementia\",\"molester\",\"vaccination\",\"playful\",\"obsessive\",\"slut_shaming\",\"backyard\",\"self_righteous\",\"joint_account\",\"threatening\",\"unpaid\",\"consciously\",\"widow\",\"lube\",\"maternity\",\"goodness\",\"unborn\",\"semantic\",\"transportation\",\"dickish\",\"virtue\",\"region\",\"familial\",\"anonymously\",\"refrain\",\"engaged\",\"evenly\",\"bff\",\"applaud\",\"homosexual\",\"psychologically\",\"firearm\",\"contradict\",\"stepfather\",\"legacy\",\"surgeon\",\"handicapped\",\"fling\",\"shun\",\"gal\",\"sour\",\"stoop_level\",\"incest\",\"juice\",\"functioning\",\"retain\",\"didn't\",\"shampoo\",\"gamer\",\"developmental\",\"fork\",\"breadwinner\",\"successfully\",\"format\",\"athletic\",\"misguided\",\"objection\",\"trail\",\"h\",\"economic\",\"curve\",\"diabetic\",\"dialogue\",\"spiral\",\"onus\",\"florida\",\"reassurance\",\"specialist\",\"famous\",\"passport\",\"cartoon\",\"sarcasm\",\"nta.it\",\"pettiness\",\"pal\",\"cart\",\"trimester\",\"lasting\",\"douchey\",\"dishwasher\",\"hispanic\",\"pick_slack\",\"dust\",\"chop\",\"dave\",\"obtain\",\"ofc\",\"auto\",\"sneaky\",\"trim\",\"diabetes\",\"appalling\",\"cuss\",\"offended\",\"outweigh\",\"ivf\",\"pushover\",\"resist\",\"straightforward\",\"mindful\",\"uninvite\",\"self_reflection\",\"african\",\"housekeeper\",\"traditionally\",\"historically\",\"dye\",\"legality\",\"downstairs\",\"ethnic\",\"stray\",\"excitement\",\"gatekeepe\",\"origin\",\"tail\",\"invalid\",\"tad\",\"sweep\",\"stereotypical\",\"scheme\",\"vision\",\"braid\",\"despicable\",\"ytathis\",\"historical\",\"chubby\",\"learning_experience\",\"1.5\",\"narcissism\",\"truthful\",\"boost\",\"b_c\",\"couple_counsel\",\"yelling\",\"misrepresent\",\"iphone\",\"dietary_restriction\",\"social_norm\",\"y\\u2019all\",\"comfortably\",\"hamster\",\"postpartum\",\"inherent\",\"advertise\",\"implant\",\"survival\",\"paul\",\"calculate\",\"v\",\"drunken\",\"gender_neutral\",\"penetration\",\"smelly\",\"combat\",\"bob\",\"fade\",\"bruise\",\"nyc\",\"mini\",\"domestic\",\"anti_vaxxer\",\"analysis\",\"convention\",\"specially\",\"ambition\",\"ridicule\",\"steven\",\"whatnot\",\"deadly\",\"characteristic\",\"chime\",\"generalize\",\"healing\",\"philosophy\",\"correction\",\"ironically\",\"receptive\",\"bathe\",\"phd\",\"rug\",\"gauge\",\"rash\",\"flaunt\",\"shred\",\"masculinity\",\"afterward\",\"esp\",\"affectionate\",\"surrogacy\",\"normalize\",\"daniel\",\"mental_gymnastic\",\"admin\",\"domestic_violence\",\"grad_school\",\"choke\",\"river\",\"giver\",\"tray\",\"monetary\",\"milestone\",\"maid_honor\",\"tone_deaf\",\"inexperienced\",\"scummy\",\"untrue\",\"psychotic\",\"stfu\",\"queue\",\"invent\",\"adhere\",\"balanced\",\"gracious\",\"lawn\",\"rudely\",\"articulate\",\"admirable\",\"tuesday\",\"demographic\",\"moon\",\"tomato\",\"calling\",\"backlash\",\"juvenile\",\"slut_shame\",\":d\",\"tutor\",\"initiative\",\":p\",\"virtually\",\"sea\",\"hyphenate\",\"outdoor\",\"economy\",\"cherry\",\"lighten\",\"alcoholism\",\"servant\",\"assholey\",\"caveat\",\"cherish\",\"foreplay\",\"educational\",\"internship\",\"grill\",\"conclude\",\"brush_tooth\",\"sexually_harass\",\"cult\",\"bratty\",\"prob\",\"crowded\",\"easement\",\"banana\",\"mind_reader\",\"impressive\",\"keeper\",\"bell\",\"celebrity\",\"voluntarily\",\"kidnap\",\"pervert\",\"redeem\",\"tammy\",\"shithead\",\"tldr\",\"neglectful\",\"dryer\",\"grandson\",\"temper_tantrum\",\"mr.\",\"shield\",\"\\\"you\",\"bottle_wine\",\"writer\",\"disconnect\",\"wolf\",\"prone\",\"disservice\",\"acting\",\"omit\",\"bunny\",\"brief\",\"crutch\",\"thrive\",\"\\ud83e\\udd14\",\"seal\",\"uninvited\",\"outlook\",\"clinical\",\"destination\",\"nta.your\",\"jeopardize\",\"ending\",\"snuggle\",\"5k\",\"concrete\",\"selfless\",\"uncool\",\"virus\",\"prenatal\",\"undergo\",\"stumble\",\"inner\",\"atleast\",\"unannounced\",\"coupon\",\"skin_color\",\"animal_product\",\"swimming\",\"brownie\",\"grass\",\"browse\",\"moody\",\"feasible\",\"edible\",\"muslims\",\"disappointing\",\"heaven\",\"james\",\"lastly\",\"impulsive\",\"frozen\",\"dentist\",\"isn't\",\"fortunate\",\"wire\",\"gosh\",\"storage\",\"override\",\"ect\",\"straighten\",\"priest\",\"subconsciously\",\"dread\",\"competent\",\"exact_opposite\",\"facial\",\"division\",\"hit_nail\",\"heated\",\"ordeal\",\"blindside\",\"bold\",\"bachelorette_party\",\"rn\",\"tier\",\"remarry\",\"smug\",\"immensely\",\"boner\",\"diverse\",\"social_circle\",\"blindly\",\"hardcore\",\"decrease\",\"pitbull\",\"purple\",\"mistaken\",\"wholly\",\"pastor\",\"tourist\",\"movie_theater\",\"incorrectly\",\"united_states\",\"humour\",\"myth\",\"gig\",\"suspend\",\"contempt\",\"motion\",\"span\",\"racial_slur\",\"trope\",\"sleep_deprive\",\"responsibly\",\"dining\",\"bush\",\"unexpectedly\",\"preschool\",\"spoiled_brat\",\"pediatrician\",\"edit_typo\",\"ahole\",\"plug\",\"tom\",\"kosher\",\"courteous\",\"waiting\",\"flame\",\"advanced\",\"4th\",\"themself\",\"tbf\",\"purse\",\"endgame\",\"pepper\",\"compel\",\"adjustment\",\"sob\",\"millennial\",\"net\",\"wisdom\",\"eliminate\",\"progressive\",\"peg\",\"facilitate\",\"marijuana\",\"bass\",\"conditional\",\"radio\",\"psychiatrist\",\"unpopular\",\"mechanic\",\"devil\",\"coffee_shop\",\"foreign_country\",\"sjw\",\"cruise\",\"bound\",\"deflect\",\"politeness\",\"adoptive\",\"harshly\",\"meat_eater\",\"observation\",\"revoke\",\"drama_queen\",\"council\",\"county\",\"korean\",\"sense_humor\",\"seed\",\"lotion\",\"dedicated\",\"pantie\",\"vaginal\",\"misleading\",\"silently\",\"projection\",\"disable\",\"daily_basis\",\"open_minded\",\"circumcision\",\"certainty\",\"intrusive\",\"felony\",\"hangout\",\"pout\",\"conviction\",\"pole\",\"breach_trust\",\"torment\",\"stream\",\"comic\",\"seriousness\",\"prescribe\",\"hyper\",\"certificate\",\"crew\",\"=_/=\",\"steer\",\"washing\",\"r_niceguys\",\"undoubtedly\",\"gfs\",\"triple\",\"unpack\",\"southern\",\"clingy\",\"scamme\",\"skeptical\",\"severity\",\"laughable\",\"pup\",\"calendar\",\"grad\",\"infertility\",\"specie\",\"restrain\",\"representation\",\"attractiveness\",\"defence\",\"tale\",\"resolution\",\"remote\",\"wibta\",\"bipolar\",\"doctor_appointment\",\"bend_backwards\",\"ra\",\"noodle\",\"plausible\",\"greet\",\"vanilla\",\"ethically\",\"bluff\",\"orientation\",\"mlm\",\"gendered\",\"world_revolve\",\"housewife\",\"tickle\",\"foolish\",\"variation\",\"catfishe\",\"district\",\"cream\",\"manifest\",\"men\",\"hurry\",\"cinema\",\"gape\",\"bulk\",\"lgbt+\",\"beloved\",\"keto\",\"selfishly\",\"scope\",\"banter\",\"foremost\",\"amitheasshole_question\",\"s_o\",\"rationale\",\"unclear\",\"setup\",\"rinse\",\"unfairly\",\"entirety\",\"gluten\",\"podcast\",\"relationship_advice\",\"unvaccinated\",\"applicant\",\"believable\",\"invisible\",\"bot_action\",\"misbehave\",\"monogamy\",\"anecdote\",\"early_20\",\"obey\",\"innocuous\",\"kindergarten\",\"mandarin\",\"sentimental_value\",\"mexico\",\"dumpster\",\"complicit\",\"connotation\",\"fiction\",\"unkind\",\"factory\",\"birth_certificate\",\"latch\",\"scrape\",\"positively\",\"yta.if\",\"walk_eggshell\",\"unfaithful\",\"linger\",\"hazard\",\"fixate\",\"perform_automatically_contact_moderator\",\"branch\",\"disadvantage\",\"manly\",\"eff\",\"tackle\",\"happening\",\"sulk\",\"sigh\",\"starter\",\"ds\",\"collar\",\"genitalia\",\"cease\",\"fester\",\"organise\",\"playground\",\"chronic\",\"texas\",\"subreddit](/message_compose/?to=/r\",\"icky\",\"white_knight\",\"demeaning\",\"tablet\",\"devalue\",\"socially_acceptable\",\"keen\",\"container\",\"dial\",\"u.s.\",\"cafe\",\"drawer\",\"mushroom\",\"north\",\"visa\",\"delusion\",\"\\ufe0f\",\"generalization\",\"sucky\",\"pale\",\"negligence\",\"likewise\",\"1/3\",\"destruction\",\"leeway\",\"shadow\",\"cleaner\",\"institution\",\"nutrient\",\"touchy\",\"dramatically\",\"gas_station\",\"candle\",\"twisted\",\"participant\",\"unconditional\",\"maturely\",\"negatively_affect\",\"diversity\",\"migraine\",\"grudge\",\"bitching\",\"crop\",\"modify\",\"jurisdiction\",\"intellectual\",\"accountable\",\"veto\",\"bacteria\",\"suffice\",\"upside\",\"grossly\",\"anatomy\",\"guilt_tripping\",\"info-\",\"earning\",\"troubling\",\"violently\",\"baseball\",\"alternatively\",\"outline\",\"regulation\",\"cupcake\",\"taint\",\"worthwhile\",\"follow_abbreviation\",\"rot\",\"tactless\",\"iirc\",\"helicopter\",\"membership\",\"breeder\",\"gasp\",\"nod\",\"maximum\",\"akin\",\"threshold\",\"rose\",\"edit-\",\"messed\",\"spa\",\"soak\",\"envy\",\"freezer\",\"heartbeat\",\"hetero\",\"misgendere\",\"bea\",\"thumb\",\"void\",\"riddance\",\"boom\",\"enthusiastic\",\"drawing\",\"nta.if\",\"coincidence\",\"newly\",\"sleeve\",\"bisexuality\",\"incompetent\",\"wether\",\"\\u2764_\\ufe0f\",\"miscarry\",\"unfamiliar\",\"rule_thumb\",\"weakness\",\"bachelor\",\"esh-\",\"willfully\",\"joking\",\"ruling\",\"comfort_zone\",\"flex\",\"adolescent\",\"administration\",\"amicable\",\"barge\",\"nevermind\",\"casserole\",\"indirectly\",\"heartbreaking\",\"recognition\",\"ramification\",\"carpet\",\"tame\",\"reproduce\",\"reunion\",\"independently\",\"illegally\",\"backstory\",\"thi\",\"era\",\"maddie\",\"rural\",\"gender_reverse\",\"december\",\"encouragement\",\"plead\",\"mansplaining\",\"i\\u2019d\",\"hoe\",\"commend\",\"verge\",\"y_o\",\"slander\",\"breastfe\",\"paranoia\",\"burn_bridge\",\"inadvertently\",\"funding\",\"mute\",\"horrify\",\"sensory\",\"regulate\",\"classy\",\"aversion\",\"fever\",\"1,000\",\"congratulate\",\"multi\",\"dominate\",\"texting\",\"patch\",\"justifiably\",\"objectify\",\"expel\",\"grey\",\"routinely\",\"ntayou're\",\"component\",\"rudeness\",\"motherhood\",\"impregnate\",\"chalk\",\"alarming\",\"implement\",\"toxicity\",\"fortunately\",\"eager\",\"appal\",\"gracefully\",\"recline_seat\",\"uhh\",\"tit_tat\",\"stew\",\"dealer\",\"specialize\",\"bargain\",\"brainwash\",\"vicious\",\"fatty\",\"titty\",\"+1\",\"detriment\",\"blah_blah_blah\",\"proactive\",\"petulant\",\"ordinary\",\"treasure\",\"download\",\"mutually_exclusive\",\"construction\",\"distribute\",\"nudity\",\"shooting\",\"inclusive\",\"soldier\",\"gall\",\"unlock\",\"substantial\",\"dan\",\"attire\",\"keyboard\",\"genetically\",\"jokingly\",\"sugar_daddy\",\"unintentional\",\"highly_recommend\",\"solo_trip\",\"demanding\",\"physician\",\"kissing\",\"insistent\",\"posting\",\"speculate\",\"england\",\"aesthetic\",\"itt\",\"urgent\",\"civilian\",\"affordable\",\"ntai'm\",\"detailed\",\"france\",\"body_positivity\",\"navy\",\"vet_bill\",\"poope\",\"atmosphere\",\"ytahe\",\"clerk\",\"chuckle\",\"quirk\",\"consumption\",\"internally\",\"oven\",\"worrying\",\"qualification\",\"restrictive\",\"preferably\",\"wax\",\"savage\",\"intake\",\"hoa\",\"rib\",\"discretion\",\"appreciative\",\"mend\",\"nest\",\"errand\",\"sucker\",\"10/10\",\"sheesh\",\"ytanot\",\"ben\",\"unspoken\",\"tense\",\"hourly\",\"5th\",\"novel\",\"snowflake\",\"untrustworthy\",\"break_camel\",\"cereal\",\"pipe\",\"snapping\",\"visual\",\"personality_disorder\",\"wholeheartedly\",\"womb\",\"persistent\",\"spicy\",\"nahit\",\"mega\",\"grand_scheme\",\"ostracize\",\"gorgeous\",\"sway\",\"heartbreak\",\"cranky\",\"^\",\"float\",\"imagination\",\"haul\",\"gee\",\"ludicrous\",\"fate\",\"realm\",\"vape\",\"arouse\",\"peeing\",\"known\",\"accompany\",\"offspring\",\"evaluation\",\"shall\",\"briefly\",\"nuisance\",\"dispose\",\"compound\",\"dang\",\"pit_bull\",\"registry\",\"narrow\",\"meth\",\"spout\",\"subway\",\"electric\",\"hinder\",\"graphic\",\"nation\",\"fend\",\"forgiving\",\"noble\",\"alleviate\",\"post_partum\",\"prioritise\",\"soy\",\"exempt\",\"coercion\",\"seperate\",\"hijack\",\"native_american\",\"charlie\",\"immense\",\"supreme\",\"companion\",\"belladonna\",\"whisper\",\"selfie\",\"irrationally\",\"instill\",\"tidy\",\"whoop\",\"cmon\",\"fur\",\"invitation_debate_subject\",\"livelihood\",\"blend\",\"bigoted\",\"exotic\",\"residence\",\"surprisingly\",\"hangup\",\"alien\",\"drunk_driving\",\"zoo\",\"piano\",\"wholesome\",\"nerd\",\"conceal\",\"imbalance\",\"pinch\",\"tofu\",\"instal\",\"hissy_fit\",\"screaming\",\"unheard\",\"pony\",\"rail\",\"sticky\",\"cord\",\"basketball\",\"horrifying\",\"fist\",\"screening\",\"avenue\",\"alt\",\"ted\",\"moot\",\"parking_spot\",\"hog\",\"unload\",\"ireland\",\"charitable\",\"invasion_privacy\",\"rad\",\"tolerant\",\"spotlight\",\"brick\",\"restraint\",\"police_officer\",\"accountability\",\"yta.it\",\"pornography\",\"<3\",\"horrified\",\"preparation\",\"chart\",\"they're\",\"motherfucker\",\"individually\",\"i\\u2019ve\",\"yay\",\"fare\",\"\\ud83d\\ude02_\\ud83d\\ude02\",\"sacred\",\"curfew\",\"microwave\",\"childless\",\"jaw\",\"colossal\",\"haunt\",\"frat\",\"exceptionally\",\"negligent\",\"horn\",\"manipulator\",\"whichever\",\"escalation\",\"peak\",\"visibly\",\"blackout_drunk\",\"readily\",\"cowardly\",\"painfully\",\"stack\",\"blow_proportion\",\"rocky\",\"dancer\",\"living_expense\",\"homemade\",\"bodily_function\",\"conception\",\"miracle\",\"oppress\",\"coast\",\"isolated\",\"awkwardness\",\"negatively_impact\",\"destination_wedding\",\"spew\",\"bedtime\",\"polish\",\"remedy\",\"respectable\",\"err\",\"speak_volume\",\"knit\",\"persuade\",\"looking\",\"stash\",\"jab\",\"unicorn\",\"leadership\",\"asinine\",\"ipad\",\"rehab\",\"unattende\",\"public_transport\",\"west\",\"comeback\",\"cloth\",\"iq\",\"comprehension\",\"subscribe\",\"underweight\",\"offering\",\"serial_killer\",\"sooooo\",\"token\",\"cosmetic\",\"nip_bud\",\"public_transportation\",\"pun\",\"peanut_butter\",\"terminal\",\"notification\",\"anorexia\",\"brace\",\"distinct\",\"needless\",\"sam\",\"skewed\",\"believer\",\"obgyn\",\"rachel\",\"flesh\",\"bbq\",\"new_york\",\"defect\",\"overly_sensitive\",\"sible\",\"insignificant\",\"relaxed\",\"termination\",\"imaginary\",\"publish\",\"lunatic\",\"scapegoat\",\"curly_hair\",\"translation\",\"nepotism\",\"organizer\",\"central\",\"piercing\",\"indefinitely\",\"increasingly\",\"conference\",\"cliche\",\"noisy\",\"nta.she\",\"skew\",\"paper_towel\",\"bachelor_party\",\"non_binary\",\"sharp\",\"clown\",\"inadequate\",\"40\",\"excess\",\"unconditionally\",\"devote\",\"teammate\",\"elevator\",\"capability\",\"hmmm\",\"chastise\",\"united\",\"embryo\",\"minus\",\"bro_code\",\"delude\",\"cling\",\"cracker\",\"dr.\",\"install\",\"slob\",\"elephant\",\"roam\",\"worm\",\"stds\",\"premium\",\"transplant\",\"flatmate\",\"crate\",\"dressed\",\"reader\",\"airplane\",\"yrs\",\"neat\",\"steady\",\"ample\",\"africa\",\"hub\",\"r_entitledparent\",\"partial\",\"legal_guardian\",\"bystander\",\"unsupportive\",\"venture\",\"vaccinated\",\"mandate\",\"bleeding\",\"absorb\",\"mow_lawn\",\"elder\",\"wednesday\",\"said\",\"san\",\"whistle\",\"slippery_slope\",\"scouts\",\"upcoming\",\"rhetoric\",\"robot\",\"bode\",\"incubator\",\"software\",\"valuable_lesson\",\"recourse\",\"april\",\"demonize\",\"operation\",\"yogurt\",\"elope\",\"adventure\",\"roomie\",\"repulse\",\"unsupervise\",\"tent\",\"goodwill\",\"vain\",\"pedantic\",\"egregious\",\"motivated\",\"yellow\",\"terrifying\",\"deserved\",\"bout\",\"residency\",\"victimize\",\"harbor\",\"bald\",\"identical_twin\",\"gender_dysphoria\",\"misplace\",\"curl\",\"orange\",\"spice\",\"jessica\",\"universally\",\"inlaw\",\"women\",\"bitterness\",\"disguise\",\"beast\",\"conspiracy\",\"badass\",\"satisfying\",\"dominance\",\"uti\",\"martyr\",\"grain_salt\",\"prof\",\"exaggeration\",\"desert\",\"penalty\",\"guise\",\"insanity\",\"needle\",\"generate\",\"bleach\",\"australian\",\"kinky\",\"spaghetti\",\"efficient\",\"shitti\",\"salon\",\"ouch\",\"\\\"if\",\"fundraiser\",\"musical\",\"concede\",\"instigate\",\"troubled\",\"contraceptive\",\"realization\",\"retarded\",\"sobriety\",\"partake\",\"stepsister\",\"testosterone\",\"glare\",\"loaded\",\"nta.this\",\"hood\",\"dilemma\",\"hairstyle\",\"pleased\",\"empower\",\"mo\",\"asthma\",\"execute\",\"louder\",\"executive\",\"assertive\",\"moreso\",\"maker\",\"frown\",\"vegans\",\"commission\",\"sweetie\",\"speculation\",\"confine\",\"ft\",\"planner\",\"solidify\",\"shiny\",\"ounce\",\"overstep_boundary\",\"service_industry\",\"golf\",\"compatibility\",\"forehead\",\"accusatory\",\"melt\",\"befriend\",\"postpartum_depression\",\"gum\",\"debilitate\",\"fantasize\",\"vitamin\",\"y'know\",\"taco\",\"retard\",\"nurture\",\"psychiatric\",\"astounding\",\"dash\",\"talented\",\"higher\",\"breathing\",\"sociopathic\",\"morbidly_obese\",\"cognitive\",\"tube\",\"cope_mechanism\",\"dishonesty\",\"knee_jerk_reaction\",\"epic\",\"badger\",\"misuse\",\"dangerously\",\"construct\",\"spank\",\"ratio\",\"atheism\",\"january\",\"ace\",\"tattle\",\"centre\",\"exacerbate\",\"repulsive\",\"hiking\",\"jam\",\"preferred\",\"disclaimer\",\"rainbow\",\"meter\",\"obsessed\",\"armpit\",\"wildlife\",\"electricity\",\"trolling\",\"annual\",\"resemble\",\"defamation\",\"mystery\",\"disproportionate\",\"extended_period\",\"pantry\",\"evidently\",\"morning_sickness\",\"challenging\",\"wardrobe\",\"rectify\",\"determined\",\"hockey\",\"marathon\",\"apt\",\"patronize\",\"tremendous\",\"bulimia\",\"massive_red_flag\",\"ytathe\",\"publicly_humiliate\",\"apologizing\",\"flood\",\"curtain\",\"revisit\",\"bent\",\"mentor\",\"prohibit\",\"aswell\",\"locker_room\",\"approximately\",\"liver\",\"worldview\",\"unwelcome\",\"climate\",\"mall\",\"follower\",\"uphold\",\"hrs\",\"certify\",\"penetrative\",\"asd\",\"intolerant\",\"hack\",\"sew\",\"i.e\",\"unpredictable\",\"unbiased\",\"stupidly\",\"gladly\",\"technical\",\"furrie\",\"critique\",\"snore\",\"toxic_masculinity\",\"burrito\",\"granddaughter\",\"considering\",\"urine\",\"perpetrator\",\"photograph\",\"reluctant\",\"poo\",\"unfit\",\"downside\",\"unwind\",\"gymnastic\",\"ankle\",\"reconnect\",\"sweetheart\",\"sand\",\"gratification\",\"execution\",\"cement\",\"draft\",\"apartment_complex\",\"unsolicited_advice\",\"newsflash\",\"low_self_esteem\",\"reduction\",\"redirect\",\"balloon\",\"wank\",\"disapprove\",\"commit_suicide\",\"pronunciation\",\"hallway\",\"nosy\",\"disdain\",\"elitist\",\"yank\",\"nip\",\"notch\",\"bluntly\",\"diploma\",\"lgbtq+\",\"laughter\",\"flirting\",\"immune\",\"taste_medicine\",\"technicality\",\"stepparent\",\"snob\",\"fleshlight\",\"subsidize\",\"supermarket\",\"cc\",\"hostility\",\"external\",\"washer\",\"fraction\",\"abstinence\",\"voluntary\",\"mundane\",\"expire\",\"mechanism\",\"going\",\"yah\",\"children\",\"wrestle\",\"transport\",\"discharge\",\"hearted\",\"ritual\",\"bee\",\"turd\",\"butthole\",\"ham\",\"earplug\",\"dnd\",\"postpone\",\"eligible\",\"you've\",\"anger_management\",\"flippant\",\"outdated\",\"terrorist\",\"lyft\",\"awfully\",\"proceeding\",\"jersey\",\"pickle\",\"mrs.\",\"explore_sexuality\",\"conflate\",\"locate\",\"heartbreake\",\"materialistic\",\"puzzle\",\"hiding\",\"clip\",\"temperature\",\"grader\",\"wit\",\"representative\",\"contemplate\",\"confession\",\"politely_decline\",\"ultrasound\",\"overwhelmingly\",\"deceptive\",\"transwoman\",\"30k\",\"latino\",\"infringe\",\"ho\",\"peaceful\",\"dui\",\"p.s.\",\"angrily\",\"temple\",\"intolerance\",\"applicable\",\"able_bodied\",\"dragon\",\"needs\",\"mat\",\"\\\"it\",\"mission\",\"author\",\"gravity\",\"mtf\",\"analyze\",\"eshyour\",\"attention_seeking\",\"carer\",\"probability\",\"sword\",\"superiority\",\"esa\",\"bragging\",\"horrid\",\"stimulation\",\"allergen\",\"ff\",\"dive\",\"contagious\",\"coconut\",\"immune_system\",\"ski\",\"designer\",\"snide\",\"\\ud83e\\udd37_\\ud83c\\udffb\\u200d_\\u2640_\\ufe0f\",\"gotcha\",\"umm\",\"mormon\",\"mighty\",\"egotistical\",\"eshshe\",\"insulin\",\"removal\",\"neurotypical\",\"flee\",\"august\",\"custodial\",\"marvel\",\"subconscious\",\"chili\",\"terminology\",\"1k\",\"marine\",\"endless\",\"50\",\"unlocked\",\"preferable\",\"intoxicate\",\"diary\",\"regain\",\"pedophilia\",\"smoothly\",\"shooter\",\"ob\",\"mcdonalds\",\"wed\",\"passing\",\"factual\",\"piggy\",\"chapter\",\"jeremy\",\"cringy\",\"rotten\",\"tournament\",\"information_misunderstand\",\"adequately\",\"noticeable\",\"asking\",\"oppression\",\"motorcycle\",\"hive\",\"/r_legaladvice\",\"knowledgeable\",\"cultural_appropriation\",\"wager\",\"butts\",\"bodily\",\"overhear\",\"mentally_disabled\",\"killing\",\"breast_milk\",\"girly\",\"ntaand\",\"infinitely\",\"xd\",\"cs\",\"wrist\",\"\\ud83e\\udd23\",\"delivery_driver\",\"classify\",\"stretch_mark\",\"fitting\",\"walking\",\"smith\",\"misconception\",\"vocabulary\",\"infer\",\"illogical\",\"transparent\",\"condolence\",\"passive_aggressively\",\"snatch\",\"glue\",\"manchild\",\"flattering\",\"cornell\",\"mouse\",\"relapse\",\"plane_ticket\",\"reset\",\"you-\",\"momma\",\"recieve\",\"en\",\"correlate\",\"italy\",\"whack\",\"radical\",\"quitting\",\"sausage\",\"disclosure\",\"nauseous\",\"rebel\",\"humility\",\"alongside\",\"negotiation\",\"ada\",\"memorial\",\"10,000\",\"suitcase\",\"tub\",\"stern\",\"fatigue\",\"glorify\",\"p\",\"lessen\",\"\\ud83d\\ude0a\",\"faggot\",\"dearly\",\"concentrate\",\"nationality\",\"sustainable\",\"sleep_deprivation\",\"meta\",\"thrust\",\"modest\",\"hysterical\",\"aa\",\"correlation\",\"trespass\",\"tasty\",\"wildly_inappropriate\",\"donate_kidney\",\"voting\",\"liquor\",\"distribution\",\"hypothetically\",\"bikinis\",\"literature\",\"potty\",\"proportional\",\"launch\",\"jew\",\"hunting\",\"unfounded\",\"witch\",\"grey_area\",\"rear\",\"advisor\",\"hesitation\",\"mold\",\"bingo\",\"consumer\",\"vast\",\"2/3\",\"swimsuit\",\"it-\",\"forgetful\",\"menstrual\",\"demon\",\"plainly\",\"trivialize\",\"buyer\",\"armchair\",\"ms\",\"ig\",\"inexcusable\",\"ryan\",\"prevention\",\"wrongly\",\"repayment\",\"animosity\",\"musician\",\"dirty_laundry\",\"drip\",\"listener\",\"scientist\",\"impair\",\"vomiting\",\"annie\",\"clause\",\"selection\",\"inaccurate\",\"naughty\",\"google_search\",\"pubis\",\"captain\",\"gradually\",\"hiring\",\"autocorrect\",\"respective\",\"consist\",\"promptly\",\"degrading\",\"showing\",\"elbow\",\"lid\",\"supporter\",\"participation\",\"3x\",\"smear\",\"partum_depression\",\"dine\",\"defeat\",\"embarasse\",\"dibs\",\"exhaustion\",\"carb\",\"apologize_profusely\",\"blast_music\",\"short_sighted\",\"detach\",\"sting\",\"reflex\",\"uninformed\",\"entity\",\"spineless\",\"fetch\",\"educator\",\"shrink\",\"hunger\",\"domme\",\"journal\",\"entrance\",\"amber_alert\",\"white_supremacist\",\"moral_compass\",\"marketing\",\"sneeze\",\"donut\",\"village\",\"truthfully\",\"unwarranted\",\"native_language\",\"1/4\",\"antagonize\",\"fifth\",\"sob_story\",\"acquire\",\"sahp\",\"digital\",\"ytathere\",\"holocaust\",\"bfs\",\"cleanliness\",\"spawn\",\"predictable\",\"buying\",\"suppress\",\"addictive\",\"rearrange\",\"loathe\",\"earring\",\"pedestrian\",\"duration\",\"lemon\",\"ancient\",\"precedence\",\"conversion\",\"dealership\",\"impressionable\",\"illustrate\",\"fabric\",\"mr\",\"wrongdoing\",\"widower\",\"unreliable\",\"citizenship\",\"dj\",\"commercial\",\"bam\",\"filthy\",\"opposed\",\"bat_eye\",\"cocktail\",\"hospitality\",\"vibrate\",\"waist\",\"kennel\",\"aftermath\",\"socially_awkward\",\"ogle\",\"dot\",\"patronizing\",\"assholes\",\"east\",\"kit\",\"stinky\",\"im\",\"consistency\",\"sustain\",\"solidarity\",\"infect\",\"dental\",\"teasing\",\"deceitful\",\"disparity\",\"fetishize\",\"rough_patch\",\"appetite\",\"prevalent\",\"exaggerated\",\"perk\",\"frequency\",\"refill\",\"grownup\",\"misinform\",\"unknowingly\",\"credit_score\",\"extracurricular\",\"niceguy\",\"combo\",\"uneducated\",\"2x\",\"ahh\",\"mob\",\"tiffany\",\"vaguely\",\"transactional\",\"i'll\",\"backbone\",\"quantity\",\"\\\"that\",\"distasteful\",\"malicious_intent\",\"differentiate\",\"thigh\",\"ita\",\"\\u20ac\",\"racially\",\"suspension\",\"abhorrent\",\"dipshit\",\"uneasy\",\"ache\",\"mercy\",\"empathise\",\"upscale\",\"mill\",\"ytawhat\",\"derail\",\"breast_feeding\",\"unimportant\",\"rifle\",\"alabama\",\"grounding\",\"iffy\",\"pikachu\",\"skilled\",\"weekday\",\"fond\",\"inconsequential\",\"prosecute\",\"granny\",\"intended\",\"mgtow\",\"xmas\",\"sky\",\"paw\",\"dysphoria\",\"pry\",\"mans\",\"strive\",\"razor\",\"heap\",\"garlic\",\"worsen\",\"violate_privacy\",\"cosplay\",\"incline\",\"cooking_cleaning\",\"impolite\",\"discard\",\"ftm\",\"dye_hair\",\"sever\",\"freeloader\",\"umbrella\",\"unforgivable\",\"earner\",\"forgo\",\"rep\",\"janitor\",\"desirable\",\"serving\",\"trunk\",\"developmentally\",\"television\",\"handsome\",\"insta\",\"\\ud83e\\udd26\",\"connected\",\"hype\",\"christ_sake\",\"thong\",\"15k\",\"extravagant\",\"domestic_abuse\",\"amusing\",\"gendere\",\"shoulda\",\"reptile\",\"excessively\",\"leisure\",\"deserving\",\"accessory\",\"unbearable\",\"medicate\",\"diarrhea\",\"hash\",\"fume\",\"pet_peeve\",\"russian\",\"liquid\",\"charming\",\"homeschoole\",\"dummy\",\"phenomenon\",\"documentation\",\"introspection\",\"mommy_daddy\",\"pto\",\"cabin\",\"earbud\",\"hound\",\"prostitution\",\"dehumanizing\",\"unilateral_decision\",\"ooh\",\"spirited\",\"ceo\",\"muster\",\"takeout\",\"commentary\",\"brake\",\"mediocre\",\"preface\",\"propaganda\",\"dutch\",\"barista\",\"'em\",\"ot\",\"polyamorous\",\"catering\",\"pilot\",\"overprotective\",\"dwell\",\"melissa\",\"forcibly\",\"moderation\",\"psa\",\"bribe\",\"discriminatory\",\"psyche\",\"creeper\",\"combative\",\"argumentative\",\"fuzzy\",\"comfy\",\"emu\",\"subsequent\",\"suited\",\"childs\",\"cabinet\",\"documentary\",\"instruct\",\"shitshow\",\"credibility\",\"fictional\",\"insistence\",\"pedestal\",\"understatement\",\"rigid\",\"dd\",\"2k\",\"decoration\",\"immigration\",\"workload\",\"\\ud83c\\udffb\",\"awkwardly\",\"psychosis\",\"harvard\",\"happily_married\",\"coverage\",\"brigade\",\"bruce\",\"mic\",\"beating\",\"sally\",\"yearly\",\"nausea\",\"trafficking\",\"album\",\"civilized\",\"handy\",\"\\u2800\",\"concession\",\"horrendous\",\"donate_sperm\",\"hostess\",\"implicit\",\"homie\",\"proxy\",\"crux\",\"arrogance\",\"ikr\",\"sweater\",\"distinguish\",\"hawaii\",\"warped\",\"interject\",\"coping_mechanism\",\"glass_wine\",\"environmental\",\"hidden\",\"90\",\"overlap\",\"tear_apart\",\"soothe\",\"micro_penis\",\"discreet\",\"nahbut\",\"quiz\",\"tat\",\"fat_shaming\",\"ward\",\"disbelief\",\"ghosting\",\"preppe\",\"incorporate\",\"rap\",\"sniff\",\"feral_cat\",\"co_parenting\",\"stove\",\"crystal\",\"hairy\",\"diligence\",\"x200b;you\",\"asians\",\"ulterior_motive\",\"unlimited\",\"drive_wedge\",\"toast\",\"baseline\",\"clog\",\"overtly\",\"doubtful\",\"bonker\",\"asia\",\"swoop\",\"counsellor\",\"missing\",\"broccoli\",\"rag\",\"oversight\",\"formatting\",\"knowing\",\"unavailable\",\"aggravate\",\"validity\",\"breastmilk\",\"hiv\",\"punctuation\",\"recording\",\"heartfelt\",\"smartphone\",\"paternal\",\"dig_heel\",\"anorexic\",\"clickbait\",\"rapidly\",\"kicker\",\"broadcast\",\"raman\",\"workforce\",\"yuck\",\"creation\",\"ultra\",\"planned\",\"uptight\",\"complete_utter\",\"darn\",\"tenancy\",\"popularity\",\"debatable\",\"utilize\",\"singular\",\"envision\",\"deck\",\"barrel\",\"piv\",\"reprehensible\",\"edgelord\",\"flexibility\",\"stimulate\",\"10k\",\"unreasonably\",\"bathing_suit\",\"abbreviation\",\"magnitude\",\"surrounding\",\"monetary_value\",\"grieving_process\",\"accomodate\",\"\\ud83d\\udc4d\",\"courthouse\",\"ancestor\",\"false_pretense\",\"hoarder\",\"tack\",\"dedication\",\"mac\",\"overkill\",\"neuter\",\"corn\",\"porch\",\"agnostic\",\"curriculum\",\"pokemon\",\"obstacle\",\"hm\",\"\\\"this\",\"rapey\",\"20k\",\"premature\",\"chin\",\"whooping_cough\",\"april_fool\",\"untrained\",\"sixteen\",\"multitude\",\"ambitious\",\"obscure\",\"rsvp\",\"expressly\",\"ytathat\",\"rowdy\",\"ynta\",\"omnivore\",\"referral\",\"exclusion\",\"twitter\",\"ancestry\",\"professionalism\",\"string_attach\",\"disobey\",\"hometown\",\"saddle\",\"divorced\",\"x200b;&#x200b\",\"fallacy\",\"blurt\",\"doable\",\"holy_thou\",\"outlier\",\"leaving\",\"michael\",\"spiritual\",\"snub\",\"poisoning\",\"antibiotic\",\"inexpensive\",\"chaos\",\"80\",\"possess\",\"implicitly\",\"loophole\",\"failing\",\"heartache\",\"politically\",\"atrocious\",\"mansplaine\",\"homeowner\",\"colored\",\"judgy\",\"forfeit\",\"skim\",\"defer\",\"taunt\",\"snip\",\"orgy\",\"viral\",\"widely\",\"sanitary\",\"attendant\",\"justnomil\",\"clash\",\"deficiency\",\"lenient\",\"eating_habit\",\"eve\",\"unresolved\",\"eater\",\"pun_intend\",\"cuck\",\"shovel\",\"ineffective\",\"resistance\",\"manufacture\",\"chaotic\",\"micro\",\"million_dollar\",\"formally\",\"dressing\",\"obligatory\",\"proclaim\",\"petition\",\"misunderstood\",\"tracking\",\"ghetto\",\"entree\",\"significance\",\"financial_aid\",\"abstain\",\"insure\",\"nta.he\",\"dodgy\",\"closeness\",\"aw\",\"lousy\",\"june\",\"oops\",\"theoretically\",\"discredit\",\"soften\",\"sole_purpose\",\"middle_aged\",\"moms\",\"corporation\",\"roomate\",\"deodorant\",\"tactfully\",\"shorten\",\"placate\",\"island\",\"ytawhy\",\"poland\",\"assholeness\",\"d&d\",\"acknowledgement\",\"collective\",\"enrage\",\"diabete\",\"spontaneous\",\"dowry\",\"alarm_bell\",\"ntawhat\",\"lack_thereof\",\"polyamory\",\"uber_driver\",\"alpha\",\"investigation\",\"chicken_nugget\",\"left_lane\",\"non_existent\",\"allegedly\",\"temp\",\"stylist\",\"\\u2800_\\u2800_\\u2800_\\u2800\",\"penetrate\",\"cup_tea\",\"underrated\",\"hoop\",\"unemployment\",\"injustice\",\"rebound\",\"highly_unlikely\",\"tailor\",\"ny\",\"rephrase\",\"heinous\",\"strained\",\"throwaway_account\",\"preteen\",\"epitome\",\"variable\",\"yelp\",\"trample\",\"recipe_disaster\",\"$_10k\",\"juicy\",\"merge\",\"decorate\",\"lion\",\"waaaay\",\"nicu\",\"sidebar\",\"inconsistent\",\"continent\",\"agreed\",\"parallel\",\"clutch\",\"ambiguous\",\"metaphor\",\"vulnerability\",\"idc\",\"mrs\",\"discord\",\"nc\",\"secular\",\"uhhh\",\"unsettling\",\"catch_guard\",\"pickup\",\"unhinged\",\"advertising\",\"cocaine\",\"behold\",\"wee\",\"lounge\",\"bestie\",\"measurement\",\"map\",\"cynical\",\"kidnapping\",\"ohh\",\"gatekeeping\",\"rewarding\",\"fatherhood\",\"amen\",\"bowling\",\"impatient\",\"sexual_compatibility\",\"overthinke\",\"fishing\",\"sitcom\",\"passage\",\"dangle\",\"recruit\",\"watch?v_=\",\"faux_pas\",\"notoriously\",\"security_camera\",\"nuke\",\"boomer\",\"civility\",\"pharmacy\",\"controller\",\"hahahaha\",\"vein\",\"handed\",\"eshi\",\"magazine\",\"reap\",\"manual\",\"frugal\",\"qualm\",\"intensive\",\"ivy_league\",\"photography\",\"bankrupt\",\"encouraging\",\"harp\",\"south_america\",\"london\",\"interpersonal\",\"na\",\"criticise\",\"winning\",\"alike\",\"definetly\",\"hysterectomy\",\"indoctrination\",\"predicament\",\"george\",\"subtly\",\"belligerent\",\"dominant\",\"benign\",\"inject\",\"psychic\",\"sweaty\",\"feral\",\"semblance\",\"sunshine\",\"skinned\",\"fetal\",\"gullible\",\"ambulance\",\"hen\",\"gel\",\"40k\",\"5,000\",\"prolong\",\"righteous\",\"echo\",\"urban\",\"suite\",\"instrument\",\"indoctrinate\",\"rally\",\"karaoke\",\"capitalism\",\"juggle\",\"fascist\",\"distraught\",\"inflate\",\"stoop\",\"retract\",\"elite\",\"capital\",\"amuse\",\"squat\",\"enthusiasm\",\"strengthen\",\"unwell\",\"confederate_flag\",\"shotgun\",\"declaw\",\"charm\",\"budgeting\",\"rampant\",\"decently\",\"reputable\",\"graciously\",\"x.\",\"grievance\",\"terror\",\"controversy\",\"neckbeard\",\"summary\",\"fluent\",\"timely\",\"nitpick\",\"compulsive\",\"pa\",\"pseudo\",\"ummm\",\"healthily\",\"stipulation\",\"mud\",\"cold_shoulder\",\"lottery\",\"weave\",\"frivolous\",\"parameter\",\"scoop\",\"lapse\",\"enlighten\",\"fortune\",\"contractor\",\"kin\",\"times\",\"diffuse\",\"jeopardy\",\"unanimous\",\"oxygen\",\"boggle\",\"run_errand\",\"doesn\\u2019t\",\"fat_acceptance\",\"van\",\"zombie\",\"november\",\"suburb\",\"road_rage\",\"al\",\"exert\",\"undertone\",\"converse\",\"liking\",\"wisely\",\"touchy_subject\",\"misinformation\",\"transgression\",\"gaslit\",\"ross\",\"kat\",\"3/4\",\"preventable\",\"penalize\",\"deployment\",\"armed\",\"dependency\",\"gallon\",\"peek\",\"porn_star\",\"luggage\",\"render\",\"morale\",\"determination\",\"collapse\",\"condo\",\"chromosome\",\"vest\",\"unhelpful\",\"hater\",\"handler\",\"craigslist\",\"hoo\",\"euthanize\",\"definitive\",\"intentione\",\"chief\",\"odor\",\"goof\",\"welp\",\"upload\",\"fuckup\",\"cane\",\"gatekeep\",\"damned\",\"elementary\",\"unequal\",\"w/\",\"orient\",\"yeesh\",\"spade\",\"lust\",\"doggo\",\"guidance_counselor\",\"100,000\",\"companionship\",\"performer\",\"unsanitary\",\"recharge\",\"nta.but\",\"artificial\",\"miniature\",\"logistic\",\"scrap\",\"sperm_bank\",\"peacefully\",\"mobility\",\"shaving\",\"uproot\",\"streak\",\"amd\",\"brainer\",\"indifferent\",\"punk\",\"factually\",\"disparage\",\"yta.your\",\"dictionary\",\"equitable\",\"speaking\",\"tux\",\"ponytail\",\"\\ud83e\\udd37_\\u200d_\\u2640_\\ufe0f\",\"security_guard\",\"profusely\",\"arguing\",\"agony\",\"\\u28ff\",\"mop\",\"can\\u2019t\",\"unleash\",\"comedian\",\"fortnite\",\"revelation\",\"extortion\",\"revealing\",\"sleeper\",\"teachable_moment\",\"orphan\",\"laughing\",\"beta\",\"satan\",\"amazingly\",\"untreated\",\"tuck\",\"swimmer\",\"hallmark\",\"washing_machine\",\"bodily_fluid\",\"boxer\",\"cultivate\",\"tangible\",\"modification\",\"ntathey\",\"taking\",\"eyed\",\"overwhelm\",\"vicariously\",\"coordinate\",\"mood_swing\",\"skull\",\"scooter\",\"outbreak\",\"macho\",\"oddly\",\"extensive\",\"suprise\",\"involuntary\",\"interruption\",\"stalking\",\"concussion\",\"meal_prep\",\"|_abbreviation--\",\"kiddos\",\"reimbursement\",\"curry\",\"relocate\",\"crass\",\"endorse\",\"counterproductive\",\"ovary\",\"rescind\",\"david\",\"knot\",\"prospective\",\"corpse\",\"nursery\",\"checking\",\"line_sand\",\"cotton\",\"incur\",\"solicit\",\"reactive\",\"youre\",\"stingy\",\"3k\",\"adverse\",\"backseat\",\"won't\",\"abbreviation_bot_ignore\",\"reckon\",\"dope\",\"echo_chamber\",\"gift_giving\",\"parasite\",\"loved\",\"expertise\",\"essence\",\"crib\",\"eventual\",\"fox\",\"lyric\",\"batch\",\"farther\",\"mind_boggle\",\"foul\",\"nbd\",\"slang\",\"helper\",\"secrecy\",\"splurge\",\"spoilt\",\"sloppy\",\"following\",\"considerably\",\"pertinent\",\"insulted\",\"spreadsheet\",\"blink\",\"plague\",\"forest\",\"anecdotal\",\"sup\",\"addicted\",\"hopeless\",\"handout\",\"september\",\"fall_category\",\"mesh\",\"boarding\",\"radar\",\"timer\",\"drift\",\"sheep\",\"depressing\",\"doorstep\",\"manageable\",\"bracelet\",\"da\",\"moronic\",\"proximity\",\"jug\",\"motel\",\"cam\",\"disinvite\",\"ivy\",\"heh\",\"reliant\",\"irk\",\"sooner_later\",\"mourning\",\"discourse\",\"x_y_z\",\"x200b;if\",\"nutritional\",\"bolt\",\"wth\",\"squirrel\",\"intensely\",\"stiffe\",\"erect\",\"margin\",\"innocence\",\"c.\",\"circumcise\",\"receptionist\",\"keeping\",\"lest\",\"sip\",\"elect\",\"accommodating\",\"pumping\",\"relieved\",\"relive\",\"autism_spectrum\",\"anti_vax\",\"whatsapp\",\"medieval\",\"napkin\",\"avoidable\",\"drinker\",\"slam_door\",\"lactose\",\"intact\",\"bombard\",\"ness\",\"crayon\",\"spay\",\"champ\",\"tremendously\",\"memorialize\",\"speed_limit\",\"dependant\",\"mimic\",\"self_centre\",\"noon\",\"collectively\",\"slutty\",\"fatal\",\"transmit\",\"chose\",\"brunt\",\"sexually_compatible\",\"surrender\",\"survey\",\"vulgar\",\"fairy\",\"pro_con\",\"victory\",\"sheltered\",\"fabricate\",\"litter_box\",\"collateral\",\"militant\",\"thirsty\",\"hooker\",\"ifs\",\"humane\",\"tutorial\",\"arnt\",\"unlucky\",\"submissive\",\"dam\",\"neighbourhood\",\"wicked\",\"also-\",\"credential\",\"deteriorate\",\"picnic\",\"sophomore\",\"gravy\",\"placement\",\"unwillingness\",\"fearful\",\"stealing\",\"closing\",\"faulty\",\"arrival\",\"rile\",\"brunch\",\"squash\",\"shat\",\"irs\",\"february\",\"evident\",\"flatter\",\"overestimate\",\"actress\",\"acid\",\"artistic\",\"wouldn't\",\"reserved\",\"greed\",\"antiquated\",\"fidelity\",\"financially_stable\",\"veto_power\",\"bouncer\",\"surgical\",\"3.5\",\"60\",\"oop\",\"lobby\",\"catalyst\",\"jobless\",\"convincing\",\"barber\",\"promiscuous\",\"sterilize\",\"incapacitate\",\"bench\",\"abstract\",\"scarf\",\"kidding\",\"wrapper\",\"baking\",\"unfollow\",\"blindness\",\"hamburger\",\"blah_blah\",\"partying\",\"rearing\",\"driver_license\",\"midwife\",\"ye\",\"hyperbole\",\"sicken\",\"yta.she\",\"consenting\",\"friggin\",\"footage\",\"definitively\",\"hindu\",\"muffin\",\"masse\",\"detention\",\"outlandish\",\"ntaas\",\"seatbelt\",\"ste\",\"circus\",\"lego\",\"eternity\",\"muscle_mass\",\"r_amitheasshole_wiki\",\"facetime\",\"goddamne\",\"probable\",\"twitch\",\"trailer\",\"narrator\",\"misconstrue\",\"hentai\",\"retrospect\",\"sport_bra\",\"outwardly\",\"pearl\",\"savior\",\"bridal_shower\",\"blood_boil\",\"bun\",\"gem\",\"computer_science\",\"lurk\",\"potluck\",\"safety_net\",\"guac\",\"fece\",\"\\u201di\",\"activist\",\"news_flash\",\"nope_nope\",\"allocate\",\"ceiling\",\"resign\",\"innocently\",\"fred\",\"nicole\",\"hun\",\"drug_dealer\",\"proposition\",\"dull\",\"rider\",\"andy\",\"fiber\",\"unironically\",\"remorseful\",\"allude\",\"bummer\",\"malnourish\",\"passively\",\"networking\",\"isolation\",\"raise_eyebrow\",\"agressive\",\"tender\",\"non_confrontational\",\"checkout\",\"faculty\",\"chad\",\"brutally\",\"paper_trail\",\"peep\",\"impede\",\"overstep_bound\",\"royally\",\"submission\",\"upkeep\",\"abundantly_clear\",\"scramble\",\"ella\",\"tread\",\"utensil\",\"underneath\",\"tennis\",\"woe\",\"proudly\",\"law_enforcement\",\"lad\",\"dean\",\"skin_colour\",\"pander\",\"\\ud83d\\ude02_\\ud83d\\ude02_\\ud83d\\ude02\",\"zip\",\"feign\",\"birthing\",\"constructive_criticism\",\"hospitalize\",\"relay\",\"r_justnofamily\",\"personality_trait\",\"someplace\",\"booty\",\"ehhh\",\"moderator\",\"batshit\",\"verse\",\"nonsensical\",\"marines\",\"irregular\",\"itch\",\"unprepared\",\"waaaaay\",\"game_thrones\",\"climax\",\"appliance\",\"seeker\",\"steamroll\",\"unappreciated\",\"vanity\",\"divulge\",\"currency\",\"july\",\"nonstop\",\"km\",\"her-\",\"jones\",\"nugget\",\"blur\",\"chicago\",\"packet\",\"ladder\",\"bay\",\"gen\",\"loosen\",\"|\",\"misguide\",\"wink\",\"primary_caregiver\",\"headline\",\"annulment\",\"spam\",\"impartial\",\"imma\",\"metabolism\",\"procreate\",\"sugar_coat\",\"administrator\",\"endometriosis\",\"recover_alcoholic\",\"pierce\",\"detect\",\"tribe\",\"downvote_oblivion\",\"nicer\",\"gunna\",\"wikipedia\",\"$_500k\",\"cable\",\"dire\",\"rumour\",\"politician\",\"ergo\",\"carbs\",\"spousal\",\"handling\",\"printer\",\"fr\",\"lovingly\",\"vaginas\",\"korea\",\"volatile\",\"remainder\",\"formative\",\"exceed\",\"pricey\",\"wrench\",\"manipulation_tactic\",\"concentration\",\"lo\",\"genocide\",\"reconciliation\",\"moose\",\"stoner\",\"assuage\",\"castle\",\"sincere_apology\",\"optimistic\",\"dawn\",\"found\",\"dh\",\"financial_stability\",\"sketch\",\"derive\",\"clit\",\"election\",\"earshot\",\"damaged\",\"defensiveness\",\"reclaim\",\"self_preservation\",\"unreal\",\"diner\",\"afterthought\",\"typos\",\"runner\",\"alley\",\"aloud\",\"seafood\",\"restore\",\"cram\",\"x200b;it\",\"sexte\",\"rural_area\",\"mixed_race\",\"waitstaff\",\"dent\",\"aww\",\"appealing\",\"nigger\",\"dong\",\"piggyback\",\"gray_area\",\"friction\",\"eyebrow\",\"excusable\",\"portfolio\",\"eugenic\",\"discreetly\",\"antisocial\",\"thursday\",\"scalp\",\"prude\",\"pride_parade\",\"aids\",\"transitioning\",\"doggy\",\"status_quo\",\"respected\",\"wrestling\",\"antique\",\"chlamydia\",\"contexts\",\"pubic_hair\",\"electric_toothbrush\",\"forceful\",\"enlist\",\"russia\",\"adjective\",\"finding\",\"archaic\",\"50k\",\"cripple\",\"male_dominate\",\"rehearsal\",\"takeaway\",\"religiously\",\"sympathise\",\"tango\",\"st\",\"swallow_pride\",\"half_asse\",\"attacker\",\"luna\",\"extremist\",\"unloved\",\"mistrust\",\"jury\",\"beater\",\"inclusion\",\"madam\",\"tamper\",\"tally\",\"thot\",\"cuisine\",\"ingest\",\"phobic\",\"beautifully\",\"nta.the\",\"diplomatic\",\"micromanage\",\"reporter\",\"fafsa\",\"airbnb\",\"afaik\",\"mount\",\"ytaand\",\"ehh\",\"cooked\",\"knew\",\"depressive\",\"jet\",\"lobster\",\"devolve\",\"wedge\",\"discovery\",\"\\ud83e\\udd37\",\"sinner\",\"temptation\",\"judge_harshly\",\"bumper\",\"turmoil\",\"singer\",\"lemme\",\"displeasure\",\"oneself\",\"chronic_illness\",\"memento\",\"renter\",\"inspiration\",\"shark\",\"6th\",\"fella\",\"implied\",\"residential\",\"nappy\",\"anne\",\"accepting\",\"tan\",\"ovarian_cyst\",\"ocean\",\"r_thathappene\",\"pound_sand\",\"ethnically\",\"cooler\",\"tp\",\"melodramatic\",\"detective\",\"green_card\",\"foreigner\",\"allegation\",\"batshit_crazy\",\"adamantly\",\"pr\",\"becuase\",\"creator\",\"bargaining\",\"deploy\",\"rave\",\"wasteful\",\"voicemail\",\"profoundly\",\"cutting\",\"sincerity\",\"butterfly\",\"cutter\",\"dim\",\"aussie\",\"pencil\",\"scheduling\",\"bothered\",\"bumble\",\"visibility\",\"sephora\",\"patriarchy\",\"cant\",\"false_accusation\",\"interference\",\"housekeeping\",\"firsthand\",\"spur_moment\",\"schoolwork\",\"hunch\",\"desensitize\",\"brutally_honest\",\"generational\",\"loneliness\",\"crank\",\"sprinkle\",\"undeniably\",\"renew\",\"credible\",\"erection\",\"comp\",\"comb\",\"forgivable\",\"faux\",\"shush\",\"exceptional\",\"dom\",\"hah\",\"retreat\",\"spy\",\"lake\",\"seller\",\"strawberry\",\"foreskin\",\"shirtless\",\"8th_grade\",\"borderline_personality\",\"boast\",\"unjustified\",\"latina\",\"narc\",\"atlanta\",\"contrast\",\"oooh\",\"plot_twist\",\"amateur\",\"wallow\",\"betrayed\",\"irritation\",\"estrange\",\"prestigious\",\"reciprocation\",\"niche\",\"similarity\",\"breed_resentment\",\"md\",\"gripe\",\"assertion\",\"sd\",\"meetup\",\"trace\",\"reflect_poorly\",\"vehemently\",\"otoh\",\"jess\",\"witcher\",\"artwork\",\"unhygienic\",\"dysfunction\",\"critically\",\"sat\",\"faced\",\"\\ud83d\\ude05\",\"awe\",\"\\ud83d\\ude2d\",\"outraged\",\"horseshit\",\"pardon\",\"vigilant\",\"eshhe\",\"global\",\"caller\",\"frightening\",\"payout\",\"established\",\"northern\",\"r_pettyrevenge\",\"tread_carefully\",\"amusement\",\"sensation\",\"chronic_pain\",\"absurdly\",\"catcall\",\"asexuality\",\"\\\"the\",\"a+\",\"stiff\",\"unrealistic_expectation\",\"ldr\",\"cm\",\"locally\",\"feather\",\"germaphobe\",\"ss\",\"commendable\",\"footing\",\"mistress\",\"contraction\",\"uncertain\",\"x200b;also\",\"kkk\",\"data\",\"retroactively\",\"ntathere\",\"pave\",\"sinister\",\"ashe\",\"uncertain_term\",\"active_duty\",\"flour\",\"stellar\",\"social_media\",\"unequivocally\",\"attentive\",\"stir_pot\",\"ya'll\",\"laxative\",\"badmouth\",\"lethal\",\"latex\",\"shudder\",\"fag\",\"pls\",\"washroom\",\"grill_cheese\",\"corrupt\",\"academy\",\"jerry\",\"shenanigan\",\"introduction\",\"metric\",\"vocalize\",\"incite\",\"lowkey\",\"infront\",\"noun\",\"10x\",\"uninvolved\",\"kyle\",\"herd_immunity\",\"coma\",\"gram\",\"crippling\",\"hefty\",\"shortage\",\"rubber\",\"meddle\",\"construe\",\"hoard\",\"venmo\",\"biphobic\",\"forthcoming\",\"wbta\",\"audition\",\"harry_potter\",\"intrude\",\"seeing\",\"gm\",\"startle\",\"mac_cheese\",\"router\",\"shipping\",\"gestational\",\"catholic_church\",\"deep_breath\",\"hinge\",\"delight\",\"18th_birthday\",\"baseless\",\"underpaid\",\"vag\",\"thunder\",\"roomba\",\"positivity\",\"tap_shoulder\",\"'\",\"dice\",\"larry\",\"equity\",\"copy_paste\",\"farming\",\"selective\",\"prince\",\"gfm\",\"entrust\",\"baptize\",\"strawman\",\"/r_raisedbynarcissist\",\"natal\",\"timeframe\",\"/r_justnomil\",\"badge\",\"integrate\",\"soul_search\",\"temperament\",\"endeavor\",\"relevance\",\"betty\",\"buzz\",\"coherent\",\"unwritten\",\"amplify\",\"yta.this\",\"don\\u2018t\",\"yta.you're\",\"wwii\",\"tumor\",\"fascinating\",\"passover\",\"sufficiently\",\"fulfilling\",\"insightful\",\"messenger\",\"rock_boat\",\"hoodie\",\"uncontrollable\",\"tic\",\"reproduction\",\"repetitive\",\"aspire\",\"ytajust\",\"specialized\",\"tower\",\"withdrawal\",\"mandy\",\"spike\",\"carve\",\"holy_cow\",\"binary\",\"military_uniform\",\"pest\",\"behaved\",\"buckle\",\"lax\",\"hunter\",\"grovel\",\"refreshing\",\"inconvenienced\",\"attendee\",\"mainstream\",\"goat\",\"informal\",\"division_labor\",\"sleazy\",\"processing\",\"ntapeople\",\"willful\",\"file_complaint\",\"envious\",\"firefighter\",\"amicably\",\"ntanot\",\"probation\",\"vicinity\",\"avoidance\",\"mummy\",\"sos\",\"declaw_cat\",\"reel\",\"continued\",\"cellphone\",\"heater\",\"glory\",\"ntamy\",\"inflammatory\",\"jan\",\"millenial\",\"lieu\",\"offset\",\"snowball\",\"subscription\",\"verbatim\",\"caption\",\"nyu\",\"trained\",\"sexless\",\"negligible\",\"disruption\",\"ejaculate\",\"deceit\",\"mmm\",\"folder\",\"uninterrupted\",\"inequality\",\"grin\",\"limp\",\"prejudiced\",\"shockingly\",\"appetizer\",\"olympics\",\"facet\",\"instability\",\"screech\",\"1/10\",\"plantation\",\"free_reign\",\"territorial\",\"judge_judy\",\"dammit\",\"\\ud83d\\udea9\",\"harness\",\"scammer\",\"ac\",\"doctorate\",\"peed\",\"apathy\",\"narrow_minded\",\"iv\",\"cognitive_dissonance\",\"r_choosingbeggars\",\"nefarious\",\"envelope\",\"statutory_rape\",\"cafeteria\",\"unplanned_pregnancy\",\"videogame\",\"waiver\",\"middle_east\",\"urinal\",\"thirdly\",\"coping\",\"notebook\",\"downhill\",\"\\\"and\",\"essential_oil\",\"overpower\",\"gild\",\"marginalize\",\"locker\",\"taco_bell\",\"english_speaker\",\"turtle\",\"ammo\",\"compliance\",\"tiptoe\",\"mentally_unstable\",\"hollywood\",\"bundle\",\"relaxing\",\"nutritionist\",\"clumsy\",\"masturbating\",\"mosque\",\"confidential\",\"ding_ding_ding\",\"cold_sore\",\"affirm\",\"paste\",\"seduce\",\"academically\",\"nahif\",\"cucumber\",\"statute\",\"cordial\",\"amitheasshole\",\"conversely\",\"myriad\",\"burner\",\"starting\",\"4yo\",\"yall\",\"cognizant\",\"unsatisfied\",\"grate\",\"rewrite\",\"enrol\",\"hotline\",\"sweep_rug\",\"october\",\"reproductive_coercion\",\"halal\",\"streamer\",\"caffeine\",\"paris\",\"yr\",\"relinquish\",\"easier\",\"butcher\",\"monumental\",\"preclude\",\"seconded\",\"intersection\",\"attracted\",\"youtube_video\",\"ap\",\"misfortune\",\"republican\",\"regional\",\"bandwagon\",\"cervix\",\"rocket_science\",\"irresponsibility\",\"baker\",\"unflattering\",\"garner\",\"infantilize\",\"singing\",\"heed\",\"affirmation\",\"blocker\",\"drunkenly\",\"deficit\",\"evolution\",\"nee\",\"crusade\",\"misgender\",\"web\",\"susceptible\",\"horizon\",\"safeword\",\"microaggression\",\"pixie_cut\",\"ehs\",\"cultural_norm\",\"cluster\",\"dissolve\",\"vengeance\",\"clusterfuck\",\"nudge\",\"firing\",\"guacamole\",\"madison\",\"paycheck_paycheck\",\"thailand\",\"consciousness\",\"drum\",\"olive\",\"willy_nilly\",\"gregory\",\"innate\",\"lining\",\"vice\",\"snippy\",\"block_social_medium\",\"overwork\",\"this-\",\"boobs\",\"obv\",\"flush_tampon\",\"tread_lightly\",\"intellectually\",\"usher\",\"dote\",\"itchy\",\"ibs\",\"wean\",\"plural\",\"batman\",\"fertile\",\"middle_schooler\",\"biphobia\",\"distressed\",\"vigilante\",\"seize\",\"bracket\",\"disciplinary\",\"patrol\",\"thyroid\",\"capitalize\",\"7th\",\"agreeable\",\"rebellion\",\"blameless\",\"treatable\",\"vulva\",\"weasel\",\"secretive\",\"illusion\",\"100x\",\"protocol\",\"ink\",\"greek\",\"heating\",\"paraphrase\",\"deviate\",\"cyber\",\"bloke\",\"bravo\",\"eastern\",\"ntasound\",\"nta.you're\",\"amaze\",\"shouting\",\"massager\",\"claw\",\"veg\",\"ray\",\"\\\"i'm\",\"symbolic\",\"amusement_park\",\"afloat\",\"biracial\",\"signature\",\"specialty\",\"win_lottery\",\"density\",\"trendy\",\"bagel\",\"inexperience\",\"settlement\",\"unsympathetic\",\"martial_art\",\"tim\",\"sham\",\"unfold\",\"unprovoked\",\"continuous\",\"equivalence\",\"skeleton\",\"boston\",\"creative_writing\",\"certification\",\"strife\",\"marital_asset\",\"anti_vaxx\",\"youngest\",\"fixable\",\"e_mail\",\"stipulate\",\"indignant\",\"lisa\",\"unappreciative\",\"extra_curricular\",\"filipino\",\"olympic\",\"menstruation\",\"cyst\",\"r_relationshipadvice\",\"bakery\",\"conditioner\",\"shitbag\",\"vandalism\",\">_sub_submitter\",\"tipsy\",\"nonverbal\",\"molestation\",\"renovation\",\"growl\",\"witty\",\"transphobe\",\"invasion\",\"ma\",\"squish\",\"dresser\",\"defy\",\"waive\",\"sponsor\",\"plastic_surgery\",\"nagging\",\"erin\",\"false_equivalency\",\"hrt\",\"months\",\"waffle\",\"aback\",\"pamper\",\"patriarchal\",\"hose\",\"fluffy\",\"salt_wound\",\"reaffirm\",\"sitting\",\"public_transit\",\"anus\",\"lucrative\",\"pelvic\",\"socialise\",\"billy\",\"abruptly\",\"lace\",\"minecraft\",\"legend\",\"costly\",\"choosing\",\"engine\",\"repress\",\"rabbit_hole\",\"noticeably\",\"gym_membership\",\"condescension\",\"degenerate\",\"reassess\",\"flick\",\"pudding\",\"naw\",\"lipstick\",\"character_flaw\",\"overheard\",\"hipaa\",\"contention\",\"coal\",\"punching_bag\",\"cheesecake\",\"complexity\",\"inventory\",\"soo\",\"ytaso\",\"weirdness\",\"organ_donation\",\"detract\",\"fourteen\",\"dumpster_diving\",\"respectively\",\"advancement\",\"accustomed\",\"shoplift\",\"fiddle\",\"chaperone\",\"ammunition\",\"originate\",\"placenta\",\"wack\",\"trespassing\",\"arguement\",\"hamper\",\"undesirable\",\"opposition\",\"shitload\",\"purge\",\"complement\",\"observer\",\"banking\",\"daylight\",\"resistant\",\"nsfw\",\"statistical\",\"nutritionally\",\"nah.you\",\"trey\",\"yta.the\",\"palette\",\"avocado\",\"antagonistic\",\"unworthy\",\"productivity\",\"native_americans\",\"robbery\",\"willfully_ignorant\",\"shirk\",\"forge\",\"stepkid\",\"availability\",\"vodka\",\"vengeful\",\"dear_lord\",\"topping\",\"cupboard\",\"powder\",\"philosophical\",\"spina_bifida\",\"flare\",\"resonate\",\"crucify\",\"metoo\",\"r_choosingbeggar\",\"mediation\",\"eagle\",\"arousal\",\"fad\",\"squabble\",\"flying\",\"girls\",\"retribution\",\"hurl\",\"slot\",\"babysat\",\"falsely_accuse\",\"scripture\",\"cleanup\",\"jog\",\"entertaining\",\"antic\",\"devoted\",\"egg_hunt\",\"fussy\",\"hideous\",\"flesh_blood\",\"misophonia\",\"packed\",\"conflicting\",\"ole\",\"toiletry\",\"bipolar_disorder\",\"withholding\",\"ytahow\",\"payback\",\"9th\",\"progression\",\"lotta\",\"9:30\",\"greasy\",\"prevail\",\"gas_lighting\",\"swell\",\"editing\",\"heavy_lifting\",\"peanut_allergy\",\"preferential_treatment\",\"nta.i'm\",\"esh.you\",\"inquire\",\"grandad\",\"amp\",\"nah.i\",\"flashback\",\"audiobook\",\"blackface\",\"mope\",\"tourette\",\"profound\",\"fond_memory\",\"enthusiast\",\"gameboy\",\"domain\",\"vilify\",\"coping_skill\",\"vendor\",\"emily\",\"inspect\",\"ps4\",\"thick_skin\",\"warp\",\"ytafor\",\"considerable\",\"downtime\",\"lighting\",\"que\",\"preachy\",\"gatekeeper\",\"xx\",\"tempting\",\"hatch\",\"hairdresser\",\"eavesdrop\",\"ntawhy\",\"greeting\",\"prod\",\"rattle\",\"commentor\",\"tee\",\"overreacted\",\"catfish\",\"estrogen\",\"explosive\",\"taker\",\"royal\",\"\\ud83d\\ude01\",\"pleasurable\",\"subsequently\",\"funniest\",\"lineage\",\"nahyou're\",\"subset\",\"ford\",\"cheesy\",\"defeat_purpose\",\"pompous\",\"strangely\",\"polar\",\"outgoing\",\"guardianship\",\"persona\",\"aren't\",\"drift_apart\",\"jelly\",\"exponentially\",\"modicum\",\"peach\",\"glimpse\",\"discrepancy\",\"figuratively\",\"seethe\",\"remarried\",\"switzerland\",\"blackout\",\"efficiently\",\"excel\",\"normalized\",\"bypass\",\"deport\",\"foresight\",\"deli\",\"shrimp\",\"oreos\",\"shitstorm\",\"fried\",\"spanking\",\"outward\",\"desperation\",\"thrift_store\",\"positive_reinforcement\",\"tmi\",\"procrastinate\",\"slimy\",\"preemptively\",\"enact\",\"evangelical\",\"spread_rumor\",\"frog\",\"fundamentalist\",\"revert\",\"indirect\",\"midst\",\"commit_fraud\",\"jade\",\"worrisome\",\"rubbish\",\"idgaf\",\"lamb\",\"bland\",\"programmer\",\"z\",\"sucks\",\"ingrained\",\"air_mattress\",\"listening\",\"mistakenly\",\"spending_habit\",\"alienated\",\"tweet\",\"attest\",\"sign_birth_certificate\",\"it\\u2018s\",\"outgrow\",\"smother\",\"il\",\"wheat\",\"minimise\",\"yeast_infection\",\"precise\",\"claws\",\"\\\"so\",\"michael_scott\",\"port\",\"greece\",\"premarital\",\"disproportionately\",\"profanity\",\"chauffeur\",\"constant_reminder\",\"swollen\",\"realm_possibility\",\"homo\",\"biggie\",\"busybody\",\"ytaa\",\"clitoris\",\"codependent\",\"whale\",\"scoff\",\"inkling\",\"accepted\",\"notorious\",\"dying\",\"tutoring\",\"reap_sow\",\"glorious\",\"isis\",\"calculator\",\"quirky\",\"wayyy\",\"situational\",\"bowel\",\"revolt\",\"gimme\",\"dumpster_fire\",\"incase\",\"disturbance\",\"payday_loan\",\"mph\",\"oppressive\",\"hurting\",\"hawk\",\"dehumanize\",\"shite\",\"widespread\",\"critical_thinking\",\"lengthy\",\"snooping\",\"marrying\",\"visceral\",\"staying\",\"superhero\",\"kate\",\"ensue\",\"lactation\",\"tummy\",\"stole\",\"cuckold\",\"eric\",\"airsoft\",\"disposal\",\"publicity\",\"ytayou\\u2019re\",\"nahthis\",\"mediate\",\"tug\",\"stepchild\",\"responder\",\"ohhh\",\"gush\",\"singapore\",\"sadden\",\"circlejerk\",\"1000x\",\"characterize\",\"helping\",\"blowjobs\",\"\\\"she\",\"consultation\",\"anguish\",\"filth\",\"10th\",\"helmet\",\"foodie\",\"goblin\",\"troublesome\",\"sickly\",\"effectiveness\",\"final_straw\",\"substantially\",\"predominantly\",\"motherly\",\"pajama\",\"reflective\",\"harm_foul\",\"rehabilitate\",\"managerial\",\"estranged\",\"swift\",\"rhetorical\",\"concur\",\"auntie\",\"henry\",\"gambling\",\"organized\",\"unavoidable\",\"immaturely\",\"vapid\",\"platinum\",\"painfully_obvious\",\"ditto\",\"shaky\",\"whiskey\",\"\\\"but\",\"yield\",\"spain\",\"undue\",\"begrudge\",\"motivator\",\"ntaa\",\"slag\",\"interracial\",\"smoking_drinking\",\"latin\",\"ecstatic\",\"species\",\"apathetic\",\"dandy\",\"urinate\",\"overshadow\",\"liz\",\"rightful\",\"lactose_intolerant\",\"nahyour\",\"ship_sail\",\"him-\",\"terrorize\",\"\\ud83d\\udc4c\",\"chump\",\"thats\",\"unnatural\",\"swearing\",\"dysmorphia\",\"unconsciously\",\"unsupervised\",\"serial_cheater\",\"quieter\",\"brad\",\"pagan\",\"stepchildren\",\"showering\",\"digest\",\"mra\",\"defuse\",\"secondhand\",\"enthusiastically\",\"warrior\",\"homemaker\",\"flimsy\",\"skype\",\"undiagnose\",\"honorable\",\"nuanced\",\"nonbinary\",\"adjacent\",\"downgrade\",\"adolescence\",\"extraordinarily\",\"memo\",\"judaism\",\"sugarcoat\",\"ianal\",\"nosey\",\"stre\",\"ytadon't\",\"illegal_eviction\",\"70\",\"marker\",\"grease\",\"automod\",\"mistreatment\",\"didn\\u2019t\",\"sufferer\",\"ytabut\",\"lied\",\"negative_connotation\",\"onset\",\"loli\",\"mexicans\",\"3d\",\"mutilation\",\"prostate\",\"outdoors\",\"reframe\",\"personnel\",\"white_knighting\",\"exploration\",\"victoria\",\"affirmative\",\"sec\",\"haired\",\"compelling\",\"eighteen\",\"disqualify\",\"thirteen\",\"irreparably\",\"reporting\",\"stride\",\"nb\",\"activate\",\"brew\",\"\\u28e4\",\"hugging\",\"competitor\",\"communicative\",\"bent_shape\",\"\\u28c0\",\"lens\",\"cold_hearted\",\"forcefully\",\"masseuse\",\"kg\",\"^|\",\"recreational\",\"epilepsy\",\"classist\",\"shouldn't\",\"pepperoni_pizza\",\"accumulate\",\"painkiller\",\"liner\",\"cushion\",\"superiority_complex\",\"\\\"hey\",\"rebellious\",\"outdate\",\"trump_supporter\",\"bathtub\",\"yata\",\"isle\",\"services\",\"spectacle\",\"laser\",\"grape\",\"ramble\",\"serial\",\"integral\",\"ytadude\",\"emoji\",\"splash\",\"boo_hoo\",\"\\u281b\",\"poke_hole\",\"intensity\",\"selectively\",\"pp\",\"99.9\",\"foreseeable_future\",\"bullet_dodge\",\"bite_tongue\",\"emasculate\",\"felon\",\"pancake\",\"friendzone\",\"fighter\",\"incomplete\",\"punchline\",\"keychain\",\"cocky\",\"schizophrenia\",\"jizz\",\"tirade\",\"immunity\",\"concerning\",\"affluent\",\"prisoner\",\"capture\",\"curly\",\"rein\",\"femininity\",\"smirk\",\"freeload\",\"raising\",\"unclean\",\"mow\",\"swastika\",\"giving\",\"zero_tolerance\",\"patiently\",\"mediator\",\"tenth\",\"grooming\",\"jk\",\"parrot\",\"ing\",\"quotation\",\"flack\",\"sadistic\",\"pda\",\"numb\",\"ahhh\",\"goodness_sake\",\"rotate\",\"potty_train\",\"freakin\",\"solidly\",\"hustle\",\"abrasive\",\"beverage\",\"diss\",\"sorrow\",\"fulfillment\",\"ngl\",\"idiocy\",\"crumble\",\"cyclist\",\"compulsion\",\"euthanasia\",\"nerdy\",\"embellish\",\"nicotine\",\"pertain\",\"voucher\",\"carbon\",\"knuckle\",\"roller_coaster\",\"elevate\",\"maul\",\"programming\",\"costco\",\"ear_plug\",\"viewing\",\"sweden\",\"assholishness\",\"optimal\",\"intimately\",\"sayin\",\"jointly\",\"collector\",\"knob\",\"harvest\",\"simplify\",\"justnoso\",\"conflicted\",\"watermelon\",\"openness\",\"ostensibly\",\"compose\",\"nerf_gun\",\"assurance\",\"sidenote\",\"jackie\",\"jake\",\"digestive\",\"memorable\",\"gallery\",\"vaginismus\",\"unmarried\",\"opera\",\"accountant\",\"transmission\",\"casino\",\"hardworking\",\"endlessly\",\"semen\",\"tote\",\"coparent\",\"existing\",\"disinterest\",\"behavioural\",\"here-\",\"testicle\",\"hyperbolic\",\"flush_toilet\",\"crude\",\"sweeping\",\"vitriol\",\"supremely\",\"subordinate\",\"crab\",\"friends\",\"devout\",\"overdramatic\",\"playstation\",\"lgbtq_community\",\"catty\",\"contradictory\",\"morbid\",\"barking\",\"picking\",\"contaminate\",\"affront\",\"hurdle\",\"goer\",\"heaven_forbid\",\"roleplay\",\"licensed\",\"vietnam\",\"organic\",\"bandaid\",\"menopause\",\"renege\",\"sanctimonious\",\"poisonous\",\"educated\",\"tube_tie\",\"pervasive\",\"toothpaste\",\"ranking\",\"hopeful\",\"25k\",\"gummie\",\"oz\",\"satire\",\"proposing\",\"swimwear\",\"daft\",\"recycling\",\"compromising\",\"cremate\",\"disgustingly\",\"sow\",\"circumvent\",\"blare\",\"infinite\",\"rude_awakening\",\"chronically\",\"here**|**esh****no_hole\",\"portrait\",\"facade\",\"logo\",\"skate\",\"influencer\",\"nintendo\",\"revenue\",\"uncertainty\",\"impaired\",\"novelty\",\"metro\",\"sideline\",\"nahshe\",\"conflict_resolution\",\"fraught\",\"omfg\",\"simulate\",\"complaining\",\"constitution\",\"nickel\",\"laura\",\"motor\",\"inflexible\",\"josh\",\"detector\",\"x200b;the\",\"almond\",\"noooo\",\"|_--:**you're\",\"goad\",\"waltz\",\"treadmill\",\"scissor\",\"dept\",\"unprotecte\",\"kevin\",\"sling\",\"chronically_ill\",\"mustache\",\"incompetence\",\"gray\",\"audio_book\",\"power_imbalance\",\"uneven\",\"uninterested\",\"staple\",\"devotion\",\"consolation\",\"homelessness\",\"topless\",\"raid\",\"altercation\",\"karate\",\"mole\",\"afro\",\"habitually\",\"obscene\",\"tuna\",\"60k\",\"pirate\",\"party_|**nta****everyone_sucks\",\"gloat\",\"greg\",\"dough\",\"|**yta**|you're_hole\",\"\\ud83e\\udd37_\\u200d_\\u2642_\\ufe0f\",\"couldn't\",\"spoiler_alert\",\"pursuit\",\"opiate\",\"ponder\",\"customary\",\"emulate\",\"forgave\",\"exes\",\"ytafirst\",\"cervical_cancer\",\"blowback\",\"frickin\",\"publically\",\"unhappiness\",\"guinea_pig\",\"21st\",\"shrine\",\"infoi\",\"esh.your\",\"nephews\",\"practitioner\",\"cooperate\",\"plumbing\",\"veer\",\"respite\",\"idle\",\"ram\",\"sub_submitter\",\"zipper\",\"testament\",\"wiggle\",\"morally_superior\",\"relentlessly\",\"dawg\",\"extort\",\"counterpoint\",\"surveillance\",\"cremation\",\"breeding\",\"alice\",\"bulimic\",\"digit\",\"insensitivity\",\"toughen\",\"dubious\",\"nye\",\"handmade\",\"lifelong_commitment\",\"urgency\",\"prominent\",\"ableist\",\"tracker\",\"rounded\",\"dupe\",\"quest\",\"decidedly\",\"beth\",\"teeny\",\"fame\",\"generously\",\"tailgate\",\"homeschool\",\"lee\",\"extrapolate\",\"blacklist\",\"intolerable\",\"purity\",\"imperative\",\"bloodline\",\"vanish\",\"cliff\",\"infancy\",\"cus\",\"platter\",\"unpopularopinion\",\"finite\",\"lighthearted\",\"years\",\"hours\",\"waaay\",\"mileage\",\"jeweler\",\"super_duper\",\"repost\",\"merry\",\"angst\",\"outstanding\",\"taylor\",\"pre_nup\",\"ranch\",\"cheeseburger\",\"completly\",\"hail\",\"cf\",\"backpacking\",\"jenny\",\"imagery\",\"douchy\",\"emt\",\"conversational\",\"sunscreen\",\"unwise\",\"reinforcement\",\"explosion\",\"peeve\",\"dole\",\"perfection\",\"privy\",\"irreparable_damage\",\"uncare\",\"jeep\",\"powerless\",\"\\u2764\",\"blue_collar\",\"weaponize\",\"unfriend\",\"cig\",\"roman\",\"labia\",\"carte_blanche\",\"bachelorette\",\"priceless\",\"midwest\",\"mia\",\"that-\",\"cold_turkey\",\"broach\",\"wart\",\"newfound\",\"lapdance\",\"coexist\",\"balcony\",\"blown\",\"washer_dryer\",\"getaway\",\"eternal\",\"paramount\",\"thc\",\"monopoly\",\"socialization\",\"absentee\",\"parole\",\"drool\",\"shaft\",\"erode\",\"halt\",\"bo\",\"romeo_juliet\",\"poker\",\"fairy_tale\",\"foresee\",\"veil\",\"deathbed\",\"underhanded\",\"distinctly\",\"vandalize\",\"futon\",\"sooner\",\"boycott\",\"retort\",\"choir\",\"proverbial\",\"bmw\",\"\\\\^\",\"wrinkle\",\"segregate\",\"salesman\",\"tarantula\",\"feud\",\"hindsight_20/20\",\"ant\",\"denigrate\",\"liberty\",\"plaster\",\"constitute_emergency\",\"venting\",\"barbie\",\"champagne\",\"robin\",\"hover\",\"yta.not\",\"therefor\",\"fandom\",\"harrassment\",\"disprove\",\"iceberg\",\"ordinance\",\"axe\",\"decompress\",\"soapbox\",\"ego_boost\",\"descriptor\",\"summon\",\"woulda\",\"\\u2800_\\u2800\",\"x200b;that\",\"pushing\",\"ninja\",\"micro_aggression\",\"monitoring\",\"remarkably\",\"upward\",\"boredom\",\"peel\",\"weeks\",\"broach_subject\",\"lavish\",\"redundant\",\"sperm_donation\",\"tide\",\"anonymity\",\"zealand\",\"states\",\"neurotic\",\"whew\",\"dialysis\",\"squarely\",\"humblebrag\",\"aryan\",\"acre\",\"hangover\",\"fo\",\"opponent\",\"miserably\",\"infraction\",\"autoimmune\",\"faq](https://www.reddit.com_r_amitheasshole\",\"relaxation\",\"manic\",\"questioning\",\"soulmate\",\"celibate\",\"evil_stepmother\",\"peddle\",\"contentious\",\"invite_julia\",\"rapid\",\"purity_ball\",\"soooooo\",\"\\\"you're\",\"libel\",\"doxxe\",\"sugary\",\"dms\",\"et\",\"reluctantly\",\"interestingly\",\"therapeutic\",\"startup\",\"accounting\",\"macbook\",\"leather\",\"fabulous\",\"hahah\",\"unplanned\",\"miff\",\"thorough\",\"perishable\",\"tifu\",\"moral_dilemma\",\"delegate\",\"homeschooling\",\"synthetic\",\"consolation_prize\",\"\\u2122\",\"android\",\"ha_ha\",\"ofcourse\",\"gofundme\",\"ash\",\"cheque\",\"ons\",\"loom\",\"heroic\",\"scorched_earth\",\"chick_fil\",\"spoken\",\"\\u2836\",\"mockery\",\"banner\",\"unprotected\",\"playfully\",\"ytaalso\",\"percentile\",\"salvation\",\"adrenaline\",\"govern\",\"shepherd\",\"timmy\",\"hilariously\",\"receiver\",\"celiac\",\"\\u2800_\\u2800_\\u2800\",\"\\u28ff_\\u28ff\",\"buisness\",\"stepbrother\",\"rekindle\",\"enclose\",\"mini_fridge\",\"reversible\",\"snappy\",\"imbecile\",\"flea\",\"jay\",\"debit_card\",\"prorevenge\",\"ambush\",\"dvd\",\"comma\",\"transparency\",\"outcast\",\"ploy\",\"sarcastically\",\"pete\",\"monthly_payment\",\"4.0\",\"homewrecker\",\"testify\",\"lizard\",\"bankruptcy\",\"calculation\",\"presumption\",\"grabby\",\"tiresome\",\"pepper_spray\",\"r_iamverybadass\",\"\\ud83d\\udc4f_\\ud83d\\udc4f\",\"dv\",\"murderedbyword\",\"pathway\",\"preposterous\",\"reconnecte\",\"symbolize\",\"mysterious\",\"shitposte\",\"antidepressant\",\"mannered\",\"shuffle\",\"executor\",\"surcharge\",\"segregation\",\"indians\",\"nana\",\"french_fry\",\"suffocate\",\"caterer\",\"buff\",\"formality\",\"yt\",\"non_negotiable\",\"gyno\",\"pornhub\",\"instinctively\",\"minefield\",\"womens\",\"audio\",\"snobby\",\"attached\",\"hanging\",\"cannabis\",\"charger\",\"reversal\",\"flirtatious\",\"pixie\",\"petite\",\"hump\",\"8-year\",\"threatened\",\"decor\",\"overblown\",\"index\",\"blogger\",\"concise\",\"louisiana\",\"^^^^automod_copy\",\"denomination\",\"extensively\",\"nail_coffin\",\"faint\",\"stoic\",\"shocker\",\"punitive\",\"protector\",\"favouritism\",\"spectator\",\"sentient\",\"21st_century\",\"profess\",\"aspergers\",\"altruistic\",\"cavalier\",\"rake\",\"crumb\",\"le\",\"lone\",\"impending\",\"dyslexia\",\"freshly\",\"turner\",\"visually\",\"ob_gyn\",\"categorically\",\"pledge\",\"\\u00b0\",\"gd\",\"unempathetic\",\"informative\",\"interviewer\",\"socially_inept\",\"wayyyy\",\"expecting\",\"music_festival\",\"teddy_bear\",\"downer\",\"cutoff\",\"refrigerator\",\"linda\",\"particle\",\"catholicism\",\"neurological\",\"confidently\",\"title_misleading\",\"overrule\",\"mit\",\"steel\",\"askreddit\",\"repressed\",\"patronising\",\"crunch\",\"actuality\",\"organisation\",\"rocket\",\"usd\",\"bedside\",\"crossing\",\"beck\",\"recur\",\"luke\",\"reluctance\",\"backtrack\",\"criminally\",\"dislikes\",\"perv\",\"portuguese\",\"den\",\"handwritten\",\"spotless\",\"shortcoming\",\"premeditate\",\"implore\",\"duplicate\",\"\\\"he\",\"inhumane\",\"middle_eastern\",\"stroke_ego\",\"maga\",\"platonically\",\"encroach\",\"reform\",\"suburban\",\"brit\",\"smarter\",\"businessman\",\"seated\",\"preferred_pronoun\",\"critic\",\"apologist\",\"quack\",\"hyperemesis\",\"unintended\",\"burial\",\"spontaneously\",\"jeans\",\"godmother\",\"oversensitive\",\"inspector\",\"stanford\",\"gran\",\"cbd\",\"r_iamverysmart\",\"scammed\",\"frightened\",\"mortality_rate\",\"mis\",\"physiological\",\"ftfy\",\"overeat\",\"photo_album\",\"madness\",\"rationality\",\"barn\",\"baffling\",\"beg_forgiveness\",\"scrapbook\",\"backward\",\"monopolize\",\"stifle\",\"multiply\",\"16-year\",\"glitter\",\"here**|**nah****not\",\"mma\",\"inferiority\",\"hollow\",\"sleepy\",\"spooning\",\"pis\",\"blab\",\"npd\",\"los\",\"absurdity\",\"nta.as\",\"maximize\",\"mint\",\"african_american\",\"booking\",\"preventative\",\"photoshop\",\"recreate\",\"200k\",\"metaphorically\",\"3.0\",\"stunning\",\"thai\",\"transform\",\"valentines\",\"constructively\",\"boxing\",\"flip_flop\",\"20-year\",\"reign\",\"ohio\",\"conventional\",\"lotto\",\"squatter\",\"creativity\",\"torn\",\"unapologetic\",\"memorize\",\"plea\",\"undie\",\"shortsighted\",\"obvs\",\"sixth\",\"knows\",\"signify\",\"muh\",\"deplorable\",\"robe\",\"quota\",\"to\",\"mono\",\"diagnosed\",\"exs\",\"30th\",\"authentic\",\"overpriced\",\"autonomous\",\"digress\",\"caricature\",\"1:1\",\"subtract\",\"redo\",\"holder\",\"fulltime\",\"sprint\",\"intuition\",\"irritable\",\"strangle\",\"italians\",\"ntaso\",\"judging\",\"tarnish\",\"enforceable\",\"single_handedly\",\"fog\",\"pms\",\"nta.that\",\"insomnia\",\"posture\",\"wasn't\",\"affiliation\",\"ring_doorbell\",\"purposeful\",\"inclination\",\"uphill\",\"gp\",\"arbitrarily\",\"dual\",\"nonexistent\",\"catastrophic\",\"ketchup\",\"slipper\",\"steep\",\"arthritis\",\"ron\",\"flaccid\",\"moving\",\"amber\",\"tasteless\",\"societal_norm\",\"matching\",\"minuscule\",\"hungover\",\"profitable\",\"arbiter\",\"biscuit\",\"precede\",\"euphemism\",\"firework\",\"biting\",\"systemic\",\"\\ud83c\\udffc\",\"od\",\"de_facto\",\"adam\",\"intimidation\",\"panel\",\"\\ud83d\\ude2c\",\"undergraduate\",\"iota\",\"civic\",\"duress\",\"fedora\",\"seep\",\"apple_orange\",\"\\u201dthat\",\"deathly\",\"innocent_bystander\",\"momentary\",\"pathological\",\"way-\",\"buffet\",\"isolated_incident\",\"recoup\",\"plethora\",\"goalpost\",\"inaction\",\"googling\",\"overt\",\"nigerian\",\"parental_alienation\",\"\\ud83d\\ude09\",\"pimp\",\"charade\",\"comforting\",\"ohhhh\",\"rollercoaster\",\"judgey\",\"sliver\",\"roofie\",\"whiney\",\"pint\",\"poem\",\"simplistic\",\"ww2\",\"copper_iud\",\"eyesight\",\"wishy_washy\",\"gynecologist\",\"slew\",\"nta.and\",\"infowhy\",\"seeking\",\"microphone\",\"idolize\",\"licence\",\"fondly\",\"starvation\",\"gist\",\"proactively\",\"canoe\",\"unicef\",\"20,000\",\"avail\",\"suspiciously\",\"speeding\",\"sara\",\"justno\",\"expend\",\"disallow\",\"\\u201dit\",\"modesty\",\"brexit\",\"impairment\",\"reside\",\"messaging\",\"vegetarianism\",\"politics\",\"aggressor\",\"blond\",\"divert\",\"sponge\",\"lulu\",\"ultra_conservative\",\"almond_milk\",\"scandalous\",\"15-year\",\"jumping\",\"footstep\",\"wacky\",\"bicycle\",\"fluff\",\"palm\",\"deductible\",\"\\ud83e\\udd37_\\ud83c\\udffb\\u200d\",\"trans-\",\"discern\",\"coincide\",\"4x\",\"rupture\",\"usb\",\"appoint\",\"rationalization\",\"merchandise\",\"clutter\",\"hoarding\",\"overload\",\"await\",\"farmer\",\"fess\",\"repugnant\",\"islamic\",\"rigorous\",\"coz\",\"sweatpant\",\"detergent\",\"recycle\",\"provision\",\"dyslexic\",\"perpetually\",\"brock\",\"woodwork\",\"aforementioned\",\"almanac\",\"amendment\",\"joey\",\"colorado\",\"craze\",\"defenseless\",\"advocacy\",\"tolerable\",\"radically\",\"muscular\",\"negge\",\"verbalize\",\"cooker\",\"stale\",\"don\",\"dependence\",\"cheeky\",\"cheapskate\",\"gutte\",\"leer\",\"confidentiality\",\"outer\",\"genre\",\"bouquet\",\"shriek\",\"flaky\",\"fairytale\",\"interrogate\",\"obama\",\"ingrown\",\"exec\",\"bliss\",\"smth\",\"faq\",\"abnormality\",\"yta.first\",\"t.\",\"ballistic\",\"wreak_havoc\",\"virtue_signal\",\"puff\",\"mothers\",\"adjusted\",\"iata\",\"tryna\",\"contingent\",\"relentless\",\"scatter\",\"trusted\",\"severance\",\"quid\",\"bummed\",\"doorknob\",\"memorabilia\",\"knee_jerk\",\"robyn_f.\",\"cinderella\",\"ntadon't\",\"obnoxiously\",\"2,000\",\"vacuum_cleaner\",\"conditioning\",\"inhibition\",\"iced\",\"misbehaving\",\"selling\",\"burnout\",\"manually\",\"coordinator\",\"throne\",\"deter\",\"reminisce\",\"cancellation\",\"easter_egg_hunt\",\"longtime\",\"star_wars\",\"deduct\",\"buzzword\",\"5'10\",\"mutation\",\"panicked\",\"overdue\",\"farting\",\"tunnel\",\"unusually\",\"ahold\",\"recoil\",\"statue\",\"ntafirst\",\"disrespectfully\",\"nah.it\",\"robert\",\"pam\",\"pragmatic\",\"tshirt\",\"band_aid\",\"flavour\",\"blood_clot\",\"renee\",\"opener\",\"bobby\",\"functionally\",\"mailbox\",\"magnet\",\"checkup\",\"contingency\",\"contrary_popular\",\"fracture\",\"disagreeing\",\"glaring\",\"bulb\",\"bogus\",\"dishearten\",\"leniency\",\"bid\",\"snotty\",\"snot\",\"nightly\",\"outset\",\"invoice\",\"booster\",\"traumatise\",\"6-year\",\"pine\",\"formal_attire\",\"thay\",\"thrilled\",\"descend\",\"insufficient\",\"painless\",\"cringeworthy\",\"dc\",\"inpatient\",\"dismissal\",\"disloyal\",\"inspection\",\"sterilization\",\"waking\",\"ow\",\"lure\",\"moderately\",\"rookie\",\"habitual\",\"surefire\",\"og\",\"8th\",\"i\\u2018m\",\"bonnie\",\"share&utm_medium\",\"owl\",\"supper\",\"fh\",\"smartass\",\"pretense\",\"rick\",\"nutshell\",\"lookout\",\"claire\",\"pendant\",\"scotland\",\"soil\",\"pitchfork\",\"exclusionary\",\"harmony\",\"rom_com\",\"disapproval\",\"sac\",\"gymnast\",\"sparkle\",\"excruciating\",\"trusting\",\"clone\",\"squad\",\"prolly\",\"nta.my\",\"humble_brag\",\"stereotypically\",\"muzzle\",\"ingrain\",\"arizona\",\"optic\",\"tighten\",\"tl_dr\",\"breeze\",\"refugee\",\"refusing\",\"illegitimate\",\"filing\",\"welcoming\",\"mismatch\",\"caucasian\",\"transgenderism\",\"complexion\",\"daytime\",\"goth\",\"empowerment\",\"warranty\",\"icing\",\"beware\",\"gossipy\",\"indigenous\",\"70/30\",\"broom\",\"stunted\",\"diving\",\"staggering\",\"icy\",\"recount\",\"3yo\",\"expected\",\"youtuber\",\"misbehavior\",\"declaration\",\"vibration\",\"transpire\",\"thinly\",\"sterile\",\"butch\",\"f*ck\",\"eshthe\",\"plop\",\"april_fools\",\"belittling\",\"bi_erasure\",\"investigator\",\"plow\",\"o.o\",\"xenophobic\",\"totesmessenger\",\"paying\",\"traction\",\"flashy\",\"pea\",\"whining\",\"stoke\",\"disintereste\",\"irreversible\",\"victim_blaming\",\"p.s\",\"ime\",\"eshit\",\"incoming\",\"scratching\",\"humorous\",\"depending\",\"snide_remark\",\"aye\",\"dietician\",\"alas\",\"compliant\",\"fragile_masculinity\",\"baked\",\"irreplaceable\",\"ymmv\",\"swedish\",\"pt\",\"infowhat\",\"shag\",\"uncomfortably\",\"objectifying\",\"stomping\",\"ntaalso\",\"replicate\",\"heartedly\",\"waddle\",\"gourmet\",\"solace\",\"diagnostic\",\"depict\",\"insertion\",\"saggy\",\"mixture\",\"swinge\",\"testicular\",\"olive_branch\",\"stag\",\"despair\",\"18-year\",\"druggie\",\"tubal_ligation\",\"stereo\",\"trader\",\"maniac\",\"catholics\",\"hg\",\"pricing\",\"incidentally\",\"utero\",\"park_ranger\",\"ntatell\",\"alzheimer\",\"omission\",\"jest\",\"b12\",\"cosign\",\"nightclub\",\"dicke\",\"hierarchy\",\"plz\",\"reliably\",\"stealthing\",\"sunny\",\"wrapping\",\"jewellery\",\"mercedes\",\"tentatively\",\"affected\",\"60/40\",\"deficient\",\"projecting\",\"uppity\",\"mellow\",\"unbalanced\",\"seventeen\",\"teamwork\",\"neo_nazi\",\"accuracy\",\"bawl\",\"tonne\",\"justifie\",\"cheste\",\"nick\",\"huff\",\"\\ud83e\\udd37_\\ud83c\\udffc\\u200d_\\u2640_\\ufe0f\",\"categorize\",\"replaceable\",\"trading\",\"y.\",\"anon\",\"teller\",\"descent\",\"carelessness\",\"longterm\",\"jazz\",\"pb&j\",\"ytaedit\",\"abc\",\"syllabus\",\"developer\",\"extenuate_circumstance\",\"constraint\",\"stabilize\",\"marginalized\",\"flunk\",\"op-\",\"speedo\",\"13k\",\"apnea\",\"dogs\",\"stimulus\",\"w_e\",\"naming\",\"grapple\",\"tupperware\",\"cookware\",\"anecdotal_evidence\",\"vinegar\",\"cleavage\",\"clump\",\"opioid\",\"imaginable\",\"vivid\",\"6yo\",\"mixer\",\"it.&#x200b\",\"authorize\",\"uniquely\",\"downtown\",\"spotify\",\"fortnight\",\"bunk\",\"sternly\",\"swat\",\"instigator\",\"sol\",\"tobacco\",\"outrageously\",\"indifference\",\"jolly\",\"cheerleader\",\"deadbedroom\",\"compe\",\"confederacy\",\"champion\",\"nta.also\",\"misspell\",\"smoothie\",\"impediment\",\"inanimate\",\"/r_niceguys\",\"column\",\"justice_boner\",\"restraining\",\"nonchalant\",\"valley\",\"wail\",\"skimpy\",\"artificially\",\"aspiration\",\"scientology\",\"radius\",\"samaritan\",\"headlight\",\"kettle\",\"tabletop\",\"chap\",\"9/10\",\"tedious\",\"gif\",\"eshyou're\",\"dirtbag\",\"asymptomatic\",\"relent\",\"restart\",\"architect\",\"epiphany\",\"flak\",\"medicaid\",\"susan\",\"willpower\",\"protip\",\"ntahonestly\",\"fianc\\u00e9s\",\"coercive\",\"cardio\",\"revel\",\"5yo\",\"disengage\",\"adventurous\",\"wagon\",\"centric\",\"irritating\",\"enhance\",\"bone_marrow\",\"spamme\",\"dildos\",\"pushback\",\"wal_mart\",\"favorable\",\"institute\",\"encompass\",\"dissuade\",\"squirt\",\"skank\",\"teethe\",\"reactionary\",\"mustard\",\"infest\",\"terminally_ill\",\"overflow\",\"wannabe\",\"slaughter\",\"idealistic\",\"lynch\",\"speechless\",\"emojis\",\"salmon\",\"millionaire\",\"amirite\",\"papa\",\"pissing\",\"doe\",\"punching\",\"insidious\",\"tribute\",\"whoring\",\"mash_potato\",\"abduct\",\"tasteful\",\"misconduct\",\"misandrist\",\"synonymous\",\"reusable\",\"eww\",\"overtake\",\"donald\",\"ripe\",\"ntajust\",\"sexualise\",\"undercut\",\"sender\",\"franklin\",\"blender\",\"tangent\",\"ltr\",\"persecute\",\"skeeve\",\"jerky\",\"lowly\",\"meatless\",\"correctness\",\"3-year\",\"kim\",\"interchangeable\",\"throwing\",\"glow\",\"practicality\",\"dissent\",\"uncover\",\"crock\",\"deer\",\"13yo\",\"cemetery\",\"tipper\",\"blouse\",\"backpedal\",\"biker\",\"ytaas\",\"barbecue\",\"broth\",\"walker\",\"meow\",\"stonewall\",\"rp\",\"copyright\",\"hone\",\"demonstrably\",\"stated\",\"lpt\",\"clearance\",\"culprit\",\"y.o\",\"peasant\",\"imperfect\",\"unleashed\",\"wellness\",\"impulsively\",\"hardware\",\"darling\",\"sideways\",\"shpthis\",\"transgendere\",\"finalize\",\"jason\",\"extract\",\"patently\",\"acquiesce\",\"becky\",\"snort\",\"gps\",\"gi\",\"provocation\",\"climbing\",\"chiropractor\",\"crown\",\"nightstand\",\"lice\",\"delicately\",\"latte\",\"impractical\",\"ntaop\",\"fbi\",\"chooser\",\"overpay\",\"husky\",\"persecution\",\"4-year\",\"sporting\",\"mario\",\"workday\",\"dtmfa\",\"slime\",\"snoring\",\"newspaper\",\"researcher\",\"raffle\",\"ytai'm\",\"wierd\",\"foist\",\"zealot\",\"magnify\",\"typing\",\"injection\",\"heir\",\"convos\",\"savvy\",\"ranger\",\"wakeup\",\"kingdom\",\"baptism\",\"simmer\",\"tilt\",\"aide\",\"metaphorical\",\"inadequacy\",\"freelance\",\"capitalist\",\"garnish\",\"plagiarism\",\"kid(s\",\"tiger\",\"crusty\",\"keepsake\",\"volition\",\"socioeconomic\",\"facial_expression\",\"sociopathy\",\"physics\",\"definately\",\"cd\",\"expiration\",\"prematurely\",\"finished\",\"miraculously\",\"sandy\",\"pinpoint\",\"mein\",\"goodnight\",\"urn\",\"martin\",\"ontario\",\"falsely\",\"anchor\",\"reopen\",\"unrequited\",\"granted\",\"consequently\",\"panty\",\"clubbing\",\"disgrace\",\"anthony\",\"frighten\",\"comedic\",\"drs\",\"animate\",\"prudent\",\"chow\",\"denmark\",\"franchise\",\"endangerment\",\"conventionally\",\"bla\",\"vid\",\"boundrie\",\"fuckery\",\"o-\",\"darkness\",\"inhibit\",\"biohazard\",\"redemption\",\"hippie\",\"badwomensanatomy\",\"communicator\",\"\\u200d_\\u2640_\\ufe0f\",\"tract\",\"redhead\",\"outback\",\"fleeting\",\"aged\",\"pok\\u00e9mon\",\"adults\",\"hbo\",\"squander\",\"balk\",\"beneficiary\",\"windshield\",\"tah\",\"\\ud83e\\udd23_\\ud83e\\udd23\",\"tidbit\",\"la_jolla\",\"balding\",\"timeout\",\"crochet\",\"playoff\",\"th\",\"infinity\",\"dispense\",\"goose\",\"timid\",\"snail\",\"anecdotally\",\"salvageable\",\"fgm\",\"avert\",\"hairbrush\",\"handshake\",\"angsty\",\"snag\",\"ramp\",\"puddle\",\"unblock\",\"puppet\",\"icu\",\"avid\",\"x1000\",\"momentarily\",\"baptist\",\"developed\",\"feat\",\"^^|\",\"indebted\",\"weaken\",\"shithole\",\"cattle\",\"\\ud83d\\ude06\",\"lactation_consultant\",\"creepiness\",\"tardiness\",\"bsa\",\"pension\",\"veterinarian\",\"flabbergast\",\"begrudgingly\",\"grenade\",\"you?if\",\"decorum\",\"rodent\",\"righteousness\",\"neo\",\"adversity\",\"gutter\",\"rebuff\",\"cursing\",\"hannah\",\"septum\",\"provocative\",\"seinfeld\",\"8:30\",\"summarize\",\"paleo\",\"industrial\",\"cv\",\"conjunction\",\"slighted\",\"stigmatize\",\"wanker\",\"unimaginable\",\"julia\",\"yta.>i\",\"you'd\",\"wand\",\"lense\",\"breaker\",\"hospice\",\"beginner\",\"accordance\",\"vacate\",\"malpractice\",\"astonishing\",\"adulte\",\"stark\",\"gratuity\",\"explanatory\",\"yta1\",\"lets\",\"recap\",\"impactful\",\"nit\",\"bridal\",\"sah\",\"devoid\",\"electrical\",\"thug\",\"eyeball\",\"imminent\",\"offload\",\"qualifier\",\"things:1\",\"yada_yada\",\"exploitative\",\"hahahahaha\",\"handwriting\",\"nz\",\"pineapple\",\"mutilate\",\"tomboy\",\"steakhouse\",\"endearment\",\"unproductive\",\"normalcy\",\"losing\",\"plausible_deniability\",\"buddhist\",\"unfairness\",\"you\\u2019ve\",\"casket\",\"demeanor\",\"lactose_intolerance\",\"alleged\",\"hee\",\"evade\",\"\\ud83c\\udfc5\",\"advertisement\",\"arab\",\"dichotomy\",\"veterinary\",\"overshare\",\"infohow\",\"calculated\",\"hellish\",\"weep\",\"pitiful\",\"oscar\",\"ascribe\",\"energetic\",\"hawaiian\",\"galaxy\",\"plumber\",\"wooden\",\"hereditary\",\"mechanical\",\"booth\",\"belive\",\"mansplain\",\"remodel\",\"trough\",\"dimension\",\"descendant\",\"npc\",\"inconsistency\",\"burp\",\"terry\",\"academia\",\"honking\",\"brewery\",\"wool\",\"sahd\",\"molehill\",\"prerequisite\",\"enroll\",\"telephone\",\"obsessively\",\"ntano\",\"presentable\",\"toronto\",\"unravel\",\"helplessness\",\"cone\",\"won\\u2019t\",\"os\",\"hectic\",\"\\u2640_\\ufe0f\",\"20th_century\",\"stroll\",\"wrangle\",\"abdicate\",\"mayo\",\"monumentally\",\"injured\",\"accrue\",\"upend\",\"unsecured\",\"avengers\",\"cuddling\",\"e.\",\"francisco\",\"refute\",\"e.g\",\"knight\",\"ntayou\\u2019re\",\"accomodation\",\"photoshoppe\",\"lamp\",\"bolster\",\"gospel\",\"stressor\",\"mocking\",\"lupus\",\"tripping\",\"handgun\",\"thermostat\",\"antivaxxer\",\"vendetta\",\"appt\",\"exasperate\",\"undiagnosed\",\"games\",\"cannon\",\"hangry\",\"comprise\",\"sanctuary\",\"leaf\",\"13-year\",\"brian\",\"ikea\",\"overdo\",\"sa\",\"they\\u2019re\",\"genderfluid\",\"chatty\",\"personalize\",\"5x\",\"peter\",\"vase\",\"astonish\",\"shutdown\",\"biodad\",\"nvm\",\"5-year\",\"licensing\",\"hiccup\",\"cockroach\",\"preview\",\"gummy\",\"x200b;this\",\"feast\",\"regrettable\",\"trickle\",\"ribbing\",\"dietitian\",\"didnt\",\"fundraising\",\"acute\",\"bugger\",\"flamboyant\",\"authoritarian\",\"that's\",\"revise\",\"equipped\",\"trampoline\",\"tween\",\"renegotiate\",\"bluetooth\",\"tdap\",\"homeboy\",\"pronounced\",\"graffiti\",\"uncaring\",\"spiel\",\"defensible\",\"erratic\",\"shittiness\",\"themed\",\"passcode\",\"crow\",\"scandal\",\"changed\",\"infodid\",\"flatly\",\"darvo\",\"scientifically\",\"diagram\",\"\\\"edit\",\"theoretical\",\"punishable\",\"ewww\",\"toaster\",\"complacent\",\"esh.i\",\"framework\",\"iraq\",\"recognizable\",\"wifey\",\"barbaric\",\"thoughtfulness\",\"promiscuity\",\"signaling\",\"curable\",\"yta.he\",\"culpable\",\"turnoff\",\"defiantly\",\"cramping\",\"jock\",\"eshthis\",\"byproduct\",\"\\u2880\",\"incessantly\",\"elicit\",\"4chan\",\"marginally\",\"3ds\",\"granola\",\"bundy\",\"gabby\",\"shoo\",\"grower\",\"disconnected\",\"abdominal\",\"misjudge\",\"pigeon\",\"nicety\",\"stubbornness\",\"ebay\",\"abs\",\"rig\",\"dosent\",\"grit\",\"blowup\",\"heath\",\"straws\",\"cruelly\",\"discrete\",\"booby\",\"transit\",\"gaze\",\"hysterically\",\"nei\",\"astounded\",\"consultant\",\"pervy\",\"palate\",\"reccomend\",\"payroll\",\"mishandle\",\"cray\",\"exceedingly\",\"jr\",\"unlearn\",\"tightly\",\"\\ud83d\\udcaf\",\"subtext\",\"asshole-\",\"peruse\",\"convoluted\",\"mythology\",\"thst\",\"unmotivated\",\"deterrent\",\"\\\"your\",\"vampire\",\"weary\",\"colic\",\"rulebook](https://www.reddit.com\",\"ti\",\"mantra\",\"mysteriously\",\"commentator\",\"elf\",\"europeans\",\"mon\",\"pg\",\"dealing\",\"pansexual\",\"allege\",\"gyn\",\"albert\",\"we're\",\"pornstar\",\"greyhound\",\"economically\",\"hsv\",\"rec\",\"harry\",\"objectionable\",\"evasion\",\"alexa\",\"actionable\",\"foam\",\"thr\",\"cantonese\",\"heckle\",\"portrayal\",\"brow\",\"dehydrate\",\"richard\",\"spat\",\"irrespective\",\"nibble\",\"introverted\",\"untill\",\"rhyme\",\"confiscate\",\"fickle\",\"ytawhen\",\"incriminate\",\"extrovert\",\"roach\",\"woo\",\"madden\",\"muddy\",\"bollock\",\"reasons:1\",\"distaste\",\"broadly\",\"dale\",\"yta.also\",\"^this\",\"intuitive\",\"flyer\",\"hush\",\"twilight\",\"nastiness\",\"ntahow\",\"impart\",\"recruiter\",\"wouldn\\u2019t\",\"lettuce\",\"beam\",\"comical\",\"steroid\",\"unthinkable\",\"dieting\",\"headspace\",\"manufacturer\",\"mortality\",\"worldly\",\"counterpart\",\"analogous\",\"fuckboy\",\"pleasing\",\"orthodox\",\"candid\",\"goddam\",\"custodian\",\"torch\",\"stunned\",\"accomplished\",\"wizard\",\"null\",\"forewarn\",\"measly\",\"unsustainable\",\"paradox\",\"systematically\",\"25th\",\"spree\",\"undertake\",\"unto\",\"windfall\",\"x200b;she\",\"wonderfully\",\"emotionless\",\"wut\",\"firstborn\",\"individuality\",\"coming\",\"atrocity\",\"\\u2640\",\"fluster\",\"eggshell\",\"sedentary\",\"aunty\",\"hygienic\",\"ruse\",\"thou\",\"sci\",\"wrath\",\"nutty\",\"boohoo\",\"grumble\",\"hijab\",\"upstage\",\"administrative\",\"wendy\",\"propagate\",\"collision\",\"accessibility\",\"ntai\\u2019m\",\"retrieve\",\"playdate\",\"fostering\",\"renovate\",\"rationalise\",\"dissatisfaction\",\"overstate\",\"bedding\",\"sail\",\"defensively\",\"\\\"op\",\"utmost\",\"granddad\",\"registration\",\"vietnamese\",\"horrendously\",\"uncontrollably\",\"dinosaur\",\"barf\",\"valor\",\"woefully\",\"deprecate\",\"rut\",\"playlist\",\"denny\",\"craziness\",\"rhythm\",\"cvs\",\"latent\",\"pope\",\"manslaughter\",\"mumble\",\"estonian\",\"distracted\",\"euro\",\"17-year\",\"fluctuate\",\"mastectomy\",\"rod\",\"contextual\",\"amnio\",\"polo\",\"humanly\",\"seldom\",\"lightbulb\",\"conscientious\",\"forethought\",\"untouchable\",\"fuckton\",\"possessiveness\",\"9/11\",\"cdc\",\"worldwide\",\"immerse\",\"censorship\",\"unofficial\",\"skiing\",\"misgendering\",\"conceivable\",\"backhand\",\"pepperoni\",\"junkie\",\"terrier\",\"delve\",\"massacre\",\"depiction\",\"arabic\",\"offhand\",\"linguistic\",\"extraordinary\",\"yeh\",\"sermon\",\"5'8\",\"nighttime\",\"missionary\",\"sync\",\"norway\",\"bilingual\",\"shopper\",\"nibling\",\"lockdown\",\"overreacting\",\"srsly\",\"nutritious\",\"identifie\",\"citation\",\"crohn\",\"wrestler\",\"communicating\",\"underaged\",\"endear\",\"wield\",\"rights\",\"pamphlet\",\"ovulation\",\"barefoot\",\"ordinarily\",\"cheapen\",\"unprompted\",\"tiring\",\"redpill\",\"isn\\u2019t\",\"ruthless\",\"dismantle\",\"casualty\",\"deduce\",\"scorn\",\"cathartic\",\"ambiguity\",\"intestine\",\"rabid\",\"canal\",\"implying\",\"organically\",\"stun\",\"tracer\",\"voted\",\"compose?to=/r\",\"observant\",\"honda\",\"breastfee\",\"mm\",\"appletarian\",\"raccoon\",\"https://www.ncbi.nlm.nih.gov\",\"shoplifting\",\"refresh\",\"altered\",\"clinically\",\"crackhead\",\"fascism\",\"cubicle\",\"info**|**info**#[click\",\"thee\",\"violin\",\"washington\",\"index)#[click\",\"communist\",\"astound\",\"emerge\",\"\\ud83d\\ude43\",\"faq)*i\",\"barrage\",\"carton\",\"switching\",\"megan\",\"warehouse\",\"anthem\",\"deviation\",\"\\u201dyou\",\"surf\",\"dosage\",\"anesthesia\",\"hitch\",\"perpetrate\",\"jill\",\"ntaat\",\"vocally\",\"remarkable\",\"esque\",\"proportionate\",\"sorority\",\"ab\",\"nominate\",\"broaden\",\"definitly\",\"afterall\",\"snooze\",\"fa\",\"notwithstanding\",\"dissect\",\"bootstrap\",\"\\u2642_\\ufe0f\",\"appropriateness\",\"brink\",\"goofy\",\"confederate\",\"diligent\",\"ytaare\",\"panther\",\"kylee\",\"snicker\",\"assaulter\",\"voter\",\"reuse\",\"generator\",\"conducive\",\"doesn\\u2018t\",\"backing\",\"\\u00af\\\\\\\\\\\\_(\\u30c4)_/\\u00af\",\"lauren\",\"patent\",\"tenure\",\"hon\",\"nonconsensual\",\"infatuation\",\"esh.she\",\"festivity\",\"crummy\",\"neice\",\"palatable\",\"covert\",\"impersonate\",\"ultron\",\"sasha\",\"st.\",\"life-\",\"wad\",\"neediness\",\"jasmine\",\"fi\",\"quityourbullshit\",\"creek\",\"etsy\",\"fertilize\",\"distrustful\",\"dunk\",\"cardboard\",\"einstein\",\"paramedic\",\"cisgender\",\"loaf\",\"sticking\",\"contractual\",\"persue\",\"\\u0361\",\"carwash\",\"damnit\",\"ideation\",\"manipulating\",\"enforcement\",\"disc\",\"ribbon\",\"required\",\"here.](https://redd.it/9zgc4m)*i\",\"misdirect\",\"huntsman\",\"kinder\",\"bossy\",\"you\\u2018re\",\"drone\",\"stealthe\",\"holding\",\"yta.1\",\"province\",\"immigrate\",\"5'4\",\"sinful\",\"infodo\",\"nutter\",\"orphanage\",\"pb\",\"gentrification\",\"fanatic\",\"4.5\",\"agitate\",\"menace\",\"maneuver\",\"succinct\",\"variant\",\"reposte\",\"displace\",\"magnanimous\",\"\\u2809\",\"stipend\",\"trashcan\",\"teeter\",\"objectification\",\"contradiction\",\"fixation\",\"vip\",\"50,000\",\"reversed\",\"lactate\",\"loveless\",\"committee\",\"aquarium\",\"unsurprisingly\",\"defraud\",\"checker\",\"postnatal\",\"micropeen\",\"homicide\",\"viewer\",\"legroom\",\"decree\",\"abrupt\",\"omelette\",\"fuckwit\",\"tearing\",\"downs\",\"smarten\",\"sb\",\"^/\",\"logistical\",\"deviant\",\"perpetual\",\"drunkenness\",\"na\\u00efve\",\"database\",\"putting\",\"recital\",\"oatmeal\",\"grandmas\",\"5\\u20198\",\"varied\",\"gland\",\"5'5\",\"wanting\",\"fodder\",\"onboard\",\"\\ud83c\\uddf9\",\"hasty\",\"distracting\",\"tos\",\"fav\",\"recklessly\",\"specification\",\"castration\",\"\\ud83c\\udffd\\u200d\",\"whammy\",\"you'll\",\"mindlessly\",\"sucking\",\"doughnut\",\"buffer\",\"harpy\",\"norwegian\",\"responsive\",\"empire\",\"chug\",\"strategic\",\"younger\",\"allot\",\"burning\",\"egregiously\",\"cholesterol\",\"scrutiny\",\"satisfactory\",\"dialect\",\"pariah\",\"layout\",\"epidemic\",\"indiana\",\"georgia\",\"predate\",\"antivax\",\"dumping\",\"johnny\",\"adultery\",\"assigned\",\"unspecified\",\"pox\",\"snapshot\",\"congregation\",\"declawing\",\"mindless\",\"jealously\",\"cackle\",\"alienation\",\"erm\",\"1,500\",\"differing\",\"artifact\",\"infected\",\"browser\",\"enrich\",\"personalfinance\",\"supersede\",\"israel\",\"risque\",\"streaming\",\"limo\",\"loosely\",\"romanticize\",\"ummmm\",\"sensibility\",\"biologist\",\"8k\",\"10-year\",\"ballpark\",\"workable\",\"arsenal\",\"clamp\",\"livable\",\"tangle\",\"pleasantly\",\"notable\",\"annually\",\"sanctity\",\"thankyou\",\"scandinavian\",\"realism\",\"predicate\",\"earphone\",\"spacious\",\"\\ud83c\\udffb\\u200d_\\u2640\",\"menial\",\"recess\",\"ransom\",\"childishly\",\"madonna\",\"biodegradable\",\"delightful\",\"livestock\",\"roger\",\"screams\",\"torpedo\",\"sap\",\"occupation\",\"flags\",\"jumper\",\"cutesy\",\"choosy\",\"hulu\",\"emma\",\"pupper\",\"herring\",\"banshee\",\"southwest\",\"cookbook\",\"foolproof\",\"drank\",\"gateway\",\"overstay\",\"\\ud83d\\ude0e\",\"assimilate\",\"assisted\",\"chastity\",\"unilateral\",\"xxx\",\"babble\",\"mash\",\"invoke\",\"401k\",\"willed\",\"flap\",\"subpar\",\"fiscal\",\"handcuff\",\"\\ud83e\\udd2e\",\"4:30\",\"evolutionary\",\"ecosystem\",\"obliterate\",\"bicker\",\"undertaking\",\"characterization\",\"landing\",\"freakout\",\"hedge\",\"ashley\",\"phil\",\"acquaint\",\"jimmy\",\"mvp\",\"workshop\",\"prolonged\",\"sprain\",\"comprehensive\",\"squirm\",\"fridays\",\"60,000\",\"gta\",\"skeevy\",\"tu\",\"averse\",\"x200b;i'm\",\"immersion\",\"boys\",\"jive\",\"midterm\",\"unhealthily\",\"liken\",\"codependency\",\"organiser\",\"corporal\",\"amniocentesis\",\"eu\",\"jokey\",\"pouty\",\"alphabet\",\"unchecked\",\"verification\",\"supremacy\",\"patronise\",\"danny\",\"subscriber\",\"adopted\",\"\\\"also\",\"incidental\",\"opinionated\",\"miffed\",\"nta1\",\"lubrication\",\"gestate\",\"epidural\",\"yta.but\",\"mantle\",\"souvenir\",\"ytahonestly\",\"instinctual\",\"dimensional\",\"poopy\",\"frantically\",\"conjecture\",\"aba\",\"alllll\",\"eval\",\"contamination\",\"tint\",\"plasma\",\"accidently\",\"unquestionably\",\"fursuit\",\"cucke\",\"circulate\",\"\\\"oh\",\"banker\",\"lament\",\"dickwad\",\"masters\",\"blemish\",\"hyphen\",\"emus\",\"\\\"yeah\",\"pj\",\"goody\",\"tasting\",\"laughably\",\"classless\",\"har\",\"300k\",\"congrats\",\"infoare\",\"outpatient\",\"lewd\",\"discretionary\",\"mosquito\",\"kids-\",\"phenomenal\",\"dame\",\"dock\",\"detachment\",\"handbook\",\"separated\",\"nooo\",\"trainwreck\",\"draconian\",\"periodically\",\"condescendingly\",\"fireplace\",\"litterally\",\"feline\",\"urethra\",\"bamboozle\",\"renewal\",\"nah.if\",\"melon\",\"school-\",\"nta.they\",\"germans\",\"moocher\",\"infamous\",\"cabbage\",\"dcf\",\"unfunny\",\"forego\",\"publication\",\"ytalet\",\"vacay\",\"depo\",\"fortitude\",\"statutory\",\"purr\",\"taxpayer\",\"mishap\",\"defiant\",\"catfishing\",\"attain\",\"edit2\",\"irredeemable\",\"vessel\",\"2yo\",\"earnest\",\"hiss\",\"me-\",\"fatherly\",\"thoughtfully\",\"motto\",\"abduction\",\"pickiness\",\"labradoodle\",\"speakerphone\",\"bailey\",\"parcel\",\"cpr\",\"bert\",\"loon\",\"retriever\",\"marie\",\"thy\",\"icecream\",\"doesnt\",\"discolor\",\"yous\",\"rpg\",\"overhead\",\"obliged\",\"historic\",\"resilient\",\".5\",\"skanky\",\"doctrine\",\"coparente\",\"crosspost\",\"carnivore\",\"caloric\",\"pointer\",\"pdf\",\"\\\"\\\"i\",\"replay\",\"tether\",\"x200b;and\",\"sly\",\"them-\",\"audibly\",\"slumber\",\"imitate\",\"kansas\",\"paid\",\"ovarian\",\"hominem\",\"angela\",\"allowed\",\"notably\",\"prophecy\",\"relatable\",\"assailant\",\"19th\",\"testimony\",\"75,000\",\"coulda\",\"blissfully\",\"\\ud83c\\udfb6\",\"rummage\",\"freaky\",\"coloring\",\"improvise\",\"\\u201dthis\",\"fatphobic\",\"uncivil\",\"las\",\"tons\",\"johnson\",\"nostalgia\",\"rebuttal\",\"amniotic\",\"vintage\",\"destine\",\"12yo\",\"stalkerish\",\"infact\",\"cancelling\",\"evasive\",\"maria\",\"capitulate\",\"audible\",\"influx\",\"undeserve\",\"yknow\",\"time-\",\"solitary\",\"sect\",\"midget\",\"giveaway\",\"it?i\",\"sp\",\"resell\",\"blissful\",\"clot\",\"libtard\",\"stump\",\"abundance\",\"lit\",\"stub\",\"intertwine\",\"yadda_yadda\",\"manicure\",\"intentioned\",\"functionality\",\"psychopathic\",\"civilization\",\"personhood\",\"ehhhh\",\"yta.you\\u2019re\",\"ann\",\"versa\",\"ntai've\",\"bankroll\",\"curate\",\"fountain\",\"all-\",\"enslave\",\"flipping\",\"ms.\",\"arrow\",\"opportunistic\",\"fiscally\",\"unused\",\"fanfiction\",\"roundabout\",\"1950\",\"^^^what\",\"meditation\",\"normalise\",\"disfigure\",\"au\",\"necessitate\",\"doo\",\"arfid\",\"tweak\",\"daydream\",\"incredulous\",\"refundable\",\"demoralize\",\"ream\",\"shes\",\"admiration\",\"suggestive\",\"traveling\",\"^^\",\"imposition\",\"\\\"no\",\"sequence\",\"gown\",\"hes\",\"fret\",\"misstep\",\"improperly\",\"jen\",\"affiliate\",\"domino\",\"inbox\",\"mister\",\"puncture\",\"cube\",\"reword\",\"fragrance\",\"^^^this?](https://pastebin.com\",\"lateness\",\"annoyingly\",\"sulking\",\"carelessly\",\"^^^is\",\"asse\",\"littering\",\"daunt\",\"philippines\",\"systematic\",\"staring\",\"huffy\",\"porno\",\"te\",\"changer\",\"dickbag\",\"democracy\",\"unneeded\",\"5'2\",\"eloquently\",\"douchebaggery\",\"amanda\",\"slate\",\"trp\",\"ginger\",\"commodity\",\"unite\",\"weeb\",\"bookstore\",\"fixated\",\"buuuut\",\"paypal\",\"goldfish\",\"brood\",\"unruly\",\"gung\",\"siren\",\"camper\",\"desktop\",\"i\\u2019ll\",\"barbershop\",\"ostracise\",\"flop\",\"deduction\",\"parents\",\"treater\",\"signalling\",\"regimen\",\"showcase\",\"disturbed\",\"idealize\",\"sector\",\"quarantine\",\"guarentee\",\"mlk\",\"invariably\",\"hooking\",\"condemnation\",\"rotation\",\"stacy\",\"tin\",\"bothersome\",\"virtual\",\"undervalue\",\"inflation\",\"wont\",\"springer\",\"clitoral\",\"startling\",\"uterine\",\"roulette\",\"pleaser\",\"examination\",\"efficiency\",\"contributing\",\"nebulous\",\"uhm\",\"thanksgive\",\"gawk\",\"3.accept\",\"starbuck\",\"unfeeling\",\"itinerary\",\"imprison\",\"17yo\",\"query\",\"m8\",\"5'3\",\"ipod\",\"incestuous\",\"malleable\",\"physique\",\"placard\",\"relish\",\"almighty\",\"perverted\",\"bourbon\",\"civilly\",\"stench\",\"meaningfully\",\"ntahave\",\"emphasise\",\"isnt\",\"blinded\",\"enormously\",\"h.\",\"puerto\",\"2.50\",\"30,000\",\"forced\",\"chivalry\",\"werewolf\",\"nonchalantly\",\"intellect\",\"kpop\",\"recessive\",\"ttc\",\"blip\",\"culinary\",\"covenant\",\"creepily\",\"intrinsic\",\"terrorism\",\"preconceived\",\"coldly\",\"nahhe\",\"chaser\",\"grunt\",\"pharmacist\",\"saturdays\",\"blaze\",\"culminate\",\"up-\",\"ntaedit\",\"ntafuck\",\"ytapeople\",\"packing\",\"ginormous\",\"biking\",\"rolling\",\"downfall\",\"atypical\",\"pita\",\"gl\",\"godparent\",\"exclusivity\",\"percieve\",\"freezing\",\"technician\",\"doorway\",\"egypt\",\"funk\",\"bandage\",\"pediatric\",\"coursework\",\"keg\",\"unsaid\",\"vaping\",\"dopamine\",\"spinal\",\"urgently\",\"railroad\",\"ferret\",\"camo\",\"linen\",\"cleanse\",\"quo\",\"patio\",\"chipotle\",\"preggo\",\"unsuitable\",\"clientele\",\"scented\",\"phony\",\"rampage\",\"culpability\",\"ballgame\",\"abt\",\"erupt\",\"paragon\",\"overcompensate\",\"spectacular\",\"graceful\",\"merch\",\"scarce\",\"puritanical\",\"breastfed\",\"reliance\",\"bombshell\",\"builder\",\"pact\",\"invaluable\",\"anomaly\",\"niceguys\",\"demonstration\",\"crosswalk\",\"malfunction\",\"racing\",\"eyeroll\",\"overdose\",\"siblings\",\"ba\",\"3,000\",\"pothead\",\"\\\"what\",\"14-year\",\"is-\",\"rite\",\"sod\",\"archive\",\"cootie\",\"aha\",\"leaning\",\"bta\",\"overjoyed\",\"jungle\",\"jennifer\",\"proportionally\",\"op.edit\",\"impasse\",\"blowout\",\"kentucky\",\"salute\",\"implode\",\"it.2\",\"sodium\",\"overzealous\",\"forcing\",\"turf\",\"po\",\"shack\",\"gonna\",\"decaf\",\"designation\",\"keyword\",\"joyful\",\"\\ud83c\\udffd\",\"asshole|**yta**|not\",\"sapphire\",\"harrasse\",\"auction\",\"frantic\",\"16yo\",\"sext\",\"nemo\",\"whiff\",\"pi\",\"ihavesex\",\"ytabecause\",\"pneumonia\",\"illiterate\",\"rejoice\",\"tucson\",\"modeling\",\"hotdog\",\"jordan\",\"dunce\",\"defender\",\"clam\",\"edition\",\"sucks|**esh**no\",\"quebec\",\"hole|**nta**everyone\",\"graduating\",\"grim\",\"bouncy\",\"patrick\",\"tacitly\",\"folic\",\"cal\",\"automate\",\"callousness\",\"prepubescent\",\"fkn\",\"binding\",\"--:you're\",\"destitute\",\"cheerleading\",\"quilt\",\"reasons.1\",\"nth\",\"fetishist\",\"you?i\",\"hipster\",\"cody\",\"me\\\"\",\"mannerism\",\"precarious\",\"aspca\",\"shameless\",\"pudgy\",\"composure\",\"egocentric\",\"hairless\",\"mba\",\"rebuke\",\"commonplace\",\"bedridden\",\"ro\",\"fatness\",\"interim\",\"schmuck\",\"sunk\",\"stillborn\",\"compile\",\"pta\",\"restricted\",\"scottish\",\"fudge\",\"blocking\",\"kelly\",\"nother\",\"pe\",\"monetarily\",\"triplet\",\"fluctuation\",\"paternalistic\",\"alteration\",\"thrift\",\"loner\",\"eternally\",\"overprice\",\"here|**nah**shitpost|**shp**|not\",\"practise\",\"foreseeable\",\"latinx\",\"barb\",\"parent(s\",\"dogshit\",\"tiff\",\"newlywed\",\"usable\",\"intricacy\",\"airpod\",\"meatball\",\"reassignment\",\"meanie\",\"apprehensive\",\"regretful\",\"peck\",\"ante\",\"ooooh\",\"chess\",\"rocker\",\"y\\u2019know\",\"loathing\",\"gayness\",\"disastrous\",\"anglo\",\"4k\",\"moissanite\",\"domesticate\",\"captive\",\"tout\",\"skittish\",\"guys\",\"soggy\",\"contestant\",\"guild\",\"surgically\",\"sociology\",\"hut\",\"irate\",\"cuff\",\"stephanie\",\"kipp\",\"safeguard\",\"stead\",\"skyrocket\",\"\\u28f6\",\"munch\",\"bacterial\",\"coincidentally\",\"womanhood\",\"fiasco\",\"hooters\",\"transcript\",\"hoverboard\",\"inept\",\"noose\",\"administer\",\"synagogue\",\"warmth\",\"bizarrely\",\"unisex\",\"info|**info**[read\",\"dawkins\",\"microscope\",\"rapper\",\"smuggle\",\"harasser\",\"trajectory\",\"unconventional\",\"danielle\",\"dictator\",\"cbt\",\"twit\",\"midway\",\"demote\",\"ntadude\",\"pfft\",\"proponent\",\"botch\",\"yta.there\",\"neatly\",\"pimple\",\"snippet\",\"dat\",\"leaky\",\"leftist\",\"entice\",\"probe\",\"armrest\",\"maim\",\"digging\",\"mi\",\"karmic\",\"3am\",\"caveman\",\"cystic\",\"yta.dude\",\"workaholic\",\"thing-\",\"unfulfilled\",\"intensify\",\"negotiable\",\"7:30\",\"shitter\",\"detox\",\"coax\",\"nail_head\",\"appropriation\",\"surplus\",\"~\",\"violated\",\"angrier\",\"ntado\",\"derange\",\"heighten\",\"hp\",\"internalise\",\"diff\",\"pluck\",\"ph\",\"downward\",\"collage\",\"blade\",\"banish\",\"woke\",\"reciprocity\",\"zen\",\"trench\",\"nonprofit\",\"ordering\",\"nta.there\",\"bestfriend\",\"pinky\",\"angeles\",\"shellfish\",\"sweetener\",\"fmla\",\"chihuahua\",\"reduced\",\"redneck\",\"placebo\",\"tiredness\",\"ate\",\"geek\",\"oversee\",\"prescribed\",\"estimation\",\"replica\",\"flail\",\"peculiar\",\"debacle\",\"illustration\",\"erotic\",\"incurable\",\"dumbfound\",\"\\u201dshe\",\"fingerprint\",\"paedophile\",\"insincere\",\"denominator\",\"patriotism\",\"wade\",\"brotherly\",\"walnut\",\"consecutive\",\"misgiving\",\"insofar\",\"nauseate\",\"ding_ding\",\"payoff\",\"netherlands\",\"silk\",\"pollution\",\"outsource\",\"dungeon\",\"yer\",\"scott\",\"\\u270c\",\"masterpiece\",\"chit\",\"unrepentant\",\"plight\",\"unanimously\",\"mammal\",\"scanner\",\"nullify\",\"prudish\",\"forthright\",\"devour\",\"predispose\",\"wah\",\"neon\",\"you?you\",\"morph\",\"\\ud83d\\udc95\",\"antihistamine\",\"\\u201dhe\",\"yta.that\",\"ytathey\",\"resemblance\",\"exorbitant\",\"justnofamily\",\"sunlight\",\"cowardice\",\"15yo\",\"dissertation\",\"pumpkin\",\"internationally\",\"stank\",\"not-\",\"applause\",\"assembly\",\"mansion\",\"calculus\",\"sweatshirt\",\"ntas\",\"ii\",\"shitting\",\"lots\",\"blooded\",\"existed\",\"frontal\",\"\\ud83d\\ude14\",\"bueno\",\"child(ren\",\"fetlife\",\"implicate\",\"rival\",\"cheated\",\"ytayou've\",\"whereabouts\",\"yta\\\"i\",\"comic_strip\",\"misrepresentation\",\"meek\",\"squeamish\",\"billing\",\"zack\",\"pillar\",\"x200b;op\",\"fluently\",\"imperial\",\"bong\",\"silicon\",\"nancy\",\"mingle\",\"eyeliner\",\"icon\",\"feely\",\"adderall\",\"fringe\",\"dispenser\",\"subvert\",\"ja\",\"infrequently\",\"otherkin\",\"curvy\",\"inane\",\"trek\",\"flock\",\"oxford\",\"yoghurt\",\"mineral\",\"cna\",\"caliber\",\"yeet\",\"environmentally\",\"lifting\",\"verb\",\"contend\",\"kneejerk\",\"pavement\",\"18th\",\"bm\",\"plummet\",\"meditate\",\"poetic\",\"anchovy\",\"aroused\",\"mutter\",\"manga\",\"conjure\",\"focusse\",\"familiarity\",\"bravery\",\"ik\",\"blossom\",\"fentanyl\",\"fecal\",\"spook\",\"devastated\",\"2-year\",\"recruiting\",\"triumph\",\"truely\",\"treating\",\"ntaher\",\"involuntarily\",\"footprint\",\"upright\",\"parting\",\"shitless\",\"misdeed\",\"investor\",\"varie\",\"aptitude\",\"pertussis\",\"nta---\",\"fury\",\"sf\",\"socializing\",\"do-\",\"too-\",\"perinatal\",\"subsidise\",\"gonewild\",\"x200b;my\",\"apache\",\"grandbabie\",\"transfusion\",\"freind\",\"tragically\",\"j.\",\"yta.i'm\",\"ntawtf\",\"policing\",\"quibble\",\"editor\",\"media\",\"incubate\",\"12-year\",\"x200b;yta\",\"auschwitz\",\"dmv\",\"bluntness\",\"dwarf\",\"x200b;nta\",\"yta.what\",\"5'7\",\"copious\",\"riot\",\"identifiable\",\"scantily\",\"puss\",\"colon\",\"canvas\",\"eradicate\",\"crunchy\",\"diplomacy\",\"distort\",\"underdeveloped\",\"assuredly\",\"sassy\",\"bodybuilder\",\"cryptic\",\"fro\",\"ornament\",\"negging\",\"persistence\",\"lard\",\"reciprocal\",\"het\",\"alternately\",\"\\ud83d\\ude12\",\"org\",\"tetris\",\"kimono\",\"fellowship\",\"staunchly\",\"crust\",\"lawful\",\"crisp\",\"huuuuge\",\"cajun\",\"legaladvice\",\"ufc\",\"banjo\",\"notre\",\"unfollowe\",\"gentlemanly\",\"sm\",\"bertamo\",\"carefree\",\"encouraged\",\"silicone\",\"parks\",\"cbp\",\"manhandle\",\"walter\",\"bullcrap\",\"helium\",\"corrective\",\"25,000\",\"seniority\",\"it'd\",\"translator\",\"managing\",\"diva\",\"brunei\",\"flirtation\",\"haven\",\"though-\",\"litigation\",\"circuit\",\"aggressiveness\",\"excitedly\",\"orchestrate\",\"misandry\",\"platitude\",\"identification\",\"infestation\",\"finder\",\"combined\",\"curtail\",\"aren\\u2019t\",\"supermodel\",\"deescalate\",\"freebie\",\"horrifically\",\"z.\",\"furth\",\"bralette\",\"damsel\",\"crybaby\",\"softly\",\"outlaw\",\"bub\",\"ideological\",\"\\u280b\",\"spurt\",\"likeable\",\"fixing\",\"harms\",\"houseguest\",\"eaten\",\"preschooler\",\"handbag\",\"publicize\",\"kindest\",\"cp\",\"vacuuming\",\"residue\",\"grandbaby\",\"elective\",\"geographic\",\"anemic\",\"ak-47\",\"\\u201dif\",\"tb\",\"forwards\",\"pooch\",\"buttercup\",\"mb\",\"tokyo\",\"sheriff\",\"refrie\",\"chilli\",\"manifestation\",\"thathappene\",\"bp\",\"gravidarum\",\"retake\",\"colostomy\",\"ipa\",\"godsend\",\"reg\",\"blindfold\",\"freshener\",\"ytayes\",\"brazilian\",\"regime\",\"pewdiepie\",\"x200b;but\",\"phallic\",\"flipside\",\"lede\",\"cycling\",\"wii\",\"sq\",\"oot\",\"pressing\",\"peril\",\"\\u2801\",\"respiratory\",\"nigeria\",\"stamina\",\"gestation\",\"nutella\",\"indignation\",\"wavy\",\"malcolm\",\"snark\",\"quip\",\"gargoyle\",\"agonize\",\"seasonal\",\"dizzy\",\"agriculture\",\"blessed\",\"5.5\",\"murky\",\"asmr\",\"sensor\",\"diy\",\"250k\",\"karla\",\"conundrum\",\"ashtray\",\"louis\",\"dander\",\"prestige\",\"brazil\",\"mashed\",\"semitic\",\"historian\",\"nahi'm\",\"legoland\",\"5\\u20194\",\"dane\",\"milder\",\"mispronounce\",\"skipping\",\"\\\"or\",\"maori\",\"cheerlead\",\"sundae\",\"pageant\",\"obscenity\",\"mockingbird\",\"ntain\",\"liza\",\">i\",\"chafe\",\"hmmmm\",\"veiled\",\"showboate\",\"prediction\",\"inward\",\"offline\",\"boi\",\"ulta\",\"ballet\",\"haggle\",\"costumer\",\"mince\",\"b*tch\",\"subhuman\",\"funsie\",\"untenable\",\"retelling\",\"\\\"we\",\"fuse\",\"discretely\",\"stutter\",\"s.\",\"formulate\",\"stool\",\"cuddly\",\"undivided\",\"mower\",\"debit\",\"inflated\",\"unmedicated\",\"peppermint\",\"obstruct\",\"pmdd\",\"dicey\",\"adversely\",\"susie\",\"glucose\",\"empathic\",\"incentivize\",\"bigtime\",\"germanic\",\"moldy\",\"correspondence\",\"negro\",\"standoffish\",\"hulk\",\"hallucination\",\"yta.and\",\"perverse\",\"blackness\",\"right-\",\"spec\",\"wherewithal\",\"her?i\",\"eshif\",\"hardball\",\"goddess\",\"laws\",\"floss\",\"nahthe\",\"ejaculation\",\"pettyrevenge\",\"collectible\",\"maple\",\"fidget\",\"tenet\",\"flinch\",\"riding\",\"upcharge\",\"incessant\",\"decay\",\"ntafor\",\"uninforme\",\"unqualified\",\"predisposition\",\"yu\",\"obliviousness\",\"menstruate\",\"glamorous\",\"pleasantry\",\"pescatarian\",\"idiom\",\"lutely\",\"hobbie\",\"pence\",\"quantify\",\"consensually\",\"carolina\",\"exile\",\"^^^\",\"enrichment\",\"remake\",\"grub\",\"predetermine\",\"athi\",\"checklist\",\"teaspoon\",\"x200b;there\",\"cheerful\",\"communion\",\"africans\",\"leach\",\"choosingbeggars\",\"preplanne\",\"swamp\",\"unwrap\",\"smidge\",\"flushable\",\"9-year\",\"mindedness\",\"manliness\",\"wimp\",\"steward\",\"probate\",\"simpson\",\"shunt\",\"burdensome\",\"rehearse\",\"scowl\",\"charismatic\",\"ywnbta\",\"waaaaaay\",\"canine\",\"orgasme\",\"groin\",\"nta.what\",\"yta.edit\",\"disbelieve\",\"x200b;so\",\"compose?to\",\"pedal\",\"loledit\",\"democratic\",\"apron\",\"accost\",\"asked\",\"150k\",\"ntamaybe\",\"breather\",\"turkish\",\"posh\",\"harden\",\"anaphylactic\",\"insurmountable\",\"spacey\",\"flourish\",\"lifespan\",\"segment\",\"cumming\",\"shorter\",\"bedbug\",\"turnover\",\"unloaded\",\"leading\",\"swelling\",\"dgaf\",\"inebriate\",\"mull\",\"allegiance\",\"fawn\",\"ntaholy\",\"fda\",\"nudist\",\"vp\",\"else-\",\"enraged\",\"vouch\",\"gory\",\"pond\",\"d.\",\"glee\",\"expectant\",\"figurative\",\"dun\",\"immunize\",\"restate\",\"arabia\",\"charter\",\"spectacularly\",\"pap\",\"outlive\",\"herd\",\"grindr\",\"esl\",\"generalise\",\"dilute\",\"nutjob\",\"shifty\",\"insect\",\"nah.you're\",\"ninety\",\"calcium\",\"pod\",\"charlotte\",\"forgetfulness\",\"\\u261d\",\"8/10\",\"sus\",\"yta.just\",\"osha\",\"6k\",\"mf\",\"bask\",\"\\ud83d\\udc46\",\"retrain\",\"unfriendly\",\"n64\",\"scarring\",\"unhinge\",\"groan\",\"symbolism\",\"totem\",\"ytalook\",\"urinary\",\"pronto\",\"bygone\",\"nothingeverhappen\",\"matthew\",\"rooted\",\"cesspool\",\"disgraceful\",\"parentage\",\"exgf\",\"bac\",\"whiner\",\"desist\",\"intro\",\"\\ud83d\\ude00\",\"dreadful\",\"fumble\",\"denounce\",\"foetus\",\"lolol\",\"deformity\",\"hermit\",\"13th\",\"alamo\",\"diver\",\"differential\",\"valedictorian\",\"suv\",\"ick\",\"exemption\",\"okcupid\",\"lunge\",\"ytaher\",\"obedience\",\"utah\",\"symptomatic\",\"monument\",\"introspective\",\"persistently\",\"retell\",\"unasked\",\"vr\",\"mythical\",\"hardass\",\"unfriende\",\"funnel\",\"cancerous\",\"espouse\",\"sublet\",\"shitposter\",\"ans\",\"coarse\",\"lucke\",\"du\",\"stillbirth\",\"updoot\",\"demolish\",\"detain\",\"x2\",\"ridden\",\"subtlety\",\"40,000\",\"catcalling\",\"nta.edit\",\"riddled\",\"duct\",\"rosy\",\"\\\"then\",\"fierce\",\"nurturing\",\"shakespeare\",\"feminazi\",\"departure\",\"decorative\",\"spooky\",\"fingertip\",\"gras\",\"sailor\",\"savings\",\"bloop\",\"manhood\",\"bleep\",\"fiend\",\"confetti\",\"oblivion\",\"startled\",\"plaything\",\"permeate\",\"succumb\",\"\\\"not\",\"anthropology\",\"dennis\",\"fort\",\"esh.he\",\"sexting\",\"emperor\",\"miniscule\",\"restrained\",\"remission\",\"estrangement\",\"composition\",\"malnutrition\",\"librarian\",\"inb4\",\"phantom\",\"bulge\",\"diplomatically\",\"pua\",\"mississippi\",\"that\\u2018s\",\"confronting\",\"staffing\",\"endearing\",\"naivety\",\"zoom\",\"pushup\",\"expenditure\",\"gaslighter\",\"merchant\",\"outspoken\",\"invention\",\"screenshotte\",\"perplex\",\"undress\",\"canadians\",\"k.\",\"catastrophe\",\"broadway\",\"scrawny\",\"blurry\",\"victorian\",\"narcs\",\"mandated\",\"spidey\",\"asf\",\"slash\",\"tot\",\"incidence\",\"animation\",\"yta.why\",\"willy\",\"forefront\",\"evaporate\",\"feasibly\",\"\\u201dthe\",\"uhhhh\",\"migrate\",\"intruder\",\"councilor\",\"nub\",\"causation\",\"vested\",\"here](https://www.reddit.com\",\"intrinsically\",\"swiss\",\"madly\",\"sherlock\",\"iamverysmart\",\"headset\",\"armor\",\"pende\",\"bahamas\",\"ytaunless\",\"abolish\",\"vindication\",\"mugging\",\"dehydration\",\"lunchtime\",\"indenture\",\"rapport\",\"si\",\"monk\",\"idol\",\"predictor\",\"durr\",\"cheerfully\",\"unsuccessful\",\"reflexively\",\"bathing\",\"speciman\",\"hugger\",\"daunting\",\"doorbell\",\"electrician\",\"cumme\",\"ytano\",\"externally\",\"readjust\",\"inference\",\"hyphenation\",\"5'6\",\"pistol\",\"modestly\",\"infoyou\",\"hooter\",\"\\u201dedit\",\"founder\",\"assult\",\"youthful\",\"robotic\",\"irresponsibly\",\"bassinet\",\"airfare\",\"conceptualize\",\"brainstorm\",\".i\",\"helluva\",\"attic\",\"causal\",\"sorted\",\"coddling\",\"stadium\",\"playbook\",\"betterment\",\"noah\",\"mushy\",\"awww\",\"stricken\",\"limbo\",\"classification\",\"dis\",\"befall\",\"resound\",\"giddy\",\"brunette\",\"upbringe\",\"straddle\",\"heteronormative\",\"ding\",\"polished\",\"abso\",\"derek\",\"snuck\",\"molly\",\"reparation\",\"sandbox\",\"browsing\",\"rome\",\"worn\",\"blush\",\"accomplice\",\"ntahowever\",\"funnily\",\"armr\",\"salsa\",\"bedsheet\",\"op.i\",\"fatlogic\",\"implausible\",\"optimally\",\"adoptee\",\"emphatically\",\"\\u2665\",\"underground\",\"ntai'd\",\"constipate\",\"cusp\",\"coil\",\"enclosure\",\"sexualized\",\"heartburn\",\"gotta\",\"gettin\",\"amish\",\"slavic\",\"lily\",\"monologue\",\"degradation\",\"corroborate\",\"clickbaity\",\"saver\",\"zumba\",\"thingy\",\"rainy\",\"sparkly\",\"experimental\",\"cali\",\"itemize\",\"holly\",\"ender\",\"maine\",\"scorpion\",\"did-\",\"slope\",\"foil\",\"forearm\",\"somone\",\"repression\",\"idaho\",\"lighthearte\",\"shorthand\",\"infantile\",\"iphones\",\"judgment**>>this\",\"fucken\",\"happenpic_happenpic_happenpic_happenpic\",\"slippery\",\"applied\",\"shana\",\"aboriginal\",\"wayyyyy\",\"genetics\",\"sizing\",\"silverware\",\"pornographic\",\"bane\",\"bookshelf\",\"onesie\",\"flagrantly\",\"immaterial\",\"mailman\",\"signage\",\"squeaky\",\"catalog\",\"resourceful\",\"mankind\",\"chromosomal\",\"westboro\",\"baggy\",\"situation-\",\"bandwidth\",\"handjob\",\"waver\",\"lacking\",\"audit\",\"flashlight\",\"overbear\",\"conspire\",\"ytain\",\"peen\",\"kiwi\",\"decompose\",\"motivational\",\"primal\",\"skimp\",\"sneakily\",\"it.&#x200b;edit\",\"\\u26a0_\\ufe0f_\\u26a0_\\ufe0f\",\"denominational\",\"retinal\",\"schizophrenic\",\"matt\",\"gander\",\"cozy\",\"sophie\",\"structural\",\"\\u2803\",\"futile\",\"unkempt\",\"note-\",\"wearer\",\"reoccurre\",\"cambridge\",\"prosthetic\",\"unprofessionally\",\"thankless\",\"williams\",\"aaa\",\"mmr\",\"wanted\",\"conquer\",\"unbearably\",\"brandnewsentence\",\"abcde\",\"infectious\",\"decimate\",\"unmitigated\",\"adress\",\"brokerage\",\"fraternal\",\"quasi\",\"legwork\",\"wikitextbot\",\"kool\",\"s.o.\",\"behaving\",\"mascara\",\"misdemeanor\",\"sexualization\",\"frugally\",\"kilt\",\"thump\",\"conquest\",\"unwillingly\",\"sneaker\",\"overture\",\"sturdy\",\"infatuate\",\"denote\",\"hydrated\",\"eerily\",\"bearable\",\"cavity\",\"interrupting\",\"suuuuper\",\"playboy\",\"ringer\",\"pesky\",\"natured\",\"emancipate\",\"bylaw\",\"colony\",\"leukemia\",\"proficient\",\"doodle\",\"pakistan\",\"\\\"well\",\"13,000\",\"aspie\",\"presently\",\"supervised\",\"deflection\",\"seasoning\",\"\\\"yta\",\"vindicated\",\"funky\",\"that.2\",\"payer\",\"subjectively\",\"counting\",\"chord\",\"cigar\",\"wilfully\",\"bead\",\"verbiage\",\"dickhole\",\"ignoring\",\"appraise\",\"unusable\",\"cushy\",\"unpunished\",\"nd\",\"it\\\"\",\"fiery\",\"hurr\",\"wrongfully\",\"ytastop\",\"cooperation\",\"doggie\",\"childbeare\",\"dabble\",\"~~i\",\"confer\",\"placeholder\",\"laundromat\",\"fluke\",\"headscarf\",\"britain\",\"\\u00af\\\\\\\\\\\\_(\\u30c4)\\\\_/\\u00af\",\"royalty\",\"foods\",\"unfathomable\",\"prosecution\",\"womanly\",\"jugular\",\"reductive\",\"again-\",\"legitimacy\",\"interior\",\"profiling\",\"import\",\"shore\",\"8yo\",\"unjust\",\"hurricane\",\"cohabitation\",\"u.s\",\"cologne\",\"fraternity\",\"\\\"her\",\"vector\",\"shitstain\",\"infrastructure\",\"elizabeth\",\"packaging\",\"columbia\",\"adversarial\",\"font\",\"fetched\",\"reliability\",\"arcade\",\"rabie\",\"barter\",\"impoverished\",\"churn\",\"longevity\",\"maryland\",\"thesis\",\"unsuspecting\",\"defective\",\"flawless\",\"scot\",\"pooper\",\"ruckus\",\"nta.1\",\"x200b;your\",\"murderous\",\"ment\",\"dignified\",\"thier\",\"\\ud83d\\ude29\",\"dart\",\"distinctive\",\"choosingbeggar\",\"directive\",\"traumatizing\",\"sprout\",\"23-year\",\"regulated\",\"hahahah\",\"amenable\",\"johns\",\"kfc\",\"phew\",\"scab\",\"locked\",\"microscopic\",\"nta.sounds\",\"coo\",\"confidant\",\"stockholm\",\"absolution\",\"mutt\",\"irrevocably\",\"spermicide\",\"sergeant\",\"promising\",\"unnoticed\",\"oddball\",\"correspond\",\"urologist\",\"restitution\",\"retaliatory\",\":o\",\"howl\",\"buuut\",\"illicit\",\"ooze\",\"monstrous\",\"roi\",\"ungodly\",\"colorful\",\"realisation\",\"volcano\",\"hehe\",\"cardiac\",\"login\",\"6'4\",\"faucet\",\"nigga\",\"repel\",\"haste\",\"vividly\",\"populate\",\"accustom\",\"fledge\",\"blah\",\"unaddressed\",\"saudi\",\"liberate\",\"amok\",\"commemorate\",\"mars\",\"legging\",\"vindicate\",\"orbit\",\"retention\",\"histrionic\",\"tantamount\",\"murderedbywords\",\"approximate\",\"predictably\",\"inquiry\",\"buzzkill\",\"\\u201dand\",\"lecturer\",\"existential\",\"bagger\",\"flannel\",\"spinach\",\"x100\",\"gritty\",\"pointedly\",\"lender\",\"residual\",\"shtick\",\"^exclude\",\"fashionable\",\"celibacy\",\"innately\",\"20th\",\"chant\",\"followup\",\"gouge\",\"raunchy\",\"2am\",\"apprenticeship\",\"underwater\",\"solvable\",\"rang\",\"unplug\",\"f.\",\"schrodinger\",\"trooper\",\"pouting\",\"\\ud83d\\ude4c\",\"trot\",\"frazzle\",\"kneel\",\"furnace\",\"pubic\",\"demisexual\",\"fingernail\",\"opportunist\",\"roastme\",\"classical\",\"loo\",\"eloquent\",\"ott\",\"unforeseen\",\"surpass\",\"subculture\",\"journalism\",\"rehash\",\"smugly\",\"apologising\",\"swab\",\"abrahamic\",\"wince\",\"squishy\",\"rivalry\",\"skating\",\"begone\",\"untrusting\",\"adolf\",\"strait\",\"you\\u2019ll\",\"analyse\",\"alica\",\"pejorative\",\"persevere\",\"llama\",\"banal\",\"divine\",\"shingle\",\"experimentation\",\"shittily\",\"expendable\",\"cowboy\",\"heavens\",\"masterbate\",\"crippled\",\"teddy\",\"inequity\",\"disadvantaged\",\"flaming\",\"yip\",\"pullout\",\"preterm\",\"conserne\",\"tetanus\",\"seminar\",\"impotent\",\"quran\",\"presumptive\",\"douchecanoe\",\"pitty\",\"ged\",\"jeopardise\",\"yta.a\",\"depreciate\",\"collaborate\",\"sooooooo\",\"rambling\",\"wp\",\"1950s\",\"changing\",\"nexplanon\",\"weeknight\",\"peachy\",\"freeloading\",\"minister\",\"staunch\",\"opposing\",\"donkey\",\"uninsured\",\"wayside\",\"monolith\",\"sids\",\"psychopathy\",\"abomination\",\"bereavement\",\"i\\u2018d\",\"hitting\",\"angie\",\"coincidental\",\"approachable\",\"breech\",\"abstinent\",\"\\u201dso\",\"aloof\",\"marshmallow\",\"ewwww\",\"studying\",\"behoove\",\"skeezy\",\"ruffle\",\"16th\",\"constitutional\",\"victimless\",\"epileptic\",\"reestablish\",\"faithfulness\",\"geeze\",\"nun\",\"snipe\",\"prosper\",\"parenthesis\",\"pong\",\"dakota\",\"fasting\",\"lsd\",\"duke\",\"overrate\",\"naha\",\"nuh\",\"filler\",\"blas\\u00e9\",\"skateboard\",\"petrol\",\"chide\",\"hijacking\",\"lob\",\"kissy\",\"kiddy\",\"wat\",\"domineering\",\"mover\",\"childishness\",\"exploitation\",\"forsake\",\"lived\",\"indecent\",\"oopsie\",\"arguable\",\"adviser\",\"shamelessly\",\"doofus\",\"virginia\",\"ahem\",\"dispel\",\"prankster\",\"janice\",\"walkway\",\"indistinguishable\",\"generalisation\",\"iamatotalpieceofshit\",\"sphincter\",\"salesperson\",\"repetition\",\"rust\",\"ip\",\"physiologically\",\"hobo\",\"oc\",\"options:1\",\"tony\",\"mardi\",\"alibi\",\"procure\",\"smiley\",\"75k\",\"roasted\",\"saddening\",\"shortcut\",\"swastikas\",\"finely\",\"amiright\",\"mff\",\"cauliflower\",\"harming\",\"now-\",\"whopping\",\"jarring\",\"transparently\",\"parody\",\"contrarian\",\"downvoted\",\"momentum\",\"17th\",\"ypu\",\"assemble\",\"rl\",\"sonic\",\"sth\",\"toyota\",\"measured\",\"simpsons\",\"camgirl\",\"whitewash\",\"supplier\",\"inhale\",\"machinery\",\"relationships\",\"sleepless\",\"xs\",\"blinder\",\"guessing\",\"raging\",\"refined\",\"brothers\",\"awaken\",\"michelin\",\"getgo\",\"pew\",\"slapping\",\"ytalike\",\"jessie\",\"ratty\",\"superpower\",\"intermittent\",\"objectified\",\"theif\",\"para\",\"tar\",\"ata\",\"carpool\",\"alaska\",\"ntaoh\",\"warfare\",\"esteem\",\"vis\",\"culmination\",\"v.\",\"nsa\",\"edited\",\"ballsy\",\"extravagance\",\"15,000\",\"upbeat\",\"othere\",\"poppy\",\"precursor\",\"consuming\",\"trisomy\",\"asl\",\"sunglass\",\"unwashed\",\"disciplinarian\",\"jnmil\",\"doula\",\"scrooge\",\"isolating\",\"les\",\"upheaval\",\"2.0\",\"scotch\",\"improved\",\"brits\",\"unsexy\",\"airlines\",\"encyclopedia\",\"brazen\",\"populated\",\"damp\",\"pd\",\"\\u285f\",\"comeuppance\",\"landscape\",\"sanitize\",\"^[contact](/message\",\"rehabilitation\",\"median\",\"^\\\\([info](/r\",\"\\u28c4\",\"reddit:-\",\"situate\",\"inexplicably\",\"innapropriate\",\"drape\",\"keyed\",\"stan\",\"insemination\",\"deflate\",\"ref\",\"shin\",\"ntawow\",\"progressively\",\"avoidant\",\"shrew\",\"burglary\",\"withstand\",\"operator\",\"intrusion\",\"foh\",\"\\u00af\\\\_(\\u30c4)_/\\u00af\",\"11th\",\"garment\",\"unfiltered\",\"fragility\",\"yuppie\",\"isla\",\"governor\",\"ups\",\"passionately\",\"bureau\",\"thoughtlessly\",\"fireman\",\"gifted\",\"nta--\",\"permissible\",\"wtaf\",\"pubescent\",\"recite\",\"someome\",\"turning\",\"signing\",\"carol\",\"sphere\",\"preservation\",\"mould\",\"tentative\",\"rediculous\",\"tingle\",\"friend(s\",\"asswipe\",\"clara\",\"\\ud83d\\udc08_\\ud83d\\udc08_\\ud83d\\udc08_\\ud83d\\udc08\",\"messianic\",\"troublemaker\",\"upwards\",\"descriptive\",\"stud\",\"drexel\",\"yth\",\"ve\",\"unlawful\",\"proselytize\",\"soundly\",\"tropical\",\"compartmentalize\",\"proverb\",\"overuse\",\"stunningly\",\"nta.a\",\"nat\",\"continual\",\"sith\",\"mogai\",\"proofread\",\"globe\",\"subservient\",\"11.30\",\"carcass\",\"ping\",\"elaboration\",\"portable\",\"marketable\",\"nba\",\"circumstantial\",\"pupil\",\"lobe\",\"arc\",\"grammatically\",\"crumple\",\"met\",\"transperson\",\"socket\",\"ceremonial\",\"monica\",\"pseudoscience\",\"damper\",\"prosecutor\",\"deservedly\",\"ytadon\\u2019t\",\"mater\",\"ware\",\"yummy\",\"wi\",\"insinuation\",\"migrant\",\"ambivalent\",\"fsm\",\"fave\",\"100s\",\"nonissue\",\"healthier\",\"algebra\",\"peice\",\"mite\",\"excluded\",\"jeeze\",\"expired\",\"stagger\",\"horde\",\"hepatitis\",\"slick\",\"postcard\",\"prognosis\",\"procrastinator\",\"choreographer\",\"stint\",\"mouthwash\",\"viking\",\"drawback\",\"curtesy\",\"aghast\",\"2-\",\"ytawtf\",\"messiness\",\"elevated\",\"accelerate\",\"5'11\",\"initiation\",\"enviroment\",\"marble\",\"addendum\",\"fu\",\"fricken\",\"here:1\",\"sibs\",\"procession\",\"pedicure\",\"thinker\",\"peasy\",\"holler\",\"kay\",\"sag\",\"ntaeven\",\"adage\",\"5'1\",\"tyson\",\"astute\",\"beleive\",\"nta.why\",\"entitledparent\",\"cornerstone\",\"financing\",\"teehee\",\"woth\",\"500k\",\"ytasound\",\"cetera\",\"bitchiness\",\"\\\"my\",\"humongous\",\"damning\",\"pram\",\"unvaccinate\",\"refurbish\",\"eclampsia\",\"coughing\",\"matriarch\",\"succinctly\",\"oink\",\"7/10\",\"tubal\",\"uncooperative\",\"leroy\",\"superman\",\"embarrase\",\"squid\",\"discontinue\",\"gnarly\",\"ooo\",\"\\ud83d\\ude0d\",\"cherokee\",\"controllable\",\"garb\",\"pristine\",\"fri\",\"humanist\",\"pyramid\",\"serena\",\"rosa\",\"odour\",\"brah\",\"mmf\",\"housekeep\",\"corruption\",\"cognitively\",\"hazardous\",\"brighten\",\"abdoman\",\"x200b;as\",\"excruciate\",\"bewilder\",\"godfather\",\"hastily\",\"intoxicated\",\"literary\",\"rover\",\"sounding\",\"ralph\",\"unsupported\",\"wrt\",\"competence\",\"framing\",\"ybta\",\"earmark\",\"ty\",\"bearer\",\"iranian\",\"dissonance\",\"bono\",\"fatass\",\"reexamine\",\"sanction\",\"nta.honestly\",\"justin\",\"smoother\",\"12yr\",\"hay\",\"adresse\",\"chaste\",\"kart\",\"mid-20\",\"geo\",\"chemotherapy\",\"faker\",\"condense\",\"undecided\",\"groove\",\"hydrate\",\"tonya\",\"cohesive\",\"ai\",\"concentrated\",\"don\\u00b4t\",\"nacho\",\"skid\",\"dudley\",\"aura\",\"vacant\",\"200,000\",\"preoccupy\",\"mods\",\"receiving\",\"lawnmower\",\"scouting\",\"\\ud83d\\ude48_\\ud83d\\ude48\",\"snooty\",\"preferential\",\"sketchbook\",\"ntaits\",\"voodoo\",\"antagonist\",\"ytamy\",\"rutgers\",\"kong\",\"interchangeably\",\"androgynous\",\"wifes\",\"wildfire\",\"airpods\",\"fetishise\",\"versed\",\"diligently\",\"mamas\",\"jello\",\"moscow\",\"well-\",\"purport\",\"gma\",\"\\\"as\",\"detest\",\"heathen\",\"because:1\",\"dagger\",\"hottie\",\"marked\",\"unauthorized\",\"aaaaaand\",\"bickering\",\"plushie\",\"commandment\",\"gotten\",\"boutique\",\"legendary\",\"slideshow\",\"esha\",\"reverend\",\"jumpy\",\"photographic\",\"conceited\",\"static\",\"10:30\",\"@op\",\"cul\",\"floppy\",\"criminalize\",\"salami\",\"michelle\",\"cricket\",\"va\",\"purebre\",\"hotness\",\"likes\",\"accuser\",\"stigmatized\",\"missy\",\"stickie\",\"niceness\",\"ntalet\",\"ntawhen\",\"mortal\",\"subsidized\",\"stealth\",\"money-\",\"waxing\",\"cactus\",\"allll\",\"fizzle\",\"shill\",\"mothering\",\"silliness\",\"parish\",\"viscerally\",\"demise\",\"hamilton\",\"wasn\\u2019t\",\"oftentime\",\"executioner\",\"ee\",\"saliva\",\"crosse\",\"pulse\",\"litterbox\",\"noteworthy\",\"surreal\",\"mercury\",\"endow\",\"newcomer\",\"recreation\",\"smelling\",\"risqu\\u00e9\",\"unionize\",\"roadblock\",\"absolutly\",\"repent\",\"irregardless\",\"immunocompromise\",\"pesto\",\"hindus\",\"inactive\",\"burglar\",\"boggling\",\"luxurious\",\"ytaget\",\"moore\",\"segue\",\"tacit\",\"hairstylist\",\"deff\",\"chilling\",\"nitpicky\",\"redflag\",\"thor\",\"remaining\",\"ontop\",\"fap\",\"traumatized\",\"secluded\",\"python\",\"righteously\",\"nazism\",\"you\\\"\",\"intimidating\",\"hearte\",\"corny\",\"iamverybadass\",\"incision\",\"80k\",\"19-year\",\"hostel\",\"shiver\",\"hackle\",\"completion\",\"ytajesus\",\"miserly\",\"syrup\",\"q\",\"roasting\",\"teensy\",\"invites\",\"andrew\",\"ytaeveryone\",\"pricy\",\"manor\",\"prophet\",\"pinche\",\"nahyou\\u2019re\",\"yta.no\",\"sleeveless\",\"repeated\",\"ytayeah\",\"zit\",\"assualt\",\"ems\",\"spirituality\",\"lifer\",\"levy\",\"mulan\",\"perky\",\"lunacy\",\"given\",\"outreach\",\"1mil\",\"extremly\",\"bearded\",\"elegant\",\"beget\",\"infuriating\",\"farth\",\"erectile\",\"ntabee\",\"connive\",\"antifa\",\"divorcee\",\"remembrance\",\"earther\",\"3:>**accept\",\"comparatively\",\"gumption\",\"rogers\",\"literate\",\"hum\",\"barbara\",\"oinking\",\"asylum\",\"pathogen\",\"pivotal\",\"inviting\",\"trustworthiness\",\"choreograph\",\"seattle\",\"coerced\",\"point-\",\"accutane\",\"eighth\",\"1,200\",\"ist\",\"posit\",\"rooftop\",\"pretzel\",\"sammy\",\"skunk\",\"applebee\",\"20ish\",\"suitor\",\"14/15\",\"overreach\",\"invitee\",\"fascinate\",\"x200b;he\",\"ytaholy\",\"personable\",\"fir\",\"thx\",\"jackfruit\",\"sic\",\"microchip\",\"busser\",\"dwelling\",\"saturate\",\"stubbornly\",\"unsubbe\",\"ableism\",\"u.k.\",\"sims\",\"onwards\",\"viciously\",\"resounding\",\"ntawho\",\"13/14\",\"slum\",\"rambunctious\",\"commander\",\"premade\",\"stickler\",\"molestor\",\"grammatical\",\"westerner\",\"20-something\",\"ahhhh\",\"disgruntle\",\"gurl\",\"lurker\",\"exposed\",\"sewer\",\"compute\",\"comically\",\"mitigating\",\"fetishization\",\"copay\",\"unannounce\",\"nta.some\",\"bjs\",\"medic\",\"apocalypse\",\"batter\",\"disturbingly\",\"extraneous\",\"tangentially\",\"autist\",\"adept\",\"facetious\",\"friendliness\",\"4,000\",\"apprehension\",\"colloquially\",\"it.edit\",\"6.50\",\"lentil\",\"unoriginal\",\"out-\",\"thieving\",\"hallucinate\",\"bondage\",\"nah.she\",\"wonky\",\"acutely\",\"hemorrhoid\",\"amputate\",\"esh.the\",\"ended\",\"complimentary\",\"appreciated\",\"instinctive\",\"overrun\",\"weren't\",\"burritos\",\"concious\",\"solicitor\",\"ruder\",\"compromised\",\"fraudulent\",\"relegate\",\"hanger\",\"terrific\",\"benevolent\",\"arthur\",\"polio\",\"juul\",\"qualifie\",\"metropolitan\",\"scrolling\",\"ntawhile\",\"eggplant\",\"assholeishness\",\"portugal\",\"vocation\",\"unwittingly\",\"-and\",\"concoct\",\"binder\",\"needed\",\"bombing\",\"klan\",\"partaking\",\"toenail\",\"billionaire\",\"preacher\",\"6'2\",\"rly\",\"\\ud83d\\ude10\",\"harmlessly\",\"\\ufe0f.\",\"grandstand\",\"mmmm\",\"exhibition\",\"mondays\",\"playmate\",\"decider\",\"shopkeeper\",\"furiously\",\"quitter\",\"nj\",\"defo\",\"oversimplify\",\"\\\"do\",\"coitus\",\"reconstruction\",\"landfill\",\"indulgent\",\"padlock\",\"but-\",\"ex-\",\"sickening\",\"parter\",\"superintendent\",\"wreak\",\"bender\",\"vaxxers\",\"councillor\",\"preemie\",\"recollection\",\"paddle\",\"oftentimes\",\"intermediary\",\"slink\",\"huntington\",\"70k\",\"homer\",\"collectable\",\"\\\"how\",\"erasure\",\"https://www.reddit.com\",\"crossfire\",\"inclusivity\",\"febreeze\",\"abound\",\"obstinate\",\"thicken\",\"downsize\",\"listing\",\"socialist\",\"stave\",\"goofball\",\"jackson\",\"trying\",\"cottage\",\"cornered\",\"embarass\",\"embodiment\",\"somthe\",\"timetable\",\"cub\",\"depressant\",\"tj\",\"privledge\",\"esh.you're\",\"lunchbox\",\"quad\",\"solitude\",\"altar\",\"hunny\",\"1/3rd\",\"robust\",\"huuuge\",\"transcend\",\"beep\",\"abysmal\",\"2h\",\"nta.first\",\"cindy\",\"whinge\",\"\\\"like\",\"surge\",\"tel\",\"taken\",\"petting\",\"headed\",\"brash\",\"rules\",\"reboot\",\"fuckface\",\"transman\",\"swarm\",\"hellion\",\"laze\",\"laborer\",\"eyelash\",\"lime\",\"she'll\",\"shuttle\",\"cohabitate\",\"dearest\",\"scenery\",\"unambiguously\",\"shoehorn\",\"imitation\",\"adulting\",\"infallible\",\"moby\",\"femme\",\"persuasion\",\"ruler\",\"kinship\",\"relocation\",\"solar\",\"lysol\",\"tourism\",\"depart\",\"nationalist\",\"healthful\",\"wrongful\",\"restructure\",\"redefine\",\"painter\",\"trouser\",\"famously\",\"satiate\",\"settler\",\"pmc\",\"gamestop\",\"seventh\",\"snuff\",\"blizzard\",\"juju\",\"widen\",\"economical\",\"validated\",\"whelp\",\"disperse\",\"browbeat\",\"cradle\",\"mam\",\"identifier\",\"riddle\",\"popping\",\"asktrp\",\"harassed\",\"transpeople\",\"wireless\",\"underappreciated\",\"acclimate\",\"output\",\"pessimistic\",\"logan\",\"amenity\",\"coaching\",\"umbilical\",\"germaphobia\",\"45k\",\"libidos\",\"oooooh\",\"candidly\",\"dormant\",\"regressive\",\"constipation\",\"windows\",\"buss\",\"slobber\",\"grotesque\",\"midlife\",\"outloud\",\"crabby\",\"cape\",\"\\\"don't\",\"aging\",\"l.\",\"busboy\",\"vibrant\",\"heifer\",\"pounce\",\"eshwhy\",\"dilation\",\"yta.as\",\"conditionally\",\"subaru\",\"reload\",\"untouched\",\"itedit\",\"callously\",\"gobble\",\"ntajesus\",\"operating\",\"\\u2728\",\"hoot\",\"tickling\",\"mistype\",\"someway\",\"yadda\",\"unsavory\",\"knitting\",\"producer\",\"stephen\",\"farce\",\"ration\",\"betting\",\"gg\",\"suzie\",\"appologize\",\"senseless\",\"dissapointe\",\"ministry\",\"fl\",\"handsy\",\"dialog\",\"ytais\",\"nooooo\",\"inmate\",\"steadily\",\"prowess\",\"this:>i\",\"meaty\",\"defining\",\"vie\",\"blee\",\"gs\",\"lopsided\",\"pallet\",\"it.&#x200b;i\",\"slay\",\"ay\",\"annul\",\"ether\",\"endorsement\",\"drugstore\",\"mediterranean\",\"breadstick\",\"arborist\",\"16/17\",\"publishing\",\"1/5\",\"retina\",\"habitat\",\"gardasil\",\"ailment\",\"thickness\",\"acquisition\",\"romans\",\"harangue\",\"warren\",\"freckle\",\"undressed\",\"dolly\",\"cellular\",\"daugther\",\"bonafide\",\"hacker\",\"\\u2840\",\"sie\",\"welsh\",\"indo\",\"indulgence\",\"mush\",\"saw\",\"ooof\",\"corps\",\"bristle\",\"to-\",\"anticipation\",\"eyeshadow\",\"bribery\",\"parse\",\"\\u035c\\u0296\",\"glaringly\",\"hearsay\",\"isaac\",\"girth\",\"pepsi\",\"taper\",\"waaaaaaay\",\"fallon\",\"dogma\",\"thrash\",\"trapped\",\"stuffy\",\"we\\u2019re\",\"couldnt\",\"amethyst\",\"dusty\",\"pinnacle\",\"unenforceable\",\"hopping\",\"11-year\",\"childrearing\",\"^^^^automod\",\"thomas\",\"cfa\",\"bumpy\",\"nokia\",\"nextdoor\",\"dom(me\",\"collected\",\"groundwork\",\"guthrie\",\"didn\\u2018t\",\"gratify\",\"kicking\",\"dietetic\",\"saintly\",\"15th\",\"\\u28a0\",\"`\",\"lmaooo\",\"dropping\",\"laden\",\"thoughtlessness\",\"harrasment\",\"ascertain\",\"mowing\",\"workaround\",\"gravitate\",\"compulsory\",\"michigan\",\"quartz\",\"stbx\",\"journalist\",\"works\",\"likeness\",\"afar\",\"chiropractic\",\"m'lady\",\"template\",\"chiro\",\"unnerving\",\"dtf\",\"selflessly\",\"cw\",\"symmetrical\",\"bleak\",\"\\\\*not\\\\\",\"divisive\",\"squeak\",\"delighted\",\"theatric\",\"consolidate\",\"dyscalculia\",\"gah\",\"gloria\",\"eulogy\",\"cortex\",\"schtick\",\"titanic\",\"zinc\",\"people-\",\"eject\",\"legitimize\",\"dos\",\"thanos\",\"stained\",\"institutional\",\"penniless\",\"patty\",\"unappeale\",\"millisecond\",\"ntaare\",\"goddamnit\",\"expressive\",\"ibuprofen\",\"shitfaced\",\"js\",\"novice\",\"fuckhead\",\"docile\",\"behaviorist\",\"mocha\",\"contrived\",\"wedlock\",\"habe\",\"bu\",\"swerve\",\"imposter\",\"zealous\",\"yale\",\"covered\",\"fondle\",\"demo\",\"-she\",\"fiercely\",\"audi\",\"7k\",\"khaled\",\"letting\",\"viability\",\"trolley\",\"gop\",\"antimlm\",\"dingus\",\"baiting\",\"pisser\",\"vulgarity\",\"fore\",\"grump\",\"sass\",\"revolving\",\"gloomy\",\"ytawhile\",\"neanderthal\",\"bulldog\",\"malignant\",\"post](https://www.reddit.com\",\"mealtime\",\"glowing\",\"paygrade\",\"cajole\",\"sjws\",\"iceland\",\"activism\",\"crook\",\"standby\",\"amphetamine\",\"evoke\",\"x200b;just\",\"canned\",\"trivia\",\"esh.it\",\"romcom\",\"bandmate\",\"fingering\",\"artistry\",\"bloated\",\"one-\",\"indefinite\",\"\\ud83d\\ude15\",\"50th\",\"hearty\",\"fabrication\",\"lodge\",\"slit\",\"speedy\",\"crafty\",\"u.\",\"ww1\",\"sta\",\"esh.if\",\"cumbersome\",\"senator\",\"nta.when\",\"oi\",\"paintball\",\"blindsided\",\"mercilessly\",\"intensifie\",\"motherfucking\",\"nervousness\",\"unselfish\",\"abundant\",\"sift\",\"1-on-1\",\"commandeer\",\"darken\",\"hung\",\"sulky\",\"thriving\",\"plagiarize\",\"congenital\",\"sundays\",\"encapsulate\",\"extinguish\",\"cynic\",\"iran\",\"veal\",\"refuge\",\"that\\u2019\",\"scandalize\",\"uncut\",\"pairing\",\"legaladviceuk\",\"braindead\",\"associated\",\"obstruction\",\"republicans\",\"compassionately\",\"resize\",\"deffo\",\"assumed\",\"dsm\",\"turnaround\",\"lookin\",\"contributor\",\"apparel\",\"manhattan\",\"fatherless\",\"ostracism\",\"berth\",\"bestow\",\"overthink\",\"impersonal\",\"crocodile\",\"emancipation\",\"certified\",\"hsv-1\",\"ntaplease\",\"slacker\",\"remade\",\"waifu\",\"creeped\",\"golddigger\",\"fesse\",\"\\\"maybe\",\"unscented\",\"configuration\",\"willis\",\"chivalrous\",\"suckere\",\"aaaand\",\"30-year\",\"stagnate\",\"experiance\",\"10pm\",\"dictatorship\",\"rougher\",\"2-way\",\"crotchety\",\"thirde\",\"ytahave\",\"lowlife\",\"doctoral\",\"maliciouscompliance\",\"embassy\",\"~20\",\"fanfic\",\"setback\",\"lotr\",\"fireable\",\"kiddie\",\"flippantly\",\"prioritization\",\"dwight\",\"enabling\",\"cosmo\",\"gorge\",\"masquerade\",\"implantation\",\"torrent\",\"catheter\",\"nta.people\",\"mos\",\"goop\",\"sydney\",\"easiest\",\"governmental\",\"linear\",\"fuckwad\",\"temperamental\",\"expulsion\",\"unseen\",\"debauchery\",\"berry\",\"reeeeeally\",\"nationwide\",\"anemia\",\"bon\",\"sneer\",\"overburden\",\"orderly\",\"feefee\",\"cz\",\"treasured\",\"y'alls\",\"doozy\",\"weakling\",\"monty\",\"ta.you\",\"pulp\",\"strut\",\"brutality\",\"prohibition\",\"paralyzed\",\"synonym\",\"insulate\",\"heterosexuality\",\"tou\",\"immediatly\",\"reassuring\",\"crazier\",\"sensual\",\"schooler\",\"imgur\",\"paralegal\",\"radiation\",\"5:30\",\"ticketed\",\"vc\",\"lint\",\"doug\",\"strew\",\"she\\u2018s\",\"entrepreneur\",\"commonality\",\"volleyball\",\"ymbta\",\"motorbike\",\"embarrassingly\",\"loooove\",\"oppressed\",\"deadbolt\",\"\\ud83e\\udd37_\\u200d\",\"disassociate\",\"argumentation\",\"perch\",\"9yo\",\"forensic\",\"ytai\\u2019m\",\"plaque\",\"joseph\",\"impossibly\",\"greeks\",\"ism\",\"jr.\",\"vindictively\",\"clergy\",\"pacifier\",\"allllll\",\"mums\",\"spur\",\"\\ud83d\\udc9c\",\"glutton\",\"child-\",\"entangle\",\"dumbfuck\",\"harley\",\"repurpose\",\"achievable\",\"dug\",\"eclipse\",\"architecture\",\"curveball\",\"rsvp'd\",\"shoplifter\",\"greener\",\"sandal\",\"ntaeveryone\",\"preempt\",\"jot\",\"literacy\",\"hillary\",\"99.99\",\"whataboutism\",\"pointing\",\"ambient\",\"skit\",\"wrongness\",\"satanic\",\"indefensible\",\"reapply\",\"~~the\",\"preform\",\"shp-\",\"yes-\",\"buuuuut\",\"overgrown\",\"competency\",\"baller\",\"trivialise\",\"stuffed\",\"unsubscribe\",\"\\\"a\",\"dae\",\"pandora\",\"pivot\",\"erotica\",\"destruct\",\"gmail\",\"diabolical\",\"minutia\",\"neutrality\",\"oggle\",\"morgue\",\"poof\",\"dads\",\"nta.in\",\"defile\",\"chickene\",\"consentual\",\"nta.so\",\"bnb\",\"unjustly\",\"credence\",\"deity\",\"gong\",\"~10\",\"daisy\",\"kavanaugh\",\"obedient\",\"carrie\",\"strapped\",\"midday\",\"negotiating\",\"aitah\",\"nah.this\",\"hormonally\",\"roller\",\"jobs\",\"lite\",\"superfat\",\"ne\",\"xl\",\"occupant\",\"overtone\",\"hospitalization\",\"agonizing\",\"substitution\",\"lineup\",\"trumpet\",\"diaphragm\",\"preconceive\",\"\\ud83e\\udd22\",\"ar\",\"kaylee\",\"bart\",\"immaculate\",\"it's\",\"ridiculousness\",\"wanda\",\"infrequent\",\"responsability\",\"prideful\",\"loony\",\"\\ud83d\\ude24\",\"nhs\",\"interstate\",\"tithe\",\"panda\",\"unintelligent\",\"skyrim\",\"preemptive\"],\"x\":{\"__ndarray__\":\"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\",\"dtype\":\"float32\",\"order\":\"little\",\"shape\":[14732]},\"y\":{\"__ndarray__\":\"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\",\"dtype\":\"float32\",\"order\":\"little\",\"shape\":[14732]}},\"selected\":{\"id\":\"1215\"},\"selection_policy\":{\"id\":\"1214\"}},\"id\":\"1154\",\"type\":\"ColumnDataSource\"},{\"attributes\":{},\"id\":\"1178\",\"type\":\"ResetTool\"},{\"attributes\":{\"coordinates\":null,\"group\":null,\"text\":\"t-SNE Word Embeddings\"},\"id\":\"1156\",\"type\":\"Title\"},{\"attributes\":{\"bottom_units\":\"screen\",\"coordinates\":null,\"fill_alpha\":0.5,\"fill_color\":\"lightgrey\",\"group\":null,\"left_units\":\"screen\",\"level\":\"overlay\",\"line_alpha\":1.0,\"line_color\":\"black\",\"line_dash\":[4,4],\"line_width\":2,\"right_units\":\"screen\",\"syncable\":false,\"top_units\":\"screen\"},\"id\":\"1180\",\"type\":\"BoxAnnotation\"},{\"attributes\":{},\"id\":\"1175\",\"type\":\"WheelZoomTool\"},{\"attributes\":{},\"id\":\"1174\",\"type\":\"PanTool\"},{\"attributes\":{},\"id\":\"1167\",\"type\":\"BasicTicker\"},{\"attributes\":{},\"id\":\"1179\",\"type\":\"HelpTool\"},{\"attributes\":{\"fill_alpha\":{\"value\":0.1},\"fill_color\":{\"value\":\"blue\"},\"hatch_color\":{\"value\":\"blue\"},\"line_alpha\":{\"value\":0.2},\"line_color\":{\"value\":\"blue\"},\"size\":{\"value\":10},\"x\":{\"field\":\"x\"},\"y\":{\"field\":\"y\"}},\"id\":\"1191\",\"type\":\"Circle\"},{\"attributes\":{},\"id\":\"1171\",\"type\":\"BasicTicker\"},{\"attributes\":{},\"id\":\"1215\",\"type\":\"Selection\"},{\"attributes\":{\"source\":{\"id\":\"1154\"}},\"id\":\"1196\",\"type\":\"CDSView\"},{\"attributes\":{\"fill_alpha\":{\"value\":0.1},\"fill_color\":{\"value\":\"blue\"},\"hatch_color\":{\"value\":\"blue\"},\"line_alpha\":{\"value\":0.2},\"size\":{\"value\":10},\"x\":{\"field\":\"x\"},\"y\":{\"field\":\"y\"}},\"id\":\"1193\",\"type\":\"Circle\"},{\"attributes\":{},\"id\":\"1214\",\"type\":\"UnionRenderers\"},{\"attributes\":{},\"id\":\"1210\",\"type\":\"AllLabels\"},{\"attributes\":{},\"id\":\"1164\",\"type\":\"LinearScale\"},{\"attributes\":{},\"id\":\"1209\",\"type\":\"BasicTickFormatter\"},{\"attributes\":{},\"id\":\"1177\",\"type\":\"SaveTool\"},{\"attributes\":{\"tools\":[{\"id\":\"1174\"},{\"id\":\"1175\"},{\"id\":\"1176\"},{\"id\":\"1177\"},{\"id\":\"1178\"},{\"id\":\"1179\"},{\"id\":\"1188\"}]},\"id\":\"1181\",\"type\":\"Toolbar\"},{\"attributes\":{},\"id\":\"1212\",\"type\":\"BasicTickFormatter\"},{\"attributes\":{\"axis\":{\"id\":\"1166\"},\"coordinates\":null,\"group\":null,\"ticker\":null},\"id\":\"1169\",\"type\":\"Grid\"},{\"attributes\":{\"axis\":{\"id\":\"1170\"},\"coordinates\":null,\"dimension\":1,\"group\":null,\"ticker\":null},\"id\":\"1173\",\"type\":\"Grid\"},{\"attributes\":{\"overlay\":{\"id\":\"1180\"}},\"id\":\"1176\",\"type\":\"BoxZoomTool\"},{\"attributes\":{\"callback\":null,\"tooltips\":\"@index\"},\"id\":\"1188\",\"type\":\"HoverTool\"}],\"root_ids\":[\"1155\"]},\"title\":\"Bokeh Application\",\"version\":\"2.4.3\"}};\n",
       "  const render_items = [{\"docid\":\"c0ce9665-0321-43d4-aca1-f4a05139905e\",\"root_ids\":[\"1155\"],\"roots\":{\"1155\":\"db014d13-045d-4a8c-b8b1-9ac65cf74c0c\"}}];\n",
       "  root.Bokeh.embed.embed_items_notebook(docs_json, render_items);\n",
       "  }\n",
       "  if (root.Bokeh !== undefined) {\n",
       "    embed_document(root);\n",
       "  } else {\n",
       "    let attempts = 0;\n",
       "    const timer = setInterval(function(root) {\n",
       "      if (root.Bokeh !== undefined) {\n",
       "        clearInterval(timer);\n",
       "        embed_document(root);\n",
       "      } else {\n",
       "        attempts++;\n",
       "        if (attempts > 100) {\n",
       "          clearInterval(timer);\n",
       "          console.log(\"Bokeh: ERROR: Unable to run BokehJS code because BokehJS library is missing\");\n",
       "        }\n",
       "      }\n",
       "    }, 10, root)\n",
       "  }\n",
       "})(window);"
      ],
      "application/vnd.bokehjs_exec.v0+json": ""
     },
     "metadata": {
      "application/vnd.bokehjs_exec.v0+json": {
       "id": "1155"
      }
     },
     "output_type": "display_data"
    }
   ],
   "source": [
    "# Add our DataFrame as a ColumnDataSource for Bokeh\n",
    "plot_data = ColumnDataSource(tsne_df)\n",
    "\n",
    "# Create the plot and configure the title, dimensions, and tools\n",
    "tsne_plot = figure(title='t-SNE Word Embeddings')\n",
    "\n",
    "# Add a hover tool to display words on roll-over\n",
    "tsne_plot.add_tools(HoverTool(tooltips='@index') )\n",
    "\n",
    "# Draw the words as circles on the plot\n",
    "tsne_plot.circle('x', 'y',\n",
    "                 source=plot_data,\n",
    "                 color='blue',\n",
    "                 line_alpha=0.2,\n",
    "                 fill_alpha=0.1,\n",
    "                 size=10,\n",
    "                 hover_line_color='black')\n",
    "\n",
    "# Engage!\n",
    "show(tsne_plot)"
   ]
  },
  {
   "cell_type": "markdown",
   "metadata": {
    "id": "TtIBMFnNrQlL"
   },
   "source": [
    "<a id='bias'></a>\n",
    "\n",
    "# Discovering Language Bias With Word Embeddings\n",
    "\n",
    "The vector representations of word Embeddings can be used for all kinds of tasks. One such task is discovering **language bias**: language that is normatively oriented towards certain people, ideas, or things. \n",
    "\n",
    "In order to do this, we first need to postulate **concepts** that we suspect a bias towards. For example, people often associate words with masculinity or femininity (think of \"fireman\" vs \"nurse\"). This reflects both a normative construction of a gender binary, as well as stereotypes *within* that binary. We can attempt to quantify this directly using notions of distance with word embeddings.\n",
    "\n",
    "We first define **target concepts** for the terms we aim to identify biases towards (e.g., \"male\" and \"female\"). Then, we can then compute relative similarities of other word vectors – particularly, words that act as evaluative attributes such as \"strong\" and \"sensitive\". These words can be categorised through clustering algorithms and labeled through a semantic analysis system into more general (conceptual) biases, yielding a broad picture of the biases present in a discourse community.\n",
    "\n",
    "At the bottom of this notebook you'll find some [existing target sets](#target) that have been used in the literature on language biases."
   ]
  },
  {
   "cell_type": "markdown",
   "metadata": {
    "id": "FSbUVbC-rQlY"
   },
   "source": [
    "## Obtaining Biases Towards Target Concepts\n",
    "\n",
    "We will run our method of finding biased words towards our target sets. We will be using functions in an external file - `utils.py` - which you are free to look through if you're interested. Otherwise, feel free to use the functions as desired.\n",
    "\n",
    "Given a vocabulary and two sets of target words (such as, in this case, those for *women* and *men*), we rank the words from least to most biased. As such, we obtain two ordered lists of the most biased words towards each target set, obtaining an overall view of the bias distribution in that particular community with respect to those two target sets. \n",
    "\n",
    "The approach is as follows:\n",
    "- We calculate the centroid of a target set by averaging the embedding vectors in our target set (e.g. the vectors for `he, son, his, him, father, male` for our target concept `male`);\n",
    "- We calculate the cosine similarity between the vectors for all words in our vocabulary as compared to our two centroids (we also apply POS-filtering to only work with parts of speech we expect to be relevant);\n",
    "- We use a threshold based on standard deviation to determine how severe a bias needs to be before we include it;\n",
    "- We rank the words in the vocabulary of our word embeddings model based on their bias towards either target concept.\n",
    "\n",
    "The implicit hypothesis here is that word vectors closer to the centroid of a target concept are used more similarly with respect that concept. This, in effect, is an effort to quantify the bias of words in the discourse of a community."
   ]
  },
  {
   "cell_type": "code",
   "execution_count": 32,
   "metadata": {},
   "outputs": [
    {
     "name": "stderr",
     "output_type": "stream",
     "text": [
      "[nltk_data] Downloading package averaged_perceptron_tagger to\n",
      "[nltk_data]     /Users/tomvannuenen/nltk_data...\n",
      "[nltk_data]   Package averaged_perceptron_tagger is already up-to-\n",
      "[nltk_data]       date!\n",
      "[nltk_data] Downloading package vader_lexicon to\n",
      "[nltk_data]     /Users/tomvannuenen/nltk_data...\n",
      "[nltk_data]   Package vader_lexicon is already up-to-date!\n"
     ]
    }
   ],
   "source": [
    "# Import function to calculate biased words\n",
    "from utils import calculate_biased_words"
   ]
  },
  {
   "cell_type": "markdown",
   "metadata": {},
   "source": [
    "Here are our target concept vectors. This is a critical choice: the centroid of these represents the concept at hand. What happens if you change the words included?"
   ]
  },
  {
   "cell_type": "code",
   "execution_count": 33,
   "metadata": {},
   "outputs": [],
   "source": [
    "target1 = ['sister' , 'female' , 'woman' , 'girl' , 'daughter' , 'she' , 'hers' , 'her']\n",
    "target2 = ['brother' , 'male' , 'man' , 'boy' , 'son' , 'he' , 'his' , 'him'] "
   ]
  },
  {
   "cell_type": "code",
   "execution_count": 34,
   "metadata": {},
   "outputs": [],
   "source": [
    "model = Word2Vec.load('../../data/aita_comments.emb')"
   ]
  },
  {
   "cell_type": "code",
   "execution_count": 35,
   "metadata": {
    "executionInfo": {
     "elapsed": 11526,
     "status": "ok",
     "timestamp": 1647303428120,
     "user": {
      "displayName": "Tom van Nuenen",
      "photoUrl": "https://lh3.googleusercontent.com/a-/AOh14GhuBmxDvW5I_LJfZtwlPqMFD8QGLVPP3skvpkTnuQ=s64",
      "userId": "10012302451096885058"
     },
     "user_tz": 300
    },
    "id": "SIzdtQV5rQlh",
    "scrolled": true
   },
   "outputs": [],
   "source": [
    "[b1, b2] = calculate_biased_words(model, target1, target2, 4)"
   ]
  },
  {
   "cell_type": "markdown",
   "metadata": {
    "id": "LJpg5BDydlYT"
   },
   "source": [
    "Let's print some biases. Here you see the most-biased words towards our target concepts (1 being *women*, 2 being *men*)."
   ]
  },
  {
   "cell_type": "code",
   "execution_count": 36,
   "metadata": {
    "colab": {
     "base_uri": "https://localhost:8080/"
    },
    "executionInfo": {
     "elapsed": 191,
     "status": "ok",
     "timestamp": 1647303438347,
     "user": {
      "displayName": "Tom van Nuenen",
      "photoUrl": "https://lh3.googleusercontent.com/a-/AOh14GhuBmxDvW5I_LJfZtwlPqMFD8QGLVPP3skvpkTnuQ=s64",
      "userId": "10012302451096885058"
     },
     "user_tz": 300
    },
    "id": "qc-9g8BErQll",
    "outputId": "93aa1d97-e9ad-4f17-9ce3-bef7d4079209"
   },
   "outputs": [
    {
     "name": "stdout",
     "output_type": "stream",
     "text": [
      "Biased words towards target set 1\n",
      "['bad', 'lot', 'body', 'gf', 'risk', 'picture', 'lead', 'shame', 'describe', 'creepy', 'form', 'coworker', 'insecure', 'photo', 'sensitive', 'painful', 'and/or', 'interaction', 'social_medium', '/r', 'intimate', 'method', 'effective', 'bridesmaid', 'frame', 'vulnerable', 'pic', 'chick', 'shallow', 'skinny', 'thin', 'cross_line', 'cycle', 'wording', 'childbirth', 'self_conscious', 'unattractive', 'angle', 'fashion', 'highly_doubt', 'invasive', 'poll', 'workout', 'shaming', 'superficial', 'flattering']\n"
     ]
    }
   ],
   "source": [
    "print('Biased words towards target set 1')\n",
    "print([word for word in b1.keys()])"
   ]
  },
  {
   "cell_type": "code",
   "execution_count": 37,
   "metadata": {},
   "outputs": [
    {
     "name": "stdout",
     "output_type": "stream",
     "text": [
      "Biased words towards target set 2\n",
      "['okay', 'play', 'stand', 'pick', 'pass', 'door', 'win', 'separate', 'vote', 'x', 'btw', 'mate', 'uncle', 'passive_aggressive', 'video_game', 'grandfather', 'daddy', '😂', 'war', 'lord', 'grandpa', 'grand', 'bud', 'dear', 'canadian', 'heaven']\n"
     ]
    }
   ],
   "source": [
    "print('Biased words towards target set 2')\n",
    "print([word for word in b2.keys()] )"
   ]
  },
  {
   "cell_type": "markdown",
   "metadata": {
    "id": "Zpk0lx2xplMf"
   },
   "source": [
    "## Visualizing Biases using $t$-SNE\n",
    "\n",
    "We now return to our dimensionality reduction technique, $t$-SNE, to try and visualize these biased words in a 2D space using Bokeh."
   ]
  },
  {
   "cell_type": "code",
   "execution_count": 38,
   "metadata": {},
   "outputs": [],
   "source": [
    "import matplotlib.pyplot as plt\n",
    "import numpy as np\n",
    "\n",
    "from sklearn.manifold import TSNE\n",
    "%matplotlib inline"
   ]
  },
  {
   "cell_type": "code",
   "execution_count": 39,
   "metadata": {},
   "outputs": [],
   "source": [
    "with open(tsne_path, 'rb') as f:\n",
    "    X_tsne = pickle.load(f)\n",
    "    \n",
    "tsne_df = pd.read_pickle(tsne_df_path)"
   ]
  },
  {
   "cell_type": "code",
   "execution_count": 40,
   "metadata": {},
   "outputs": [],
   "source": [
    "# Convert biased term keys to arrays\n",
    "target1_idx = np.array([model.wv.key_to_index[key] for key in b1.keys()])\n",
    "target2_idx = np.array([model.wv.key_to_index[key] for key in b2.keys()])"
   ]
  },
  {
   "cell_type": "code",
   "execution_count": 41,
   "metadata": {},
   "outputs": [],
   "source": [
    "# Find t-sne values for the biased sets\n",
    "X_target1 = X_tsne[target1_idx]\n",
    "X_target2 = X_tsne[target2_idx]"
   ]
  },
  {
   "cell_type": "code",
   "execution_count": 42,
   "metadata": {},
   "outputs": [
    {
     "data": {
      "text/html": [
       "<div class=\"bk-root\">\n",
       "        <a href=\"https://bokeh.org\" target=\"_blank\" class=\"bk-logo bk-logo-small bk-logo-notebook\"></a>\n",
       "        <span id=\"1267\">Loading BokehJS ...</span>\n",
       "    </div>\n"
      ]
     },
     "metadata": {},
     "output_type": "display_data"
    },
    {
     "data": {
      "application/javascript": [
       "(function(root) {\n",
       "  function now() {\n",
       "    return new Date();\n",
       "  }\n",
       "\n",
       "  const force = true;\n",
       "\n",
       "  if (typeof root._bokeh_onload_callbacks === \"undefined\" || force === true) {\n",
       "    root._bokeh_onload_callbacks = [];\n",
       "    root._bokeh_is_loading = undefined;\n",
       "  }\n",
       "\n",
       "const JS_MIME_TYPE = 'application/javascript';\n",
       "  const HTML_MIME_TYPE = 'text/html';\n",
       "  const EXEC_MIME_TYPE = 'application/vnd.bokehjs_exec.v0+json';\n",
       "  const CLASS_NAME = 'output_bokeh rendered_html';\n",
       "\n",
       "  /**\n",
       "   * Render data to the DOM node\n",
       "   */\n",
       "  function render(props, node) {\n",
       "    const script = document.createElement(\"script\");\n",
       "    node.appendChild(script);\n",
       "  }\n",
       "\n",
       "  /**\n",
       "   * Handle when an output is cleared or removed\n",
       "   */\n",
       "  function handleClearOutput(event, handle) {\n",
       "    const cell = handle.cell;\n",
       "\n",
       "    const id = cell.output_area._bokeh_element_id;\n",
       "    const server_id = cell.output_area._bokeh_server_id;\n",
       "    // Clean up Bokeh references\n",
       "    if (id != null && id in Bokeh.index) {\n",
       "      Bokeh.index[id].model.document.clear();\n",
       "      delete Bokeh.index[id];\n",
       "    }\n",
       "\n",
       "    if (server_id !== undefined) {\n",
       "      // Clean up Bokeh references\n",
       "      const cmd_clean = \"from bokeh.io.state import curstate; print(curstate().uuid_to_server['\" + server_id + \"'].get_sessions()[0].document.roots[0]._id)\";\n",
       "      cell.notebook.kernel.execute(cmd_clean, {\n",
       "        iopub: {\n",
       "          output: function(msg) {\n",
       "            const id = msg.content.text.trim();\n",
       "            if (id in Bokeh.index) {\n",
       "              Bokeh.index[id].model.document.clear();\n",
       "              delete Bokeh.index[id];\n",
       "            }\n",
       "          }\n",
       "        }\n",
       "      });\n",
       "      // Destroy server and session\n",
       "      const cmd_destroy = \"import bokeh.io.notebook as ion; ion.destroy_server('\" + server_id + \"')\";\n",
       "      cell.notebook.kernel.execute(cmd_destroy);\n",
       "    }\n",
       "  }\n",
       "\n",
       "  /**\n",
       "   * Handle when a new output is added\n",
       "   */\n",
       "  function handleAddOutput(event, handle) {\n",
       "    const output_area = handle.output_area;\n",
       "    const output = handle.output;\n",
       "\n",
       "    // limit handleAddOutput to display_data with EXEC_MIME_TYPE content only\n",
       "    if ((output.output_type != \"display_data\") || (!Object.prototype.hasOwnProperty.call(output.data, EXEC_MIME_TYPE))) {\n",
       "      return\n",
       "    }\n",
       "\n",
       "    const toinsert = output_area.element.find(\".\" + CLASS_NAME.split(' ')[0]);\n",
       "\n",
       "    if (output.metadata[EXEC_MIME_TYPE][\"id\"] !== undefined) {\n",
       "      toinsert[toinsert.length - 1].firstChild.textContent = output.data[JS_MIME_TYPE];\n",
       "      // store reference to embed id on output_area\n",
       "      output_area._bokeh_element_id = output.metadata[EXEC_MIME_TYPE][\"id\"];\n",
       "    }\n",
       "    if (output.metadata[EXEC_MIME_TYPE][\"server_id\"] !== undefined) {\n",
       "      const bk_div = document.createElement(\"div\");\n",
       "      bk_div.innerHTML = output.data[HTML_MIME_TYPE];\n",
       "      const script_attrs = bk_div.children[0].attributes;\n",
       "      for (let i = 0; i < script_attrs.length; i++) {\n",
       "        toinsert[toinsert.length - 1].firstChild.setAttribute(script_attrs[i].name, script_attrs[i].value);\n",
       "        toinsert[toinsert.length - 1].firstChild.textContent = bk_div.children[0].textContent\n",
       "      }\n",
       "      // store reference to server id on output_area\n",
       "      output_area._bokeh_server_id = output.metadata[EXEC_MIME_TYPE][\"server_id\"];\n",
       "    }\n",
       "  }\n",
       "\n",
       "  function register_renderer(events, OutputArea) {\n",
       "\n",
       "    function append_mime(data, metadata, element) {\n",
       "      // create a DOM node to render to\n",
       "      const toinsert = this.create_output_subarea(\n",
       "        metadata,\n",
       "        CLASS_NAME,\n",
       "        EXEC_MIME_TYPE\n",
       "      );\n",
       "      this.keyboard_manager.register_events(toinsert);\n",
       "      // Render to node\n",
       "      const props = {data: data, metadata: metadata[EXEC_MIME_TYPE]};\n",
       "      render(props, toinsert[toinsert.length - 1]);\n",
       "      element.append(toinsert);\n",
       "      return toinsert\n",
       "    }\n",
       "\n",
       "    /* Handle when an output is cleared or removed */\n",
       "    events.on('clear_output.CodeCell', handleClearOutput);\n",
       "    events.on('delete.Cell', handleClearOutput);\n",
       "\n",
       "    /* Handle when a new output is added */\n",
       "    events.on('output_added.OutputArea', handleAddOutput);\n",
       "\n",
       "    /**\n",
       "     * Register the mime type and append_mime function with output_area\n",
       "     */\n",
       "    OutputArea.prototype.register_mime_type(EXEC_MIME_TYPE, append_mime, {\n",
       "      /* Is output safe? */\n",
       "      safe: true,\n",
       "      /* Index of renderer in `output_area.display_order` */\n",
       "      index: 0\n",
       "    });\n",
       "  }\n",
       "\n",
       "  // register the mime type if in Jupyter Notebook environment and previously unregistered\n",
       "  if (root.Jupyter !== undefined) {\n",
       "    const events = require('base/js/events');\n",
       "    const OutputArea = require('notebook/js/outputarea').OutputArea;\n",
       "\n",
       "    if (OutputArea.prototype.mime_types().indexOf(EXEC_MIME_TYPE) == -1) {\n",
       "      register_renderer(events, OutputArea);\n",
       "    }\n",
       "  }\n",
       "  if (typeof (root._bokeh_timeout) === \"undefined\" || force === true) {\n",
       "    root._bokeh_timeout = Date.now() + 5000;\n",
       "    root._bokeh_failed_load = false;\n",
       "  }\n",
       "\n",
       "  const NB_LOAD_WARNING = {'data': {'text/html':\n",
       "     \"<div style='background-color: #fdd'>\\n\"+\n",
       "     \"<p>\\n\"+\n",
       "     \"BokehJS does not appear to have successfully loaded. If loading BokehJS from CDN, this \\n\"+\n",
       "     \"may be due to a slow or bad network connection. Possible fixes:\\n\"+\n",
       "     \"</p>\\n\"+\n",
       "     \"<ul>\\n\"+\n",
       "     \"<li>re-rerun `output_notebook()` to attempt to load from CDN again, or</li>\\n\"+\n",
       "     \"<li>use INLINE resources instead, as so:</li>\\n\"+\n",
       "     \"</ul>\\n\"+\n",
       "     \"<code>\\n\"+\n",
       "     \"from bokeh.resources import INLINE\\n\"+\n",
       "     \"output_notebook(resources=INLINE)\\n\"+\n",
       "     \"</code>\\n\"+\n",
       "     \"</div>\"}};\n",
       "\n",
       "  function display_loaded() {\n",
       "    const el = document.getElementById(\"1267\");\n",
       "    if (el != null) {\n",
       "      el.textContent = \"BokehJS is loading...\";\n",
       "    }\n",
       "    if (root.Bokeh !== undefined) {\n",
       "      if (el != null) {\n",
       "        el.textContent = \"BokehJS \" + root.Bokeh.version + \" successfully loaded.\";\n",
       "      }\n",
       "    } else if (Date.now() < root._bokeh_timeout) {\n",
       "      setTimeout(display_loaded, 100)\n",
       "    }\n",
       "  }\n",
       "\n",
       "  function run_callbacks() {\n",
       "    try {\n",
       "      root._bokeh_onload_callbacks.forEach(function(callback) {\n",
       "        if (callback != null)\n",
       "          callback();\n",
       "      });\n",
       "    } finally {\n",
       "      delete root._bokeh_onload_callbacks\n",
       "    }\n",
       "    console.debug(\"Bokeh: all callbacks have finished\");\n",
       "  }\n",
       "\n",
       "  function load_libs(css_urls, js_urls, callback) {\n",
       "    if (css_urls == null) css_urls = [];\n",
       "    if (js_urls == null) js_urls = [];\n",
       "\n",
       "    root._bokeh_onload_callbacks.push(callback);\n",
       "    if (root._bokeh_is_loading > 0) {\n",
       "      console.debug(\"Bokeh: BokehJS is being loaded, scheduling callback at\", now());\n",
       "      return null;\n",
       "    }\n",
       "    if (js_urls == null || js_urls.length === 0) {\n",
       "      run_callbacks();\n",
       "      return null;\n",
       "    }\n",
       "    console.debug(\"Bokeh: BokehJS not loaded, scheduling load and callback at\", now());\n",
       "    root._bokeh_is_loading = css_urls.length + js_urls.length;\n",
       "\n",
       "    function on_load() {\n",
       "      root._bokeh_is_loading--;\n",
       "      if (root._bokeh_is_loading === 0) {\n",
       "        console.debug(\"Bokeh: all BokehJS libraries/stylesheets loaded\");\n",
       "        run_callbacks()\n",
       "      }\n",
       "    }\n",
       "\n",
       "    function on_error(url) {\n",
       "      console.error(\"failed to load \" + url);\n",
       "    }\n",
       "\n",
       "    for (let i = 0; i < css_urls.length; i++) {\n",
       "      const url = css_urls[i];\n",
       "      const element = document.createElement(\"link\");\n",
       "      element.onload = on_load;\n",
       "      element.onerror = on_error.bind(null, url);\n",
       "      element.rel = \"stylesheet\";\n",
       "      element.type = \"text/css\";\n",
       "      element.href = url;\n",
       "      console.debug(\"Bokeh: injecting link tag for BokehJS stylesheet: \", url);\n",
       "      document.body.appendChild(element);\n",
       "    }\n",
       "\n",
       "    for (let i = 0; i < js_urls.length; i++) {\n",
       "      const url = js_urls[i];\n",
       "      const element = document.createElement('script');\n",
       "      element.onload = on_load;\n",
       "      element.onerror = on_error.bind(null, url);\n",
       "      element.async = false;\n",
       "      element.src = url;\n",
       "      console.debug(\"Bokeh: injecting script tag for BokehJS library: \", url);\n",
       "      document.head.appendChild(element);\n",
       "    }\n",
       "  };\n",
       "\n",
       "  function inject_raw_css(css) {\n",
       "    const element = document.createElement(\"style\");\n",
       "    element.appendChild(document.createTextNode(css));\n",
       "    document.body.appendChild(element);\n",
       "  }\n",
       "\n",
       "  const js_urls = [\"https://cdn.bokeh.org/bokeh/release/bokeh-2.4.3.min.js\", \"https://cdn.bokeh.org/bokeh/release/bokeh-gl-2.4.3.min.js\", \"https://cdn.bokeh.org/bokeh/release/bokeh-widgets-2.4.3.min.js\", \"https://cdn.bokeh.org/bokeh/release/bokeh-tables-2.4.3.min.js\", \"https://cdn.bokeh.org/bokeh/release/bokeh-mathjax-2.4.3.min.js\"];\n",
       "  const css_urls = [];\n",
       "\n",
       "  const inline_js = [    function(Bokeh) {\n",
       "      Bokeh.set_log_level(\"info\");\n",
       "    },\n",
       "function(Bokeh) {\n",
       "    }\n",
       "  ];\n",
       "\n",
       "  function run_inline_js() {\n",
       "    if (root.Bokeh !== undefined || force === true) {\n",
       "          for (let i = 0; i < inline_js.length; i++) {\n",
       "      inline_js[i].call(root, root.Bokeh);\n",
       "    }\n",
       "if (force === true) {\n",
       "        display_loaded();\n",
       "      }} else if (Date.now() < root._bokeh_timeout) {\n",
       "      setTimeout(run_inline_js, 100);\n",
       "    } else if (!root._bokeh_failed_load) {\n",
       "      console.log(\"Bokeh: BokehJS failed to load within specified timeout.\");\n",
       "      root._bokeh_failed_load = true;\n",
       "    } else if (force !== true) {\n",
       "      const cell = $(document.getElementById(\"1267\")).parents('.cell').data().cell;\n",
       "      cell.output_area.append_execute_result(NB_LOAD_WARNING)\n",
       "    }\n",
       "  }\n",
       "\n",
       "  if (root._bokeh_is_loading === 0) {\n",
       "    console.debug(\"Bokeh: BokehJS loaded, going straight to plotting\");\n",
       "    run_inline_js();\n",
       "  } else {\n",
       "    load_libs(css_urls, js_urls, function() {\n",
       "      console.debug(\"Bokeh: BokehJS plotting callback run at\", now());\n",
       "      run_inline_js();\n",
       "    });\n",
       "  }\n",
       "}(window));"
      ],
      "application/vnd.bokehjs_load.v0+json": "(function(root) {\n  function now() {\n    return new Date();\n  }\n\n  const force = true;\n\n  if (typeof root._bokeh_onload_callbacks === \"undefined\" || force === true) {\n    root._bokeh_onload_callbacks = [];\n    root._bokeh_is_loading = undefined;\n  }\n\n\n  if (typeof (root._bokeh_timeout) === \"undefined\" || force === true) {\n    root._bokeh_timeout = Date.now() + 5000;\n    root._bokeh_failed_load = false;\n  }\n\n  const NB_LOAD_WARNING = {'data': {'text/html':\n     \"<div style='background-color: #fdd'>\\n\"+\n     \"<p>\\n\"+\n     \"BokehJS does not appear to have successfully loaded. If loading BokehJS from CDN, this \\n\"+\n     \"may be due to a slow or bad network connection. Possible fixes:\\n\"+\n     \"</p>\\n\"+\n     \"<ul>\\n\"+\n     \"<li>re-rerun `output_notebook()` to attempt to load from CDN again, or</li>\\n\"+\n     \"<li>use INLINE resources instead, as so:</li>\\n\"+\n     \"</ul>\\n\"+\n     \"<code>\\n\"+\n     \"from bokeh.resources import INLINE\\n\"+\n     \"output_notebook(resources=INLINE)\\n\"+\n     \"</code>\\n\"+\n     \"</div>\"}};\n\n  function display_loaded() {\n    const el = document.getElementById(\"1267\");\n    if (el != null) {\n      el.textContent = \"BokehJS is loading...\";\n    }\n    if (root.Bokeh !== undefined) {\n      if (el != null) {\n        el.textContent = \"BokehJS \" + root.Bokeh.version + \" successfully loaded.\";\n      }\n    } else if (Date.now() < root._bokeh_timeout) {\n      setTimeout(display_loaded, 100)\n    }\n  }\n\n  function run_callbacks() {\n    try {\n      root._bokeh_onload_callbacks.forEach(function(callback) {\n        if (callback != null)\n          callback();\n      });\n    } finally {\n      delete root._bokeh_onload_callbacks\n    }\n    console.debug(\"Bokeh: all callbacks have finished\");\n  }\n\n  function load_libs(css_urls, js_urls, callback) {\n    if (css_urls == null) css_urls = [];\n    if (js_urls == null) js_urls = [];\n\n    root._bokeh_onload_callbacks.push(callback);\n    if (root._bokeh_is_loading > 0) {\n      console.debug(\"Bokeh: BokehJS is being loaded, scheduling callback at\", now());\n      return null;\n    }\n    if (js_urls == null || js_urls.length === 0) {\n      run_callbacks();\n      return null;\n    }\n    console.debug(\"Bokeh: BokehJS not loaded, scheduling load and callback at\", now());\n    root._bokeh_is_loading = css_urls.length + js_urls.length;\n\n    function on_load() {\n      root._bokeh_is_loading--;\n      if (root._bokeh_is_loading === 0) {\n        console.debug(\"Bokeh: all BokehJS libraries/stylesheets loaded\");\n        run_callbacks()\n      }\n    }\n\n    function on_error(url) {\n      console.error(\"failed to load \" + url);\n    }\n\n    for (let i = 0; i < css_urls.length; i++) {\n      const url = css_urls[i];\n      const element = document.createElement(\"link\");\n      element.onload = on_load;\n      element.onerror = on_error.bind(null, url);\n      element.rel = \"stylesheet\";\n      element.type = \"text/css\";\n      element.href = url;\n      console.debug(\"Bokeh: injecting link tag for BokehJS stylesheet: \", url);\n      document.body.appendChild(element);\n    }\n\n    for (let i = 0; i < js_urls.length; i++) {\n      const url = js_urls[i];\n      const element = document.createElement('script');\n      element.onload = on_load;\n      element.onerror = on_error.bind(null, url);\n      element.async = false;\n      element.src = url;\n      console.debug(\"Bokeh: injecting script tag for BokehJS library: \", url);\n      document.head.appendChild(element);\n    }\n  };\n\n  function inject_raw_css(css) {\n    const element = document.createElement(\"style\");\n    element.appendChild(document.createTextNode(css));\n    document.body.appendChild(element);\n  }\n\n  const js_urls = [\"https://cdn.bokeh.org/bokeh/release/bokeh-2.4.3.min.js\", \"https://cdn.bokeh.org/bokeh/release/bokeh-gl-2.4.3.min.js\", \"https://cdn.bokeh.org/bokeh/release/bokeh-widgets-2.4.3.min.js\", \"https://cdn.bokeh.org/bokeh/release/bokeh-tables-2.4.3.min.js\", \"https://cdn.bokeh.org/bokeh/release/bokeh-mathjax-2.4.3.min.js\"];\n  const css_urls = [];\n\n  const inline_js = [    function(Bokeh) {\n      Bokeh.set_log_level(\"info\");\n    },\nfunction(Bokeh) {\n    }\n  ];\n\n  function run_inline_js() {\n    if (root.Bokeh !== undefined || force === true) {\n          for (let i = 0; i < inline_js.length; i++) {\n      inline_js[i].call(root, root.Bokeh);\n    }\nif (force === true) {\n        display_loaded();\n      }} else if (Date.now() < root._bokeh_timeout) {\n      setTimeout(run_inline_js, 100);\n    } else if (!root._bokeh_failed_load) {\n      console.log(\"Bokeh: BokehJS failed to load within specified timeout.\");\n      root._bokeh_failed_load = true;\n    } else if (force !== true) {\n      const cell = $(document.getElementById(\"1267\")).parents('.cell').data().cell;\n      cell.output_area.append_execute_result(NB_LOAD_WARNING)\n    }\n  }\n\n  if (root._bokeh_is_loading === 0) {\n    console.debug(\"Bokeh: BokehJS loaded, going straight to plotting\");\n    run_inline_js();\n  } else {\n    load_libs(css_urls, js_urls, function() {\n      console.debug(\"Bokeh: BokehJS plotting callback run at\", now());\n      run_inline_js();\n    });\n  }\n}(window));"
     },
     "metadata": {},
     "output_type": "display_data"
    },
    {
     "data": {
      "text/html": [
       "\n",
       "  <div class=\"bk-root\" id=\"3ce5c6dd-aeeb-42ec-bf98-d676b5c7f720\" data-root-id=\"1268\"></div>\n"
      ]
     },
     "metadata": {},
     "output_type": "display_data"
    },
    {
     "data": {
      "application/javascript": [
       "(function(root) {\n",
       "  function embed_document(root) {\n",
       "  const docs_json = {\"da66f117-de76-460d-9e5b-799893c57db0\":{\"defs\":[],\"roots\":{\"references\":[{\"attributes\":{\"below\":[{\"id\":\"1277\"}],\"center\":[{\"id\":\"1280\"},{\"id\":\"1284\"},{\"id\":\"1313\"},{\"id\":\"1315\"}],\"left\":[{\"id\":\"1281\"}],\"renderers\":[{\"id\":\"1305\"},{\"id\":\"1311\"}],\"title\":{\"id\":\"1337\"},\"toolbar\":{\"id\":\"1292\"},\"x_range\":{\"id\":\"1269\"},\"x_scale\":{\"id\":\"1273\"},\"y_range\":{\"id\":\"1271\"},\"y_scale\":{\"id\":\"1275\"}},\"id\":\"1268\",\"subtype\":\"Figure\",\"type\":\"Plot\"},{\"attributes\":{\"fill_alpha\":{\"value\":0.2},\"fill_color\":{\"value\":\"red\"},\"hatch_alpha\":{\"value\":0.2},\"hatch_color\":{\"value\":\"red\"},\"line_alpha\":{\"value\":0.2},\"line_color\":{\"value\":\"red\"},\"size\":{\"value\":8},\"x\":{\"field\":\"x\"},\"y\":{\"field\":\"y\"}},\"id\":\"1310\",\"type\":\"Scatter\"},{\"attributes\":{\"coordinates\":null,\"formatter\":{\"id\":\"1340\"},\"group\":null,\"major_label_policy\":{\"id\":\"1341\"},\"ticker\":{\"id\":\"1282\"}},\"id\":\"1281\",\"type\":\"LinearAxis\"},{\"attributes\":{\"coordinates\":null,\"data_source\":{\"id\":\"1300\"},\"glyph\":{\"id\":\"1308\"},\"group\":null,\"hover_glyph\":null,\"muted_glyph\":{\"id\":\"1310\"},\"nonselection_glyph\":{\"id\":\"1309\"},\"view\":{\"id\":\"1312\"}},\"id\":\"1311\",\"type\":\"GlyphRenderer\"},{\"attributes\":{},\"id\":\"1273\",\"type\":\"LinearScale\"},{\"attributes\":{},\"id\":\"1341\",\"type\":\"AllLabels\"},{\"attributes\":{\"coordinates\":null,\"group\":null,\"source\":{\"id\":\"1299\"},\"text\":{\"field\":\"label\"},\"x\":{\"field\":\"x\"},\"x_offset\":{\"value\":6},\"y\":{\"field\":\"y\"},\"y_offset\":{\"value\":3}},\"id\":\"1313\",\"type\":\"LabelSet\"},{\"attributes\":{\"data\":{\"label\":[\"bad\",\"lot\",\"body\",\"gf\",\"risk\",\"picture\",\"lead\",\"shame\",\"describe\",\"creepy\",\"form\",\"coworker\",\"insecure\",\"photo\",\"sensitive\",\"painful\",\"and/or\",\"interaction\",\"social_medium\",\"/r\",\"intimate\",\"method\",\"effective\",\"bridesmaid\",\"frame\",\"vulnerable\",\"pic\",\"chick\",\"shallow\",\"skinny\",\"thin\",\"cross_line\",\"cycle\",\"wording\",\"childbirth\",\"self_conscious\",\"unattractive\",\"angle\",\"fashion\",\"highly_doubt\",\"invasive\",\"poll\",\"workout\",\"shaming\",\"superficial\",\"flattering\"],\"x\":{\"__ndarray__\":\"7gs9wom+mUCy2htCKiphwfffgEFL4TXBXHkVwrOhBcIWKvvBfzmswXaz5MGH9HZBMjM4wq1LN8GJ/lPC10xrQQbEjcAzsNzBbrZbwY1Ou8GGGNjBcBStQVM5rEGt5VFBsoK8wTImR8JCDzzBEr+JwYgGZsIGzx1C3GkcQgPUBMLedUZBsvu8wf6NMkEC6rXBf2m4wXWIHkFPpehB5jyQwVXwkEGpvUrCWtA/Qr8ty8HZBWbCrp8wwQ==\",\"dtype\":\"float32\",\"order\":\"little\",\"shape\":[46]},\"y\":{\"__ndarray__\":\"+6m8QTx1rEC7mhPC9F7sQImmcUIG8SLCdQDUQfGtLUHHznM/NsCmwWaIHcEe0F9BOGslQWLaIsJc0ky/hZBMQpEtrEGgSRRAq2YawiudNcLMR2/BoGdFQom9RULMNvlBgPYsQKI3r0E6WyLCRSihwagKVME8Ty7CpvsnwtmUhr73JEJC9PQGwkEuQkKc7ZHBm3u8wfYxh8E08wrCjpECQXVbQkKyNsHB/zQbQdLLxcF/GVTBkzkDwg==\",\"dtype\":\"float32\",\"order\":\"little\",\"shape\":[46]}},\"selected\":{\"id\":\"1346\"},\"selection_policy\":{\"id\":\"1345\"}},\"id\":\"1299\",\"type\":\"ColumnDataSource\"},{\"attributes\":{},\"id\":\"1340\",\"type\":\"BasicTickFormatter\"},{\"attributes\":{},\"id\":\"1348\",\"type\":\"Selection\"},{\"attributes\":{},\"id\":\"1347\",\"type\":\"UnionRenderers\"},{\"attributes\":{\"fill_alpha\":{\"value\":0.1},\"fill_color\":{\"value\":\"blue\"},\"hatch_alpha\":{\"value\":0.1},\"hatch_color\":{\"value\":\"blue\"},\"line_alpha\":{\"value\":0.1},\"line_color\":{\"value\":\"blue\"},\"size\":{\"value\":8},\"x\":{\"field\":\"x\"},\"y\":{\"field\":\"y\"}},\"id\":\"1303\",\"type\":\"Scatter\"},{\"attributes\":{\"fill_alpha\":{\"value\":0.1},\"fill_color\":{\"value\":\"red\"},\"hatch_alpha\":{\"value\":0.1},\"hatch_color\":{\"value\":\"red\"},\"line_alpha\":{\"value\":0.1},\"line_color\":{\"value\":\"red\"},\"size\":{\"value\":8},\"x\":{\"field\":\"x\"},\"y\":{\"field\":\"y\"}},\"id\":\"1309\",\"type\":\"Scatter\"},{\"attributes\":{\"bottom_units\":\"screen\",\"coordinates\":null,\"fill_alpha\":0.5,\"fill_color\":\"lightgrey\",\"group\":null,\"left_units\":\"screen\",\"level\":\"overlay\",\"line_alpha\":1.0,\"line_color\":\"black\",\"line_dash\":[4,4],\"line_width\":2,\"right_units\":\"screen\",\"syncable\":false,\"top_units\":\"screen\"},\"id\":\"1291\",\"type\":\"BoxAnnotation\"},{\"attributes\":{},\"id\":\"1289\",\"type\":\"ResetTool\"},{\"attributes\":{},\"id\":\"1288\",\"type\":\"SaveTool\"},{\"attributes\":{\"tools\":[{\"id\":\"1285\"},{\"id\":\"1286\"},{\"id\":\"1287\"},{\"id\":\"1288\"},{\"id\":\"1289\"},{\"id\":\"1290\"}]},\"id\":\"1292\",\"type\":\"Toolbar\"},{\"attributes\":{\"data\":{\"label\":[\"okay\",\"play\",\"stand\",\"pick\",\"pass\",\"door\",\"win\",\"separate\",\"vote\",\"x\",\"btw\",\"mate\",\"uncle\",\"passive_aggressive\",\"video_game\",\"grandfather\",\"daddy\",\"\\ud83d\\ude02\",\"war\",\"lord\",\"grandpa\",\"grand\",\"bud\",\"dear\",\"canadian\",\"heaven\"],\"x\":{\"__ndarray__\":\"f6WLwZgWdEF049bB+VwEQavfAMBuLRJC3wBkQcszZkCLuL7B0xsmQR+mMMFnbhjB+B9swIgaS8KMlIBBdZteQF36lL9vceu9s9CVQAtgg8Gjlz/Ae+OvQSljbcH5qBLBWacfQZjI/8A=\",\"dtype\":\"float32\",\"order\":\"little\",\"shape\":[26]},\"y\":{\"__ndarray__\":\"/WItQct/osEyQxNCQ1icwYiaW0I/iTLBK9WhwZyrqUEIZhDCJ0UZwu1Id8HqKInBmScVQn3zx7+4J5jBj6XSwNAqFEJVvu7BfhI5wrMty8Fc6hhCiGf6QQqwfcH9eNPBldFGwkzOyME=\",\"dtype\":\"float32\",\"order\":\"little\",\"shape\":[26]}},\"selected\":{\"id\":\"1348\"},\"selection_policy\":{\"id\":\"1347\"}},\"id\":\"1300\",\"type\":\"ColumnDataSource\"},{\"attributes\":{\"overlay\":{\"id\":\"1291\"}},\"id\":\"1287\",\"type\":\"BoxZoomTool\"},{\"attributes\":{\"fill_color\":{\"value\":\"blue\"},\"hatch_color\":{\"value\":\"blue\"},\"line_color\":{\"value\":\"blue\"},\"size\":{\"value\":8},\"x\":{\"field\":\"x\"},\"y\":{\"field\":\"y\"}},\"id\":\"1302\",\"type\":\"Scatter\"},{\"attributes\":{},\"id\":\"1343\",\"type\":\"BasicTickFormatter\"},{\"attributes\":{},\"id\":\"1286\",\"type\":\"WheelZoomTool\"},{\"attributes\":{\"fill_color\":{\"value\":\"red\"},\"hatch_color\":{\"value\":\"red\"},\"line_color\":{\"value\":\"red\"},\"size\":{\"value\":8},\"x\":{\"field\":\"x\"},\"y\":{\"field\":\"y\"}},\"id\":\"1308\",\"type\":\"Scatter\"},{\"attributes\":{\"coordinates\":null,\"data_source\":{\"id\":\"1299\"},\"glyph\":{\"id\":\"1302\"},\"group\":null,\"hover_glyph\":null,\"muted_glyph\":{\"id\":\"1304\"},\"nonselection_glyph\":{\"id\":\"1303\"},\"view\":{\"id\":\"1306\"}},\"id\":\"1305\",\"type\":\"GlyphRenderer\"},{\"attributes\":{},\"id\":\"1278\",\"type\":\"BasicTicker\"},{\"attributes\":{},\"id\":\"1269\",\"type\":\"DataRange1d\"},{\"attributes\":{},\"id\":\"1344\",\"type\":\"AllLabels\"},{\"attributes\":{\"axis\":{\"id\":\"1281\"},\"coordinates\":null,\"dimension\":1,\"group\":null,\"ticker\":null},\"id\":\"1284\",\"type\":\"Grid\"},{\"attributes\":{\"axis\":{\"id\":\"1277\"},\"coordinates\":null,\"group\":null,\"ticker\":null},\"id\":\"1280\",\"type\":\"Grid\"},{\"attributes\":{\"fill_alpha\":{\"value\":0.2},\"fill_color\":{\"value\":\"blue\"},\"hatch_alpha\":{\"value\":0.2},\"hatch_color\":{\"value\":\"blue\"},\"line_alpha\":{\"value\":0.2},\"line_color\":{\"value\":\"blue\"},\"size\":{\"value\":8},\"x\":{\"field\":\"x\"},\"y\":{\"field\":\"y\"}},\"id\":\"1304\",\"type\":\"Scatter\"},{\"attributes\":{},\"id\":\"1346\",\"type\":\"Selection\"},{\"attributes\":{\"coordinates\":null,\"group\":null,\"source\":{\"id\":\"1300\"},\"text\":{\"field\":\"label\"},\"x\":{\"field\":\"x\"},\"x_offset\":{\"value\":6},\"y\":{\"field\":\"y\"},\"y_offset\":{\"value\":3}},\"id\":\"1315\",\"type\":\"LabelSet\"},{\"attributes\":{},\"id\":\"1282\",\"type\":\"BasicTicker\"},{\"attributes\":{\"source\":{\"id\":\"1299\"}},\"id\":\"1306\",\"type\":\"CDSView\"},{\"attributes\":{},\"id\":\"1275\",\"type\":\"LinearScale\"},{\"attributes\":{},\"id\":\"1345\",\"type\":\"UnionRenderers\"},{\"attributes\":{},\"id\":\"1290\",\"type\":\"HelpTool\"},{\"attributes\":{\"coordinates\":null,\"group\":null},\"id\":\"1337\",\"type\":\"Title\"},{\"attributes\":{},\"id\":\"1285\",\"type\":\"PanTool\"},{\"attributes\":{},\"id\":\"1271\",\"type\":\"DataRange1d\"},{\"attributes\":{\"source\":{\"id\":\"1300\"}},\"id\":\"1312\",\"type\":\"CDSView\"},{\"attributes\":{\"coordinates\":null,\"formatter\":{\"id\":\"1343\"},\"group\":null,\"major_label_policy\":{\"id\":\"1344\"},\"ticker\":{\"id\":\"1278\"}},\"id\":\"1277\",\"type\":\"LinearAxis\"}],\"root_ids\":[\"1268\"]},\"title\":\"Bokeh Application\",\"version\":\"2.4.3\"}};\n",
       "  const render_items = [{\"docid\":\"da66f117-de76-460d-9e5b-799893c57db0\",\"root_ids\":[\"1268\"],\"roots\":{\"1268\":\"3ce5c6dd-aeeb-42ec-bf98-d676b5c7f720\"}}];\n",
       "  root.Bokeh.embed.embed_items_notebook(docs_json, render_items);\n",
       "  }\n",
       "  if (root.Bokeh !== undefined) {\n",
       "    embed_document(root);\n",
       "  } else {\n",
       "    let attempts = 0;\n",
       "    const timer = setInterval(function(root) {\n",
       "      if (root.Bokeh !== undefined) {\n",
       "        clearInterval(timer);\n",
       "        embed_document(root);\n",
       "      } else {\n",
       "        attempts++;\n",
       "        if (attempts > 100) {\n",
       "          clearInterval(timer);\n",
       "          console.log(\"Bokeh: ERROR: Unable to run BokehJS code because BokehJS library is missing\");\n",
       "        }\n",
       "      }\n",
       "    }, 10, root)\n",
       "  }\n",
       "})(window);"
      ],
      "application/vnd.bokehjs_exec.v0+json": ""
     },
     "metadata": {
      "application/vnd.bokehjs_exec.v0+json": {
       "id": "1268"
      }
     },
     "output_type": "display_data"
    }
   ],
   "source": [
    "from bokeh.io import show, output_notebook, output_file\n",
    "from bokeh.plotting import figure\n",
    "from bokeh.models import ColumnDataSource, LabelSet\n",
    "\n",
    "# Set up the Bokeh plot\n",
    "output_notebook()\n",
    "\n",
    "p = figure()\n",
    "\n",
    "# Create ColumnDataSource for X_target1 (blue)\n",
    "source1 = ColumnDataSource(data=dict(x=X_target1[:, 0], y=X_target1[:, 1], label=[model.wv.index_to_key[idx] for idx in target1_idx]))\n",
    "\n",
    "# Create ColumnDataSource for X_target2 (red)\n",
    "source2 = ColumnDataSource(data=dict(x=X_target2[:, 0], y=X_target2[:, 1], label=[model.wv.index_to_key[idx] for idx in target2_idx]))\n",
    "\n",
    "# Add scatter plot for X_target1 (blue)\n",
    "p.scatter(x='x', y='y', color='blue', size=8, source=source1)\n",
    "\n",
    "# Add scatter plot for X_target2 (red)\n",
    "p.scatter(x='x', y='y', color='red', size=8, source=source2)\n",
    "\n",
    "# Add labels for X_target1\n",
    "labels1 = LabelSet(x='x', y='y', text='label', x_offset=6, y_offset=3, source=source1, render_mode='canvas')\n",
    "p.add_layout(labels1)\n",
    "\n",
    "# Add labels for X_target2\n",
    "labels2 = LabelSet(x='x', y='y', text='label', x_offset=6, y_offset=3, source=source2, render_mode='canvas')\n",
    "p.add_layout(labels2)\n",
    "\n",
    "# Show the plot\n",
    "show(p)"
   ]
  },
  {
   "cell_type": "markdown",
   "metadata": {},
   "source": [
    "## 💭 Reflection\n",
    "\n",
    "Note that these binary target concepts are often a product of ideology and normativity in society: the gender binary is a good example. When checking for biases towards certain concepts, make sure you consider the fact that you are the one creating / reproducing these concepts, and that you may be reinforcing a constructed binary!\n",
    "\n",
    "Also note that determining your own target concepts and biases is a **iterative** process. Try changing some of the words in the target concepts to see how the biased words and plot change, and discuss with your group what you think makes for a coherent and robust target set."
   ]
  },
  {
   "cell_type": "markdown",
   "metadata": {
    "id": "riINX9wVyFRJ",
    "tags": []
   },
   "source": [
    "<a id='target'></a>\n",
    "# Existing Target Sets\n",
    "\n",
    "Here are some other target sets that have been previously used in the literature:\n",
    "\n",
    "* *Gender target sets taken from Nosek, Banaji, and Greenwald 2002.*\n",
    "    - Female: `sister, female, woman, girl, daughter, she, hers, her`.\n",
    "    - Male: `brother, male, man, boy, son, he, his, him`.\n",
    "* *Religion target sets taken from Garg et al. 2018.*\n",
    "    - Islam: `allah, ramadan, turban, emir, salaam, sunni, koran, imam, sultan, prophet, veil, ayatollah, shiite, mosque, islam, sheik, muslim, muhammad`.\n",
    "    - Christianity: `baptism, messiah, catholicism, resurrection, christianity, salva-tion, protestant, gospel, trinity, jesus, christ, christian, cross,catholic, church`.\n",
    "* *Racial target sets taken from Garg et al. 2017*\n",
    "    - White last names: `harris, nelson, robinson, thompson, moore, wright, anderson, clark, jackson, taylor, scott, davis, allen, adams, lewis, williams, jones, wilson, martin, johnson`.\n",
    "    - Hispanic last names: `ruiz, alvarez, vargas, castillo, gomez, soto,gonzalez, sanchez, rivera, mendoza, martinez, torres, ro-driguez, perez, lopez, medina, diaz, garcia, castro, cruz`.\n",
    "    - Asian last names: `cho, wong, tang, huang, chu, chung, ng,wu, liu, chen, lin, yang, kim, chang, shah, wang, li, khan,singh, hong`.\n",
    "    - Russian last names: `gurin, minsky, sokolov, markov, maslow, novikoff, mishkin, smirnov, orloff, ivanov, sokoloff, davidoff, savin, romanoff, babinski, sorokin, levin, pavlov, rodin, agin`.\n",
    "* *Career/family target sets taken from Garg et al. 2018.*\n",
    "    - Career: `executive, management, professional, corporation, salary, office, business, career`.\n",
    "    - Family: `home, parents, children, family, cousins, marriage, wedding, relatives.Math: math, algebra, geometry, calculus, equations, computation, numbers, addition`.\n",
    "* *Arts/Science target sets taken from Garg et al. 2018.*\n",
    "    - Arts: `poetry, art, sculpture, dance, literature, novel, symphony, drama`.\n",
    "    - Science: `science, technology, physics, chemistry, Einstein, NASA, experiment, astronomy`."
   ]
  },
  {
   "cell_type": "markdown",
   "metadata": {
    "id": "aHCHMAPYTCVX"
   },
   "source": [
    "### Sources\n",
    "\n",
    "Nosek, B. A., Banaji, M. R., & Greenwald, A. G. (2002). [Harvesting implicit group attitudes and beliefs from a demonstration web site. Group Dynamics](https://doi.org/10.1037/1089-2699.6.1.101), 6(1), 101–115.\n",
    "\n",
    "Garg, N., Schiebinger, L., Jurafsky, D., & Zou, J. (2017). Word Embeddings Quantify 100 Years of Gender and Ethnic Stereotypes, 1–33."
   ]
  },
  {
   "cell_type": "code",
   "execution_count": null,
   "metadata": {},
   "outputs": [],
   "source": []
  }
 ],
 "metadata": {
  "colab": {
   "collapsed_sections": [],
   "name": "Week 4-1 Word Embeddings.ipynb",
   "provenance": []
  },
  "kernelspec": {
   "display_name": "dlab",
   "language": "python",
   "name": "dlab"
  },
  "language_info": {
   "codemirror_mode": {
    "name": "ipython",
    "version": 3
   },
   "file_extension": ".py",
   "mimetype": "text/x-python",
   "name": "python",
   "nbconvert_exporter": "python",
   "pygments_lexer": "ipython3",
   "version": "3.10.10"
  }
 },
 "nbformat": 4,
 "nbformat_minor": 4
}
