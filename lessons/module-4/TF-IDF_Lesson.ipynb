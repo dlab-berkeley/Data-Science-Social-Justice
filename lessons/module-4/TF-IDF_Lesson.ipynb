{
 "cells": [
  {
   "cell_type": "markdown",
   "metadata": {},
   "source": [
    "# Data Science for Social Justice Workshop: TF-IDF\n",
    "\n",
    "* * * \n"
   ]
  },
  {
   "cell_type": "markdown",
   "metadata": {
    "id": "WClw_VPOmwXd"
   },
   "source": [
    "<div class=\"alert alert-success\">  \n",
    "    \n",
    "### Learning Objectives \n",
    "    \n",
    "* Understand the TF-IDF algorithm, and how it's used in information retrieval.\n",
    "* Understand the difference between TF-IDF and simple word counts.\n",
    "* Use Scikit Learn to extract TF-IDF scores from our text data.\n",
    "* Use TF-IDF scores to compare posts.\n",
    "</div>\n",
    "\n",
    "### Icons Used in This Notebook\n",
    "🔔 **Question**: A quick question to help you understand what's going on.<br>\n",
    "💡 **Tip**: How to do something a bit more efficiently or effectively.<br>\n",
    "⚠️ **Warning:** Heads-up about tricky stuff or common mistakes.<br>\n",
    "💭 **Reflection**: Reflecting on ethical implications, biases, and social impact in data science.<br>\n",
    "\n",
    "### Sections\n",
    "1. [Turning Words into Numbers](#words)\n",
    "2. [Bag-Of-Words Representation](#bow)\n",
    "3. [Testing TF-IDF with a toy dataset](#toy)\n",
    "4. [Using TF-IDF on Reddit datasets](#reddit)\n",
    "5. [Using TF-IDF to Find Similar Posts](#similar)"
   ]
  },
  {
   "cell_type": "markdown",
   "metadata": {
    "id": "gJHDHrQPbjif"
   },
   "source": [
    "<a id='words'></a>\n",
    "\n",
    "# Turning Words Into Numbers\n",
    "\n",
    "In the previous notebook, we covered methods to clean and tokenize text into units (like words, bigrams, and trigrams).\n",
    "\n",
    "For many data science applications, we need a way to convert the content of a text (the list of tokens) into useful numbers that can be used as the features of a model or analysis. One way to do this is to to use a method called Term Frequency-Inverse Document Frequency (TF-IDF). \n",
    "\n",
    "This ultimately is a question of **representation**. A text representation is easier for humans to understand, but a numerical representation is easier to perform large scale computational analysis on. The more we change the representation, the more distant our reading of the text becomes. We may gain some benefits from this, but we must also keep in mind what we lose."
   ]
  },
  {
   "cell_type": "markdown",
   "metadata": {
    "id": "C6erwYIhh-cR"
   },
   "source": [
    "## Retrieving the Dataset\n",
    "\n",
    "We retrieve the data, as we did in the previous notebook:"
   ]
  },
  {
   "cell_type": "code",
   "execution_count": 74,
   "metadata": {},
   "outputs": [],
   "source": [
    "import os\n",
    "import pickle\n",
    "import pandas as pd"
   ]
  },
  {
   "cell_type": "code",
   "execution_count": 75,
   "metadata": {
    "colab": {
     "base_uri": "https://localhost:8080/"
    },
    "executionInfo": {
     "elapsed": 22903,
     "status": "ok",
     "timestamp": 1647477678422,
     "user": {
      "displayName": "Tom van Nuenen",
      "photoUrl": "https://lh3.googleusercontent.com/a-/AOh14GhuBmxDvW5I_LJfZtwlPqMFD8QGLVPP3skvpkTnuQ=s64",
      "userId": "10012302451096885058"
     },
     "user_tz": 300
    },
    "id": "qqV-FJC9aHuT",
    "outputId": "9126a240-03b0-4403-eda9-afb71f673262"
   },
   "outputs": [],
   "source": [
    "with open('../../data/aita_submission_trigrams.pickle', 'rb') as f:\n",
    "    # Load the object from the file\n",
    "    aita_trigrams = pickle.load(f)\n",
    "\n",
    "df = pd.read_csv('../../data/aita_pp.csv')"
   ]
  },
  {
   "cell_type": "markdown",
   "metadata": {},
   "source": [
    "**Use the `2_TF_IDF_Project.ipynb` notebook to run the TF-IDF operations explained in this notebook on your own data.**"
   ]
  },
  {
   "cell_type": "markdown",
   "metadata": {},
   "source": [
    "<a id='bow'></a>\n",
    "\n",
    "# Bag-Of-Words Representation\n",
    "\n",
    "Before we do TF-IDF, we need to learn something about **bag-of-words (BOW)** models.\n",
    "\n",
    "The idea of BOW models is to encode the corpus in terms of word frequencies. In a bag-of-words, we take some text, tokenize it, and then tabulate the frequencies of each token. The numerical representation of the text, then, is a vector indicating the frequencies of each token for that text.\n",
    "\n",
    "For example, if we're considering a Reddit post on r/amitheasshole: \n",
    "\n",
    "<img src=\"../../images/bow.svg\"  width=\"600\" height=\"300\">\n",
    "\n",
    "\n",
    "We take each token from the review, \"toss it in a bag\", and count up the frequencies of each word. The numerical representation, then, is the vector on the right: the number of appearances of each token. The \"bag\" here denotes that we are not modeling structure within the text - only the frequencies of the words.\n"
   ]
  },
  {
   "cell_type": "markdown",
   "metadata": {},
   "source": [
    "### Document Term Matrix\n",
    "\n",
    "In most text corpora, we will have many samples or *documents*. For example, in our Reddit dataset, we have many posts. Each post stands on its own as a unique sample: it can be thought of as a unique document in the entire *corpus*. \n",
    "\n",
    "Since they are all related to each other, many tokens might be shared across posts. So, when creating the bag-of-words model, we can tokenize across all documents, forming a *vocabulary*. Then, we can represent a single document by which of the tokens in the vocabulary are represented, and their frequency within the document.\n",
    "\n",
    "If the vocabulary has $V$ tokens, then each document will be encoded in a $V$-dimensional vector. If there are $D$ documents, the entire dataset can be represented in a $D \\times V$ matrix, where each row corresponds to the document, and each column corresponds to the token (or \"term\"). This $D \\times V$ matrix is a **document term matrix** (DTM).\n",
    "\n",
    "Let's consider a simple example. Suppose we have the \"documents\":\n",
    "\n",
    "```\n",
    "[\"You are at a workshop. Are you ready?\",\n",
    " \"Welcome to Berkeley!\",\n",
    " \"I am teaching a workshop.\"]\n",
    "```\n",
    "\n",
    "The unique (word) tokens in this \"corpus\", in alphabetical order, are:\n",
    "\n",
    "```\n",
    "[a, am, are, at, berkeley, i, ready, teaching, to, welcome, workshop, you]\n",
    "```\n",
    "\n",
    "The DTM can be formed by going through each document, ticking off the frequency of each token in each document, and plugging this number into the matrix:\n",
    "\n",
    "$$\n",
    "\\begin{array}{c|cccccccccccc}\n",
    " & \\text{a} & \\text{am} & \\text{are} & \\text{at} & \\text{berkeley} & \\text{i} & \\text{ready} & \\text{teaching} & \\text{to} & \\text{welcome} & \\text{workshop} & \\text{you} \\\\\\hline\n",
    "\\text{Document 1} & 1 & 0 & 2 & 1 & 0 & 0 & 1 & 0 & 0 & 0 & 1 & 1 \\\\\n",
    "\\text{Document 2} & 0 & 0 & 0 & 0 & 1 & 0 & 0 & 0 & 1 & 1 & 0 & 0 \\\\\n",
    "\\text{Document 3} & 1 & 1 & 0 & 0 & 0 & 1 & 0 & 1 & 0 & 0 & 1 & 0 \\\\\n",
    "\\end{array}\n",
    "$$\n",
    "\n",
    "The numerical representation for each document is a row in the matrix. For example, Document 1 has numerical representation $[1, 0, 2, 1, 0, 0, 1, 0, 0, 0, 1, 1]$.\n",
    "\n",
    "To create a DTM, we will use the `CountVectorizer` from the package `sklearn`, a heavily used machine learning package."
   ]
  },
  {
   "cell_type": "code",
   "execution_count": 76,
   "metadata": {},
   "outputs": [],
   "source": [
    "from sklearn.feature_extraction.text import CountVectorizer"
   ]
  },
  {
   "cell_type": "markdown",
   "metadata": {},
   "source": [
    "Here is the workflow:\n",
    "\n",
    "1. We first create a `CountVectorizer` object, and choose specific settings for how we'll go about creating the DTM. Check out the [documentation](https://scikit-learn.org/stable/modules/generated/sklearn.feature_extraction.text.CountVectorizer.html) to see what options are available.\n",
    "2. Then, we \"fit\" this `CountVectorizer` object to the data. In this context, \"fitting\" consists of establishing a vocabulary of tokens from the documents in your dataset.\n",
    "3. Finally, we \"transform\" the data according to the \"fitted\" `CountVectorizer` object. This means taking our text data and transforming it into a DTM according to the vocabulary established by the \"fitting\" step.\n",
    "4. You can do steps 2 and 3 in one fell swoop using a `fit_transform` function.\n"
   ]
  },
  {
   "cell_type": "code",
   "execution_count": 77,
   "metadata": {
    "colab": {
     "base_uri": "https://localhost:8080/"
    },
    "executionInfo": {
     "elapsed": 494,
     "status": "ok",
     "timestamp": 1639773021096,
     "user": {
      "displayName": "Tom van Nuenen",
      "photoUrl": "https://lh3.googleusercontent.com/a-/AOh14GhuBmxDvW5I_LJfZtwlPqMFD8QGLVPP3skvpkTnuQ=s64",
      "userId": "10012302451096885058"
     },
     "user_tz": -60
    },
    "id": "GLxYUFszEA0M",
    "outputId": "ff40b717-b7f4-4710-bd43-a0c7613422f9"
   },
   "outputs": [
    {
     "data": {
      "text/html": [
       "<div>\n",
       "<style scoped>\n",
       "    .dataframe tbody tr th:only-of-type {\n",
       "        vertical-align: middle;\n",
       "    }\n",
       "\n",
       "    .dataframe tbody tr th {\n",
       "        vertical-align: top;\n",
       "    }\n",
       "\n",
       "    .dataframe thead th {\n",
       "        text-align: right;\n",
       "    }\n",
       "</style>\n",
       "<table border=\"1\" class=\"dataframe\">\n",
       "  <thead>\n",
       "    <tr style=\"text-align: right;\">\n",
       "      <th></th>\n",
       "      <th>agree</th>\n",
       "      <th>but</th>\n",
       "      <th>can</th>\n",
       "      <th>cat</th>\n",
       "      <th>does</th>\n",
       "      <th>dog</th>\n",
       "      <th>has</th>\n",
       "      <th>let</th>\n",
       "      <th>likes</th>\n",
       "      <th>my</th>\n",
       "      <th>not</th>\n",
       "      <th>our</th>\n",
       "      <th>out</th>\n",
       "      <th>paws</th>\n",
       "      <th>really</th>\n",
       "      <th>the</th>\n",
       "      <th>we</th>\n",
       "    </tr>\n",
       "  </thead>\n",
       "  <tbody>\n",
       "    <tr>\n",
       "      <th>0</th>\n",
       "      <td>0</td>\n",
       "      <td>0</td>\n",
       "      <td>0</td>\n",
       "      <td>1</td>\n",
       "      <td>0</td>\n",
       "      <td>0</td>\n",
       "      <td>1</td>\n",
       "      <td>0</td>\n",
       "      <td>0</td>\n",
       "      <td>1</td>\n",
       "      <td>0</td>\n",
       "      <td>0</td>\n",
       "      <td>0</td>\n",
       "      <td>1</td>\n",
       "      <td>0</td>\n",
       "      <td>0</td>\n",
       "      <td>0</td>\n",
       "    </tr>\n",
       "    <tr>\n",
       "      <th>1</th>\n",
       "      <td>0</td>\n",
       "      <td>0</td>\n",
       "      <td>1</td>\n",
       "      <td>0</td>\n",
       "      <td>0</td>\n",
       "      <td>1</td>\n",
       "      <td>0</td>\n",
       "      <td>1</td>\n",
       "      <td>0</td>\n",
       "      <td>0</td>\n",
       "      <td>0</td>\n",
       "      <td>0</td>\n",
       "      <td>1</td>\n",
       "      <td>0</td>\n",
       "      <td>0</td>\n",
       "      <td>1</td>\n",
       "      <td>1</td>\n",
       "    </tr>\n",
       "    <tr>\n",
       "      <th>2</th>\n",
       "      <td>1</td>\n",
       "      <td>1</td>\n",
       "      <td>0</td>\n",
       "      <td>2</td>\n",
       "      <td>1</td>\n",
       "      <td>1</td>\n",
       "      <td>0</td>\n",
       "      <td>0</td>\n",
       "      <td>1</td>\n",
       "      <td>0</td>\n",
       "      <td>1</td>\n",
       "      <td>1</td>\n",
       "      <td>0</td>\n",
       "      <td>0</td>\n",
       "      <td>1</td>\n",
       "      <td>2</td>\n",
       "      <td>0</td>\n",
       "    </tr>\n",
       "  </tbody>\n",
       "</table>\n",
       "</div>"
      ],
      "text/plain": [
       "   agree  but  can  cat  does  dog  has  let  likes  my  not  our  out  paws  \\\n",
       "0      0    0    0    1     0    0    1    0      0   1    0    0    0     1   \n",
       "1      0    0    1    0     0    1    0    1      0   0    0    0    1     0   \n",
       "2      1    1    0    2     1    1    0    0      1   0    1    1    0     0   \n",
       "\n",
       "   really  the  we  \n",
       "0       0    0   0  \n",
       "1       0    1   1  \n",
       "2       1    2   0  "
      ]
     },
     "execution_count": 77,
     "metadata": {},
     "output_type": "execute_result"
    }
   ],
   "source": [
    "corpus = [\n",
    "  'My cat has paws.',\n",
    "  'Can we let the dog out?',\n",
    "  'Our dog really likes the cat but the cat does not agree.']\n",
    "vectorizer = CountVectorizer()\n",
    "X = vectorizer.fit_transform(corpus)\n",
    "test_df = pd.DataFrame(X.toarray(), columns=vectorizer.get_feature_names_out())\n",
    "test_df"
   ]
  },
  {
   "cell_type": "markdown",
   "metadata": {
    "id": "rtaTTaP8EA0M"
   },
   "source": [
    "Each column in the matrix represents a unique word in the vocabulary, while each row represents the document in our dataset. In this case, we have three sentences (i.e. the document), and therefore we three rows. The values in each cell are the word counts. Note that with this representation, counts of some words could be 0 if the word did not appear in the corresponding document. \n"
   ]
  },
  {
   "cell_type": "markdown",
   "metadata": {
    "id": "lsNok5KyEA0M"
   },
   "source": [
    "🔔 **Question**: Lets look at the shape of the matrix. How many unique words are there in the matrix?'"
   ]
  },
  {
   "cell_type": "code",
   "execution_count": 78,
   "metadata": {
    "colab": {
     "base_uri": "https://localhost:8080/"
    },
    "executionInfo": {
     "elapsed": 185,
     "status": "ok",
     "timestamp": 1639773036420,
     "user": {
      "displayName": "Tom van Nuenen",
      "photoUrl": "https://lh3.googleusercontent.com/a-/AOh14GhuBmxDvW5I_LJfZtwlPqMFD8QGLVPP3skvpkTnuQ=s64",
      "userId": "10012302451096885058"
     },
     "user_tz": -60
    },
    "id": "6mKvaLCnEA0M",
    "outputId": "259f70fb-d186-4330-d9a7-d726459105fa"
   },
   "outputs": [
    {
     "data": {
      "text/plain": [
       "(3, 17)"
      ]
     },
     "execution_count": 78,
     "metadata": {},
     "output_type": "execute_result"
    }
   ],
   "source": [
    "X.shape"
   ]
  },
  {
   "cell_type": "markdown",
   "metadata": {
    "id": "D6kPKfAnFvKY"
   },
   "source": [
    "Now, we have numbers representing the contents of the documents! Matrices like this are the simplest way to represent texts. However, it biases most frequent words and ends up ignoring rare words which could have helped is in processing our data more efficiently.\n",
    "\n",
    "Often, we not only want to focus on the frequency of words present in the corpus but also want to know the importance of the words. This is where TF-IDF (term frequency-inverse document frequency) comes in."
   ]
  },
  {
   "cell_type": "markdown",
   "metadata": {
    "id": "EpWynSoy4t8o"
   },
   "source": [
    "# Implementing TF-IDF\n",
    "\n",
    "TF-IDF, short for **term frequency–inverse document frequency**, is a metric that reflects how important a word is to a **document** in a collection or **corpus**. When talking about text datasets, the dataset is called a corpus, and each datapoint is a document. A document can be a post, a paragraph, a webpage, whatever is considered the individual unit of text for a given datset. A **term** is each unique token in a document (we previously also referred to this as **type**). \n",
    "\n",
    "For example in a corpus of sentences, a document might be: `\"I went to New York City in New York state.\"` \n",
    "\n",
    "The processed tokens in that document might be: `[went, new_york, city, new_york, state]`.\n",
    "\n",
    "The document would have four unique terms: `[went, new_york, city, state]`.\n",
    "\n",
    "The TF-IDF value increases proportionally to the number of times a word appears in the document (the term frequency, or TF), and is offset by the number of documents in the corpus that contain the word (the inverse document frequency, or IDF). This helps to adjust for the fact that some words appear more frequently in general – such as articles and prepositions.\n",
    "\n",
    "We won't go into much detail about the math behind calculating the TF-IDF (see the D-Lab Text Analysis workshop videos to see more). The key components to remember are:\n",
    "\n",
    "1. There is one TF-IDF score per unique word and unique document.\n",
    "2. A high TF-IDF score suggests that word is descriptive of that document.\n",
    "3. A low TF-IDF score may be because either the word is not frequent in that document, or that it is frequent in many documents in the dataset - either way, it may not be a good descriptor of that document.\n",
    "\n",
    "The intuition is that if a word occurs many times in one post but rarely in the rest of the corpus, it is probably useful for characterizing that post; conversely, if a word occurs frequently in a post but also occurs frequently in the corpus, it is probably less characteristic of that post."
   ]
  },
  {
   "cell_type": "markdown",
   "metadata": {},
   "source": [
    "⚠️ **Warning:**  Word order is still not retained in this type of featurization, since all that is counted is overall frequency of a word in a document. So it is still a **bag-of-words** approach."
   ]
  },
  {
   "cell_type": "markdown",
   "metadata": {
    "id": "yvxZ-5f6ZFWe"
   },
   "source": [
    "<a id='toy'></a>\n",
    "\n",
    "# Testing TF-IDF with a Toy Dataset\n",
    "\n",
    "Let's try TF-IDF out with a toy dataset. Here we have three documents about Python, but with different meanings. If we are trying to distinguish between these documents, the word \"Python\" would not be very useful, since it occurs in all of the documents, but other terms might, like \"Monty\", \"snake\", etc."
   ]
  },
  {
   "cell_type": "code",
   "execution_count": 79,
   "metadata": {
    "id": "MjjWn-phZFWf"
   },
   "outputs": [],
   "source": [
    "document1 = \"\"\"Python is a 2000 made-for-TV horror movie directed by Richard\n",
    "Clabaugh. The film features several cult favorite actors, including William\n",
    "Zabka of The Karate Kid fame, Wil Wheaton, Casper Van Dien, Jenny McCarthy,\n",
    "Keith Coogan, Robert Englund (best known for his role as Freddy Krueger in the\n",
    "A Nightmare on Elm Street series of films), Dana Barron, David Bowe, and Sean\n",
    "Whalen.\"\"\"\n",
    "\n",
    "document2 = \"\"\"Python, from the Greek word (πύθων/πύθωνας), is a genus of\n",
    "nonvenomous pythons[2] found in Africa and Asia. Currently, 7 species are\n",
    "recognised.[2] A member of this genus, P. reticulatus, is among the longest\n",
    "snakes known.\"\"\"\n",
    "\n",
    "document3 = \"\"\"Monty Python (also collectively known as the Pythons) are a British \n",
    "surreal comedy group who created the sketch comedy television show Monty Python's \n",
    "Flying Circus, which first aired on the BBC in 1969. Forty-five episodes were made \n",
    "over four series.\"\"\"\n",
    "\n",
    "document4 = \"\"\"Python is an interpreted, high-level, general-purpose programming language. \n",
    "Created by Guido van Rossum and first released in 1991, Python's design philosophy emphasizes \n",
    "code readability with its notable use of significant whitespace. Its language constructs and \n",
    "object-oriented approach aim to help programmers write clear, logical code for small and \n",
    "large-scale projects.\"\"\"\n",
    "\n",
    "document5 = \"\"\"The Colt Python is a .357 Magnum caliber revolver formerly\n",
    "manufactured by Colt's Manufacturing Company of Hartford, Connecticut.\n",
    "It is sometimes referred to as a \"Combat Magnum\". It was first introduced\n",
    "in 1955, the same year as Smith &amp; Wesson's M29 .44 Magnum. The now discontinued\n",
    "Colt Python targeted the premium revolver market segment.\"\"\"\n",
    "\n",
    "document6 = \"\"\"The Pythonidae, commonly known simply as pythons, from the Greek word python \n",
    "(πυθων), are a family of nonvenomous snakes found in Africa, Asia, and Australia. \n",
    "Among its members are some of the largest snakes in the world. Eight genera and 31\n",
    "species are currently recognized.\"\"\"\n",
    "\n",
    "test_list = [document1, document2, document3, document4, document5, document6]"
   ]
  },
  {
   "cell_type": "markdown",
   "metadata": {
    "id": "ESR7eMThTkZE"
   },
   "source": [
    "## Using `CountVectorizer()`\n",
    "\n",
    "Let's use `CountVectorizer()` again, and customize it a bit. \n",
    "\n",
    "We will set the variable `cv` to an instance of `CountVectorizer()`, and change two parameters:\n",
    "    - Set `max_df` (max document frequency) to get rid of words that appear in more than 85% of the corpus. \n",
    "    - Set `stop_words` to include the English stopword list, in order to leave those stopwords out of the calculations as well.\n",
    "    \n",
    "Check the [documentation](https://scikit-learn.org/stable/modules/generated/sklearn.feature_extraction.text.CountVectorizer.html) if you need help on how to change these parameters!"
   ]
  },
  {
   "cell_type": "code",
   "execution_count": 80,
   "metadata": {
    "colab": {
     "base_uri": "https://localhost:8080/"
    },
    "executionInfo": {
     "elapsed": 269,
     "status": "ok",
     "timestamp": 1639776660955,
     "user": {
      "displayName": "Tom van Nuenen",
      "photoUrl": "https://lh3.googleusercontent.com/a-/AOh14GhuBmxDvW5I_LJfZtwlPqMFD8QGLVPP3skvpkTnuQ=s64",
      "userId": "10012302451096885058"
     },
     "user_tz": -60
    },
    "id": "Os8jrh3RM_GJ",
    "outputId": "b7adadfc-b6fa-4752-b8c1-08527bd07703"
   },
   "outputs": [],
   "source": [
    "from sklearn.feature_extraction.text import CountVectorizer\n",
    "\n",
    "cv = CountVectorizer(max_df=0.85, stop_words='english')"
   ]
  },
  {
   "cell_type": "markdown",
   "metadata": {},
   "source": [
    "Now let's run `fit_transform()` on our `test_list` with these settings. We'll also create a dataframe with all the word counts."
   ]
  },
  {
   "cell_type": "code",
   "execution_count": 81,
   "metadata": {},
   "outputs": [
    {
     "data": {
      "text/html": [
       "<div>\n",
       "<style scoped>\n",
       "    .dataframe tbody tr th:only-of-type {\n",
       "        vertical-align: middle;\n",
       "    }\n",
       "\n",
       "    .dataframe tbody tr th {\n",
       "        vertical-align: top;\n",
       "    }\n",
       "\n",
       "    .dataframe thead th {\n",
       "        text-align: right;\n",
       "    }\n",
       "</style>\n",
       "<table border=\"1\" class=\"dataframe\">\n",
       "  <thead>\n",
       "    <tr style=\"text-align: right;\">\n",
       "      <th></th>\n",
       "      <th>1955</th>\n",
       "      <th>1969</th>\n",
       "      <th>1991</th>\n",
       "      <th>2000</th>\n",
       "      <th>31</th>\n",
       "      <th>357</th>\n",
       "      <th>44</th>\n",
       "      <th>actors</th>\n",
       "      <th>africa</th>\n",
       "      <th>aim</th>\n",
       "      <th>...</th>\n",
       "      <th>wil</th>\n",
       "      <th>william</th>\n",
       "      <th>word</th>\n",
       "      <th>world</th>\n",
       "      <th>write</th>\n",
       "      <th>year</th>\n",
       "      <th>zabka</th>\n",
       "      <th>πυθων</th>\n",
       "      <th>πύθων</th>\n",
       "      <th>πύθωνας</th>\n",
       "    </tr>\n",
       "  </thead>\n",
       "  <tbody>\n",
       "    <tr>\n",
       "      <th>0</th>\n",
       "      <td>0</td>\n",
       "      <td>0</td>\n",
       "      <td>0</td>\n",
       "      <td>1</td>\n",
       "      <td>0</td>\n",
       "      <td>0</td>\n",
       "      <td>0</td>\n",
       "      <td>1</td>\n",
       "      <td>0</td>\n",
       "      <td>0</td>\n",
       "      <td>...</td>\n",
       "      <td>1</td>\n",
       "      <td>1</td>\n",
       "      <td>0</td>\n",
       "      <td>0</td>\n",
       "      <td>0</td>\n",
       "      <td>0</td>\n",
       "      <td>1</td>\n",
       "      <td>0</td>\n",
       "      <td>0</td>\n",
       "      <td>0</td>\n",
       "    </tr>\n",
       "    <tr>\n",
       "      <th>1</th>\n",
       "      <td>0</td>\n",
       "      <td>0</td>\n",
       "      <td>0</td>\n",
       "      <td>0</td>\n",
       "      <td>0</td>\n",
       "      <td>0</td>\n",
       "      <td>0</td>\n",
       "      <td>0</td>\n",
       "      <td>1</td>\n",
       "      <td>0</td>\n",
       "      <td>...</td>\n",
       "      <td>0</td>\n",
       "      <td>0</td>\n",
       "      <td>1</td>\n",
       "      <td>0</td>\n",
       "      <td>0</td>\n",
       "      <td>0</td>\n",
       "      <td>0</td>\n",
       "      <td>0</td>\n",
       "      <td>1</td>\n",
       "      <td>1</td>\n",
       "    </tr>\n",
       "    <tr>\n",
       "      <th>2</th>\n",
       "      <td>0</td>\n",
       "      <td>1</td>\n",
       "      <td>0</td>\n",
       "      <td>0</td>\n",
       "      <td>0</td>\n",
       "      <td>0</td>\n",
       "      <td>0</td>\n",
       "      <td>0</td>\n",
       "      <td>0</td>\n",
       "      <td>0</td>\n",
       "      <td>...</td>\n",
       "      <td>0</td>\n",
       "      <td>0</td>\n",
       "      <td>0</td>\n",
       "      <td>0</td>\n",
       "      <td>0</td>\n",
       "      <td>0</td>\n",
       "      <td>0</td>\n",
       "      <td>0</td>\n",
       "      <td>0</td>\n",
       "      <td>0</td>\n",
       "    </tr>\n",
       "    <tr>\n",
       "      <th>3</th>\n",
       "      <td>0</td>\n",
       "      <td>0</td>\n",
       "      <td>1</td>\n",
       "      <td>0</td>\n",
       "      <td>0</td>\n",
       "      <td>0</td>\n",
       "      <td>0</td>\n",
       "      <td>0</td>\n",
       "      <td>0</td>\n",
       "      <td>1</td>\n",
       "      <td>...</td>\n",
       "      <td>0</td>\n",
       "      <td>0</td>\n",
       "      <td>0</td>\n",
       "      <td>0</td>\n",
       "      <td>1</td>\n",
       "      <td>0</td>\n",
       "      <td>0</td>\n",
       "      <td>0</td>\n",
       "      <td>0</td>\n",
       "      <td>0</td>\n",
       "    </tr>\n",
       "    <tr>\n",
       "      <th>4</th>\n",
       "      <td>1</td>\n",
       "      <td>0</td>\n",
       "      <td>0</td>\n",
       "      <td>0</td>\n",
       "      <td>0</td>\n",
       "      <td>1</td>\n",
       "      <td>1</td>\n",
       "      <td>0</td>\n",
       "      <td>0</td>\n",
       "      <td>0</td>\n",
       "      <td>...</td>\n",
       "      <td>0</td>\n",
       "      <td>0</td>\n",
       "      <td>0</td>\n",
       "      <td>0</td>\n",
       "      <td>0</td>\n",
       "      <td>1</td>\n",
       "      <td>0</td>\n",
       "      <td>0</td>\n",
       "      <td>0</td>\n",
       "      <td>0</td>\n",
       "    </tr>\n",
       "    <tr>\n",
       "      <th>5</th>\n",
       "      <td>0</td>\n",
       "      <td>0</td>\n",
       "      <td>0</td>\n",
       "      <td>0</td>\n",
       "      <td>1</td>\n",
       "      <td>0</td>\n",
       "      <td>0</td>\n",
       "      <td>0</td>\n",
       "      <td>1</td>\n",
       "      <td>0</td>\n",
       "      <td>...</td>\n",
       "      <td>0</td>\n",
       "      <td>0</td>\n",
       "      <td>1</td>\n",
       "      <td>1</td>\n",
       "      <td>0</td>\n",
       "      <td>0</td>\n",
       "      <td>0</td>\n",
       "      <td>1</td>\n",
       "      <td>0</td>\n",
       "      <td>0</td>\n",
       "    </tr>\n",
       "  </tbody>\n",
       "</table>\n",
       "<p>6 rows × 147 columns</p>\n",
       "</div>"
      ],
      "text/plain": [
       "   1955  1969  1991  2000  31  357  44  actors  africa  aim  ...  wil  \\\n",
       "0     0     0     0     1   0    0   0       1       0    0  ...    1   \n",
       "1     0     0     0     0   0    0   0       0       1    0  ...    0   \n",
       "2     0     1     0     0   0    0   0       0       0    0  ...    0   \n",
       "3     0     0     1     0   0    0   0       0       0    1  ...    0   \n",
       "4     1     0     0     0   0    1   1       0       0    0  ...    0   \n",
       "5     0     0     0     0   1    0   0       0       1    0  ...    0   \n",
       "\n",
       "   william  word  world  write  year  zabka  πυθων  πύθων  πύθωνας  \n",
       "0        1     0      0      0     0      1      0      0        0  \n",
       "1        0     1      0      0     0      0      0      1        1  \n",
       "2        0     0      0      0     0      0      0      0        0  \n",
       "3        0     0      0      1     0      0      0      0        0  \n",
       "4        0     0      0      0     1      0      0      0        0  \n",
       "5        0     1      1      0     0      0      1      0        0  \n",
       "\n",
       "[6 rows x 147 columns]"
      ]
     },
     "execution_count": 81,
     "metadata": {},
     "output_type": "execute_result"
    }
   ],
   "source": [
    "word_count_vector = cv.fit_transform(test_list)\n",
    "pd.DataFrame(word_count_vector.toarray(), columns=cv.get_feature_names_out())"
   ]
  },
  {
   "cell_type": "markdown",
   "metadata": {
    "id": "bkpVqpPzNHRd"
   },
   "source": [
    "🔔 **Question**: How many documents and unique words are in this dataset?"
   ]
  },
  {
   "cell_type": "markdown",
   "metadata": {
    "id": "iVLHjD29ZFWi"
   },
   "source": [
    "## Using `TfidfTransformer`\n",
    "\n",
    "Next, we need to compute the inverse document frequency values. We'll call [`tfidf_transformer.fit()`](https://scikit-learn.org/stable/modules/generated/sklearn.feature_extraction.text.TfidfTransformer.html) on the word counts we computed earlier.\n"
   ]
  },
  {
   "cell_type": "code",
   "execution_count": 82,
   "metadata": {
    "colab": {
     "base_uri": "https://localhost:8080/"
    },
    "executionInfo": {
     "elapsed": 269,
     "status": "ok",
     "timestamp": 1639776806708,
     "user": {
      "displayName": "Tom van Nuenen",
      "photoUrl": "https://lh3.googleusercontent.com/a-/AOh14GhuBmxDvW5I_LJfZtwlPqMFD8QGLVPP3skvpkTnuQ=s64",
      "userId": "10012302451096885058"
     },
     "user_tz": -60
    },
    "id": "WeTAynM9xxxr",
    "outputId": "a5c7fd51-b4cf-4c16-e643-388303891e01"
   },
   "outputs": [
    {
     "data": {
      "text/html": [
       "<style>#sk-container-id-2 {color: black;background-color: white;}#sk-container-id-2 pre{padding: 0;}#sk-container-id-2 div.sk-toggleable {background-color: white;}#sk-container-id-2 label.sk-toggleable__label {cursor: pointer;display: block;width: 100%;margin-bottom: 0;padding: 0.3em;box-sizing: border-box;text-align: center;}#sk-container-id-2 label.sk-toggleable__label-arrow:before {content: \"▸\";float: left;margin-right: 0.25em;color: #696969;}#sk-container-id-2 label.sk-toggleable__label-arrow:hover:before {color: black;}#sk-container-id-2 div.sk-estimator:hover label.sk-toggleable__label-arrow:before {color: black;}#sk-container-id-2 div.sk-toggleable__content {max-height: 0;max-width: 0;overflow: hidden;text-align: left;background-color: #f0f8ff;}#sk-container-id-2 div.sk-toggleable__content pre {margin: 0.2em;color: black;border-radius: 0.25em;background-color: #f0f8ff;}#sk-container-id-2 input.sk-toggleable__control:checked~div.sk-toggleable__content {max-height: 200px;max-width: 100%;overflow: auto;}#sk-container-id-2 input.sk-toggleable__control:checked~label.sk-toggleable__label-arrow:before {content: \"▾\";}#sk-container-id-2 div.sk-estimator input.sk-toggleable__control:checked~label.sk-toggleable__label {background-color: #d4ebff;}#sk-container-id-2 div.sk-label input.sk-toggleable__control:checked~label.sk-toggleable__label {background-color: #d4ebff;}#sk-container-id-2 input.sk-hidden--visually {border: 0;clip: rect(1px 1px 1px 1px);clip: rect(1px, 1px, 1px, 1px);height: 1px;margin: -1px;overflow: hidden;padding: 0;position: absolute;width: 1px;}#sk-container-id-2 div.sk-estimator {font-family: monospace;background-color: #f0f8ff;border: 1px dotted black;border-radius: 0.25em;box-sizing: border-box;margin-bottom: 0.5em;}#sk-container-id-2 div.sk-estimator:hover {background-color: #d4ebff;}#sk-container-id-2 div.sk-parallel-item::after {content: \"\";width: 100%;border-bottom: 1px solid gray;flex-grow: 1;}#sk-container-id-2 div.sk-label:hover label.sk-toggleable__label {background-color: #d4ebff;}#sk-container-id-2 div.sk-serial::before {content: \"\";position: absolute;border-left: 1px solid gray;box-sizing: border-box;top: 0;bottom: 0;left: 50%;z-index: 0;}#sk-container-id-2 div.sk-serial {display: flex;flex-direction: column;align-items: center;background-color: white;padding-right: 0.2em;padding-left: 0.2em;position: relative;}#sk-container-id-2 div.sk-item {position: relative;z-index: 1;}#sk-container-id-2 div.sk-parallel {display: flex;align-items: stretch;justify-content: center;background-color: white;position: relative;}#sk-container-id-2 div.sk-item::before, #sk-container-id-2 div.sk-parallel-item::before {content: \"\";position: absolute;border-left: 1px solid gray;box-sizing: border-box;top: 0;bottom: 0;left: 50%;z-index: -1;}#sk-container-id-2 div.sk-parallel-item {display: flex;flex-direction: column;z-index: 1;position: relative;background-color: white;}#sk-container-id-2 div.sk-parallel-item:first-child::after {align-self: flex-end;width: 50%;}#sk-container-id-2 div.sk-parallel-item:last-child::after {align-self: flex-start;width: 50%;}#sk-container-id-2 div.sk-parallel-item:only-child::after {width: 0;}#sk-container-id-2 div.sk-dashed-wrapped {border: 1px dashed gray;margin: 0 0.4em 0.5em 0.4em;box-sizing: border-box;padding-bottom: 0.4em;background-color: white;}#sk-container-id-2 div.sk-label label {font-family: monospace;font-weight: bold;display: inline-block;line-height: 1.2em;}#sk-container-id-2 div.sk-label-container {text-align: center;}#sk-container-id-2 div.sk-container {/* jupyter's `normalize.less` sets `[hidden] { display: none; }` but bootstrap.min.css set `[hidden] { display: none !important; }` so we also need the `!important` here to be able to override the default hidden behavior on the sphinx rendered scikit-learn.org. See: https://github.com/scikit-learn/scikit-learn/issues/21755 */display: inline-block !important;position: relative;}#sk-container-id-2 div.sk-text-repr-fallback {display: none;}</style><div id=\"sk-container-id-2\" class=\"sk-top-container\"><div class=\"sk-text-repr-fallback\"><pre>TfidfTransformer()</pre><b>In a Jupyter environment, please rerun this cell to show the HTML representation or trust the notebook. <br />On GitHub, the HTML representation is unable to render, please try loading this page with nbviewer.org.</b></div><div class=\"sk-container\" hidden><div class=\"sk-item\"><div class=\"sk-estimator sk-toggleable\"><input class=\"sk-toggleable__control sk-hidden--visually\" id=\"sk-estimator-id-2\" type=\"checkbox\" checked><label for=\"sk-estimator-id-2\" class=\"sk-toggleable__label sk-toggleable__label-arrow\">TfidfTransformer</label><div class=\"sk-toggleable__content\"><pre>TfidfTransformer()</pre></div></div></div></div></div>"
      ],
      "text/plain": [
       "TfidfTransformer()"
      ]
     },
     "execution_count": 82,
     "metadata": {},
     "output_type": "execute_result"
    }
   ],
   "source": [
    "from sklearn.feature_extraction.text import TfidfTransformer\n",
    "\n",
    "tfidf_transformer = TfidfTransformer() \n",
    "tfidf_transformer.fit(word_count_vector)"
   ]
  },
  {
   "cell_type": "markdown",
   "metadata": {
    "id": "5Uoj5xOi8vu_"
   },
   "source": [
    "To get a glimpse of how the IDF values look, let's put these into a DataFrame and sort by weights. Remember, a low IDF indicates something that is less unique."
   ]
  },
  {
   "cell_type": "code",
   "execution_count": 83,
   "metadata": {
    "colab": {
     "base_uri": "https://localhost:8080/",
     "height": 478
    },
    "executionInfo": {
     "elapsed": 296,
     "status": "ok",
     "timestamp": 1639776807884,
     "user": {
      "displayName": "Tom van Nuenen",
      "photoUrl": "https://lh3.googleusercontent.com/a-/AOh14GhuBmxDvW5I_LJfZtwlPqMFD8QGLVPP3skvpkTnuQ=s64",
      "userId": "10012302451096885058"
     },
     "user_tz": -60
    },
    "id": "gRjP38dV-7I7",
    "outputId": "ba06ac97-0405-47f1-d01d-db1bbf5ca801"
   },
   "outputs": [
    {
     "data": {
      "text/html": [
       "<div>\n",
       "<style scoped>\n",
       "    .dataframe tbody tr th:only-of-type {\n",
       "        vertical-align: middle;\n",
       "    }\n",
       "\n",
       "    .dataframe tbody tr th {\n",
       "        vertical-align: top;\n",
       "    }\n",
       "\n",
       "    .dataframe thead th {\n",
       "        text-align: right;\n",
       "    }\n",
       "</style>\n",
       "<table border=\"1\" class=\"dataframe\">\n",
       "  <thead>\n",
       "    <tr style=\"text-align: right;\">\n",
       "      <th></th>\n",
       "      <th>idf_weights</th>\n",
       "    </tr>\n",
       "  </thead>\n",
       "  <tbody>\n",
       "    <tr>\n",
       "      <th>known</th>\n",
       "      <td>1.336472</td>\n",
       "    </tr>\n",
       "    <tr>\n",
       "      <th>pythons</th>\n",
       "      <td>1.559616</td>\n",
       "    </tr>\n",
       "    <tr>\n",
       "      <th>greek</th>\n",
       "      <td>1.847298</td>\n",
       "    </tr>\n",
       "    <tr>\n",
       "      <th>nonvenomous</th>\n",
       "      <td>1.847298</td>\n",
       "    </tr>\n",
       "    <tr>\n",
       "      <th>created</th>\n",
       "      <td>1.847298</td>\n",
       "    </tr>\n",
       "    <tr>\n",
       "      <th>...</th>\n",
       "      <td>...</td>\n",
       "    </tr>\n",
       "    <tr>\n",
       "      <th>film</th>\n",
       "      <td>2.252763</td>\n",
       "    </tr>\n",
       "    <tr>\n",
       "      <th>films</th>\n",
       "      <td>2.252763</td>\n",
       "    </tr>\n",
       "    <tr>\n",
       "      <th>flying</th>\n",
       "      <td>2.252763</td>\n",
       "    </tr>\n",
       "    <tr>\n",
       "      <th>fame</th>\n",
       "      <td>2.252763</td>\n",
       "    </tr>\n",
       "    <tr>\n",
       "      <th>πύθωνας</th>\n",
       "      <td>2.252763</td>\n",
       "    </tr>\n",
       "  </tbody>\n",
       "</table>\n",
       "<p>147 rows × 1 columns</p>\n",
       "</div>"
      ],
      "text/plain": [
       "             idf_weights\n",
       "known           1.336472\n",
       "pythons         1.559616\n",
       "greek           1.847298\n",
       "nonvenomous     1.847298\n",
       "created         1.847298\n",
       "...                  ...\n",
       "film            2.252763\n",
       "films           2.252763\n",
       "flying          2.252763\n",
       "fame            2.252763\n",
       "πύθωνας         2.252763\n",
       "\n",
       "[147 rows x 1 columns]"
      ]
     },
     "execution_count": 83,
     "metadata": {},
     "output_type": "execute_result"
    }
   ],
   "source": [
    "# Print IDF values \n",
    "df_idf = pd.DataFrame(tfidf_transformer.idf_, index=cv.get_feature_names_out(), columns=[\"idf_weights\"]) \n",
    "# Sort ascending \n",
    "df_idf.sort_values(by=['idf_weights'])"
   ]
  },
  {
   "cell_type": "markdown",
   "metadata": {
    "id": "oFeXhx71O_4n"
   },
   "source": [
    "Notice that the words \"python\" and \"in\" have the lowest IDF values. This is expected: these words appear in each and every document in our collection. The lower the IDF value of a word, the less unique it is to any particular document.\n",
    "\n",
    "Now that we have the idf values, we can compute the TF-IDF scores for our set of documents using `.transform()`"
   ]
  },
  {
   "cell_type": "code",
   "execution_count": 84,
   "metadata": {
    "id": "hWPqOTR_AIM0"
   },
   "outputs": [],
   "source": [
    "tf_idf_vector = tfidf_transformer.transform(word_count_vector)"
   ]
  },
  {
   "cell_type": "markdown",
   "metadata": {
    "id": "K0-6H9L9PnLA"
   },
   "source": [
    "By invoking `tfidf_transformer.transform()` we are computing the TF-IDF scores for our docs. Internally, this is weighting TF scores by their IDF scores, so that the more unique a word, the more its frequency counts in a given document.\n",
    "\n",
    "Let’s print the TF-IDF values of the first document to see if it makes sense. We place the TF-IDF scores from the third document into a `pandas` data frame and sort it in descending order of scores. We can replace the index in `tf_idf_vector[]` to select a different document to check."
   ]
  },
  {
   "cell_type": "code",
   "execution_count": 85,
   "metadata": {
    "colab": {
     "base_uri": "https://localhost:8080/",
     "height": 478
    },
    "executionInfo": {
     "elapsed": 199,
     "status": "ok",
     "timestamp": 1639776812749,
     "user": {
      "displayName": "Tom van Nuenen",
      "photoUrl": "https://lh3.googleusercontent.com/a-/AOh14GhuBmxDvW5I_LJfZtwlPqMFD8QGLVPP3skvpkTnuQ=s64",
      "userId": "10012302451096885058"
     },
     "user_tz": -60
    },
    "id": "Qu40IZhpP0b2",
    "outputId": "fbf33f79-7be4-4c0e-8853-02ab6b7cf616"
   },
   "outputs": [
    {
     "data": {
      "text/html": [
       "<div>\n",
       "<style scoped>\n",
       "    .dataframe tbody tr th:only-of-type {\n",
       "        vertical-align: middle;\n",
       "    }\n",
       "\n",
       "    .dataframe tbody tr th {\n",
       "        vertical-align: top;\n",
       "    }\n",
       "\n",
       "    .dataframe thead th {\n",
       "        text-align: right;\n",
       "    }\n",
       "</style>\n",
       "<table border=\"1\" class=\"dataframe\">\n",
       "  <thead>\n",
       "    <tr style=\"text-align: right;\">\n",
       "      <th></th>\n",
       "      <th>tfidf</th>\n",
       "    </tr>\n",
       "  </thead>\n",
       "  <tbody>\n",
       "    <tr>\n",
       "      <th>snakes</th>\n",
       "      <td>0.364650</td>\n",
       "    </tr>\n",
       "    <tr>\n",
       "      <th>world</th>\n",
       "      <td>0.222344</td>\n",
       "    </tr>\n",
       "    <tr>\n",
       "      <th>commonly</th>\n",
       "      <td>0.222344</td>\n",
       "    </tr>\n",
       "    <tr>\n",
       "      <th>simply</th>\n",
       "      <td>0.222344</td>\n",
       "    </tr>\n",
       "    <tr>\n",
       "      <th>recognized</th>\n",
       "      <td>0.222344</td>\n",
       "    </tr>\n",
       "    <tr>\n",
       "      <th>...</th>\n",
       "      <td>...</td>\n",
       "    </tr>\n",
       "    <tr>\n",
       "      <th>englund</th>\n",
       "      <td>0.000000</td>\n",
       "    </tr>\n",
       "    <tr>\n",
       "      <th>emphasizes</th>\n",
       "      <td>0.000000</td>\n",
       "    </tr>\n",
       "    <tr>\n",
       "      <th>elm</th>\n",
       "      <td>0.000000</td>\n",
       "    </tr>\n",
       "    <tr>\n",
       "      <th>discontinued</th>\n",
       "      <td>0.000000</td>\n",
       "    </tr>\n",
       "    <tr>\n",
       "      <th>πύθωνας</th>\n",
       "      <td>0.000000</td>\n",
       "    </tr>\n",
       "  </tbody>\n",
       "</table>\n",
       "<p>147 rows × 1 columns</p>\n",
       "</div>"
      ],
      "text/plain": [
       "                 tfidf\n",
       "snakes        0.364650\n",
       "world         0.222344\n",
       "commonly      0.222344\n",
       "simply        0.222344\n",
       "recognized    0.222344\n",
       "...                ...\n",
       "englund       0.000000\n",
       "emphasizes    0.000000\n",
       "elm           0.000000\n",
       "discontinued  0.000000\n",
       "πύθωνας       0.000000\n",
       "\n",
       "[147 rows x 1 columns]"
      ]
     },
     "execution_count": 85,
     "metadata": {},
     "output_type": "execute_result"
    }
   ],
   "source": [
    "feature_names = cv.get_feature_names_out() \n",
    "  \n",
    "# Print the scores \n",
    "df_test = pd.DataFrame(tf_idf_vector[5].T.todense(), index=feature_names, columns=[\"tfidf\"]) \n",
    "df_test.sort_values(by=[\"tfidf\"], ascending=False)"
   ]
  },
  {
   "cell_type": "markdown",
   "metadata": {
    "id": "s9qVYEm_ZFW2"
   },
   "source": [
    "What are the most distinctive words for document 3 (Highest TF-IDF scores?) Does it made sense given the document and corpus?"
   ]
  },
  {
   "cell_type": "markdown",
   "metadata": {
    "id": "Mq3QvXEcZFXS"
   },
   "source": [
    "<a id='reddit'></a>\n",
    "\n",
    "# Using TF-IDF on Reddit Datasets\n",
    "\n",
    "Now that we have a good grasp of how TF-IDF is calculated, let's perform this method on our Reddit data. This time, to save time, we will be using `scikit-learn`'s [`TfidfVectorizer`](https://scikit-learn.org/stable/modules/generated/sklearn.feature_extraction.text.TfidfVectorizer.html?highlight=tfidfvectorizer#sklearn.feature_extraction.text.TfidfVectorizer). It is a class that basically allows us to create a matrix of word counts (what we just did with `CountVectorizer`), and immediately transform them into TF-IDF values.\n",
    "\n",
    "We simply instantiate an object of the `TfidfVectorizer`. Then, we run it by applying the `fit_transform()` method to our corpus.\n",
    "\n",
    "Note that we are setting `max_features` to 1000. This means we will only create tf-idf values for the top-1000 most-frequent terms in our corpus. In other words, our vocabulary will be 1000 in length.\n",
    "\n",
    "💭 **Reflection**: Think about why getting rid of infrequent terms could be helpful, and what the potential risks could be."
   ]
  },
  {
   "cell_type": "code",
   "execution_count": 88,
   "metadata": {
    "id": "1vRKbLpDZFXY"
   },
   "outputs": [],
   "source": [
    "from sklearn.feature_extraction.text import TfidfVectorizer\n",
    "\n",
    "# Settings that you use for count vectorizer will go here\n",
    "tfidf_vectorizer = TfidfVectorizer(max_df=0.85,\n",
    "                                   max_features=1000,\n",
    "                                   decode_error='ignore',\n",
    "                                   stop_words='english',\n",
    "                                   smooth_idf=True,\n",
    "                                   use_idf=True)\n",
    "\n",
    "\n",
    "# Fit and transform the texts\n",
    "tfidf = tfidf_vectorizer.fit_transform(df['pp_text'])\n"
   ]
  },
  {
   "cell_type": "markdown",
   "metadata": {},
   "source": [
    "The `tfidf` object we created is a so-called **sparse matrix**. We will first need to convert this into something we can read and make use of."
   ]
  },
  {
   "cell_type": "code",
   "execution_count": 89,
   "metadata": {},
   "outputs": [
    {
     "data": {
      "text/plain": [
       "<16309x1000 sparse matrix of type '<class 'numpy.float64'>'\n",
       "\twith 1170547 stored elements in Compressed Sparse Row format>"
      ]
     },
     "execution_count": 89,
     "metadata": {},
     "output_type": "execute_result"
    }
   ],
   "source": [
    "# \"sparse matrix\"\n",
    "tfidf"
   ]
  },
  {
   "cell_type": "markdown",
   "metadata": {},
   "source": [
    "We can put this sparse matrix into a DataFrame. We first convert `tfidf` into a **dense matrix** using the `todense()` method, then pipe that into a `pd.DataFrame` method. "
   ]
  },
  {
   "cell_type": "code",
   "execution_count": 90,
   "metadata": {
    "colab": {
     "base_uri": "https://localhost:8080/",
     "height": 1000
    },
    "executionInfo": {
     "elapsed": 211,
     "status": "ok",
     "timestamp": 1639778604305,
     "user": {
      "displayName": "Tom van Nuenen",
      "photoUrl": "https://lh3.googleusercontent.com/a-/AOh14GhuBmxDvW5I_LJfZtwlPqMFD8QGLVPP3skvpkTnuQ=s64",
      "userId": "10012302451096885058"
     },
     "user_tz": -60
    },
    "id": "cghW5hxxZ8Ec",
    "outputId": "d6b9cf01-37c7-4fc1-dc6d-3c8aff1a6e16"
   },
   "outputs": [],
   "source": [
    "# Place TF-IDF values in a DataFrame\n",
    "tfidf_df = pd.DataFrame(tfidf.todense(), columns=tfidf_vectorizer.get_feature_names_out().ravel())"
   ]
  },
  {
   "cell_type": "markdown",
   "metadata": {},
   "source": [
    "Let's have a look:"
   ]
  },
  {
   "cell_type": "code",
   "execution_count": 91,
   "metadata": {},
   "outputs": [
    {
     "data": {
      "text/html": [
       "<div>\n",
       "<style scoped>\n",
       "    .dataframe tbody tr th:only-of-type {\n",
       "        vertical-align: middle;\n",
       "    }\n",
       "\n",
       "    .dataframe tbody tr th {\n",
       "        vertical-align: top;\n",
       "    }\n",
       "\n",
       "    .dataframe thead th {\n",
       "        text-align: right;\n",
       "    }\n",
       "</style>\n",
       "<table border=\"1\" class=\"dataframe\">\n",
       "  <thead>\n",
       "    <tr style=\"text-align: right;\">\n",
       "      <th></th>\n",
       "      <th>000</th>\n",
       "      <th>50</th>\n",
       "      <th>able</th>\n",
       "      <th>absolutely</th>\n",
       "      <th>accept</th>\n",
       "      <th>accepted</th>\n",
       "      <th>accident</th>\n",
       "      <th>account</th>\n",
       "      <th>accused</th>\n",
       "      <th>act</th>\n",
       "      <th>...</th>\n",
       "      <th>year</th>\n",
       "      <th>year_old</th>\n",
       "      <th>years</th>\n",
       "      <th>yelled</th>\n",
       "      <th>yelling</th>\n",
       "      <th>yes</th>\n",
       "      <th>yesterday</th>\n",
       "      <th>young</th>\n",
       "      <th>younger</th>\n",
       "      <th>youngest</th>\n",
       "    </tr>\n",
       "  </thead>\n",
       "  <tbody>\n",
       "    <tr>\n",
       "      <th>0</th>\n",
       "      <td>0.0</td>\n",
       "      <td>0.0</td>\n",
       "      <td>0.0</td>\n",
       "      <td>0.000000</td>\n",
       "      <td>0.0</td>\n",
       "      <td>0.0</td>\n",
       "      <td>0.0</td>\n",
       "      <td>0.0</td>\n",
       "      <td>0.0</td>\n",
       "      <td>0.0</td>\n",
       "      <td>...</td>\n",
       "      <td>0.033219</td>\n",
       "      <td>0.091352</td>\n",
       "      <td>0.055321</td>\n",
       "      <td>0.0</td>\n",
       "      <td>0.0</td>\n",
       "      <td>0.092689</td>\n",
       "      <td>0.000000</td>\n",
       "      <td>0.000000</td>\n",
       "      <td>0.0</td>\n",
       "      <td>0.000000</td>\n",
       "    </tr>\n",
       "    <tr>\n",
       "      <th>1</th>\n",
       "      <td>0.0</td>\n",
       "      <td>0.0</td>\n",
       "      <td>0.0</td>\n",
       "      <td>0.093159</td>\n",
       "      <td>0.0</td>\n",
       "      <td>0.0</td>\n",
       "      <td>0.0</td>\n",
       "      <td>0.0</td>\n",
       "      <td>0.0</td>\n",
       "      <td>0.0</td>\n",
       "      <td>...</td>\n",
       "      <td>0.000000</td>\n",
       "      <td>0.000000</td>\n",
       "      <td>0.051708</td>\n",
       "      <td>0.0</td>\n",
       "      <td>0.0</td>\n",
       "      <td>0.000000</td>\n",
       "      <td>0.000000</td>\n",
       "      <td>0.098837</td>\n",
       "      <td>0.0</td>\n",
       "      <td>0.121818</td>\n",
       "    </tr>\n",
       "    <tr>\n",
       "      <th>2</th>\n",
       "      <td>0.0</td>\n",
       "      <td>0.0</td>\n",
       "      <td>0.0</td>\n",
       "      <td>0.000000</td>\n",
       "      <td>0.0</td>\n",
       "      <td>0.0</td>\n",
       "      <td>0.0</td>\n",
       "      <td>0.0</td>\n",
       "      <td>0.0</td>\n",
       "      <td>0.0</td>\n",
       "      <td>...</td>\n",
       "      <td>0.000000</td>\n",
       "      <td>0.000000</td>\n",
       "      <td>0.000000</td>\n",
       "      <td>0.0</td>\n",
       "      <td>0.0</td>\n",
       "      <td>0.000000</td>\n",
       "      <td>0.000000</td>\n",
       "      <td>0.000000</td>\n",
       "      <td>0.0</td>\n",
       "      <td>0.000000</td>\n",
       "    </tr>\n",
       "    <tr>\n",
       "      <th>3</th>\n",
       "      <td>0.0</td>\n",
       "      <td>0.0</td>\n",
       "      <td>0.0</td>\n",
       "      <td>0.000000</td>\n",
       "      <td>0.0</td>\n",
       "      <td>0.0</td>\n",
       "      <td>0.0</td>\n",
       "      <td>0.0</td>\n",
       "      <td>0.0</td>\n",
       "      <td>0.0</td>\n",
       "      <td>...</td>\n",
       "      <td>0.000000</td>\n",
       "      <td>0.000000</td>\n",
       "      <td>0.000000</td>\n",
       "      <td>0.0</td>\n",
       "      <td>0.0</td>\n",
       "      <td>0.000000</td>\n",
       "      <td>0.126057</td>\n",
       "      <td>0.000000</td>\n",
       "      <td>0.0</td>\n",
       "      <td>0.000000</td>\n",
       "    </tr>\n",
       "    <tr>\n",
       "      <th>4</th>\n",
       "      <td>0.0</td>\n",
       "      <td>0.0</td>\n",
       "      <td>0.0</td>\n",
       "      <td>0.000000</td>\n",
       "      <td>0.0</td>\n",
       "      <td>0.0</td>\n",
       "      <td>0.0</td>\n",
       "      <td>0.0</td>\n",
       "      <td>0.0</td>\n",
       "      <td>0.0</td>\n",
       "      <td>...</td>\n",
       "      <td>0.172328</td>\n",
       "      <td>0.000000</td>\n",
       "      <td>0.143494</td>\n",
       "      <td>0.0</td>\n",
       "      <td>0.0</td>\n",
       "      <td>0.000000</td>\n",
       "      <td>0.000000</td>\n",
       "      <td>0.000000</td>\n",
       "      <td>0.0</td>\n",
       "      <td>0.000000</td>\n",
       "    </tr>\n",
       "  </tbody>\n",
       "</table>\n",
       "<p>5 rows × 1000 columns</p>\n",
       "</div>"
      ],
      "text/plain": [
       "   000   50  able  absolutely  accept  accepted  accident  account  accused  \\\n",
       "0  0.0  0.0   0.0    0.000000     0.0       0.0       0.0      0.0      0.0   \n",
       "1  0.0  0.0   0.0    0.093159     0.0       0.0       0.0      0.0      0.0   \n",
       "2  0.0  0.0   0.0    0.000000     0.0       0.0       0.0      0.0      0.0   \n",
       "3  0.0  0.0   0.0    0.000000     0.0       0.0       0.0      0.0      0.0   \n",
       "4  0.0  0.0   0.0    0.000000     0.0       0.0       0.0      0.0      0.0   \n",
       "\n",
       "   act  ...      year  year_old     years  yelled  yelling       yes  \\\n",
       "0  0.0  ...  0.033219  0.091352  0.055321     0.0      0.0  0.092689   \n",
       "1  0.0  ...  0.000000  0.000000  0.051708     0.0      0.0  0.000000   \n",
       "2  0.0  ...  0.000000  0.000000  0.000000     0.0      0.0  0.000000   \n",
       "3  0.0  ...  0.000000  0.000000  0.000000     0.0      0.0  0.000000   \n",
       "4  0.0  ...  0.172328  0.000000  0.143494     0.0      0.0  0.000000   \n",
       "\n",
       "   yesterday     young  younger  youngest  \n",
       "0   0.000000  0.000000      0.0  0.000000  \n",
       "1   0.000000  0.098837      0.0  0.121818  \n",
       "2   0.000000  0.000000      0.0  0.000000  \n",
       "3   0.126057  0.000000      0.0  0.000000  \n",
       "4   0.000000  0.000000      0.0  0.000000  \n",
       "\n",
       "[5 rows x 1000 columns]"
      ]
     },
     "execution_count": 91,
     "metadata": {},
     "output_type": "execute_result"
    }
   ],
   "source": [
    "tfidf_df.head()"
   ]
  },
  {
   "cell_type": "markdown",
   "metadata": {},
   "source": [
    "Note that this `tfidf_idf` is a lot like a Document-Term Matrix, except with TF-IDF counts! The columns represent every term in our 1000-word vocabulary. The rows represent documents in which these words appear. \n",
    "\n",
    "Note that most values are 0. This is because most words in our vocabulary actually don't show up in most documents.\n",
    "\n",
    "We can retrieve the highest TF-IDF values across documents in this DataFrame by just summing all TF-IDF values, and then calling `.sort_values()` on our DataFrame."
   ]
  },
  {
   "cell_type": "code",
   "execution_count": 92,
   "metadata": {},
   "outputs": [
    {
     "data": {
      "text/plain": [
       "said             900.467902\n",
       "told             838.143205\n",
       "like             745.433120\n",
       "wife             634.859104\n",
       "got              584.786955\n",
       "                    ...    \n",
       "tomorrow          41.025046\n",
       "jack              41.005889\n",
       "lawyer            40.974490\n",
       "understanding     40.879688\n",
       "anna              38.388930\n",
       "Length: 1000, dtype: float64"
      ]
     },
     "execution_count": 92,
     "metadata": {},
     "output_type": "execute_result"
    }
   ],
   "source": [
    "# Highest TF-IDF values across documents\n",
    "tfidf_df.sum().sort_values(ascending=False)"
   ]
  },
  {
   "cell_type": "markdown",
   "metadata": {
    "id": "_YoFv8pXZFXa"
   },
   "source": [
    "<a id='similar'></a>\n",
    "\n",
    "## Using TF-IDF to Find Similar Posts"
   ]
  },
  {
   "cell_type": "markdown",
   "metadata": {
    "id": "qjvztHrBZFXb"
   },
   "source": [
    "We can use TF-IDF to work out the similarity between any pair of documents. So given one post or comment, we could see which posts or comments are most similar. This can be useful if you're trying to find other examples of a pattern you have found and want to explore further.\n",
    "\n",
    "We'll use the TF-IDF vectorized output from the previous section. Let's choose a particular document, and try and find similar documents."
   ]
  },
  {
   "cell_type": "code",
   "execution_count": 93,
   "metadata": {},
   "outputs": [],
   "source": [
    "doc_idx = 25"
   ]
  },
  {
   "cell_type": "code",
   "execution_count": 94,
   "metadata": {},
   "outputs": [
    {
     "data": {
      "text/plain": [
       "'It\\'s 6PM on a Friday, store has hundreds of people, there are only 3 registers open and lines are ridiculously long. The self checkout has a line that wraps but its the fastest moving line so we wait about 15 minutes in line to check ourselves out.\\n\\nAfter we check out, a line is forming to exit the building because everyone is waiting for the walmart receipt checker to glance at their receipt.\\n\\nI\\'m already frustrated because of the wait so I skip the line, and the checker anxiously tries to get my attention and loudly says \"SIR I NEED TO CHECK YOUR RECEIPT!\", I respond with a loud(because its loud in the store) \"NO THANK YOU\", and walk out of the building.  People start following my example.\\n\\nThus ensues a 15 minute fight in the car with the wife because she feels I made a scene.\\n\\nEDIT: Well this turned out well.'"
      ]
     },
     "execution_count": 94,
     "metadata": {},
     "output_type": "execute_result"
    }
   ],
   "source": [
    "df['selftext'].iloc[doc_idx]"
   ]
  },
  {
   "cell_type": "markdown",
   "metadata": {},
   "source": [
    "🔔 **Question:** What is this post about?"
   ]
  },
  {
   "cell_type": "markdown",
   "metadata": {
    "id": "O6l6lqgF4B0L"
   },
   "source": [
    "Let's have a quick look at the TF-IDF scores for the words in this submission to see if these words are indeed typical for this particular submission. "
   ]
  },
  {
   "cell_type": "code",
   "execution_count": 95,
   "metadata": {
    "colab": {
     "base_uri": "https://localhost:8080/",
     "height": 417
    },
    "executionInfo": {
     "elapsed": 200,
     "status": "ok",
     "timestamp": 1639779140786,
     "user": {
      "displayName": "Tom van Nuenen",
      "photoUrl": "https://lh3.googleusercontent.com/a-/AOh14GhuBmxDvW5I_LJfZtwlPqMFD8QGLVPP3skvpkTnuQ=s64",
      "userId": "10012302451096885058"
     },
     "user_tz": -60
    },
    "id": "rpOde4Sr4AzJ",
    "outputId": "8beb14d4-9dab-4266-8f69-4a9ca73259cc"
   },
   "outputs": [
    {
     "data": {
      "text/plain": [
       "line        0.613340\n",
       "check       0.357541\n",
       "loud        0.274531\n",
       "store       0.262149\n",
       "wait        0.234665\n",
       "              ...   \n",
       "friendly    0.000000\n",
       "friends     0.000000\n",
       "fuck        0.000000\n",
       "fucking     0.000000\n",
       "youngest    0.000000\n",
       "Name: 25, Length: 1000, dtype: float64"
      ]
     },
     "execution_count": 95,
     "metadata": {},
     "output_type": "execute_result"
    }
   ],
   "source": [
    "tfidf_df.loc[doc_idx].sort_values(ascending=False)"
   ]
  },
  {
   "cell_type": "markdown",
   "metadata": {},
   "source": [
    "🔔 **Question:** Do the distinctive words have to do with the topic of the post?"
   ]
  },
  {
   "cell_type": "markdown",
   "metadata": {
    "id": "kiTzCg4xZFXi"
   },
   "source": [
    "## Calculating similarity \n",
    "\n",
    "Now let's find the closest posts to this one. The fact that our documents are now in a vector space allows us to make use of mathematical similarity metrics.\n",
    "\n",
    "**Cosine similarity** is one metric used to measure how similar the documents are irrespective of their size. Mathematically, it measures the cosine of the angle between two vectors projected in a multi-dimensional space. It is equal to 1 if the documents are the same, and decreases to 0 the more dissimilar they are.\n",
    "\n",
    "We can use a cosine similarity function from `sklearn` to calculate the cosine similarity between each pair of documents:"
   ]
  },
  {
   "cell_type": "code",
   "execution_count": 96,
   "metadata": {
    "id": "Rbfy9VoCEiPc"
   },
   "outputs": [
    {
     "data": {
      "text/plain": [
       "(16309, 16309)"
      ]
     },
     "execution_count": 96,
     "metadata": {},
     "output_type": "execute_result"
    }
   ],
   "source": [
    "from sklearn.metrics.pairwise import cosine_similarity\n",
    "similarities = cosine_similarity(tfidf)\n",
    "similarities.shape"
   ]
  },
  {
   "cell_type": "markdown",
   "metadata": {},
   "source": [
    "We can put the text and scores in a dataframe, and sort by the score:"
   ]
  },
  {
   "cell_type": "code",
   "execution_count": 97,
   "metadata": {},
   "outputs": [],
   "source": [
    "similar_df = pd.DataFrame({\n",
    "    'text': df['selftext'].values,\n",
    "    'score': similarities[doc_idx]}).sort_values('score', ascending=False)"
   ]
  },
  {
   "cell_type": "markdown",
   "metadata": {},
   "source": [
    "The top document will be the document itself (it's going to have a similarity of 1 with itself). So we look at the next document."
   ]
  },
  {
   "cell_type": "code",
   "execution_count": 98,
   "metadata": {
    "colab": {
     "base_uri": "https://localhost:8080/",
     "height": 157
    },
    "executionInfo": {
     "elapsed": 192,
     "status": "ok",
     "timestamp": 1639779186306,
     "user": {
      "displayName": "Tom van Nuenen",
      "photoUrl": "https://lh3.googleusercontent.com/a-/AOh14GhuBmxDvW5I_LJfZtwlPqMFD8QGLVPP3skvpkTnuQ=s64",
      "userId": "10012302451096885058"
     },
     "user_tz": -60
    },
    "id": "-dEbe-PoIizd",
    "outputId": "012bdd5a-c563-4a73-9806-9ee882836949"
   },
   "outputs": [
    {
     "data": {
      "text/plain": [
       "'It\\'s 6PM on a Friday, store has hundreds of people, there are only 3 registers open and lines are ridiculously long. The self checkout has a line that wraps but its the fastest moving line so we wait about 15 minutes in line to check ourselves out.\\n\\nAfter we check out, a line is forming to exit the building because everyone is waiting for the walmart receipt checker to glance at their receipt.\\n\\nI\\'m already frustrated because of the wait so I skip the line, and the checker anxiously tries to get my attention and loudly says \"SIR I NEED TO CHECK YOUR RECEIPT!\", I respond with a loud(because its loud in the store) \"NO THANK YOU\", and walk out of the building.  People start following my example.\\n\\nThus ensues a 15 minute fight in the car with the wife because she feels I made a scene.\\n\\nEDIT: Well this turned out well.'"
      ]
     },
     "execution_count": 98,
     "metadata": {},
     "output_type": "execute_result"
    }
   ],
   "source": [
    "similar_df['text'].iloc[0]"
   ]
  },
  {
   "cell_type": "code",
   "execution_count": 99,
   "metadata": {},
   "outputs": [
    {
     "data": {
      "text/plain": [
       "'I was in the TSA Precheck line where people are generally cognizant of the regulations. Unfortunately, a woman with her 3 children somehow ended up in this line. I have no patience for people who hold up the TSA screening line. This woman had to fish out all her feeding bottles from her 3 or 4 poorly organized bags and empty them before putting her belongings through security screening. As a result, she held up the security line for a long time. I finally had it and told her she should have been aware of the rules about liquids before getting in line and should have prepared for security screening before getting in line. I suggested that she step aside and let other travelers through and my suggestion was met with a few cheers. \\n\\nShe seemed really embarrassed but didn’t apologize at all. After I passed the screen I mentioned to the TSA agent he should manage the queue better. When a traveler was holding up the line he needed to step in, and he failed. He apologized and I moved on. I don’t think I’m the ass but my co-worker mentioned I could have shown some compassion for the woman who was clearly struggling and clueless.'"
      ]
     },
     "execution_count": 99,
     "metadata": {},
     "output_type": "execute_result"
    }
   ],
   "source": [
    "similar_df['text'].iloc[1]"
   ]
  },
  {
   "cell_type": "markdown",
   "metadata": {},
   "source": [
    "💭 **Reflection**: Think about why this document seems similar, in terms of TF-IDF scores, to the one we pulled out first. Do you agree with this calculation of similarity? \n"
   ]
  },
  {
   "cell_type": "markdown",
   "metadata": {
    "tags": []
   },
   "source": [
    "## Using TF-IDF to Find Posts\n",
    "\n",
    "TF-IDF has been used in search algorithms. This makes sense: after all, it can tell you which words are uncommonly frequent in some text. In this sense, TF-IDF can act as a keyword or topic identifier.\n",
    "\n",
    "For instance, if we would want to look for a text in our DF that has a high TF-IDF score for the word \"husband\", we could create a **boolean mask** of our `tfidf_df`. Below, we only select those rows where the column \"husband\" has a TF-IDF score higher than `.5`. We can then use that mask to subset our original `df`! This is because the rows in both DataFrames refer to the same thing: our Reddit posts."
   ]
  },
  {
   "cell_type": "code",
   "execution_count": 100,
   "metadata": {
    "tags": []
   },
   "outputs": [
    {
     "data": {
      "text/html": [
       "<div>\n",
       "<style scoped>\n",
       "    .dataframe tbody tr th:only-of-type {\n",
       "        vertical-align: middle;\n",
       "    }\n",
       "\n",
       "    .dataframe tbody tr th {\n",
       "        vertical-align: top;\n",
       "    }\n",
       "\n",
       "    .dataframe thead th {\n",
       "        text-align: right;\n",
       "    }\n",
       "</style>\n",
       "<table border=\"1\" class=\"dataframe\">\n",
       "  <thead>\n",
       "    <tr style=\"text-align: right;\">\n",
       "      <th></th>\n",
       "      <th>Unnamed: 0</th>\n",
       "      <th>idstr</th>\n",
       "      <th>created</th>\n",
       "      <th>author</th>\n",
       "      <th>title</th>\n",
       "      <th>selftext</th>\n",
       "      <th>score</th>\n",
       "      <th>num_comments</th>\n",
       "      <th>nsfw</th>\n",
       "      <th>flair_text</th>\n",
       "      <th>pp_text</th>\n",
       "    </tr>\n",
       "  </thead>\n",
       "  <tbody>\n",
       "    <tr>\n",
       "      <th>127</th>\n",
       "      <td>130</td>\n",
       "      <td>t3_ac4zea</td>\n",
       "      <td>2019-01-03 11:46:31</td>\n",
       "      <td>mmehex</td>\n",
       "      <td>AITA for not wanting my husband’s best friend ...</td>\n",
       "      <td>My husband and I just got into (another) fight...</td>\n",
       "      <td>9595.0</td>\n",
       "      <td>1272.0</td>\n",
       "      <td>0.0</td>\n",
       "      <td>Not the A-hole</td>\n",
       "      <td>husband got fight best_friend comes wednesday ...</td>\n",
       "    </tr>\n",
       "    <tr>\n",
       "      <th>3257</th>\n",
       "      <td>3672</td>\n",
       "      <td>t3_dwdbhc</td>\n",
       "      <td>2019-11-14 18:07:36</td>\n",
       "      <td>wifeindilemma87</td>\n",
       "      <td>WIBTA if lie to my husband about having a misc...</td>\n",
       "      <td>I 32(F) and my husband 41(M) have been togethe...</td>\n",
       "      <td>10507.0</td>\n",
       "      <td>729.0</td>\n",
       "      <td>1.0</td>\n",
       "      <td>Asshole</td>\n",
       "      <td>32(f husband 41(m years married months marriag...</td>\n",
       "    </tr>\n",
       "    <tr>\n",
       "      <th>3307</th>\n",
       "      <td>3729</td>\n",
       "      <td>t3_dy6ntg</td>\n",
       "      <td>2019-11-18 17:54:53</td>\n",
       "      <td>throwaway2340821</td>\n",
       "      <td>AITA for referring to my soon-to-be-ex husband...</td>\n",
       "      <td>To make this very short:\\n\\nMy husband and I a...</td>\n",
       "      <td>1584.0</td>\n",
       "      <td>533.0</td>\n",
       "      <td>0.0</td>\n",
       "      <td>NaN</td>\n",
       "      <td>short husband divorcing husband rampant infide...</td>\n",
       "    </tr>\n",
       "  </tbody>\n",
       "</table>\n",
       "</div>"
      ],
      "text/plain": [
       "      Unnamed: 0      idstr              created            author  \\\n",
       "127          130  t3_ac4zea  2019-01-03 11:46:31            mmehex   \n",
       "3257        3672  t3_dwdbhc  2019-11-14 18:07:36   wifeindilemma87   \n",
       "3307        3729  t3_dy6ntg  2019-11-18 17:54:53  throwaway2340821   \n",
       "\n",
       "                                                  title  \\\n",
       "127   AITA for not wanting my husband’s best friend ...   \n",
       "3257  WIBTA if lie to my husband about having a misc...   \n",
       "3307  AITA for referring to my soon-to-be-ex husband...   \n",
       "\n",
       "                                               selftext    score  \\\n",
       "127   My husband and I just got into (another) fight...   9595.0   \n",
       "3257  I 32(F) and my husband 41(M) have been togethe...  10507.0   \n",
       "3307  To make this very short:\\n\\nMy husband and I a...   1584.0   \n",
       "\n",
       "      num_comments  nsfw      flair_text  \\\n",
       "127         1272.0   0.0  Not the A-hole   \n",
       "3257         729.0   1.0         Asshole   \n",
       "3307         533.0   0.0             NaN   \n",
       "\n",
       "                                                pp_text  \n",
       "127   husband got fight best_friend comes wednesday ...  \n",
       "3257  32(f husband 41(m years married months marriag...  \n",
       "3307  short husband divorcing husband rampant infide...  "
      ]
     },
     "execution_count": 100,
     "metadata": {},
     "output_type": "execute_result"
    }
   ],
   "source": [
    "# Subsetting one DF with the mask of another DF\n",
    "tfidf_husband_df = df[tfidf_df['husband'] > .5]\n",
    "tfidf_husband_df.head(3)"
   ]
  },
  {
   "cell_type": "markdown",
   "metadata": {},
   "source": [
    "We can now get the \"selftext\" column from this new subsetted DataFrame, and then get the first post just to have a look:"
   ]
  },
  {
   "cell_type": "code",
   "execution_count": 101,
   "metadata": {},
   "outputs": [
    {
     "name": "stdout",
     "output_type": "stream",
     "text": [
      "My husband and I just got into (another) fight because his best friend who comes over every Wednesday is (again) staying the night. \n",
      "\n",
      "My husband and this friend have had a Wednesday night “date” where the guy comes over to our house to “jam” every week for the last two years, and I’m getting to the point that I want to hit the guy over the head with whatever is closest at hand every time he is around. \n",
      "\n",
      "Buckle up. This is probably going to be a long one.... if you make it through all of this you are my hero. \n",
      "\n",
      "At first he was supposed to come over just for a few hours on Wednesday nights to play guitar with my husband while I was at work. Over time I have stopped working late Wednesday’s but the jam session continues. Which was fine. However, for the last year they have barely touched the guitars and instead the guy just comes over to get high (on pot). Neither my husband or I get high with him (I don’t enjoy pot and my husband isn’t much into it either, but we aren’t morally against it so we didn’t say anything early on when we should have). \n",
      "\n",
      "Now that he is always high here, he NEVER leaves at the end of the night. Just expects to sleep over. But he doesn’t have a regular sleep schedule so instead of sleeping while we are, he is wandering around our house all night (in his boxers) making noises, watching tv, getting nonstop text alerts from other friends and ect. This always wakes me up and I have to pass by him on the way to the bathroom. At these points he always has demands. Like: “I want to watch this random movie your husband said you had. Find it for me.” Or “you need to change your litter box right now, because your cat just pooped and I can’t stand the smell.” He always says he’ll leave when my husband goes for work at 8am, but then complains that he couldn’t sleep until 6am, so he ends up sleeping until mid day. At which point he just decides to stay until my husband gets home from work and then the whole thing starts over again. What’s supposed to be one night a week often turns into at least two every week. \n",
      "\n",
      "On top of never leaving, he has started showing up HOURS before my husband gets off work on Wednesday’s. My husband has told him “my home is your home” so he just comes right in. This wouldn’t be a problem if he could self entertain. But no. He comes in and will just walk into our bedroom (where I’m hiding) sit down on the bed, take a hit of his shit, and start talking to me through whatever I’m doing/watching on tv. \n",
      "\n",
      "Every time he is here he eats A LOT of our food (gets the munchies, plus regular meals) but never once has had the courtesy to bring anything of his own, or to share, or to replace what he is eating here. He just goes into our fridge and pantry and eats whatever he wants because my husband told him our home was his. \n",
      "\n",
      "My husband is always begging me to be nice and not say anything while he is here because he is lonely and needs friends.... except he has his other best friend living with him, and is constantly going on weekend trips all over the country to visit his other friends.  Not to mention those nonstop text message alerts all night. \n",
      "\n",
      "Dealing with this guy is like hanging out with a 17 year old stoner non stop. He farts and burps as loud as possible wherever. Whenever. Is demanding and needy, but completely rude at the same time. Saying things like “dude! You actually made your house look SORTA nice this week.” (As I was prepping for Christmas), and “so you do sometimes make an effort on your looks” (when I had gone somewhere nice and come home with makeup on). He also complains non stop about the food I make (yet eats it all anyway). \n",
      "\n",
      "This year for my birthday we couldn’t afford to get any gifts, so I asked my husband instead to line up his days off so we could spend four days just us together...... then this guy broke up with his girlfriend and my husband begged me to let him come over just for a bit on the first evening. Que TWO full weeks of him not going home, and demanding all of my husband’s time. I spent “our time” and my birthday, holed up in our room alone. \n",
      "\n",
      "Then, Christmas comes. I had invited my whole family to our house and tried to make things extra special because it was the first time I got to see my parents on Christmas in more than ten years. This guy’s mom had just moved to another state BUT this guy has plenty of money and no job to work around so he could have easily made the trip to her for Christmas. But he didn’t. Then his other friend/housemate also went out of town and he threw a “woe is me, I’m all alone one Christmas Eve, no one loves me” tantrum until my husband invited him to our house. He shows up. Gets high. And is a complete ass to everyone. Then throws a fit when he decides to sleep over because he has to sleep on the couch in a sleeping bag (my family were in the other beds.) the next morning we sit down to breakfast and he lets out this HUGE stinky fart right at the table like it’s nothing, then proceeds to dish himself up 90% of the food and just generally be a douche. My family was flat out disgusted by him and his behavior and couldn’t wait to leave. He stayed for three days. \n",
      "\n",
      "I feel like an ass hole because he is my husband’s best friend and I don’t want to make them not hang out, and honestly he hasn’t done anything truly terrible. He’s just annoying as shit. I fucking dread every Wednesday, and then I’m super irritated the whole time he’s here. Which I hide from him, at my husband’s request, but then my husband and I always end up fighting over him not leaving at the end of the night. \n",
      "\n",
      "I’m honestly one or two Wednesday’s away from homicide with this guy, and all this I’ve told you is just the tip of the iceberg. \n",
      "\n",
      "If you’ve made it this far, please tell me AITA for being upset at my husband for letting this guy stay over again tonight, and wanting a substantial break from his best friend? \n",
      "\n",
      "\n",
      "\n",
      "TL;DR My husband’s best friend is a rude stoner who never leaves. AITA for not wanting him to come over for a LONG time? \n",
      "\n",
      "\n",
      "\n",
      "\n",
      "\n",
      "\n",
      "\n",
      "\n",
      "Thank you all for your overwhelming response!! I haven’t been able to reply to all of you, but I want you to know I’ve read every post and I appreciate all of your opinions (even the ones calling me a shrew) and your great advice! \n",
      "\n",
      "Some clarification and an update: In case you weren't already sick of reading all this >< \n",
      "\n",
      "\n",
      "Clarification 1: As some have pointed out, there isn’t much of an action here for me to ask AITA about. I’m sorry I didn’t make it clearer originally. The question is am I unreasonable and being an Ass Hole for wanting a break from having this friend over. My husband and I fought over this last night and he feels I’m being overly upset and needlessly irritable at said friend. You’ve already read how I feel about it. \n",
      "\n",
      "\n",
      "Clarification 2: This post, admittedly doesn't give much positive about the friend. His friend has been in my husband’s life since he was in grade school, and while the friend is over they do actively chat, watch movies, and generally hang out while I actively hide and feel irritated. All this stuff for sure could look like an exaggeration if it all happened in the last few days, but this is sorta my laundry list of the last two years of grievances which have been building up over time. On a regular Wednesday he is just stoned, flatulent, and childish, which while annoying, isn’t really actively douchy. He has done some very nice things for my husband, such as paying to take him to some very expensive concerts so that they could both nerd out over their favorite guitar players Live. I -clearly- don’t like the guy, but my husband gets a lot of enjoyment out of their friendship and I’m not saying that has to stop. Just that -I- need a break. Also, my husband DOES have other friends, they just have lives so he only gets to hang out once every few months with them. He is also in a band with other friends whom he sees regularly every Monday night. \n",
      "\n",
      "Clarification 3: My husband doesn’t see a problem with how he speaks to me because according to him “the guy just has poor social skills, that comment about your makeup was a compliment.”\n",
      "\n",
      "Clarification 4: He smokes a vape style pot pen, not a physical bud, which has less residual scent and is why my husband told him he could do it in the house. Before he started using I was ok with him. He still had poor manners, but he wasn’t nearly as bad as he is now, and he never spent the night (or longer). Back before the pot I even enjoyed hanging out with the two of them every so often. Oh and I KNOW my husband occasionally also imbibes with him, which isn’t something that makes me mad. He doesn’t go overboard like his friend. \n",
      "\n",
      "UPDATE: When I woke up this morning I noticed that my phone was buzzing…. And buzzing…. And buzzing…. As all these awesome comments kept pouring in. I have never really had much success on Reddit, so when I looked and saw how many comments there were I said “Oh My GoD!” Of course my husband asked what was wrong and I said “I told the internet the story of ***** and asked if I was the ass hole for what we fought over last night.” He said..”Oh” and that was it. BUT then on his way out of the bedroom he said “I’m going to get him up”, and by the time I was dressed and out of the room they guy was out of the house and driving away. Hallelujah!!! \n",
      "\n",
      "Forty minutes later when he got to work I received a text message telling me how I was his best friend and that he loves me more than the world ect. Then we texted back and forth and he said “I really feel like we both contribute to it. I feel like you are overly grumpy on things pertaining to *****. But at the same time, I invite him to come up extra days, or stay the night without running it by you. I feel we could both do better and relieve a lot of stress and frustration. Do you agree?”  \n",
      "\n",
      "He then called a few minutes later and I told him that I know I’m grumpy but I feel like it’s reasonably so. I also told him I didn’t want to force them not to be friends just that -I- needed a break from the friend. Then I gave him some possible solutions such as hanging out at his house every other week, or have a set time that the guy needs to stop smoking in order to drive home later (thanks guys! Great suggestions!) and he agreed to consider other arrangements with the hang out time so that I could have some time away from the friend, and we agreed to talk more about it when he is off work tonight. Although I can tell he STILL isn’t seeing a problem other than my attitude : / \n",
      "\n",
      "Again thank you to everyone who has commented! \n",
      "\n",
      "\n",
      "\n",
      "\n",
      "\n",
      "\n",
      "\n",
      "TL;DR My husband’s best friend is a rude stoner who never leaves. AITA for not wanting him to come over for a LONG time? \n",
      "\n"
     ]
    }
   ],
   "source": [
    "print(tfidf_husband_df['selftext'].iloc[0])"
   ]
  },
  {
   "cell_type": "markdown",
   "metadata": {},
   "source": [
    "## Using TF-IDF Correlations to Explore Biases\n",
    "\n",
    "Calculating correlations of TF-IDF values can be a useful technique to explore relationships between words or terms in a corpus. By analyzing the correlations, we can identify whether certain words tend to appear together more frequently or if they are related to similar topics. \n",
    "\n",
    "Pandas allows us to trace pairwise correlations in a DataFrame using the `corr()` method. Note that this creates a new DataFrame that is square and symmetric. Each element in the resulting DataFrame represents the correlation coefficient between all terms."
   ]
  },
  {
   "cell_type": "code",
   "execution_count": 102,
   "metadata": {
    "tags": []
   },
   "outputs": [],
   "source": [
    "corr = tfidf_df.corr()"
   ]
  },
  {
   "cell_type": "code",
   "execution_count": 103,
   "metadata": {},
   "outputs": [
    {
     "data": {
      "text/html": [
       "<div>\n",
       "<style scoped>\n",
       "    .dataframe tbody tr th:only-of-type {\n",
       "        vertical-align: middle;\n",
       "    }\n",
       "\n",
       "    .dataframe tbody tr th {\n",
       "        vertical-align: top;\n",
       "    }\n",
       "\n",
       "    .dataframe thead th {\n",
       "        text-align: right;\n",
       "    }\n",
       "</style>\n",
       "<table border=\"1\" class=\"dataframe\">\n",
       "  <thead>\n",
       "    <tr style=\"text-align: right;\">\n",
       "      <th></th>\n",
       "      <th>000</th>\n",
       "      <th>50</th>\n",
       "      <th>able</th>\n",
       "      <th>absolutely</th>\n",
       "      <th>accept</th>\n",
       "      <th>accepted</th>\n",
       "      <th>accident</th>\n",
       "      <th>account</th>\n",
       "      <th>accused</th>\n",
       "      <th>act</th>\n",
       "      <th>...</th>\n",
       "      <th>year</th>\n",
       "      <th>year_old</th>\n",
       "      <th>years</th>\n",
       "      <th>yelled</th>\n",
       "      <th>yelling</th>\n",
       "      <th>yes</th>\n",
       "      <th>yesterday</th>\n",
       "      <th>young</th>\n",
       "      <th>younger</th>\n",
       "      <th>youngest</th>\n",
       "    </tr>\n",
       "  </thead>\n",
       "  <tbody>\n",
       "    <tr>\n",
       "      <th>000</th>\n",
       "      <td>1.000000</td>\n",
       "      <td>0.014377</td>\n",
       "      <td>0.036283</td>\n",
       "      <td>0.000376</td>\n",
       "      <td>0.005287</td>\n",
       "      <td>0.008640</td>\n",
       "      <td>0.028046</td>\n",
       "      <td>0.027706</td>\n",
       "      <td>-0.003072</td>\n",
       "      <td>-0.008839</td>\n",
       "      <td>...</td>\n",
       "      <td>0.043077</td>\n",
       "      <td>-0.012642</td>\n",
       "      <td>0.043293</td>\n",
       "      <td>-0.009155</td>\n",
       "      <td>-0.017503</td>\n",
       "      <td>-0.017856</td>\n",
       "      <td>-0.009682</td>\n",
       "      <td>0.007532</td>\n",
       "      <td>-0.002259</td>\n",
       "      <td>-0.001395</td>\n",
       "    </tr>\n",
       "    <tr>\n",
       "      <th>50</th>\n",
       "      <td>0.014377</td>\n",
       "      <td>1.000000</td>\n",
       "      <td>0.016515</td>\n",
       "      <td>0.007029</td>\n",
       "      <td>-0.006558</td>\n",
       "      <td>-0.009143</td>\n",
       "      <td>-0.005214</td>\n",
       "      <td>0.011817</td>\n",
       "      <td>0.001421</td>\n",
       "      <td>-0.007654</td>\n",
       "      <td>...</td>\n",
       "      <td>0.015839</td>\n",
       "      <td>-0.007902</td>\n",
       "      <td>0.023961</td>\n",
       "      <td>-0.007048</td>\n",
       "      <td>-0.008024</td>\n",
       "      <td>-0.009555</td>\n",
       "      <td>-0.016231</td>\n",
       "      <td>-0.014519</td>\n",
       "      <td>-0.015548</td>\n",
       "      <td>-0.008701</td>\n",
       "    </tr>\n",
       "    <tr>\n",
       "      <th>able</th>\n",
       "      <td>0.036283</td>\n",
       "      <td>0.016515</td>\n",
       "      <td>1.000000</td>\n",
       "      <td>0.005589</td>\n",
       "      <td>0.013768</td>\n",
       "      <td>0.015388</td>\n",
       "      <td>0.006970</td>\n",
       "      <td>0.017831</td>\n",
       "      <td>0.002701</td>\n",
       "      <td>-0.004302</td>\n",
       "      <td>...</td>\n",
       "      <td>0.059214</td>\n",
       "      <td>0.001261</td>\n",
       "      <td>0.037120</td>\n",
       "      <td>-0.020362</td>\n",
       "      <td>-0.011760</td>\n",
       "      <td>-0.007174</td>\n",
       "      <td>-0.017189</td>\n",
       "      <td>-0.009784</td>\n",
       "      <td>0.005171</td>\n",
       "      <td>0.006512</td>\n",
       "    </tr>\n",
       "    <tr>\n",
       "      <th>absolutely</th>\n",
       "      <td>0.000376</td>\n",
       "      <td>0.007029</td>\n",
       "      <td>0.005589</td>\n",
       "      <td>1.000000</td>\n",
       "      <td>0.008503</td>\n",
       "      <td>-0.000656</td>\n",
       "      <td>0.001200</td>\n",
       "      <td>-0.009987</td>\n",
       "      <td>0.011931</td>\n",
       "      <td>0.008677</td>\n",
       "      <td>...</td>\n",
       "      <td>-0.004135</td>\n",
       "      <td>0.003631</td>\n",
       "      <td>0.017716</td>\n",
       "      <td>0.004389</td>\n",
       "      <td>0.000836</td>\n",
       "      <td>0.005901</td>\n",
       "      <td>0.001724</td>\n",
       "      <td>0.003441</td>\n",
       "      <td>-0.002589</td>\n",
       "      <td>-0.004397</td>\n",
       "    </tr>\n",
       "    <tr>\n",
       "      <th>accept</th>\n",
       "      <td>0.005287</td>\n",
       "      <td>-0.006558</td>\n",
       "      <td>0.013768</td>\n",
       "      <td>0.008503</td>\n",
       "      <td>1.000000</td>\n",
       "      <td>0.047502</td>\n",
       "      <td>-0.002640</td>\n",
       "      <td>0.004808</td>\n",
       "      <td>0.017821</td>\n",
       "      <td>-0.006461</td>\n",
       "      <td>...</td>\n",
       "      <td>0.018149</td>\n",
       "      <td>-0.000199</td>\n",
       "      <td>0.031134</td>\n",
       "      <td>0.000786</td>\n",
       "      <td>-0.010455</td>\n",
       "      <td>0.004086</td>\n",
       "      <td>-0.001204</td>\n",
       "      <td>0.004903</td>\n",
       "      <td>0.009866</td>\n",
       "      <td>0.013919</td>\n",
       "    </tr>\n",
       "    <tr>\n",
       "      <th>...</th>\n",
       "      <td>...</td>\n",
       "      <td>...</td>\n",
       "      <td>...</td>\n",
       "      <td>...</td>\n",
       "      <td>...</td>\n",
       "      <td>...</td>\n",
       "      <td>...</td>\n",
       "      <td>...</td>\n",
       "      <td>...</td>\n",
       "      <td>...</td>\n",
       "      <td>...</td>\n",
       "      <td>...</td>\n",
       "      <td>...</td>\n",
       "      <td>...</td>\n",
       "      <td>...</td>\n",
       "      <td>...</td>\n",
       "      <td>...</td>\n",
       "      <td>...</td>\n",
       "      <td>...</td>\n",
       "      <td>...</td>\n",
       "      <td>...</td>\n",
       "    </tr>\n",
       "    <tr>\n",
       "      <th>yes</th>\n",
       "      <td>-0.017856</td>\n",
       "      <td>-0.009555</td>\n",
       "      <td>-0.007174</td>\n",
       "      <td>0.005901</td>\n",
       "      <td>0.004086</td>\n",
       "      <td>-0.009371</td>\n",
       "      <td>-0.005082</td>\n",
       "      <td>-0.001674</td>\n",
       "      <td>0.005657</td>\n",
       "      <td>0.001783</td>\n",
       "      <td>...</td>\n",
       "      <td>-0.007610</td>\n",
       "      <td>-0.009654</td>\n",
       "      <td>-0.000416</td>\n",
       "      <td>-0.000528</td>\n",
       "      <td>0.005917</td>\n",
       "      <td>1.000000</td>\n",
       "      <td>0.015040</td>\n",
       "      <td>-0.011547</td>\n",
       "      <td>0.001677</td>\n",
       "      <td>0.002373</td>\n",
       "    </tr>\n",
       "    <tr>\n",
       "      <th>yesterday</th>\n",
       "      <td>-0.009682</td>\n",
       "      <td>-0.016231</td>\n",
       "      <td>-0.017189</td>\n",
       "      <td>0.001724</td>\n",
       "      <td>-0.001204</td>\n",
       "      <td>-0.002561</td>\n",
       "      <td>-0.001881</td>\n",
       "      <td>0.001003</td>\n",
       "      <td>-0.004654</td>\n",
       "      <td>0.018473</td>\n",
       "      <td>...</td>\n",
       "      <td>-0.030369</td>\n",
       "      <td>-0.007890</td>\n",
       "      <td>-0.045551</td>\n",
       "      <td>0.035033</td>\n",
       "      <td>0.020053</td>\n",
       "      <td>0.015040</td>\n",
       "      <td>1.000000</td>\n",
       "      <td>-0.013860</td>\n",
       "      <td>-0.013815</td>\n",
       "      <td>-0.010303</td>\n",
       "    </tr>\n",
       "    <tr>\n",
       "      <th>young</th>\n",
       "      <td>0.007532</td>\n",
       "      <td>-0.014519</td>\n",
       "      <td>-0.009784</td>\n",
       "      <td>0.003441</td>\n",
       "      <td>0.004903</td>\n",
       "      <td>0.011951</td>\n",
       "      <td>-0.007233</td>\n",
       "      <td>0.000459</td>\n",
       "      <td>-0.002775</td>\n",
       "      <td>0.007043</td>\n",
       "      <td>...</td>\n",
       "      <td>0.000166</td>\n",
       "      <td>0.038192</td>\n",
       "      <td>0.023275</td>\n",
       "      <td>-0.010103</td>\n",
       "      <td>-0.007983</td>\n",
       "      <td>-0.011547</td>\n",
       "      <td>-0.013860</td>\n",
       "      <td>1.000000</td>\n",
       "      <td>0.049490</td>\n",
       "      <td>0.027594</td>\n",
       "    </tr>\n",
       "    <tr>\n",
       "      <th>younger</th>\n",
       "      <td>-0.002259</td>\n",
       "      <td>-0.015548</td>\n",
       "      <td>0.005171</td>\n",
       "      <td>-0.002589</td>\n",
       "      <td>0.009866</td>\n",
       "      <td>0.031537</td>\n",
       "      <td>0.005604</td>\n",
       "      <td>-0.011977</td>\n",
       "      <td>0.025331</td>\n",
       "      <td>-0.006447</td>\n",
       "      <td>...</td>\n",
       "      <td>0.027075</td>\n",
       "      <td>0.033954</td>\n",
       "      <td>0.054361</td>\n",
       "      <td>0.002039</td>\n",
       "      <td>-0.005437</td>\n",
       "      <td>0.001677</td>\n",
       "      <td>-0.013815</td>\n",
       "      <td>0.049490</td>\n",
       "      <td>1.000000</td>\n",
       "      <td>0.070271</td>\n",
       "    </tr>\n",
       "    <tr>\n",
       "      <th>youngest</th>\n",
       "      <td>-0.001395</td>\n",
       "      <td>-0.008701</td>\n",
       "      <td>0.006512</td>\n",
       "      <td>-0.004397</td>\n",
       "      <td>0.013919</td>\n",
       "      <td>0.013125</td>\n",
       "      <td>-0.005262</td>\n",
       "      <td>-0.009432</td>\n",
       "      <td>0.017763</td>\n",
       "      <td>-0.008740</td>\n",
       "      <td>...</td>\n",
       "      <td>0.013942</td>\n",
       "      <td>0.036237</td>\n",
       "      <td>0.026599</td>\n",
       "      <td>0.001270</td>\n",
       "      <td>0.005411</td>\n",
       "      <td>0.002373</td>\n",
       "      <td>-0.010303</td>\n",
       "      <td>0.027594</td>\n",
       "      <td>0.070271</td>\n",
       "      <td>1.000000</td>\n",
       "    </tr>\n",
       "  </tbody>\n",
       "</table>\n",
       "<p>1000 rows × 1000 columns</p>\n",
       "</div>"
      ],
      "text/plain": [
       "                 000        50      able  absolutely    accept  accepted  \\\n",
       "000         1.000000  0.014377  0.036283    0.000376  0.005287  0.008640   \n",
       "50          0.014377  1.000000  0.016515    0.007029 -0.006558 -0.009143   \n",
       "able        0.036283  0.016515  1.000000    0.005589  0.013768  0.015388   \n",
       "absolutely  0.000376  0.007029  0.005589    1.000000  0.008503 -0.000656   \n",
       "accept      0.005287 -0.006558  0.013768    0.008503  1.000000  0.047502   \n",
       "...              ...       ...       ...         ...       ...       ...   \n",
       "yes        -0.017856 -0.009555 -0.007174    0.005901  0.004086 -0.009371   \n",
       "yesterday  -0.009682 -0.016231 -0.017189    0.001724 -0.001204 -0.002561   \n",
       "young       0.007532 -0.014519 -0.009784    0.003441  0.004903  0.011951   \n",
       "younger    -0.002259 -0.015548  0.005171   -0.002589  0.009866  0.031537   \n",
       "youngest   -0.001395 -0.008701  0.006512   -0.004397  0.013919  0.013125   \n",
       "\n",
       "            accident   account   accused       act  ...      year  year_old  \\\n",
       "000         0.028046  0.027706 -0.003072 -0.008839  ...  0.043077 -0.012642   \n",
       "50         -0.005214  0.011817  0.001421 -0.007654  ...  0.015839 -0.007902   \n",
       "able        0.006970  0.017831  0.002701 -0.004302  ...  0.059214  0.001261   \n",
       "absolutely  0.001200 -0.009987  0.011931  0.008677  ... -0.004135  0.003631   \n",
       "accept     -0.002640  0.004808  0.017821 -0.006461  ...  0.018149 -0.000199   \n",
       "...              ...       ...       ...       ...  ...       ...       ...   \n",
       "yes        -0.005082 -0.001674  0.005657  0.001783  ... -0.007610 -0.009654   \n",
       "yesterday  -0.001881  0.001003 -0.004654  0.018473  ... -0.030369 -0.007890   \n",
       "young      -0.007233  0.000459 -0.002775  0.007043  ...  0.000166  0.038192   \n",
       "younger     0.005604 -0.011977  0.025331 -0.006447  ...  0.027075  0.033954   \n",
       "youngest   -0.005262 -0.009432  0.017763 -0.008740  ...  0.013942  0.036237   \n",
       "\n",
       "               years    yelled   yelling       yes  yesterday     young  \\\n",
       "000         0.043293 -0.009155 -0.017503 -0.017856  -0.009682  0.007532   \n",
       "50          0.023961 -0.007048 -0.008024 -0.009555  -0.016231 -0.014519   \n",
       "able        0.037120 -0.020362 -0.011760 -0.007174  -0.017189 -0.009784   \n",
       "absolutely  0.017716  0.004389  0.000836  0.005901   0.001724  0.003441   \n",
       "accept      0.031134  0.000786 -0.010455  0.004086  -0.001204  0.004903   \n",
       "...              ...       ...       ...       ...        ...       ...   \n",
       "yes        -0.000416 -0.000528  0.005917  1.000000   0.015040 -0.011547   \n",
       "yesterday  -0.045551  0.035033  0.020053  0.015040   1.000000 -0.013860   \n",
       "young       0.023275 -0.010103 -0.007983 -0.011547  -0.013860  1.000000   \n",
       "younger     0.054361  0.002039 -0.005437  0.001677  -0.013815  0.049490   \n",
       "youngest    0.026599  0.001270  0.005411  0.002373  -0.010303  0.027594   \n",
       "\n",
       "             younger  youngest  \n",
       "000        -0.002259 -0.001395  \n",
       "50         -0.015548 -0.008701  \n",
       "able        0.005171  0.006512  \n",
       "absolutely -0.002589 -0.004397  \n",
       "accept      0.009866  0.013919  \n",
       "...              ...       ...  \n",
       "yes         0.001677  0.002373  \n",
       "yesterday  -0.013815 -0.010303  \n",
       "young       0.049490  0.027594  \n",
       "younger     1.000000  0.070271  \n",
       "youngest    0.070271  1.000000  \n",
       "\n",
       "[1000 rows x 1000 columns]"
      ]
     },
     "execution_count": 103,
     "metadata": {},
     "output_type": "execute_result"
    }
   ],
   "source": [
    "corr"
   ]
  },
  {
   "cell_type": "markdown",
   "metadata": {},
   "source": [
    "We can use this new DataFrame to compare two concepts in our data. We will look for the columns of \"husband\" and \"wife\" – two concepts we expect to appear in this dataset, and that we could imagine being related to gender bias. We then sort the values of the resulting DataFrame based on the \"wife\" columns in descending order, and print the first 20 values. \n",
    "\n",
    "These will be the top-20 words that are most strongly correlated to the term \"wife\". "
   ]
  },
  {
   "cell_type": "code",
   "execution_count": 104,
   "metadata": {},
   "outputs": [
    {
     "data": {
      "text/html": [
       "<div>\n",
       "<style scoped>\n",
       "    .dataframe tbody tr th:only-of-type {\n",
       "        vertical-align: middle;\n",
       "    }\n",
       "\n",
       "    .dataframe tbody tr th {\n",
       "        vertical-align: top;\n",
       "    }\n",
       "\n",
       "    .dataframe thead th {\n",
       "        text-align: right;\n",
       "    }\n",
       "</style>\n",
       "<table border=\"1\" class=\"dataframe\">\n",
       "  <thead>\n",
       "    <tr style=\"text-align: right;\">\n",
       "      <th></th>\n",
       "      <th>husband</th>\n",
       "      <th>wife</th>\n",
       "    </tr>\n",
       "  </thead>\n",
       "  <tbody>\n",
       "    <tr>\n",
       "      <th>husband</th>\n",
       "      <td>1.000000</td>\n",
       "      <td>-0.079171</td>\n",
       "    </tr>\n",
       "    <tr>\n",
       "      <th>mil</th>\n",
       "      <td>0.174490</td>\n",
       "      <td>0.025464</td>\n",
       "    </tr>\n",
       "    <tr>\n",
       "      <th>married</th>\n",
       "      <td>0.137605</td>\n",
       "      <td>0.107432</td>\n",
       "    </tr>\n",
       "    <tr>\n",
       "      <th>son</th>\n",
       "      <td>0.117042</td>\n",
       "      <td>0.091930</td>\n",
       "    </tr>\n",
       "    <tr>\n",
       "      <th>baby</th>\n",
       "      <td>0.107849</td>\n",
       "      <td>0.024711</td>\n",
       "    </tr>\n",
       "    <tr>\n",
       "      <th>kids</th>\n",
       "      <td>0.101789</td>\n",
       "      <td>0.070056</td>\n",
       "    </tr>\n",
       "    <tr>\n",
       "      <th>sil</th>\n",
       "      <td>0.095831</td>\n",
       "      <td>0.028513</td>\n",
       "    </tr>\n",
       "    <tr>\n",
       "      <th>laws</th>\n",
       "      <td>0.093360</td>\n",
       "      <td>0.052908</td>\n",
       "    </tr>\n",
       "    <tr>\n",
       "      <th>children</th>\n",
       "      <td>0.091397</td>\n",
       "      <td>0.052083</td>\n",
       "    </tr>\n",
       "    <tr>\n",
       "      <th>bil</th>\n",
       "      <td>0.091038</td>\n",
       "      <td>0.017188</td>\n",
       "    </tr>\n",
       "    <tr>\n",
       "      <th>family</th>\n",
       "      <td>0.087275</td>\n",
       "      <td>0.037831</td>\n",
       "    </tr>\n",
       "    <tr>\n",
       "      <th>marriage</th>\n",
       "      <td>0.077432</td>\n",
       "      <td>0.064131</td>\n",
       "    </tr>\n",
       "    <tr>\n",
       "      <th>law</th>\n",
       "      <td>0.075641</td>\n",
       "      <td>0.035940</td>\n",
       "    </tr>\n",
       "    <tr>\n",
       "      <th>pregnant</th>\n",
       "      <td>0.074010</td>\n",
       "      <td>0.039266</td>\n",
       "    </tr>\n",
       "    <tr>\n",
       "      <th>daughter</th>\n",
       "      <td>0.070485</td>\n",
       "      <td>0.171271</td>\n",
       "    </tr>\n",
       "    <tr>\n",
       "      <th>home</th>\n",
       "      <td>0.060506</td>\n",
       "      <td>0.060560</td>\n",
       "    </tr>\n",
       "    <tr>\n",
       "      <th>stay</th>\n",
       "      <td>0.059804</td>\n",
       "      <td>0.029336</td>\n",
       "    </tr>\n",
       "    <tr>\n",
       "      <th>year_old</th>\n",
       "      <td>0.059664</td>\n",
       "      <td>0.055950</td>\n",
       "    </tr>\n",
       "    <tr>\n",
       "      <th>child</th>\n",
       "      <td>0.057299</td>\n",
       "      <td>0.032675</td>\n",
       "    </tr>\n",
       "    <tr>\n",
       "      <th>pregnancy</th>\n",
       "      <td>0.057163</td>\n",
       "      <td>0.038546</td>\n",
       "    </tr>\n",
       "    <tr>\n",
       "      <th>daughters</th>\n",
       "      <td>0.053316</td>\n",
       "      <td>0.089456</td>\n",
       "    </tr>\n",
       "    <tr>\n",
       "      <th>years</th>\n",
       "      <td>0.051517</td>\n",
       "      <td>0.054446</td>\n",
       "    </tr>\n",
       "    <tr>\n",
       "      <th>thinks</th>\n",
       "      <td>0.050658</td>\n",
       "      <td>0.026384</td>\n",
       "    </tr>\n",
       "    <tr>\n",
       "      <th>passed_away</th>\n",
       "      <td>0.048678</td>\n",
       "      <td>0.024594</td>\n",
       "    </tr>\n",
       "    <tr>\n",
       "      <th>house</th>\n",
       "      <td>0.046874</td>\n",
       "      <td>0.027641</td>\n",
       "    </tr>\n",
       "    <tr>\n",
       "      <th>divorce</th>\n",
       "      <td>0.044476</td>\n",
       "      <td>0.073727</td>\n",
       "    </tr>\n",
       "    <tr>\n",
       "      <th>love</th>\n",
       "      <td>0.040483</td>\n",
       "      <td>0.019327</td>\n",
       "    </tr>\n",
       "    <tr>\n",
       "      <th>birth</th>\n",
       "      <td>0.039189</td>\n",
       "      <td>0.026998</td>\n",
       "    </tr>\n",
       "    <tr>\n",
       "      <th>agreed</th>\n",
       "      <td>0.038962</td>\n",
       "      <td>0.025109</td>\n",
       "    </tr>\n",
       "    <tr>\n",
       "      <th>christmas</th>\n",
       "      <td>0.038603</td>\n",
       "      <td>0.014401</td>\n",
       "    </tr>\n",
       "  </tbody>\n",
       "</table>\n",
       "</div>"
      ],
      "text/plain": [
       "              husband      wife\n",
       "husband      1.000000 -0.079171\n",
       "mil          0.174490  0.025464\n",
       "married      0.137605  0.107432\n",
       "son          0.117042  0.091930\n",
       "baby         0.107849  0.024711\n",
       "kids         0.101789  0.070056\n",
       "sil          0.095831  0.028513\n",
       "laws         0.093360  0.052908\n",
       "children     0.091397  0.052083\n",
       "bil          0.091038  0.017188\n",
       "family       0.087275  0.037831\n",
       "marriage     0.077432  0.064131\n",
       "law          0.075641  0.035940\n",
       "pregnant     0.074010  0.039266\n",
       "daughter     0.070485  0.171271\n",
       "home         0.060506  0.060560\n",
       "stay         0.059804  0.029336\n",
       "year_old     0.059664  0.055950\n",
       "child        0.057299  0.032675\n",
       "pregnancy    0.057163  0.038546\n",
       "daughters    0.053316  0.089456\n",
       "years        0.051517  0.054446\n",
       "thinks       0.050658  0.026384\n",
       "passed_away  0.048678  0.024594\n",
       "house        0.046874  0.027641\n",
       "divorce      0.044476  0.073727\n",
       "love         0.040483  0.019327\n",
       "birth        0.039189  0.026998\n",
       "agreed       0.038962  0.025109\n",
       "christmas    0.038603  0.014401"
      ]
     },
     "execution_count": 104,
     "metadata": {},
     "output_type": "execute_result"
    }
   ],
   "source": [
    "corr[['husband','wife']].sort_values(by='husband',ascending=False)[:30]"
   ]
  },
  {
   "cell_type": "markdown",
   "metadata": {},
   "source": [
    "## 💭 Reflection: \n",
    "\n",
    "- Do these related terms make sense? \n",
    "- Do you see some terms that could be indicative of a bias towards women in the data? \n",
    "- What happens if you change the `by=` sortation to `men`? What words appear now, and how do they make sense?"
   ]
  },
  {
   "cell_type": "markdown",
   "metadata": {
    "jp-MarkdownHeadingCollapsed": true,
    "tags": []
   },
   "source": [
    "<div class=\"alert alert-success\">\n",
    "\n",
    "## ❗ Key Points\n",
    "\n",
    "* Term Frequency, or TF, reflects how often a unique token appears in a corpus.\n",
    "* Inverse Document Frequency (IDF) reflects the number of documents in the corpus that contain a term. \n",
    "* The TF-IDF score of a word reflects how important that word is to a document in a collection or corpus.\n",
    "* Methods from `scikit-learn` can be used to generate TF and TF-IDF scores for a given corpus.\n",
    "* TF-IDF scores can be used to calculate how similar documents are. We can do this with mathematical similarity metrics, such as cosine similarity.\n",
    "    \n",
    "</div>"
   ]
  }
 ],
 "metadata": {
  "colab": {
   "collapsed_sections": [],
   "name": "Week 2 Distant Reading.ipynb",
   "provenance": []
  },
  "kernelspec": {
   "display_name": "dlab",
   "language": "python",
   "name": "dlab"
  },
  "language_info": {
   "codemirror_mode": {
    "name": "ipython",
    "version": 3
   },
   "file_extension": ".py",
   "mimetype": "text/x-python",
   "name": "python",
   "nbconvert_exporter": "python",
   "pygments_lexer": "ipython3",
   "version": "3.10.10"
  }
 },
 "nbformat": 4,
 "nbformat_minor": 4
}
