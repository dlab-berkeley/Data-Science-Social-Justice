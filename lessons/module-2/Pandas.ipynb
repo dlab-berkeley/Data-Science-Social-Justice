{
 "cells": [
  {
   "cell_type": "markdown",
   "metadata": {
    "tags": []
   },
   "source": [
    "# Python Fundamentals: Introduction to Pandas\n",
    "\n",
    "* * * \n",
    "\n",
    "<div class=\"alert alert-success\">  \n",
    "    \n",
    "### Learning Objectives \n",
    "    \n",
    "* Load .csv files into a Pandas `DataFrame`.\n",
    "* Understand that Pandas can be used for exploratory analysis.\n",
    "* Learn how to select columns and rows in a Pandas `DataFrame`.\n",
    "</div>\n",
    "\n",
    "\n",
    "### Icons Used in This Notebook\n",
    "🔔 **Question**: A quick question to help you understand what's going on.<br>\n",
    "🥊 **Challenge**: Interactive exercise. We'll work through these in the workshop!<br>\n",
    "💡 **Tip**: How to do something a bit more efficiently or effectively.<br>\n",
    "⚠️ **Warning:** Heads-up about tricky stuff or common mistakes.<br>\n",
    "🎬 **Demo**: Showing off something more advanced – so you know what Python can be used for!<br>\n",
    "\n",
    "### Sections\n",
    "1. [Data Frames: Spreadsheets in Python](#df)\n",
    "2. [Selecting Columns](#columns)\n",
    "3. [Selecting Rows](#rows)\n",
    "4. [Demo: Grouping and Plotting Data Frames](#group)"
   ]
  },
  {
   "cell_type": "markdown",
   "metadata": {},
   "source": [
    "<a id='df'></a>\n",
    "\n",
    "# Data Frames: Spreadsheets in Python\n",
    "\n",
    "**Tabular data** is everywhere. Think of an Excel sheet: each column corresponds to a different feature of each datapoint, while rows correspond to different samples.\n",
    "\n",
    "In scientific programming, tabular data is often called a **data frame**. In Python, the `pandas` package contains an object called `DataFrame` that implements this data structure."
   ]
  },
  {
   "cell_type": "markdown",
   "metadata": {
    "tags": []
   },
   "source": [
    "## Importing Packages\n",
    "\n",
    "A **package** is a collection of code that someone else wrote and put in a sharable format. Usually it's designed to add specific functionalities to Python. The package we will use in this notebook is called Pandas.\n",
    "\n",
    "Before we can use a package like Pandas, we have to **import** it into the current session.\n",
    "Importing is done with the `import` keyword. We simply run `import [PACKAGE_NAME]`, and everything inside the package becomes available to use.\n",
    "\n",
    "For many packages, like `pandas`, we use an **alias**, or nickname, when importing them. This is just done to save some typing when we refer to the package in our code.\n",
    "\n",
    "Let's import the `pandas` module, and add the alias `pd`."
   ]
  },
  {
   "cell_type": "code",
   "execution_count": null,
   "metadata": {},
   "outputs": [],
   "source": [
    "import pandas as pd"
   ]
  },
  {
   "cell_type": "markdown",
   "metadata": {},
   "source": [
    "## 🥊 Challenge 1: From Dictionary to Data Frame\n",
    "\n",
    "You can easily build a data frame from a dictionary. However, the following code gives an error. Why does it have an error? \n",
    "\n",
    "💡 **Tip:** Google the line at the bottom of the error message if you need help!"
   ]
  },
  {
   "cell_type": "code",
   "execution_count": null,
   "metadata": {},
   "outputs": [],
   "source": [
    "titles = ['AITA for eating a random lunch in the communal fridge?',\n",
    "          'AITA for leaving just a little bit of OJ left in the jug?']\n",
    "scores = [242, 921, 492]\n",
    "num_comments = [52, 109, 42]\n",
    "\n",
    "# Creating a dict from lists\n",
    "aita_dict = {'title': titles,\n",
    "             'score': scores,\n",
    "             'num_comments': num_comments}\n",
    "\n",
    "pd.DataFrame(aita_dict)"
   ]
  },
  {
   "cell_type": "markdown",
   "metadata": {},
   "source": [
    "## Reading CSV Files"
   ]
  },
  {
   "cell_type": "markdown",
   "metadata": {},
   "source": [
    "In the cell below, we use the `read_csv()` method, which takes a string as its main argument. This string consists of the file path pointing to the file.\n",
    "\n",
    "* `../` means \"go up one level from where this notebook is\" -- which is the \"lessons\" folder.\n",
    "* `data/` means 'go into a folder called \"data\".\n",
    "* `aita_top_submissions.csv` is the file name we are accessing within that \"data\" folder."
   ]
  },
  {
   "cell_type": "markdown",
   "metadata": {},
   "source": [
    "<img src=\"../../images/filetree.svg\" alt=\"Navigating File Tree\" width=\"700\"/>"
   ]
  },
  {
   "cell_type": "code",
   "execution_count": null,
   "metadata": {},
   "outputs": [],
   "source": [
    "df = pd.read_csv('../../data/aita_top_submissions.csv')"
   ]
  },
  {
   "cell_type": "markdown",
   "metadata": {},
   "source": [
    "The `.head()` method will show the first five rows of a Data Frame by default. \n",
    "\n",
    "💡 **Tip**: Put an integer in between the parentheses to specify a different number of rows. "
   ]
  },
  {
   "cell_type": "code",
   "execution_count": null,
   "metadata": {},
   "outputs": [],
   "source": [
    "df.head()"
   ]
  },
  {
   "cell_type": "markdown",
   "metadata": {},
   "source": [
    "### More on .csv Files\n",
    "As data scientists, we'll often be working with these **Comma Separated Values (.csv)** files. \n",
    "\n",
    "Comma separated values files are common because they are relatively small and look good in spreadsheet software. A comma separated values file is just a text file that contains data but that has commas (or other separators) to indicate column breaks.\n",
    "\n",
    "As you see, `pandas` comes with a function [`read_csv()`](https://pandas.pydata.org/docs/reference/api/pandas.read_csv.html)\n",
    "that makes it really easy to import .csv files.\n",
    "\n",
    "Let's have a look at our .csv file in our browser!"
   ]
  },
  {
   "cell_type": "markdown",
   "metadata": {
    "tags": []
   },
   "source": [
    "<a id='columns'></a>\n",
    "\n",
    "# Selecting Columns\n",
    "Now that we have our `DataFrame`, we can select a single column by selecting the name of that column. This uses bracket notation (like we do when accessing lists).\n",
    "\n",
    "Check it out:"
   ]
  },
  {
   "cell_type": "code",
   "execution_count": null,
   "metadata": {},
   "outputs": [],
   "source": [
    "df['author']"
   ]
  },
  {
   "cell_type": "markdown",
   "metadata": {},
   "source": [
    "The data type of this column is a `Series`. It's like a list. You can index a `Series` object just like you can with a list!"
   ]
  },
  {
   "cell_type": "code",
   "execution_count": null,
   "metadata": {},
   "outputs": [],
   "source": [
    "aita_author = df['author']\n",
    "aita_author[0]"
   ]
  },
  {
   "cell_type": "markdown",
   "metadata": {},
   "source": [
    "## Using Methods on Columns\n",
    "\n",
    "`DataFrame` objects come with their own methods, many of which operate on a single column of the DataFrame. \n",
    "\n",
    "For example, we can identify the number of unique values in each column by using the `nunique()` method:"
   ]
  },
  {
   "cell_type": "code",
   "execution_count": null,
   "metadata": {},
   "outputs": [],
   "source": [
    "df['author'].nunique()"
   ]
  },
  {
   "cell_type": "markdown",
   "metadata": {},
   "source": [
    "Usually, a package provides **documentation** that explains all of its functionalities. Let's have a look at the documentation for a method called `value_counts()` [online](https://pandas.pydata.org/pandas-docs/stable/reference/api/pandas.Series.value_counts.html). \n",
    "\n",
    "🔔 **Question**: What does `value_counts()` do in the code below?"
   ]
  },
  {
   "cell_type": "code",
   "execution_count": null,
   "metadata": {
    "tags": []
   },
   "outputs": [],
   "source": [
    "df['flair_text'].value_counts()"
   ]
  },
  {
   "cell_type": "markdown",
   "metadata": {},
   "source": [
    "## 🥊  <span> Challenge 2: Putting Methods in Order</span>\n",
    "\n",
    "In the following code we want to to find the top-3 most frequently occurring flairs in our data. Put the following code fragments in the right order to get this information!"
   ]
  },
  {
   "cell_type": "code",
   "execution_count": null,
   "metadata": {},
   "outputs": [],
   "source": [
    ".head(3)\n",
    ".value_counts()\n",
    "df['flair_text']"
   ]
  },
  {
   "cell_type": "markdown",
   "metadata": {},
   "source": [
    "## Attributes \n",
    "\n",
    "Packages like Pandas don't only come with methods, but also with so-called **attributes**.\n",
    "\n",
    "Attributes are like variables: they give you more information about the data that you have. Methods are like functions: they allow you to do something with data.\n",
    "\n",
    "For instance, we can easily check the column names of our data frame using the `columns` **attribute**."
   ]
  },
  {
   "cell_type": "code",
   "execution_count": null,
   "metadata": {},
   "outputs": [],
   "source": [
    "df.columns"
   ]
  },
  {
   "cell_type": "markdown",
   "metadata": {},
   "source": [
    "🔔 **Question**: Here's another popular attribute: `shape`. What do you think it does?"
   ]
  },
  {
   "cell_type": "code",
   "execution_count": null,
   "metadata": {},
   "outputs": [],
   "source": [
    "df.shape"
   ]
  },
  {
   "cell_type": "markdown",
   "metadata": {},
   "source": [
    "## Jupyter Autocomplete\n",
    "\n",
    "Jupyter Notebooks allow for tab completion, just like many text editors. If you begin typing the name of something (such as a variable) that already exists, you can simply hit **Tab** and Jupyter will autocomplete it for you. If there is more than one possibility, it will show them to you and you can choose from there. "
   ]
  },
  {
   "cell_type": "markdown",
   "metadata": {},
   "source": [
    "🔔 **Question:** Below we are selecting a column in our `DataFrame`. See what happens when you hit `TAB`! What are you seeing?"
   ]
  },
  {
   "cell_type": "code",
   "execution_count": null,
   "metadata": {},
   "outputs": [],
   "source": [
    "# YOUR CODE HERE\n",
    "\n",
    "df['flair_text']."
   ]
  },
  {
   "cell_type": "markdown",
   "metadata": {},
   "source": [
    "<a id='rows'></a>\n",
    "\n",
    "# Selecting Rows\n",
    "\n",
    "What if we wanted to get some rows in our dataset based on some condition? For example, what if we just wanted a select only the rows for which the flair is \"Not the A-hole\"? Or only posts that have a certain number of comments?\n",
    "\n",
    "We can use so-called **value comparison operators** for this. For instance, to get only the rows that have a specific flair, we can use `==`."
   ]
  },
  {
   "cell_type": "code",
   "execution_count": null,
   "metadata": {},
   "outputs": [],
   "source": [
    "df['flair_text'] == 'Not the A-hole'"
   ]
  },
  {
   "cell_type": "markdown",
   "metadata": {},
   "source": [
    "💡 **Tip**: Fancy terminology alert: the above Series is called a **Boolean mask**. It's like a list of True/False labels that we can use to filter our Data Frame for a certain condition!\n",
    "\n",
    "Here, we create a subset of our Data Frame with the fancy Boolean mask we just created. "
   ]
  },
  {
   "cell_type": "code",
   "execution_count": null,
   "metadata": {},
   "outputs": [],
   "source": [
    "# Getting only the data points with this flair\n",
    "df[df['flair_text'] == 'Not the A-hole']"
   ]
  },
  {
   "cell_type": "markdown",
   "metadata": {},
   "source": [
    "Note that the output of this operation is a **new data frame**! We can assign it to a new variable so we can work with this subsetted data frame. Let's do it again:"
   ]
  },
  {
   "cell_type": "code",
   "execution_count": null,
   "metadata": {},
   "outputs": [],
   "source": [
    "# Creating a new data frame with data from 2018\n",
    "nta_df = df[df['flair_text'] == 'Not the A-hole']\n",
    "nta_df.head()"
   ]
  },
  {
   "cell_type": "markdown",
   "metadata": {
    "tags": []
   },
   "source": [
    "## 🥊 Challenge 3: Subsetting Data Frames\n",
    "\n",
    "Besides `==` we can use [other operators](https://www.w3schools.com/python/gloss_python_comparison_operators.asp) to compare values. For instance:\n",
    "- `<` less than\n",
    "- `>` greater than\n",
    "\n",
    "Fill in the code below to subset our data frame to include only posts with at least 500 comments (`num_comments`)."
   ]
  },
  {
   "cell_type": "code",
   "execution_count": null,
   "metadata": {},
   "outputs": [],
   "source": [
    "df.shape"
   ]
  },
  {
   "cell_type": "code",
   "execution_count": null,
   "metadata": {},
   "outputs": [],
   "source": [
    "# YOUR CODE HERE\n",
    "df[df[...] < ...]"
   ]
  },
  {
   "cell_type": "markdown",
   "metadata": {},
   "source": [
    "## 🥊 Challenge 4: Subsetting and Calculating the Mean\n",
    "\n",
    "Let's make use of subsetting to do some calculation! Calculate the **average score** for a flair of your choice. \n",
    "\n",
    "This means you will have to:\n",
    "1. Subset the `flair_text` column using a Boolean mask.\n",
    "2. Take the `score` column from that subset.\n",
    "3. Apply a Pandas method to get the mean from that column.\n",
    "\n",
    "You might not know how to get the mean of a column – yet! If that's the case, **use your search engine**.\n",
    "\n",
    "1. Enter the name of the computer language or package, and your question (for instance: \"Pandas calculate mean\").\n",
    "2. Read and compare the results you find.\n",
    "3. Try 'em out!"
   ]
  },
  {
   "cell_type": "code",
   "execution_count": null,
   "metadata": {},
   "outputs": [],
   "source": [
    "# YOUR CODE HERE\n",
    "\n"
   ]
  },
  {
   "cell_type": "markdown",
   "metadata": {
    "tags": []
   },
   "source": [
    "<a id='group'></a>\n",
    "\n",
    "# 🎬 Demo: Grouping and Plotting Data Frames\n",
    "\n",
    "There is a lot more you can do in Pandas. Here's a small demo of what you can do:"
   ]
  },
  {
   "cell_type": "code",
   "execution_count": null,
   "metadata": {},
   "outputs": [],
   "source": [
    "# Use a new data visualization package called seaborn\n",
    "%pip install seaborn\n",
    "import seaborn as sns\n",
    "import matplotlib.pyplot as plt"
   ]
  },
  {
   "cell_type": "code",
   "execution_count": null,
   "metadata": {},
   "outputs": [],
   "source": [
    "# Obtain the top 4 most common flairs\n",
    "top_flairs = df['flair_text'].value_counts().head(4).index\n",
    "\n",
    "# Subset the dataframe by these flairs\n",
    "df_top_flairs = df[df['flair_text'].isin(top_flairs)]\n",
    "\n",
    "# Use seaborn to plot a histogram\n",
    "sns.histplot(\n",
    "    data=df_top_flairs,\n",
    "    x='score',\n",
    "    hue='flair_text',\n",
    "    alpha=0.5,\n",
    "    stat='density',\n",
    "    kde=True)\n",
    "\n",
    "# Adjust the x-axis limits\n",
    "plt.xlim([0, 30000])"
   ]
  },
  {
   "cell_type": "markdown",
   "metadata": {},
   "source": [
    "# 🎉 Well Done!\n",
    "\n",
    "This workshop series took us through the basics of data analysis in Python:\n",
    "\n",
    "- Using Jupyter notebooks.\n",
    "- Variables, data types, functions.\n",
    "- Looking through documentation.\n",
    "- Googling errors and debugging.\n",
    "- Manipulating data with Pandas."
   ]
  },
  {
   "cell_type": "markdown",
   "metadata": {
    "jp-MarkdownHeadingCollapsed": true,
    "tags": []
   },
   "source": [
    "<div class=\"alert alert-success\">\n",
    "\n",
    "## ❗ Key Points\n",
    "\n",
    "* Import a library into Python using `import <libraryname>`.\n",
    "* Data frames allow you to work with tabular data (think Excel in Python).\n",
    "* A .csv file is just a text file that contains data separated by commas.\n",
    "* Use the `pandas` library to work with data frames.\n",
    "* Data frames are typically assigned as `df`.\n",
    "* `DataFrame` columns can be indexed using square brackets - e.g. `df[last_name]` indexes a column called \"last_name\" in `df`.\n",
    "* Use the `.describe()` method on a `DataFrame` to get basic summary statistics.\n",
    "    \n",
    "</div>"
   ]
  }
 ],
 "metadata": {
  "kernelspec": {
   "display_name": "Python 3 (ipykernel)",
   "language": "python",
   "name": "python3"
  },
  "language_info": {
   "codemirror_mode": {
    "name": "ipython",
    "version": 3
   },
   "file_extension": ".py",
   "mimetype": "text/x-python",
   "name": "python",
   "nbconvert_exporter": "python",
   "pygments_lexer": "ipython3",
   "version": "3.10.11"
  },
  "toc": {
   "base_numbering": 1,
   "nav_menu": {},
   "number_sections": false,
   "sideBar": true,
   "skip_h1_title": false,
   "title_cell": "Table of Contents",
   "title_sidebar": "Contents",
   "toc_cell": false,
   "toc_position": {},
   "toc_section_display": true,
   "toc_window_display": false
  },
  "varInspector": {
   "cols": {
    "lenName": 16,
    "lenType": 16,
    "lenVar": 40
   },
   "kernels_config": {
    "python": {
     "delete_cmd_postfix": "",
     "delete_cmd_prefix": "del ",
     "library": "var_list.py",
     "varRefreshCmd": "print(var_dic_list())"
    },
    "r": {
     "delete_cmd_postfix": ") ",
     "delete_cmd_prefix": "rm(",
     "library": "var_list.r",
     "varRefreshCmd": "cat(var_dic_list()) "
    }
   },
   "types_to_exclude": [
    "module",
    "function",
    "builtin_function_or_method",
    "instance",
    "_Feature"
   ],
   "window_display": false
  }
 },
 "nbformat": 4,
 "nbformat_minor": 4
}
