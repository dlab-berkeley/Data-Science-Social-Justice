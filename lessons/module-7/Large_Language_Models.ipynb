{
 "cells": [
  {
   "cell_type": "markdown",
   "id": "20504cb7-8e71-4be6-9eee-5686e94d55d1",
   "metadata": {},
   "source": [
    "# Data Science for Social Justice Workshop: Large Language Models\n",
    "\n",
    "* * * \n",
    "\n",
    "<div class=\"alert alert-success\">  \n",
    "    \n",
    "### Learning Objectives \n",
    "    \n",
    "* Understand some foundational principles in deep learning.\n",
    "* Understand functional components of transformers in large language models.\n",
    "* Understand the concepts of pre-training and fine-tuning for natural language processing.\n",
    "* Engage with large language models to extract normative principles encoded in the models.\n",
    "</div>\n",
    "\n",
    "### Icons Used in This Notebook\n",
    "🔔 **Question**: A quick question to help you understand what's going on.<br>\n",
    "💡 **Tip**: How to do something a bit more efficiently or effectively.<br>\n",
    "⚠️ **Warning:** Heads-up about tricky stuff or common mistakes.<br>\n",
    "💭 **Reflection:** Reflecting on ethical implications, biases, and social impact in data science.\n",
    "\n",
    "### Sections\n",
    "1. [What is Sentiment Analysis?](#sentiment_analysis)\n",
    "2. [Using VADER to Conduct Sentiment Analysis](#vader)\n",
    "3. [Sentiment Analysis on Reddit Data](#vader_reddit)\n",
    "4. [Using Sentiment Analysis to Interrogate Your Data](#analysis)\n",
    "5. [Demo: Sentiment Analysis with spaCy and TextBlob](#demo1)"
   ]
  },
  {
   "cell_type": "markdown",
   "id": "5bcfd1f6-b977-4fdf-8b59-6f105d018d85",
   "metadata": {},
   "source": [
    "## Deep Learning Advancements in Natural Language Processing\n",
    "\n",
    "Thus far in this workshop, we've explored "
   ]
  }
 ],
 "metadata": {
  "kernelspec": {
   "display_name": "Python 3 (ipykernel)",
   "language": "python",
   "name": "python3"
  },
  "language_info": {
   "codemirror_mode": {
    "name": "ipython",
    "version": 3
   },
   "file_extension": ".py",
   "mimetype": "text/x-python",
   "name": "python",
   "nbconvert_exporter": "python",
   "pygments_lexer": "ipython3",
   "version": "3.8.12"
  }
 },
 "nbformat": 4,
 "nbformat_minor": 5
}
